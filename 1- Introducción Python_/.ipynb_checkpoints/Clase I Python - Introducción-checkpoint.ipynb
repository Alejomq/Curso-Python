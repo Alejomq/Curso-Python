{
 "cells": [
  {
   "cell_type": "markdown",
   "metadata": {
    "colab_type": "text",
    "id": "bS63tzAwtcu6",
    "slideshow": {
     "slide_type": "slide"
    }
   },
   "source": [
    "# 🐱‍💻👨‍💻 Introducción a Programación   \n",
    "\n",
    "\n",
    "\n",
    "\n",
    "\n",
    "\n",
    "---\n",
    "\n",
    "En este breve curso vamos a ver como usar python y todo los básicos de programación.  <br>  Para más información acerca de python le recomendamos la lectura de este libro: [Libro Python](https://argentinaenpython.com/quiero-aprender-python/aprenda-a-pensar-como-un-programador-con-python.pdf). <br> \n",
    "\n",
    "\n",
    "\n",
    "\n",
    "\n"
   ]
  },
  {
   "cell_type": "markdown",
   "metadata": {
    "colab_type": "text",
    "id": "6lQrx2-Cd5Ju",
    "slideshow": {
     "slide_type": "slide"
    }
   },
   "source": [
    "---\n",
    "**Autores de la Notebook:** \n",
    "\n",
    "\n",
    "* [Matias Sanchez Gavier ](https://matias-online.netlify.app/)  🧛\n",
    "*   [Matias Moris](https://www.linkedin.com/in/matias-moris-6041337b/) ⚽\n",
    "* [Anotonio Marrazzo](https://www.linkedin.com/in/antonio-marrazzo-40b3491a2/) 🏆\n",
    "\n",
    " ---"
   ]
  },
  {
   "cell_type": "markdown",
   "metadata": {
    "colab_type": "text",
    "id": "zQmqzG7g-CLf",
    "slideshow": {
     "slide_type": "slide"
    }
   },
   "source": [
    "<img src=\"https://encrypted-tbn0.gstatic.com/images?q=tbn%3AANd9GcRD_NWyaHeHwbg2_rZ25wzpofhDB3j5ZfoS3g&usqp=CAU\" alt=\"Girl in a jacket\" width=\"500\" height=\"600\">\n"
   ]
  },
  {
   "cell_type": "markdown",
   "metadata": {
    "colab_type": "text",
    "id": "MKlKBSM8NxvF",
    "slideshow": {
     "slide_type": "slide"
    }
   },
   "source": [
    "## 💹 Motivación\n",
    "---\n",
    "Los usos que usted problamente le de a python son los siguientes: \n",
    "\n",
    "- Machine Learning\n",
    "- Deep Learning (Redes Neuronales)\n",
    "- Modelado Financiero (financial engineering) \n",
    "- Análisis de Datos\n",
    "- Limpieza de Datos \n",
    "- Creación de Páginas Web\n",
    "- Web Scrapping (Explotación de Datos de la Web)\n",
    "- Automatización de Tareas\n",
    "- Modelos Econométricos \n",
    "- Crear Bots (uno de los autores de esta notebook creo un bot para tinder) "
   ]
  },
  {
   "cell_type": "markdown",
   "metadata": {
    "colab_type": "text",
    "id": "ZbhQWU45Q0uj",
    "slideshow": {
     "slide_type": "slide"
    }
   },
   "source": [
    "## 📓 Breve Introducción a Notebooks\n",
    "\n",
    "\n",
    "---\n",
    "Las notebooks son un lugar donde uno puede escribir código y se va ejecutando a pedazos o en bloques. Es una herramienta muy utilizada para los que hacen **Data Science**. En general en las otras ramas de programación no se utilizan mucho.  <br> \n",
    "\n",
    "Para **Python** hay principalmente dos opciones: \n",
    "\n",
    "- Google Colab (puede acceder desde su Dive) [Mas info +](https://towardsdatascience.com/getting-started-with-google-colab-f2fff97f594c)\n",
    "- Jupyter Notebookos [Instalando Anaconda](https://www.anaconda.com/products/individual) \n",
    "\n",
    "Esto que esta viendo es una notebook, las notebooks son archivos tipo .ipynb y puede abrir una notebook con Colab o jupyter.  <br> \n"
   ]
  },
  {
   "cell_type": "markdown",
   "metadata": {
    "colab_type": "text",
    "id": "0O5Bo609VGBf",
    "slideshow": {
     "slide_type": "subslide"
    }
   },
   "source": [
    "### 🤔 ¿Porque usar Notebooks?\n",
    "\n",
    "---\n",
    "\n",
    "\n",
    "Las **principales herramientas** que ofrecen las notebooks son: \n",
    "\n",
    "1. Correr código en bloques. \n",
    "2. Podes escribir celdas con texto, lo que permite mejor organizar para presentaciones o  para compartir material. "
   ]
  },
  {
   "cell_type": "markdown",
   "metadata": {
    "colab_type": "text",
    "id": "ectuznanTaua",
    "slideshow": {
     "slide_type": "subslide"
    }
   },
   "source": [
    "### ⚔️  Jupyter vs Colab \n",
    "---\n",
    "\n",
    "En general cada uno tiene una ventaja. <br> \n",
    "\n",
    "**Colab**:\n",
    "\n",
    "1.   La principal ventaja de colab es que tenes todo Instalado.\n",
    "\n",
    "2.   Todo corre en la nube (computadoras de google que uno accede vía web).\n",
    "\n",
    "3. La desventaja de que corra en la nube, es que tal vez tu compu es más potente. Además los resultados de tu Colab se borran después de un tiempo, entonces tenes que asegurar de ir guardando en archivos lo que te interese. \n",
    "\n",
    "**Jupyter**:\n",
    "\n",
    "1. Corre localmente (en tu computadora). Suele sentirse mejor que Colab\n",
    "\n",
    "2. La principal desventaja es que tenes que instalar todo y asegurarte de no tener problemas de compatibilidad, lo cual suele ser complicado con librerias como Tensorflow (Deep Learning).\n",
    "\n"
   ]
  },
  {
   "cell_type": "markdown",
   "metadata": {
    "colab_type": "text",
    "id": "lzP6WkeIQ2PW",
    "slideshow": {
     "slide_type": "subslide"
    }
   },
   "source": [
    "### 🤖 Accesos Rápidos Google Colab\n",
    "\n",
    "\n",
    "---\n",
    "Esta es una lista de combinación de teclas para colab, para que le sea la vída más fácil.\n",
    "\n",
    "\n",
    " \n",
    "**Celda de Código Abajo** Ctrl+M  +\n",
    " B, <br> \n",
    "\n",
    "**Eliminar Celda** -> Ctrl+M + D <br>\n",
    "\n",
    "**Convertir Celda de Código a Texto** -> Ctrl+M + M\n",
    "\n"
   ]
  },
  {
   "cell_type": "markdown",
   "metadata": {
    "colab_type": "text",
    "id": "e_OV7raj_8Ph",
    "slideshow": {
     "slide_type": "subslide"
    }
   },
   "source": [
    "### 🤖 Accesos Rápidos Jupyter\n",
    "---\n",
    "Esta es una lista de combinación de teclas para Jupyter Notebooks, para que le sea la vída más fácil.\n",
    "\n",
    "\n",
    " \n",
    "**Celda de Código Abajo** Esc + B\n",
    "\n",
    "**Eliminar Celda** ->Esc + X <br>\n",
    "\n",
    "**Convertir Celda de Código a Texto** -> Esc + M\n"
   ]
  },
  {
   "cell_type": "markdown",
   "metadata": {
    "colab_type": "text",
    "id": "ftyGD-dp_8Pi",
    "slideshow": {
     "slide_type": "subslide"
    }
   },
   "source": [
    "### 🦚 Celdas de Texto\n",
    "---\n",
    "\n",
    "Las notebooks tienen la posibilidad de poder escribir en celdas de texto o código (python).\n",
    "\n",
    "En las celdas de texto el lenguaje usado es **markdown**, para más información pueden visitar\n",
    "[GitLab-Markdonw](https://about.gitlab.com/handbook/markdown-guide/)\n"
   ]
  },
  {
   "cell_type": "markdown",
   "metadata": {
    "colab_type": "text",
    "id": "B_nkEgEF_8Pj",
    "slideshow": {
     "slide_type": "subslide"
    }
   },
   "source": [
    "## 🌞  Mención Especial: Editores de Texto\n",
    "---\n",
    "\n",
    "\n",
    "Otra forma de usar python es por medio editores de texto. Por ejemplo \n",
    "\n",
    "- [Sublime](https://www.sublimetext.com/)\n",
    "- [Visual Studio Code](https://visualstudio.microsoft.com/es/)\n",
    "\n",
    "Estos corren localmente en tu computadora. "
   ]
  },
  {
   "cell_type": "markdown",
   "metadata": {
    "colab_type": "text",
    "id": "cXUM1qvPtcu-",
    "slideshow": {
     "slide_type": "slide"
    }
   },
   "source": [
    "## 🐍 Introducción a Python \n",
    "### 🖩 Python la Calculadora \n",
    "\n",
    "\n",
    "---\n",
    "\n",
    "\n",
    "Python puede ser utilizado para hacer cualquier tipo de cálculo matemático. <br>\n",
    "\n",
    "Lo que esta en verde, delante del **#** son comentarios, python los ignora. \n",
    "\n"
   ]
  },
  {
   "cell_type": "code",
   "execution_count": 1,
   "metadata": {
    "colab": {
     "base_uri": "https://localhost:8080/",
     "height": 34
    },
    "colab_type": "code",
    "executionInfo": {
     "elapsed": 1362,
     "status": "ok",
     "timestamp": 1593981011730,
     "user": {
      "displayName": "Matias Moris",
      "photoUrl": "https://lh3.googleusercontent.com/a-/AOh14Ghnx2qwTy66pM1MCpyYrR1n2zDPAfW4wIShwBTvUo4=s64",
      "userId": "03290215519046744972"
     },
     "user_tz": 180
    },
    "id": "wmRCw_GHtcu_",
    "outputId": "51753b77-a6ab-479b-a7d2-e3a05a62b998",
    "slideshow": {
     "slide_type": "subslide"
    }
   },
   "outputs": [
    {
     "data": {
      "text/plain": [
       "2"
      ]
     },
     "execution_count": 1,
     "metadata": {
      "tags": []
     },
     "output_type": "execute_result"
    }
   ],
   "source": [
    "1+1 #Suma"
   ]
  },
  {
   "cell_type": "code",
   "execution_count": null,
   "metadata": {
    "colab": {
     "base_uri": "https://localhost:8080/",
     "height": 34
    },
    "colab_type": "code",
    "executionInfo": {
     "elapsed": 2646,
     "status": "ok",
     "timestamp": 1593785241701,
     "user": {
      "displayName": "Matias Moris",
      "photoUrl": "https://lh3.googleusercontent.com/a-/AOh14Ghnx2qwTy66pM1MCpyYrR1n2zDPAfW4wIShwBTvUo4=s64",
      "userId": "03290215519046744972"
     },
     "user_tz": 180
    },
    "id": "rmdNpLDptcvG",
    "outputId": "6e33e9db-3ecf-4624-f1f1-a901a3fa37b1",
    "slideshow": {
     "slide_type": "subslide"
    }
   },
   "outputs": [
    {
     "data": {
      "text/plain": [
       "10"
      ]
     },
     "execution_count": 2,
     "metadata": {
      "tags": []
     },
     "output_type": "execute_result"
    }
   ],
   "source": [
    "# Multipliación\n",
    "2*5 "
   ]
  },
  {
   "cell_type": "code",
   "execution_count": null,
   "metadata": {
    "colab": {
     "base_uri": "https://localhost:8080/",
     "height": 34
    },
    "colab_type": "code",
    "executionInfo": {
     "elapsed": 891,
     "status": "ok",
     "timestamp": 1592691018911,
     "user": {
      "displayName": "Matias Sanchez Gavier",
      "photoUrl": "https://lh3.googleusercontent.com/a-/AOh14GjD7hZiO5eInT5MTbCuYg7k5GwpkxEcRQM1Y9NQ2g=s64",
      "userId": "12001148323871082461"
     },
     "user_tz": 180
    },
    "id": "watJFC1GtcvK",
    "outputId": "a3ca57fa-3e63-43fb-d74b-b92b587558d6",
    "slideshow": {
     "slide_type": "subslide"
    }
   },
   "outputs": [
    {
     "data": {
      "text/plain": [
       "3.0"
      ]
     },
     "execution_count": 4,
     "metadata": {
      "tags": []
     },
     "output_type": "execute_result"
    }
   ],
   "source": [
    "#División \n",
    "9/3 "
   ]
  },
  {
   "cell_type": "code",
   "execution_count": null,
   "metadata": {
    "colab": {
     "base_uri": "https://localhost:8080/",
     "height": 35
    },
    "colab_type": "code",
    "executionInfo": {
     "elapsed": 769,
     "status": "ok",
     "timestamp": 1592599926561,
     "user": {
      "displayName": "Matias Sanchez Gavier",
      "photoUrl": "https://lh3.googleusercontent.com/a-/AOh14GjD7hZiO5eInT5MTbCuYg7k5GwpkxEcRQM1Y9NQ2g=s64",
      "userId": "12001148323871082461"
     },
     "user_tz": 180
    },
    "id": "82nu0FrBtcvO",
    "outputId": "a65b03b3-abea-4443-c481-c18c0df1d0cb",
    "slideshow": {
     "slide_type": "subslide"
    }
   },
   "outputs": [
    {
     "data": {
      "text/plain": [
       "3"
      ]
     },
     "execution_count": 22,
     "metadata": {
      "tags": []
     },
     "output_type": "execute_result"
    }
   ],
   "source": [
    "#División de Enteros\n",
    "10//3  "
   ]
  },
  {
   "cell_type": "code",
   "execution_count": null,
   "metadata": {
    "colab": {
     "base_uri": "https://localhost:8080/",
     "height": 35
    },
    "colab_type": "code",
    "executionInfo": {
     "elapsed": 697,
     "status": "ok",
     "timestamp": 1592599956711,
     "user": {
      "displayName": "Matias Sanchez Gavier",
      "photoUrl": "https://lh3.googleusercontent.com/a-/AOh14GjD7hZiO5eInT5MTbCuYg7k5GwpkxEcRQM1Y9NQ2g=s64",
      "userId": "12001148323871082461"
     },
     "user_tz": 180
    },
    "id": "Yjs3IzEjtcvS",
    "outputId": "8a8b82b4-2999-4dbd-f299-579810090284",
    "slideshow": {
     "slide_type": "subslide"
    }
   },
   "outputs": [
    {
     "data": {
      "text/plain": [
       "16"
      ]
     },
     "execution_count": 26,
     "metadata": {
      "tags": []
     },
     "output_type": "execute_result"
    }
   ],
   "source": [
    "# 2 elevado a la cuarta\n",
    "2**4"
   ]
  },
  {
   "cell_type": "code",
   "execution_count": null,
   "metadata": {
    "colab": {
     "base_uri": "https://localhost:8080/",
     "height": 35
    },
    "colab_type": "code",
    "executionInfo": {
     "elapsed": 735,
     "status": "ok",
     "timestamp": 1592599970152,
     "user": {
      "displayName": "Matias Sanchez Gavier",
      "photoUrl": "https://lh3.googleusercontent.com/a-/AOh14GjD7hZiO5eInT5MTbCuYg7k5GwpkxEcRQM1Y9NQ2g=s64",
      "userId": "12001148323871082461"
     },
     "user_tz": 180
    },
    "id": "eC6uisLxtcvW",
    "outputId": "f1925ac6-9528-4a63-88d5-a05d8c591a84",
    "slideshow": {
     "slide_type": "subslide"
    }
   },
   "outputs": [
    {
     "data": {
      "text/plain": [
       "0"
      ]
     },
     "execution_count": 27,
     "metadata": {
      "tags": []
     },
     "output_type": "execute_result"
    }
   ],
   "source": [
    "# Operación del Resto\n",
    "4%2"
   ]
  },
  {
   "cell_type": "code",
   "execution_count": null,
   "metadata": {
    "colab": {
     "base_uri": "https://localhost:8080/",
     "height": 35
    },
    "colab_type": "code",
    "executionInfo": {
     "elapsed": 711,
     "status": "ok",
     "timestamp": 1592599988555,
     "user": {
      "displayName": "Matias Sanchez Gavier",
      "photoUrl": "https://lh3.googleusercontent.com/a-/AOh14GjD7hZiO5eInT5MTbCuYg7k5GwpkxEcRQM1Y9NQ2g=s64",
      "userId": "12001148323871082461"
     },
     "user_tz": 180
    },
    "id": "Lr4kfawDtcva",
    "outputId": "5b4de11f-611f-44cf-b14f-257a5c10c918",
    "slideshow": {
     "slide_type": "subslide"
    }
   },
   "outputs": [
    {
     "data": {
      "text/plain": [
       "50"
      ]
     },
     "execution_count": 28,
     "metadata": {
      "tags": []
     },
     "output_type": "execute_result"
    }
   ],
   "source": [
    "# Podes Ordenar el orden de operaciones con el parentesís\n",
    "(2 + 3) * (5 + 5)"
   ]
  },
  {
   "cell_type": "markdown",
   "metadata": {
    "colab_type": "text",
    "id": "agv2Qaiqtcvn",
    "slideshow": {
     "slide_type": "slide"
    }
   },
   "source": [
    "###  Mostrar Resultados (🖨️ Printing) \n",
    "---\n",
    "En general si uno hace **Ctrl + Enter** se ejecuta la celda y se muestra el resultado. Pero no simpres es así, además resolvemos la problmática de querere mostrar varios resultados a la vez, para esto vamos a usar la función **print()**\n",
    "\n",
    "\n",
    "\n",
    "\n"
   ]
  },
  {
   "cell_type": "code",
   "execution_count": null,
   "metadata": {
    "colab": {
     "base_uri": "https://localhost:8080/",
     "height": 35
    },
    "colab_type": "code",
    "executionInfo": {
     "elapsed": 723,
     "status": "ok",
     "timestamp": 1592600271148,
     "user": {
      "displayName": "Matias Sanchez Gavier",
      "photoUrl": "https://lh3.googleusercontent.com/a-/AOh14GjD7hZiO5eInT5MTbCuYg7k5GwpkxEcRQM1Y9NQ2g=s64",
      "userId": "12001148323871082461"
     },
     "user_tz": 180
    },
    "id": "cqVBlyZ7tcvo",
    "outputId": "bab477e1-c2f5-411b-bcc0-42355e364c33",
    "slideshow": {
     "slide_type": "subslide"
    }
   },
   "outputs": [
    {
     "name": "stdout",
     "output_type": "stream",
     "text": [
      "Soy Feliz\n"
     ]
    }
   ],
   "source": [
    "print(\"Soy Feliz\") "
   ]
  },
  {
   "cell_type": "code",
   "execution_count": null,
   "metadata": {
    "colab": {
     "base_uri": "https://localhost:8080/",
     "height": 72
    },
    "colab_type": "code",
    "executionInfo": {
     "elapsed": 782,
     "status": "ok",
     "timestamp": 1592600244224,
     "user": {
      "displayName": "Matias Sanchez Gavier",
      "photoUrl": "https://lh3.googleusercontent.com/a-/AOh14GjD7hZiO5eInT5MTbCuYg7k5GwpkxEcRQM1Y9NQ2g=s64",
      "userId": "12001148323871082461"
     },
     "user_tz": 180
    },
    "id": "xj-iwqs6XvR7",
    "outputId": "a50a9f39-a243-4bf0-d875-92acc3e2b00b",
    "slideshow": {
     "slide_type": "subslide"
    }
   },
   "outputs": [
    {
     "name": "stdout",
     "output_type": "stream",
     "text": [
      "10\n",
      "9\n",
      "16\n"
     ]
    }
   ],
   "source": [
    "print(2+8)\n",
    "print(3*3)\n",
    "print(2**4)"
   ]
  },
  {
   "cell_type": "markdown",
   "metadata": {
    "colab_type": "text",
    "id": "cmoLTTivtcvd",
    "slideshow": {
     "slide_type": "slide"
    }
   },
   "source": [
    "### ⬅️ Asignamiento de Variables\n",
    "\n",
    "\n",
    "---\n",
    "La idea es que podemos **guardar valores** dentro de una variable. <br> \n",
    "Entonces en un futuro podemos hacer referencia a esa variable para obtener el valor. \n",
    "\n"
   ]
  },
  {
   "cell_type": "code",
   "execution_count": null,
   "metadata": {
    "colab": {
     "base_uri": "https://localhost:8080/",
     "height": 35
    },
    "colab_type": "code",
    "executionInfo": {
     "elapsed": 704,
     "status": "ok",
     "timestamp": 1592600508629,
     "user": {
      "displayName": "Matias Sanchez Gavier",
      "photoUrl": "https://lh3.googleusercontent.com/a-/AOh14GjD7hZiO5eInT5MTbCuYg7k5GwpkxEcRQM1Y9NQ2g=s64",
      "userId": "12001148323871082461"
     },
     "user_tz": 180
    },
    "id": "Fbx1DD7Ftcvd",
    "outputId": "ffbe0acf-46df-4b4c-b584-67499bf6c101",
    "slideshow": {
     "slide_type": "subslide"
    }
   },
   "outputs": [
    {
     "name": "stdout",
     "output_type": "stream",
     "text": [
      "2 8 10\n"
     ]
    }
   ],
   "source": [
    "# Las variables se asignan con el igual\n",
    "matias= 2\n",
    "rodri = 2*4\n",
    "\n",
    "# Puedo hacer opreaciones con las variables\n",
    "z = matias + rodri\n",
    "\n",
    "print(matias, rodri, z )"
   ]
  },
  {
   "cell_type": "markdown",
   "metadata": {
    "colab_type": "text",
    "id": "sPyecaPuY7fD",
    "slideshow": {
     "slide_type": "subslide"
    }
   },
   "source": [
    "Las variables pueden guardar casi todo, ya vamos a ver en el futuro más ejemplos. Un ejemplo son las strings (valores tipo texto digamos)"
   ]
  },
  {
   "cell_type": "code",
   "execution_count": null,
   "metadata": {
    "colab": {
     "base_uri": "https://localhost:8080/",
     "height": 35
    },
    "colab_type": "code",
    "executionInfo": {
     "elapsed": 807,
     "status": "ok",
     "timestamp": 1592600607065,
     "user": {
      "displayName": "Matias Sanchez Gavier",
      "photoUrl": "https://lh3.googleusercontent.com/a-/AOh14GjD7hZiO5eInT5MTbCuYg7k5GwpkxEcRQM1Y9NQ2g=s64",
      "userId": "12001148323871082461"
     },
     "user_tz": 180
    },
    "id": "Dh2ce4XFY6FW",
    "outputId": "07a32468-ede3-4161-f52d-54411650e267",
    "slideshow": {
     "slide_type": "subslide"
    }
   },
   "outputs": [
    {
     "name": "stdout",
     "output_type": "stream",
     "text": [
      "Buen Día, dijo la mariposa\n"
     ]
    }
   ],
   "source": [
    "saludo = \"Buen Día, dijo la mariposa\"\n",
    "print(saludo)"
   ]
  },
  {
   "cell_type": "markdown",
   "metadata": {
    "colab_type": "text",
    "id": "YJq9wOZd505G",
    "slideshow": {
     "slide_type": "subslide"
    }
   },
   "source": [
    "### 😲  Tipos de Variables\n",
    "\n",
    "\n",
    "---\n",
    "\n",
    "\n",
    "_Una parte fundamental de poder comprender este lenguaje de programacion es tener el conocimiento de que le pedimos y que nos devuelve Python_\n",
    "\n",
    "Existe una funcion llamada **TYPE** que nos va a ayudar con esto:"
   ]
  },
  {
   "cell_type": "code",
   "execution_count": null,
   "metadata": {
    "colab": {
     "base_uri": "https://localhost:8080/",
     "height": 35
    },
    "colab_type": "code",
    "executionInfo": {
     "elapsed": 813,
     "status": "ok",
     "timestamp": 1592601128837,
     "user": {
      "displayName": "Matias Sanchez Gavier",
      "photoUrl": "https://lh3.googleusercontent.com/a-/AOh14GjD7hZiO5eInT5MTbCuYg7k5GwpkxEcRQM1Y9NQ2g=s64",
      "userId": "12001148323871082461"
     },
     "user_tz": 180
    },
    "id": "fP5qtsym505H",
    "outputId": "2d9b4d3d-f9f7-4dfe-b4ad-16302126a2f6"
   },
   "outputs": [
    {
     "data": {
      "text/plain": [
       "int"
      ]
     },
     "execution_count": 49,
     "metadata": {
      "tags": []
     },
     "output_type": "execute_result"
    }
   ],
   "source": [
    "type(1+1) # Variable tipo numeros enteros"
   ]
  },
  {
   "cell_type": "code",
   "execution_count": null,
   "metadata": {
    "colab": {
     "base_uri": "https://localhost:8080/",
     "height": 35
    },
    "colab_type": "code",
    "executionInfo": {
     "elapsed": 1534,
     "status": "ok",
     "timestamp": 1592600785210,
     "user": {
      "displayName": "Matias Sanchez Gavier",
      "photoUrl": "https://lh3.googleusercontent.com/a-/AOh14GjD7hZiO5eInT5MTbCuYg7k5GwpkxEcRQM1Y9NQ2g=s64",
      "userId": "12001148323871082461"
     },
     "user_tz": 180
    },
    "id": "STuUiCMq505J",
    "outputId": "a9ba7059-acd9-4738-bba4-07de0a171f01"
   },
   "outputs": [
    {
     "data": {
      "text/plain": [
       "float"
      ]
     },
     "execution_count": 40,
     "metadata": {
      "tags": []
     },
     "output_type": "execute_result"
    }
   ],
   "source": [
    "type(2/2) #variable tipo numeros Reales (tiene coma, hablando entre nosotros)"
   ]
  },
  {
   "cell_type": "code",
   "execution_count": null,
   "metadata": {
    "colab": {
     "base_uri": "https://localhost:8080/",
     "height": 54
    },
    "colab_type": "code",
    "executionInfo": {
     "elapsed": 730,
     "status": "ok",
     "timestamp": 1592600925745,
     "user": {
      "displayName": "Matias Sanchez Gavier",
      "photoUrl": "https://lh3.googleusercontent.com/a-/AOh14GjD7hZiO5eInT5MTbCuYg7k5GwpkxEcRQM1Y9NQ2g=s64",
      "userId": "12001148323871082461"
     },
     "user_tz": 180
    },
    "id": "f9c5MBGyaX6b",
    "outputId": "ff193bb2-978b-4c95-d5d9-fac20fd12ef9"
   },
   "outputs": [
    {
     "name": "stdout",
     "output_type": "stream",
     "text": [
      "<class 'int'>\n",
      "<class 'float'>\n"
     ]
    }
   ],
   "source": [
    "print(type(2*2))\n",
    "print(type(2*2.1)) #se coerce a float el resultado "
   ]
  },
  {
   "cell_type": "code",
   "execution_count": null,
   "metadata": {
    "colab": {
     "base_uri": "https://localhost:8080/",
     "height": 54
    },
    "colab_type": "code",
    "executionInfo": {
     "elapsed": 706,
     "status": "ok",
     "timestamp": 1592600942350,
     "user": {
      "displayName": "Matias Sanchez Gavier",
      "photoUrl": "https://lh3.googleusercontent.com/a-/AOh14GjD7hZiO5eInT5MTbCuYg7k5GwpkxEcRQM1Y9NQ2g=s64",
      "userId": "12001148323871082461"
     },
     "user_tz": 180
    },
    "id": "njZ4JcvDZ55U",
    "outputId": "411a3e6e-7aa5-4871-ce36-e14b606658e9"
   },
   "outputs": [
    {
     "name": "stdout",
     "output_type": "stream",
     "text": [
      "<class 'str'>\n",
      "<class 'str'>\n"
     ]
    }
   ],
   "source": [
    "print(type(saludo))\n",
    "print(type(\"Buen Día, dijo la mariposa\")) "
   ]
  },
  {
   "cell_type": "markdown",
   "metadata": {
    "colab_type": "text",
    "id": "Up_mFdVCad1W"
   },
   "source": [
    "Cuando python ejecuta type(saludo), reemplaza saludo por el valor que guarda que era \"Buen Día, dijo la mariposa\".  <br> \n",
    "\n",
    "Entonces el tipo de variables que vimos son :\n",
    "\n",
    "\n",
    "\n",
    "*   **int** de intenger (número entero)\n",
    "*   **float** (número Real)\n",
    "* **str** de string (carácteres alfanúmericos) \n",
    "\n",
    "En realidad en python hay muchas mas  \"tipos de variables\" pero en realidad se denominan objetos, todo en python son **objetos/clases**. Los vamos a ver más adelante\n"
   ]
  },
  {
   "cell_type": "markdown",
   "metadata": {
    "colab_type": "text",
    "id": "vPxEscMFa_H3"
   },
   "source": [
    "### 🖨️Printing Avanzado\n",
    "\n",
    "\n",
    "---\n",
    "Podemos combinar texto con variables en la función print, para esto usamos {} y format(). \n",
    "\n"
   ]
  },
  {
   "cell_type": "code",
   "execution_count": null,
   "metadata": {
    "colab": {
     "base_uri": "https://localhost:8080/",
     "height": 35
    },
    "colab_type": "code",
    "executionInfo": {
     "elapsed": 725,
     "status": "ok",
     "timestamp": 1592601256558,
     "user": {
      "displayName": "Matias Sanchez Gavier",
      "photoUrl": "https://lh3.googleusercontent.com/a-/AOh14GjD7hZiO5eInT5MTbCuYg7k5GwpkxEcRQM1Y9NQ2g=s64",
      "userId": "12001148323871082461"
     },
     "user_tz": 180
    },
    "id": "GIEttCDWtcvv",
    "outputId": "6124f844-8055-42ab-931e-1c0354027eb5"
   },
   "outputs": [
    {
     "name": "stdout",
     "output_type": "stream",
     "text": [
      "Mi numero prferido es: 12, y mi nombre es: 2\n"
     ]
    }
   ],
   "source": [
    "numero = 12\n",
    "nombre = matias\n",
    "\n",
    "print('Mi numero prferido es: {}, y mi nombre es: {}'.format(numero,nombre))"
   ]
  },
  {
   "cell_type": "markdown",
   "metadata": {
    "colab_type": "text",
    "id": "dll20i_Tbxf8"
   },
   "source": [
    "Una versión mas corta: "
   ]
  },
  {
   "cell_type": "code",
   "execution_count": null,
   "metadata": {
    "colab": {
     "base_uri": "https://localhost:8080/",
     "height": 35
    },
    "colab_type": "code",
    "executionInfo": {
     "elapsed": 735,
     "status": "ok",
     "timestamp": 1592601282959,
     "user": {
      "displayName": "Matias Sanchez Gavier",
      "photoUrl": "https://lh3.googleusercontent.com/a-/AOh14GjD7hZiO5eInT5MTbCuYg7k5GwpkxEcRQM1Y9NQ2g=s64",
      "userId": "12001148323871082461"
     },
     "user_tz": 180
    },
    "id": "vk71N1c3505n",
    "outputId": "382fd16d-d1e5-4f04-dd4e-36cd49d16bd0"
   },
   "outputs": [
    {
     "data": {
      "text/plain": [
       "'Mi numero prferido es: 12, y mi nombre es: 2'"
      ]
     },
     "execution_count": 52,
     "metadata": {
      "tags": []
     },
     "output_type": "execute_result"
    }
   ],
   "source": [
    "f'Mi numero prferido es: {numero}, y mi nombre es: {nombre}'"
   ]
  },
  {
   "cell_type": "markdown",
   "metadata": {
    "colab_type": "text",
    "id": "B6pXmX_Ztcvx"
   },
   "source": [
    "### [ ] Listas\n",
    "---\n",
    "\n",
    "Las listas son una estructura de datos, nos van a perimitir almacenar multiples coasas.  <br> \n",
    "\n",
    "Se crea una lista con los parentesís **\"[ ]\"** , y cada elemento es separado por una coma. \n",
    "\n",
    "\n",
    "\n",
    "\n"
   ]
  },
  {
   "cell_type": "code",
   "execution_count": null,
   "metadata": {
    "colab": {
     "base_uri": "https://localhost:8080/",
     "height": 34
    },
    "colab_type": "code",
    "executionInfo": {
     "elapsed": 1678,
     "status": "ok",
     "timestamp": 1593975086586,
     "user": {
      "displayName": "Matias Moris",
      "photoUrl": "https://lh3.googleusercontent.com/a-/AOh14Ghnx2qwTy66pM1MCpyYrR1n2zDPAfW4wIShwBTvUo4=s64",
      "userId": "03290215519046744972"
     },
     "user_tz": 180
    },
    "id": "yyaELC93tcvx",
    "outputId": "c932aa69-e427-48c6-8f02-1b2c578c0fa9"
   },
   "outputs": [
    {
     "data": {
      "text/plain": [
       "[1, 2, 3]"
      ]
     },
     "execution_count": 2,
     "metadata": {
      "tags": []
     },
     "output_type": "execute_result"
    }
   ],
   "source": [
    "[1,2,3]"
   ]
  },
  {
   "cell_type": "code",
   "execution_count": null,
   "metadata": {
    "colab": {},
    "colab_type": "code",
    "id": "m6Z3M79FdEpS"
   },
   "outputs": [],
   "source": [
    "[] #lista vacía\n",
    "\n",
    "[1, 2] # lista con dos elementos\n",
    "\n",
    "[1, 3, 6.32, \"Buen día\"] #no es necesario que todos sean del mismo tipo\n",
    "\n",
    "x = [1, 2]  #se pueden guardar dentro de varíables"
   ]
  },
  {
   "cell_type": "code",
   "execution_count": null,
   "metadata": {
    "colab": {
     "base_uri": "https://localhost:8080/",
     "height": 34
    },
    "colab_type": "code",
    "executionInfo": {
     "elapsed": 1065,
     "status": "ok",
     "timestamp": 1593975163540,
     "user": {
      "displayName": "Matias Moris",
      "photoUrl": "https://lh3.googleusercontent.com/a-/AOh14Ghnx2qwTy66pM1MCpyYrR1n2zDPAfW4wIShwBTvUo4=s64",
      "userId": "03290215519046744972"
     },
     "user_tz": 180
    },
    "id": "vsS2ccw7Ug94",
    "outputId": "12dd7f01-2601-4c3b-efa5-cf6865c9e107"
   },
   "outputs": [
    {
     "data": {
      "text/plain": [
       "[[1, 2], 4, 5, 6]"
      ]
     },
     "execution_count": 5,
     "metadata": {
      "tags": []
     },
     "output_type": "execute_result"
    }
   ],
   "source": [
    "#Asignacion de una lista\n",
    "lista = [x, 4,5,6 ]\n",
    "lista"
   ]
  },
  {
   "cell_type": "code",
   "execution_count": null,
   "metadata": {
    "colab": {},
    "colab_type": "code",
    "id": "sJscpKjytcvz"
   },
   "outputs": [],
   "source": [
    "u = ['hola',1,[1,2]] # lista dentro de lista"
   ]
  },
  {
   "cell_type": "markdown",
   "metadata": {
    "colab_type": "text",
    "id": "5r7jtvR3dxKb"
   },
   "source": [
    "#### Selección de Elementos en Listas \n",
    "\n",
    "\n",
    "---\n",
    "\n",
    "Para poder elegir elementos utilizamos los  **\"[ ]\"** al lado de la variable que es una lista, y dentro de los mismo ponemos el índice del elemento que queremos. \n",
    "\n",
    "Hay que tener en cuenta qeu  Python es de **índice cero** , esto significa que empieza a contar desde cero.!\n"
   ]
  },
  {
   "cell_type": "code",
   "execution_count": null,
   "metadata": {
    "colab": {
     "base_uri": "https://localhost:8080/",
     "height": 72
    },
    "colab_type": "code",
    "executionInfo": {
     "elapsed": 684,
     "status": "ok",
     "timestamp": 1592602225138,
     "user": {
      "displayName": "Matias Sanchez Gavier",
      "photoUrl": "https://lh3.googleusercontent.com/a-/AOh14GjD7hZiO5eInT5MTbCuYg7k5GwpkxEcRQM1Y9NQ2g=s64",
      "userId": "12001148323871082461"
     },
     "user_tz": 180
    },
    "id": "Itx2a57heI8O",
    "outputId": "7b58ad0b-5e1b-4a65-9f37-c03188098015"
   },
   "outputs": [
    {
     "name": "stdout",
     "output_type": "stream",
     "text": [
      "a\n",
      "b\n",
      "c\n"
     ]
    }
   ],
   "source": [
    "x = ['a','b','c']\n",
    "print(x[0])\n",
    "print(x[1])\n",
    "print(x[2])"
   ]
  },
  {
   "cell_type": "code",
   "execution_count": null,
   "metadata": {
    "colab": {
     "base_uri": "https://localhost:8080/",
     "height": 35
    },
    "colab_type": "code",
    "executionInfo": {
     "elapsed": 685,
     "status": "ok",
     "timestamp": 1592602314025,
     "user": {
      "displayName": "Matias Sanchez Gavier",
      "photoUrl": "https://lh3.googleusercontent.com/a-/AOh14GjD7hZiO5eInT5MTbCuYg7k5GwpkxEcRQM1Y9NQ2g=s64",
      "userId": "12001148323871082461"
     },
     "user_tz": 180
    },
    "id": "--VMUt8Rfbc0",
    "outputId": "4370c455-b545-4e4f-a3a5-b1b2541f3251"
   },
   "outputs": [
    {
     "data": {
      "text/plain": [
       "23"
      ]
     },
     "execution_count": 72,
     "metadata": {
      "tags": []
     },
     "output_type": "execute_result"
    }
   ],
   "source": [
    "h = [ \"Mauricio \",  [ \"Sofia\", 23 ]]\n",
    "\n",
    "h[1][1] #23, segundo elemento de la primer lista, segundo elemento de la lista seleccionada "
   ]
  },
  {
   "cell_type": "markdown",
   "metadata": {
    "colab_type": "text",
    "id": "F2HGhxzWeV00"
   },
   "source": [
    "Podemos seleccionar varios elementos de corrido con **\"[indice: ]\"**. Veamos ejemplos:  \n"
   ]
  },
  {
   "cell_type": "code",
   "execution_count": null,
   "metadata": {
    "colab": {
     "base_uri": "https://localhost:8080/",
     "height": 54
    },
    "colab_type": "code",
    "executionInfo": {
     "elapsed": 802,
     "status": "ok",
     "timestamp": 1592602085591,
     "user": {
      "displayName": "Matias Sanchez Gavier",
      "photoUrl": "https://lh3.googleusercontent.com/a-/AOh14GjD7hZiO5eInT5MTbCuYg7k5GwpkxEcRQM1Y9NQ2g=s64",
      "userId": "12001148323871082461"
     },
     "user_tz": 180
    },
    "id": "RRUPRVXfeibB",
    "outputId": "0040d56f-30f0-4fde-96d0-92d124494d33"
   },
   "outputs": [
    {
     "name": "stdout",
     "output_type": "stream",
     "text": [
      "['hola', 1, [1, 2]]\n",
      "[1, [1, 2]]\n"
     ]
    }
   ],
   "source": [
    "print(u[0:]) \n",
    "print(u[1:]) #el elemento dos es el último, y es una lista. "
   ]
  },
  {
   "cell_type": "code",
   "execution_count": null,
   "metadata": {
    "colab": {
     "base_uri": "https://localhost:8080/",
     "height": 35
    },
    "colab_type": "code",
    "executionInfo": {
     "elapsed": 704,
     "status": "ok",
     "timestamp": 1592602132097,
     "user": {
      "displayName": "Matias Sanchez Gavier",
      "photoUrl": "https://lh3.googleusercontent.com/a-/AOh14GjD7hZiO5eInT5MTbCuYg7k5GwpkxEcRQM1Y9NQ2g=s64",
      "userId": "12001148323871082461"
     },
     "user_tz": 180
    },
    "id": "SUXtyDbXe2XV",
    "outputId": "5fe90cc6-8b31-49d8-b87e-2f173621e037"
   },
   "outputs": [
    {
     "name": "stdout",
     "output_type": "stream",
     "text": [
      "['a', 'b', 'c']\n",
      "['a', 'b']\n"
     ]
    }
   ],
   "source": [
    "# selección con negativos va al reves, de derecha a izquierda\n",
    "print(x)\n",
    "print(x[:-1])"
   ]
  },
  {
   "cell_type": "markdown",
   "metadata": {
    "colab_type": "text",
    "id": "cwADvDw8fGFF"
   },
   "source": [
    "Esta imagen representa el sistema de indices en python con las listas: \n",
    "\n",
    "![texto alternativo](https://cdn.programiz.com/sites/tutorial2program/files/python-list-index.png)\n"
   ]
  },
  {
   "cell_type": "markdown",
   "metadata": {
    "colab_type": "text",
    "id": "TcTT8fePfzoV"
   },
   "source": [
    "#### Funciones asociadas a listas \n",
    "---\n",
    "Las listas tienen funciones que son muy utiles, ya vamos a ver bien que son las funciones.  <br>\n",
    "\n",
    "Para usar las funciones asociadas hacemos -> **lista.nombre_de_funcion(parametros)** \n"
   ]
  },
  {
   "cell_type": "code",
   "execution_count": null,
   "metadata": {
    "colab": {
     "base_uri": "https://localhost:8080/",
     "height": 34
    },
    "colab_type": "code",
    "executionInfo": {
     "elapsed": 974,
     "status": "ok",
     "timestamp": 1593975255775,
     "user": {
      "displayName": "Matias Moris",
      "photoUrl": "https://lh3.googleusercontent.com/a-/AOh14Ghnx2qwTy66pM1MCpyYrR1n2zDPAfW4wIShwBTvUo4=s64",
      "userId": "03290215519046744972"
     },
     "user_tz": 180
    },
    "id": "01ykwAxetcv4",
    "outputId": "46129aa1-cf2a-4624-e9a1-a113f8f45aa0"
   },
   "outputs": [
    {
     "name": "stdout",
     "output_type": "stream",
     "text": [
      "['a', 'b', 'c', 2, ['hola', 23]]\n"
     ]
    }
   ],
   "source": [
    "x = [\"a\",\"b\"]\n",
    "x.append('c') #agrega el elemento indicado a la lista \n",
    "x.append(2)\n",
    "x.append([\"hola\", 23])\n",
    "\n",
    "print(x)"
   ]
  },
  {
   "cell_type": "code",
   "execution_count": null,
   "metadata": {
    "colab": {
     "base_uri": "https://localhost:8080/",
     "height": 34
    },
    "colab_type": "code",
    "executionInfo": {
     "elapsed": 994,
     "status": "ok",
     "timestamp": 1593975260771,
     "user": {
      "displayName": "Matias Moris",
      "photoUrl": "https://lh3.googleusercontent.com/a-/AOh14Ghnx2qwTy66pM1MCpyYrR1n2zDPAfW4wIShwBTvUo4=s64",
      "userId": "03290215519046744972"
     },
     "user_tz": 180
    },
    "id": "SHHFm-uggk_p",
    "outputId": "6b5d91ff-636b-48d6-c065-60d409114ff9"
   },
   "outputs": [
    {
     "data": {
      "text/plain": [
       "list"
      ]
     },
     "execution_count": 7,
     "metadata": {
      "tags": []
     },
     "output_type": "execute_result"
    }
   ],
   "source": [
    "type(x) #x es una lista"
   ]
  },
  {
   "cell_type": "code",
   "execution_count": null,
   "metadata": {
    "colab": {
     "base_uri": "https://localhost:8080/",
     "height": 34
    },
    "colab_type": "code",
    "executionInfo": {
     "elapsed": 976,
     "status": "ok",
     "timestamp": 1593975282182,
     "user": {
      "displayName": "Matias Moris",
      "photoUrl": "https://lh3.googleusercontent.com/a-/AOh14Ghnx2qwTy66pM1MCpyYrR1n2zDPAfW4wIShwBTvUo4=s64",
      "userId": "03290215519046744972"
     },
     "user_tz": 180
    },
    "id": "ZfQ3SRpkVCSy",
    "outputId": "955cb7bb-2d44-45d3-85ea-b182e9a662e5"
   },
   "outputs": [
    {
     "data": {
      "text/plain": [
       "['a', 'b', 'c']"
      ]
     },
     "execution_count": 9,
     "metadata": {
      "tags": []
     },
     "output_type": "execute_result"
    }
   ],
   "source": [
    "x.pop()\n",
    "x"
   ]
  },
  {
   "cell_type": "markdown",
   "metadata": {
    "colab_type": "text",
    "id": "ZwPamcBkgspk"
   },
   "source": [
    "Una forma de ver toda la información asociado a un objeto, como las listas es usar la función **help()** (ayuda).  \n",
    "\n",
    "<br>\n",
    "\n",
    "Methods es otro nombre para funciones. "
   ]
  },
  {
   "cell_type": "code",
   "execution_count": null,
   "metadata": {
    "colab": {
     "base_uri": "https://localhost:8080/",
     "height": 1000
    },
    "colab_type": "code",
    "executionInfo": {
     "elapsed": 56251,
     "status": "ok",
     "timestamp": 1593980213687,
     "user": {
      "displayName": "Matias Moris",
      "photoUrl": "https://lh3.googleusercontent.com/a-/AOh14Ghnx2qwTy66pM1MCpyYrR1n2zDPAfW4wIShwBTvUo4=s64",
      "userId": "03290215519046744972"
     },
     "user_tz": 180
    },
    "id": "y_G4TSVHg4GK",
    "outputId": "5ef16911-2b9a-456d-c013-cd30bcaa484e"
   },
   "outputs": [
    {
     "name": "stdout",
     "output_type": "stream",
     "text": [
      "\n",
      "Welcome to Python 3.6's help utility!\n",
      "\n",
      "If this is your first time using Python, you should definitely check out\n",
      "the tutorial on the Internet at https://docs.python.org/3.6/tutorial/.\n",
      "\n",
      "Enter the name of any module, keyword, or topic to get help on writing\n",
      "Python programs and using Python modules.  To quit this help utility and\n",
      "return to the interpreter, just type \"quit\".\n",
      "\n",
      "To get a list of available modules, keywords, symbols, or topics, type\n",
      "\"modules\", \"keywords\", \"symbols\", or \"topics\".  Each module also comes\n",
      "with a one-line summary of what it does; to list the modules whose name\n",
      "or summary contain a given string such as \"spam\", type \"modules spam\".\n",
      "\n",
      "\n",
      "Here is a list of available topics.  Enter any topic name to get more help.\n",
      "\n",
      "ASSERTION           DELETION            LOOPING             SHIFTING\n",
      "ASSIGNMENT          DICTIONARIES        MAPPINGMETHODS      SLICINGS\n",
      "ATTRIBUTEMETHODS    DICTIONARYLITERALS  MAPPINGS            SPECIALATTRIBUTES\n",
      "ATTRIBUTES          DYNAMICFEATURES     METHODS             SPECIALIDENTIFIERS\n",
      "AUGMENTEDASSIGNMENT ELLIPSIS            MODULES             SPECIALMETHODS\n",
      "BASICMETHODS        EXCEPTIONS          NAMESPACES          STRINGMETHODS\n",
      "BINARY              EXECUTION           NONE                STRINGS\n",
      "BITWISE             EXPRESSIONS         NUMBERMETHODS       SUBSCRIPTS\n",
      "BOOLEAN             FLOAT               NUMBERS             TRACEBACKS\n",
      "CALLABLEMETHODS     FORMATTING          OBJECTS             TRUTHVALUE\n",
      "CALLS               FRAMEOBJECTS        OPERATORS           TUPLELITERALS\n",
      "CLASSES             FRAMES              PACKAGES            TUPLES\n",
      "CODEOBJECTS         FUNCTIONS           POWER               TYPEOBJECTS\n",
      "COMPARISON          IDENTIFIERS         PRECEDENCE          TYPES\n",
      "COMPLEX             IMPORTING           PRIVATENAMES        UNARY\n",
      "CONDITIONAL         INTEGER             RETURNING           UNICODE\n",
      "CONTEXTMANAGERS     LISTLITERALS        SCOPING             \n",
      "CONVERSIONS         LISTS               SEQUENCEMETHODS     \n",
      "DEBUGGING           LITERALS            SEQUENCES           \n",
      "\n",
      "No Python documentation found for 'lists'.\n",
      "Use help() to get the interactive help utility.\n",
      "Use help(str) for help on the str class.\n",
      "\n",
      "Mutable Sequence Types\n",
      "**********************\n",
      "\n",
      "The operations in the following table are defined on mutable sequence\n",
      "types. The \"collections.abc.MutableSequence\" ABC is provided to make\n",
      "it easier to correctly implement these operations on custom sequence\n",
      "types.\n",
      "\n",
      "In the table *s* is an instance of a mutable sequence type, *t* is any\n",
      "iterable object and *x* is an arbitrary object that meets any type and\n",
      "value restrictions imposed by *s* (for example, \"bytearray\" only\n",
      "accepts integers that meet the value restriction \"0 <= x <= 255\").\n",
      "\n",
      "+--------------------------------+----------------------------------+-----------------------+\n",
      "| Operation                      | Result                           | Notes                 |\n",
      "|================================|==================================|=======================|\n",
      "| \"s[i] = x\"                     | item *i* of *s* is replaced by   |                       |\n",
      "|                                | *x*                              |                       |\n",
      "+--------------------------------+----------------------------------+-----------------------+\n",
      "| \"s[i:j] = t\"                   | slice of *s* from *i* to *j* is  |                       |\n",
      "|                                | replaced by the contents of the  |                       |\n",
      "|                                | iterable *t*                     |                       |\n",
      "+--------------------------------+----------------------------------+-----------------------+\n",
      "| \"del s[i:j]\"                   | same as \"s[i:j] = []\"            |                       |\n",
      "+--------------------------------+----------------------------------+-----------------------+\n",
      "| \"s[i:j:k] = t\"                 | the elements of \"s[i:j:k]\" are   | (1)                   |\n",
      "|                                | replaced by those of *t*         |                       |\n",
      "+--------------------------------+----------------------------------+-----------------------+\n",
      "| \"del s[i:j:k]\"                 | removes the elements of          |                       |\n",
      "|                                | \"s[i:j:k]\" from the list         |                       |\n",
      "+--------------------------------+----------------------------------+-----------------------+\n",
      "| \"s.append(x)\"                  | appends *x* to the end of the    |                       |\n",
      "|                                | sequence (same as                |                       |\n",
      "|                                | \"s[len(s):len(s)] = [x]\")        |                       |\n",
      "+--------------------------------+----------------------------------+-----------------------+\n",
      "| \"s.clear()\"                    | removes all items from *s* (same | (5)                   |\n",
      "|                                | as \"del s[:]\")                   |                       |\n",
      "+--------------------------------+----------------------------------+-----------------------+\n",
      "| \"s.copy()\"                     | creates a shallow copy of *s*    | (5)                   |\n",
      "|                                | (same as \"s[:]\")                 |                       |\n",
      "+--------------------------------+----------------------------------+-----------------------+\n",
      "| \"s.extend(t)\" or \"s += t\"      | extends *s* with the contents of |                       |\n",
      "|                                | *t* (for the most part the same  |                       |\n",
      "|                                | as \"s[len(s):len(s)] = t\")       |                       |\n",
      "+--------------------------------+----------------------------------+-----------------------+\n",
      "| \"s *= n\"                       | updates *s* with its contents    | (6)                   |\n",
      "|                                | repeated *n* times               |                       |\n",
      "+--------------------------------+----------------------------------+-----------------------+\n",
      "| \"s.insert(i, x)\"               | inserts *x* into *s* at the      |                       |\n",
      "|                                | index given by *i* (same as      |                       |\n",
      "|                                | \"s[i:i] = [x]\")                  |                       |\n",
      "+--------------------------------+----------------------------------+-----------------------+\n",
      "| \"s.pop([i])\"                   | retrieves the item at *i* and    | (2)                   |\n",
      "|                                | also removes it from *s*         |                       |\n",
      "+--------------------------------+----------------------------------+-----------------------+\n",
      "| \"s.remove(x)\"                  | remove the first item from *s*   | (3)                   |\n",
      "|                                | where \"s[i] == x\"                |                       |\n",
      "+--------------------------------+----------------------------------+-----------------------+\n",
      "| \"s.reverse()\"                  | reverses the items of *s* in     | (4)                   |\n",
      "|                                | place                            |                       |\n",
      "+--------------------------------+----------------------------------+-----------------------+\n",
      "\n",
      "Notes:\n",
      "\n",
      "1. *t* must have the same length as the slice it is replacing.\n",
      "\n",
      "2. The optional argument *i* defaults to \"-1\", so that by default\n",
      "   the last item is removed and returned.\n",
      "\n",
      "3. \"remove\" raises \"ValueError\" when *x* is not found in *s*.\n",
      "\n",
      "4. The \"reverse()\" method modifies the sequence in place for\n",
      "   economy of space when reversing a large sequence.  To remind users\n",
      "   that it operates by side effect, it does not return the reversed\n",
      "   sequence.\n",
      "\n",
      "5. \"clear()\" and \"copy()\" are included for consistency with the\n",
      "   interfaces of mutable containers that don’t support slicing\n",
      "   operations (such as \"dict\" and \"set\")\n",
      "\n",
      "   New in version 3.3: \"clear()\" and \"copy()\" methods.\n",
      "\n",
      "6. The value *n* is an integer, or an object implementing\n",
      "   \"__index__()\".  Zero and negative values of *n* clear the sequence.\n",
      "   Items in the sequence are not copied; they are referenced multiple\n",
      "   times, as explained for \"s * n\" under Common Sequence Operations.\n",
      "\n",
      "Related help topics: LISTLITERALS\n",
      "\n",
      "\n",
      "You are now leaving help and returning to the Python interpreter.\n",
      "If you want to ask for help on a particular object directly from the\n",
      "interpreter, you can type \"help(object)\".  Executing \"help('string')\"\n",
      "has the same effect as typing a particular string at the help> prompt.\n"
     ]
    }
   ],
   "source": [
    "help()"
   ]
  },
  {
   "cell_type": "markdown",
   "metadata": {
    "colab_type": "text",
    "id": "jQiubEJhtcwT"
   },
   "source": [
    "### { } Diccionarios\n",
    "\n",
    "\n",
    "---\n",
    "\n",
    "\n",
    "\n",
    "\n",
    "Los diccionarios son otro tipo de estructura de datos, no los vamos a utilizar tantos. El uso más comun son las listas.  \n",
    "\n",
    "Los Diccionarios se inicializan con **\"{ nombre de llave : valor asociado\n",
    " }\"**, es decir que cada elemento del diccionario es un par de llave y valor, la key o llave va a ser lo que utilicemos para acceder al valor asociado. "
   ]
  },
  {
   "cell_type": "code",
   "execution_count": null,
   "metadata": {
    "colab": {},
    "colab_type": "code",
    "id": "QBXbJ86KtcwU"
   },
   "outputs": [],
   "source": [
    "d = {'key1':'item1','key2':'item2'}"
   ]
  },
  {
   "cell_type": "code",
   "execution_count": null,
   "metadata": {
    "colab": {},
    "colab_type": "code",
    "id": "pzMF6ztctcwW",
    "outputId": "4a4fcb71-528e-45bc-bcad-db992c0eb9dd"
   },
   "outputs": [
    {
     "data": {
      "text/plain": [
       "{'key1': 'item1', 'key2': 'item2'}"
      ]
     },
     "execution_count": 29,
     "metadata": {
      "tags": []
     },
     "output_type": "execute_result"
    }
   ],
   "source": [
    "d"
   ]
  },
  {
   "cell_type": "code",
   "execution_count": null,
   "metadata": {
    "colab": {},
    "colab_type": "code",
    "id": "Ga_O8VbMtcwY"
   },
   "outputs": [],
   "source": [
    "Contrasenas = {\"matute\"  : 1234, \"rodri\": \"estadistica_la_rompe\" , \"tony\": [3,14544]}"
   ]
  },
  {
   "cell_type": "markdown",
   "metadata": {
    "colab_type": "text",
    "id": "mIQqfTPoiMXk"
   },
   "source": [
    "Para acceder a los valores utilizamos  **diccionario[llave]**. Por ejemplo:"
   ]
  },
  {
   "cell_type": "code",
   "execution_count": null,
   "metadata": {
    "colab": {
     "base_uri": "https://localhost:8080/",
     "height": 54
    },
    "colab_type": "code",
    "executionInfo": {
     "elapsed": 733,
     "status": "ok",
     "timestamp": 1592602933008,
     "user": {
      "displayName": "Matias Sanchez Gavier",
      "photoUrl": "https://lh3.googleusercontent.com/a-/AOh14GjD7hZiO5eInT5MTbCuYg7k5GwpkxEcRQM1Y9NQ2g=s64",
      "userId": "12001148323871082461"
     },
     "user_tz": 180
    },
    "id": "3MOg-3bStcwa",
    "outputId": "8fa67950-3f5f-4d38-e86b-2b41a693b310"
   },
   "outputs": [
    {
     "name": "stdout",
     "output_type": "stream",
     "text": [
      "1234\n",
      "estadistica_la_rompe\n"
     ]
    }
   ],
   "source": [
    "print(Contrasenas[\"matute\"])\n",
    "print(Contrasenas[\"rodri\"])"
   ]
  },
  {
   "cell_type": "code",
   "execution_count": null,
   "metadata": {
    "colab": {
     "base_uri": "https://localhost:8080/",
     "height": 35
    },
    "colab_type": "code",
    "executionInfo": {
     "elapsed": 839,
     "status": "ok",
     "timestamp": 1592603034948,
     "user": {
      "displayName": "Matias Sanchez Gavier",
      "photoUrl": "https://lh3.googleusercontent.com/a-/AOh14GjD7hZiO5eInT5MTbCuYg7k5GwpkxEcRQM1Y9NQ2g=s64",
      "userId": "12001148323871082461"
     },
     "user_tz": 180
    },
    "id": "gGE3iRsP506Z",
    "outputId": "d98c3115-a46b-4f4b-cd46-f5697b19a73a"
   },
   "outputs": [
    {
     "data": {
      "text/plain": [
       "dict"
      ]
     },
     "execution_count": 88,
     "metadata": {
      "tags": []
     },
     "output_type": "execute_result"
    }
   ],
   "source": [
    "type(Contrasenas) #dict, de diccionario "
   ]
  },
  {
   "cell_type": "markdown",
   "metadata": {
    "colab_type": "text",
    "id": "OjtP5lbgtcwi"
   },
   "source": [
    "### ( ) Tuples\n",
    "\n",
    "\n",
    "---\n",
    "\n",
    "\n",
    "\n",
    "\n",
    "\n",
    "Los tuples son como las litas, pero son inmutables, no se pueden alterar. \n",
    "<br>\n",
    "\n",
    "Los tuples se inicializan con **( )**. Por ejemplo"
   ]
  },
  {
   "cell_type": "code",
   "execution_count": null,
   "metadata": {
    "colab": {
     "base_uri": "https://localhost:8080/",
     "height": 54
    },
    "colab_type": "code",
    "executionInfo": {
     "elapsed": 803,
     "status": "ok",
     "timestamp": 1592603394847,
     "user": {
      "displayName": "Matias Sanchez Gavier",
      "photoUrl": "https://lh3.googleusercontent.com/a-/AOh14GjD7hZiO5eInT5MTbCuYg7k5GwpkxEcRQM1Y9NQ2g=s64",
      "userId": "12001148323871082461"
     },
     "user_tz": 180
    },
    "id": "awguke3riw05",
    "outputId": "066ed798-4111-485e-f6c3-42f91e721649"
   },
   "outputs": [
    {
     "name": "stdout",
     "output_type": "stream",
     "text": [
      "yoFuturoPresidente\n",
      "<class 'tuple'>\n"
     ]
    }
   ],
   "source": [
    "passwords = (\"yoFuturoPresidente\", \"SoyMuyGroso\", 80786137)\n",
    "\n",
    "print(passwords[0]) #primer elemento\n",
    "\n",
    "print(type(passwords)) #tuple"
   ]
  },
  {
   "cell_type": "code",
   "execution_count": null,
   "metadata": {
    "colab": {
     "base_uri": "https://localhost:8080/",
     "height": 35
    },
    "colab_type": "code",
    "executionInfo": {
     "elapsed": 738,
     "status": "ok",
     "timestamp": 1592603245168,
     "user": {
      "displayName": "Matias Sanchez Gavier",
      "photoUrl": "https://lh3.googleusercontent.com/a-/AOh14GjD7hZiO5eInT5MTbCuYg7k5GwpkxEcRQM1Y9NQ2g=s64",
      "userId": "12001148323871082461"
     },
     "user_tz": 180
    },
    "id": "52T8u6iEi_Im",
    "outputId": "696b3eee-930a-4335-f84b-913d285d6216"
   },
   "outputs": [
    {
     "data": {
      "text/plain": [
       "['BoquitaCamepon', 8000000]"
      ]
     },
     "execution_count": 95,
     "metadata": {
      "tags": []
     },
     "output_type": "execute_result"
    }
   ],
   "source": [
    "#version en listas\n",
    "\n",
    "contras = [\"BoquitaCamepon\", 48945 ]\n",
    "\n",
    "contras[1] = 8000000 # a las listas las puedo cambiar\n",
    "\n",
    "contras"
   ]
  },
  {
   "cell_type": "code",
   "execution_count": null,
   "metadata": {
    "colab": {},
    "colab_type": "code",
    "id": "qoyulhOgjIxF"
   },
   "outputs": [],
   "source": [
    "passwords[0] = 8097 #Error, no me deja cambiar una tuple"
   ]
  },
  {
   "cell_type": "markdown",
   "metadata": {
    "colab_type": "text",
    "id": "7Uj1jlxXtcwc"
   },
   "source": [
    "### 🤓 Lógica \n",
    "####  🛎️ Booleans\n",
    "\n",
    "\n",
    "---\n",
    "\n",
    "\n",
    "\n",
    "Son valores que python tiene muy en consideración, hay dos básicamente True y False. "
   ]
  },
  {
   "cell_type": "code",
   "execution_count": null,
   "metadata": {
    "colab": {
     "base_uri": "https://localhost:8080/",
     "height": 35
    },
    "colab_type": "code",
    "executionInfo": {
     "elapsed": 700,
     "status": "ok",
     "timestamp": 1592603362490,
     "user": {
      "displayName": "Matias Sanchez Gavier",
      "photoUrl": "https://lh3.googleusercontent.com/a-/AOh14GjD7hZiO5eInT5MTbCuYg7k5GwpkxEcRQM1Y9NQ2g=s64",
      "userId": "12001148323871082461"
     },
     "user_tz": 180
    },
    "id": "9s9t2p5ntcwd",
    "outputId": "b08f2c36-aaa8-4718-a4e2-b46d6208d8e4"
   },
   "outputs": [
    {
     "data": {
      "text/plain": [
       "bool"
      ]
     },
     "execution_count": 97,
     "metadata": {
      "tags": []
     },
     "output_type": "execute_result"
    }
   ],
   "source": [
    "True\n",
    "False\n",
    "type(True)"
   ]
  },
  {
   "cell_type": "code",
   "execution_count": null,
   "metadata": {
    "colab": {},
    "colab_type": "code",
    "id": "oMBYUXkbV28M"
   },
   "outputs": [],
   "source": []
  },
  {
   "cell_type": "markdown",
   "metadata": {
    "colab_type": "text",
    "id": "g96j3DeRtcwu"
   },
   "source": [
    "\n",
    "#### 🔰 Operadores de Comparación \n",
    "\n",
    "\n",
    "---\n",
    "\n",
    "\n",
    "\n",
    "\n",
    "\n",
    "\n",
    "\n",
    "Nos permiten comparar valores y decir la verdad o falsedad de la proposición."
   ]
  },
  {
   "cell_type": "code",
   "execution_count": null,
   "metadata": {
    "colab": {
     "base_uri": "https://localhost:8080/",
     "height": 145
    },
    "colab_type": "code",
    "executionInfo": {
     "elapsed": 729,
     "status": "ok",
     "timestamp": 1592609427394,
     "user": {
      "displayName": "Matias Sanchez Gavier",
      "photoUrl": "https://lh3.googleusercontent.com/a-/AOh14GjD7hZiO5eInT5MTbCuYg7k5GwpkxEcRQM1Y9NQ2g=s64",
      "userId": "12001148323871082461"
     },
     "user_tz": 180
    },
    "id": "hQEgEujj6cH7",
    "outputId": "d4367862-791c-4564-90d9-1c0d5c4c5de2"
   },
   "outputs": [
    {
     "name": "stdout",
     "output_type": "stream",
     "text": [
      "10 12\n",
      "x > y es False\n",
      "x < y es True\n",
      "x == y es False\n",
      "x != y es True\n",
      "x >= y es False\n",
      "x <= y es True\n"
     ]
    }
   ],
   "source": [
    "x = 10\n",
    "y = 12\n",
    "\n",
    "print(x, y)\n",
    "\n",
    "#  x > y -> mayor\n",
    "print('x > y es',x>y)\n",
    "\n",
    "#  x < y  -> menor\n",
    "print('x < y es',x<y)\n",
    "\n",
    "#  x == y igualdad\n",
    "print('x == y es',x==y)\n",
    "\n",
    "#  x != y  desigualdad  \n",
    "print('x != y es',x!=y)\n",
    "\n",
    "#  x >= y  mayor igual \n",
    "print('x >= y es',x>=y)\n",
    "\n",
    "#  x <= y  menor igual \n",
    "print('x <= y es',x<=y)"
   ]
  },
  {
   "cell_type": "markdown",
   "metadata": {
    "colab_type": "text",
    "id": "CNXlhtSVtcxA"
   },
   "source": [
    "#### 🔺 Operadores Lógicos\n",
    "---\n",
    "Nos permiten combinar los operadores de comparación. Esto es lo mismo que los diagramas venn o las operaciones lógicas que vio en el CBC. "
   ]
  },
  {
   "cell_type": "code",
   "execution_count": null,
   "metadata": {
    "colab": {
     "base_uri": "https://localhost:8080/",
     "height": 35
    },
    "colab_type": "code",
    "executionInfo": {
     "elapsed": 716,
     "status": "ok",
     "timestamp": 1592609694000,
     "user": {
      "displayName": "Matias Sanchez Gavier",
      "photoUrl": "https://lh3.googleusercontent.com/a-/AOh14GjD7hZiO5eInT5MTbCuYg7k5GwpkxEcRQM1Y9NQ2g=s64",
      "userId": "12001148323871082461"
     },
     "user_tz": 180
    },
    "id": "U7KAwWTUtcxA",
    "outputId": "b5662310-3ac3-4025-909e-a98d2415a3f5"
   },
   "outputs": [
    {
     "data": {
      "text/plain": [
       "False"
      ]
     },
     "execution_count": 104,
     "metadata": {
      "tags": []
     },
     "output_type": "execute_result"
    }
   ],
   "source": [
    "(1 > 2) and (2 < 3) # Solo si ambos son verdaderos,  la proposición sera verdadera"
   ]
  },
  {
   "cell_type": "code",
   "execution_count": null,
   "metadata": {
    "colab": {
     "base_uri": "https://localhost:8080/",
     "height": 35
    },
    "colab_type": "code",
    "executionInfo": {
     "elapsed": 1048,
     "status": "ok",
     "timestamp": 1592609695152,
     "user": {
      "displayName": "Matias Sanchez Gavier",
      "photoUrl": "https://lh3.googleusercontent.com/a-/AOh14GjD7hZiO5eInT5MTbCuYg7k5GwpkxEcRQM1Y9NQ2g=s64",
      "userId": "12001148323871082461"
     },
     "user_tz": 180
    },
    "id": "fVm6CbrztcxE",
    "outputId": "cc3b7f1d-c889-4fd7-8f04-73a9b345af0b"
   },
   "outputs": [
    {
     "data": {
      "text/plain": [
       "True"
      ]
     },
     "execution_count": 105,
     "metadata": {
      "tags": []
     },
     "output_type": "execute_result"
    }
   ],
   "source": [
    "(1 == 2) or (2 == 3) or (4 == 4) # Con que uno sea verdadero la proposición completa es verdadera "
   ]
  },
  {
   "cell_type": "markdown",
   "metadata": {
    "colab_type": "text",
    "id": "FCGWCSxS8hKQ"
   },
   "source": [
    "### 🧠 Control Flow \n",
    "---\n",
    "*La idea es que vamos a realizar operaciones lógicas, y en base a si son verdaderas o falsas python va a tomar diferentes caminos (en térmnios de lectura de código como se puede ver en la imagen).*\n",
    "\n",
    "\n",
    "\n",
    "![texto alternativo](https://img.favpng.com/10/6/19/statement-nesting-control-flow-computer-programming-png-favpng-FKbyJ44SRDaw8GDtJibBGc7Mp.jpg)"
   ]
  },
  {
   "cell_type": "markdown",
   "metadata": {
    "colab_type": "text",
    "id": "ISVsI6f89_lk"
   },
   "source": [
    "El **if()** checkea una condición dentro de los parentesís, si esta se cumple ejecuta el código dentro del bloque.\n",
    "\n",
    "<br>\n",
    "\n",
    "Es importante notar que python detecta que esta \"adentro\" por la **identación** y los dos puntos al inicio del if. (este es un patrón que se repite, tenganlo en mente)."
   ]
  },
  {
   "cell_type": "code",
   "execution_count": null,
   "metadata": {
    "colab": {
     "base_uri": "https://localhost:8080/",
     "height": 35
    },
    "colab_type": "code",
    "executionInfo": {
     "elapsed": 684,
     "status": "ok",
     "timestamp": 1592610239917,
     "user": {
      "displayName": "Matias Sanchez Gavier",
      "photoUrl": "https://lh3.googleusercontent.com/a-/AOh14GjD7hZiO5eInT5MTbCuYg7k5GwpkxEcRQM1Y9NQ2g=s64",
      "userId": "12001148323871082461"
     },
     "user_tz": 180
    },
    "id": "-T3K2p2KtcxH",
    "outputId": "23a2ac38-9852-408f-a43b-7ebc70467763"
   },
   "outputs": [
    {
     "name": "stdout",
     "output_type": "stream",
     "text": [
      "1 es menor a 2\n"
     ]
    }
   ],
   "source": [
    "if(1 < 2):\n",
    "    print('1 es menor a 2')"
   ]
  },
  {
   "cell_type": "code",
   "execution_count": null,
   "metadata": {
    "colab": {
     "base_uri": "https://localhost:8080/",
     "height": 35
    },
    "colab_type": "code",
    "executionInfo": {
     "elapsed": 667,
     "status": "ok",
     "timestamp": 1592610527947,
     "user": {
      "displayName": "Matias Sanchez Gavier",
      "photoUrl": "https://lh3.googleusercontent.com/a-/AOh14GjD7hZiO5eInT5MTbCuYg7k5GwpkxEcRQM1Y9NQ2g=s64",
      "userId": "12001148323871082461"
     },
     "user_tz": 180
    },
    "id": "6iQj2zqD-bAq",
    "outputId": "4b0e0a8c-e944-46ca-f768-94440ba09012"
   },
   "outputs": [
    {
     "name": "stdout",
     "output_type": "stream",
     "text": [
      "Su saldo después del pago es 2900\n"
     ]
    }
   ],
   "source": [
    "dinero = 3000\n",
    "\n",
    "if (dinero > 2000):\n",
    "   saldo = dinero - 100\n",
    "   print('Su saldo después del pago es {x}'.format(x=saldo))\n"
   ]
  },
  {
   "cell_type": "markdown",
   "metadata": {
    "colab_type": "text",
    "id": "hLkYQk_C_POO"
   },
   "source": [
    "*  El **else()** va siempre después del if()\n",
    "*  Si el if() no se cumplio (la proposición era falsa), entonces se ejecuta el bloque del else().\n",
    "\n"
   ]
  },
  {
   "cell_type": "code",
   "execution_count": null,
   "metadata": {
    "colab": {
     "base_uri": "https://localhost:8080/",
     "height": 35
    },
    "colab_type": "code",
    "executionInfo": {
     "elapsed": 679,
     "status": "ok",
     "timestamp": 1592610516243,
     "user": {
      "displayName": "Matias Sanchez Gavier",
      "photoUrl": "https://lh3.googleusercontent.com/a-/AOh14GjD7hZiO5eInT5MTbCuYg7k5GwpkxEcRQM1Y9NQ2g=s64",
      "userId": "12001148323871082461"
     },
     "user_tz": 180
    },
    "id": "uHrX3K8MtcxN",
    "outputId": "0a5c24a6-8abd-4c9d-945d-8a4139cc5535"
   },
   "outputs": [
    {
     "name": "stdout",
     "output_type": "stream",
     "text": [
      "no se cumplio el if\n"
     ]
    }
   ],
   "source": [
    "if (1 > 2):\n",
    "    print('se cumplio el if')\n",
    "else:\n",
    "    print('no se cumplio el if')"
   ]
  },
  {
   "cell_type": "markdown",
   "metadata": {
    "colab_type": "text",
    "id": "ENMYQHrV_2F2"
   },
   "source": [
    "El elif es como un else + if, en el sentido que se ejecuta si el if() \"falla\", pero aun así checkea una condición. "
   ]
  },
  {
   "cell_type": "code",
   "execution_count": null,
   "metadata": {
    "colab": {
     "base_uri": "https://localhost:8080/",
     "height": 35
    },
    "colab_type": "code",
    "executionInfo": {
     "elapsed": 736,
     "status": "ok",
     "timestamp": 1592610361589,
     "user": {
      "displayName": "Matias Sanchez Gavier",
      "photoUrl": "https://lh3.googleusercontent.com/a-/AOh14GjD7hZiO5eInT5MTbCuYg7k5GwpkxEcRQM1Y9NQ2g=s64",
      "userId": "12001148323871082461"
     },
     "user_tz": 180
    },
    "id": "coGx4KNLtcxQ",
    "outputId": "7c489deb-4966-48c5-842b-e5bd2f3051ca"
   },
   "outputs": [
    {
     "name": "stdout",
     "output_type": "stream",
     "text": [
      "Segundo if\n"
     ]
    }
   ],
   "source": [
    "if (1 == 2):\n",
    "    print('Se cupmlio el if')\n",
    "elif (3 == 3):\n",
    "    print('Segundo if')\n",
    "else:\n",
    "    print('No se cumplio ningun if')"
   ]
  },
  {
   "cell_type": "markdown",
   "metadata": {
    "colab_type": "text",
    "id": "F-uQrA9dtcxS"
   },
   "source": [
    "### 🎡 For Loops () \n",
    "\n",
    "\n",
    "---\n",
    "\n",
    "\n",
    "\n",
    "\n",
    "\n",
    "\n",
    "La idea es **hacer algo de forma iterada (repetida)**. Es decir repetir lo mismo, pero tal vez cambiando algo en cada iteración. \n",
    "\n",
    "<br>\n",
    "\n",
    "El for loop se arma de la siguiente manera: \n",
    "\n",
    "**for nombre_cualquiera in secuencia: Blocke Indentado**"
   ]
  },
  {
   "cell_type": "code",
   "execution_count": null,
   "metadata": {
    "colab": {
     "base_uri": "https://localhost:8080/",
     "height": 108
    },
    "colab_type": "code",
    "executionInfo": {
     "elapsed": 713,
     "status": "ok",
     "timestamp": 1592610942753,
     "user": {
      "displayName": "Matias Sanchez Gavier",
      "photoUrl": "https://lh3.googleusercontent.com/a-/AOh14GjD7hZiO5eInT5MTbCuYg7k5GwpkxEcRQM1Y9NQ2g=s64",
      "userId": "12001148323871082461"
     },
     "user_tz": 180
    },
    "id": "YtHw0uLWtcxS",
    "outputId": "9f019add-9cbd-433d-e871-26f0345a0244"
   },
   "outputs": [
    {
     "name": "stdout",
     "output_type": "stream",
     "text": [
      "1\n",
      "2\n",
      "3\n",
      "4\n",
      "5\n"
     ]
    }
   ],
   "source": [
    "#secuencia\n",
    "seq = [1,2,3,4,5]\n",
    "\n",
    "for item in seq:\n",
    "    print(item)"
   ]
  },
  {
   "cell_type": "code",
   "execution_count": null,
   "metadata": {
    "colab": {
     "base_uri": "https://localhost:8080/",
     "height": 108
    },
    "colab_type": "code",
    "executionInfo": {
     "elapsed": 710,
     "status": "ok",
     "timestamp": 1592611737075,
     "user": {
      "displayName": "Matias Sanchez Gavier",
      "photoUrl": "https://lh3.googleusercontent.com/a-/AOh14GjD7hZiO5eInT5MTbCuYg7k5GwpkxEcRQM1Y9NQ2g=s64",
      "userId": "12001148323871082461"
     },
     "user_tz": 180
    },
    "id": "_Cq5NTe-tcxX",
    "outputId": "feef6658-2bdd-4743-e4d9-415b8382c764"
   },
   "outputs": [
    {
     "name": "stdout",
     "output_type": "stream",
     "text": [
      "Yep\n",
      "Yep\n",
      "Yep\n",
      "Yep\n",
      "Yep\n"
     ]
    }
   ],
   "source": [
    "#no es necesario hacer algo relacionado a la variable\n",
    "for item in seq:\n",
    "    print('Yep')"
   ]
  },
  {
   "cell_type": "code",
   "execution_count": null,
   "metadata": {
    "colab": {
     "base_uri": "https://localhost:8080/",
     "height": 90
    },
    "colab_type": "code",
    "executionInfo": {
     "elapsed": 786,
     "status": "ok",
     "timestamp": 1592611132142,
     "user": {
      "displayName": "Matias Sanchez Gavier",
      "photoUrl": "https://lh3.googleusercontent.com/a-/AOh14GjD7hZiO5eInT5MTbCuYg7k5GwpkxEcRQM1Y9NQ2g=s64",
      "userId": "12001148323871082461"
     },
     "user_tz": 180
    },
    "id": "CDIydwKmtcxW",
    "outputId": "b8c96d9a-e011-4357-d5e9-df0e368e865a"
   },
   "outputs": [
    {
     "name": "stdout",
     "output_type": "stream",
     "text": [
      "Khun\n",
      "Vampiro\n",
      "Messi\n",
      "3\n"
     ]
    }
   ],
   "source": [
    "#inicializamos variables\n",
    "nombres = [\"Khun\", \"Vampiro\", \"Messi\"]\n",
    "i=0\n",
    "\n",
    "#for loop\n",
    "for nombre in nombres:\n",
    "  print(nombre )\n",
    "  i = i+1\n",
    "\n",
    "print(i)\n"
   ]
  },
  {
   "cell_type": "markdown",
   "metadata": {
    "colab_type": "text",
    "id": "8bhI9R7_CqvI"
   },
   "source": [
    "**range()** es una función que se suele utilizar con for loops, crea una lista de números del 0 hasta donde le digas. \n",
    "\n"
   ]
  },
  {
   "cell_type": "code",
   "execution_count": null,
   "metadata": {
    "colab": {
     "base_uri": "https://localhost:8080/",
     "height": 108
    },
    "colab_type": "code",
    "executionInfo": {
     "elapsed": 961,
     "status": "ok",
     "timestamp": 1592611519831,
     "user": {
      "displayName": "Matias Sanchez Gavier",
      "photoUrl": "https://lh3.googleusercontent.com/a-/AOh14GjD7hZiO5eInT5MTbCuYg7k5GwpkxEcRQM1Y9NQ2g=s64",
      "userId": "12001148323871082461"
     },
     "user_tz": 180
    },
    "id": "-2_3hnP_Cyo7",
    "outputId": "9d614d85-952b-45bf-c430-efa4c8cd0646"
   },
   "outputs": [
    {
     "name": "stdout",
     "output_type": "stream",
     "text": [
      "0\n",
      "1\n",
      "2\n",
      "3\n",
      "4\n"
     ]
    }
   ],
   "source": [
    "for i in range(5):\n",
    "    print(i)"
   ]
  },
  {
   "cell_type": "markdown",
   "metadata": {
    "colab_type": "text",
    "id": "rR_W8ecWBgJx"
   },
   "source": [
    "**zip**  es una función que permite hacer for loop con dos variables a la vez."
   ]
  },
  {
   "cell_type": "code",
   "execution_count": null,
   "metadata": {
    "colab": {
     "base_uri": "https://localhost:8080/",
     "height": 72
    },
    "colab_type": "code",
    "executionInfo": {
     "elapsed": 738,
     "status": "ok",
     "timestamp": 1592611297653,
     "user": {
      "displayName": "Matias Sanchez Gavier",
      "photoUrl": "https://lh3.googleusercontent.com/a-/AOh14GjD7hZiO5eInT5MTbCuYg7k5GwpkxEcRQM1Y9NQ2g=s64",
      "userId": "12001148323871082461"
     },
     "user_tz": 180
    },
    "id": "BfHGGyKhBnFP",
    "outputId": "0e956177-a6d4-41f8-d361-9cc46477830f"
   },
   "outputs": [
    {
     "name": "stdout",
     "output_type": "stream",
     "text": [
      "Khun, tiene una habilidad en el futbol de: 6 \n",
      "Vampiro, tiene una habilidad en el futbol de: 9.8 \n",
      "Messi, tiene una habilidad en el futbol de: 6.3 \n"
     ]
    }
   ],
   "source": [
    "nombres = [\"Khun\", \"Vampiro\", \"Messi\"]\n",
    "habilidad_futbol = [ 6, 9.8, 6.3 ]\n",
    "\n",
    "for n, h in zip(nombres, habilidad_futbol):\n",
    "  print(\"{}, tiene una habilidad en el futbol de: {} \".format(n,h))"
   ]
  },
  {
   "cell_type": "markdown",
   "metadata": {
    "colab_type": "text",
    "id": "49Tbv4-Mtcxc"
   },
   "source": [
    "### ⚓ While Loops\n",
    "\n",
    "\n",
    "---\n",
    "\n",
    "\n",
    "\n",
    "\n",
    "\n",
    " Este loop tiene la particularidad de ejecutarse mientras cumpla la condicion, es por ello que si no se le da un fin (break) o no se le asigna una variabilidad incremental, puede quedar iterando for ever."
   ]
  },
  {
   "cell_type": "code",
   "execution_count": null,
   "metadata": {
    "colab": {
     "base_uri": "https://localhost:8080/",
     "height": 90
    },
    "colab_type": "code",
    "executionInfo": {
     "elapsed": 708,
     "status": "ok",
     "timestamp": 1592611386499,
     "user": {
      "displayName": "Matias Sanchez Gavier",
      "photoUrl": "https://lh3.googleusercontent.com/a-/AOh14GjD7hZiO5eInT5MTbCuYg7k5GwpkxEcRQM1Y9NQ2g=s64",
      "userId": "12001148323871082461"
     },
     "user_tz": 180
    },
    "id": "2hKHNNhptcxc",
    "outputId": "df5b36ef-fd9a-41dc-9767-0affd2cb4781"
   },
   "outputs": [
    {
     "name": "stdout",
     "output_type": "stream",
     "text": [
      "i es: 1\n",
      "i es: 2\n",
      "i es: 3\n",
      "i es: 4\n"
     ]
    }
   ],
   "source": [
    "i = 1\n",
    "while (i < 5):\n",
    "    print('i es: {}'.format(i))\n",
    "    i = i+1"
   ]
  },
  {
   "cell_type": "markdown",
   "metadata": {
    "colab_type": "text",
    "id": "5Q7J3aoMAIQe"
   },
   "source": [
    "### 🤑 Iteracion con diccionarios\n",
    "\n",
    "\n",
    "---\n",
    "\n",
    "\n",
    "\n",
    "\n",
    "\n",
    "\n",
    "La idea es trabajar sobre diccionarios (mas de uno) y realizar operaciones varias utilizando su información.\n",
    "\n",
    "En la base de datos de una discoteca, contamos con dos diccionarios: \"precio\" y \"cantidad\", para los tragos vendidos durante un fin de semana. Estos almacenan la informacion de precios de los tragos que se venden y su respectiva cantidad. Asi, facilitan el conocimiento y control del ingreso del negocio\n"
   ]
  },
  {
   "cell_type": "code",
   "execution_count": null,
   "metadata": {
    "colab": {
     "base_uri": "https://localhost:8080/",
     "height": 34
    },
    "colab_type": "code",
    "executionInfo": {
     "elapsed": 1164,
     "status": "ok",
     "timestamp": 1593233018389,
     "user": {
      "displayName": "Antonio Marrazzo",
      "photoUrl": "",
      "userId": "09279458356259982780"
     },
     "user_tz": 180
    },
    "id": "gYI7M2TOCFeC",
    "outputId": "46363202-7502-4544-ee29-059e8ed4348c"
   },
   "outputs": [
    {
     "name": "stdout",
     "output_type": "stream",
     "text": [
      "331200\n"
     ]
    }
   ],
   "source": [
    "precios = {\"FERNET_COLA\":400, \"VODKA_JUGO\":350, \"CERVEZA\":250, \"CHAMPAGNE\":900, \"GIN_TONIC\":500}\n",
    "\n",
    "cantidad = {\"FERNET_COLA\": 289, \"VODKA_JUGO\": 183, \"CERVEZA\": 251, \"CHAMPAGNE\": 37, \"GIN_TONIC\": 111}\n",
    "\n",
    "\n",
    "ingreso = 0\n",
    "\n",
    "for i in precios:\n",
    "  ingreso = ingreso + (precios[i]*cantidad[i])\n",
    "  \n",
    "print(ingreso)"
   ]
  },
  {
   "cell_type": "code",
   "execution_count": null,
   "metadata": {
    "colab": {
     "base_uri": "https://localhost:8080/",
     "height": 34
    },
    "colab_type": "code",
    "executionInfo": {
     "elapsed": 1098,
     "status": "ok",
     "timestamp": 1593233144210,
     "user": {
      "displayName": "Antonio Marrazzo",
      "photoUrl": "",
      "userId": "09279458356259982780"
     },
     "user_tz": 180
    },
    "id": "0dBjT7HCF0Lc",
    "outputId": "0adc129f-2d2a-48c0-b687-4b95ae0762ec"
   },
   "outputs": [
    {
     "name": "stdout",
     "output_type": "stream",
     "text": [
      "115600\n"
     ]
    }
   ],
   "source": [
    "ingreso_FERNET = (precios['FERNET_COLA']*cantidad['FERNET_COLA'])\n",
    "\n",
    "print(ingreso_FERNET)"
   ]
  },
  {
   "cell_type": "code",
   "execution_count": null,
   "metadata": {
    "colab": {
     "base_uri": "https://localhost:8080/",
     "height": 34
    },
    "colab_type": "code",
    "executionInfo": {
     "elapsed": 1271,
     "status": "ok",
     "timestamp": 1593233350815,
     "user": {
      "displayName": "Antonio Marrazzo",
      "photoUrl": "",
      "userId": "09279458356259982780"
     },
     "user_tz": 180
    },
    "id": "qdZQBrESGk27",
    "outputId": "a7eeb14c-758c-4614-d123-fe6ddf231f49"
   },
   "outputs": [
    {
     "name": "stdout",
     "output_type": "stream",
     "text": [
      "62750\n"
     ]
    }
   ],
   "source": [
    "ingreso_CERVEZA = (precios['CERVEZA']*cantidad['CERVEZA'])\n",
    "\n",
    "print(ingreso_CERVEZA)"
   ]
  },
  {
   "cell_type": "markdown",
   "metadata": {
    "colab_type": "text",
    "id": "_gTFEMAQtcxm"
   },
   "source": [
    "### 🚑  Comprensión de Listas\n",
    "\n",
    "\n",
    "---\n",
    "\n",
    "\n",
    "\n",
    "\n",
    "\n",
    "\n",
    "Uno puede armar listas con un for loop(), otro método es usar compresión de listas. "
   ]
  },
  {
   "cell_type": "code",
   "execution_count": null,
   "metadata": {
    "colab": {
     "base_uri": "https://localhost:8080/",
     "height": 35
    },
    "colab_type": "code",
    "executionInfo": {
     "elapsed": 732,
     "status": "ok",
     "timestamp": 1592611620470,
     "user": {
      "displayName": "Matias Sanchez Gavier",
      "photoUrl": "https://lh3.googleusercontent.com/a-/AOh14GjD7hZiO5eInT5MTbCuYg7k5GwpkxEcRQM1Y9NQ2g=s64",
      "userId": "12001148323871082461"
     },
     "user_tz": 180
    },
    "id": "5RYuReXptcxo",
    "outputId": "9acaca96-f114-4230-d635-514c4270f9ee"
   },
   "outputs": [
    {
     "name": "stdout",
     "output_type": "stream",
     "text": [
      "[1, 4, 9, 16]\n"
     ]
    }
   ],
   "source": [
    "x = [1,2,3,4]\n",
    "out = []\n",
    "\n",
    "for item in x:\n",
    "    out.append(item**2)\n",
    "\n",
    "print(out)"
   ]
  },
  {
   "cell_type": "markdown",
   "metadata": {
    "colab_type": "text",
    "id": "mQ8vOkVotcxp"
   },
   "source": [
    "[**función** for **variable** in **lista**]"
   ]
  },
  {
   "cell_type": "code",
   "execution_count": null,
   "metadata": {
    "colab": {
     "base_uri": "https://localhost:8080/",
     "height": 35
    },
    "colab_type": "code",
    "executionInfo": {
     "elapsed": 726,
     "status": "ok",
     "timestamp": 1592611674383,
     "user": {
      "displayName": "Matias Sanchez Gavier",
      "photoUrl": "https://lh3.googleusercontent.com/a-/AOh14GjD7hZiO5eInT5MTbCuYg7k5GwpkxEcRQM1Y9NQ2g=s64",
      "userId": "12001148323871082461"
     },
     "user_tz": 180
    },
    "id": "CSY9Kg1Utcxq",
    "outputId": "9944ea58-c453-4909-e58a-398bcbfcd3f9"
   },
   "outputs": [
    {
     "data": {
      "text/plain": [
       "[1, 4, 9, 16]"
      ]
     },
     "execution_count": 131,
     "metadata": {
      "tags": []
     },
     "output_type": "execute_result"
    }
   ],
   "source": [
    "[item**2 for item in x]"
   ]
  },
  {
   "cell_type": "markdown",
   "metadata": {
    "colab_type": "text",
    "id": "_FkgTMrZtcxr"
   },
   "source": [
    "[Vídeo en comprensión de listas](  https://www.youtube.com/watch?v=3dt4OGnU5sM&t=3s)"
   ]
  },
  {
   "cell_type": "markdown",
   "metadata": {
    "colab_type": "text",
    "id": "KIYK36n2tcxr"
   },
   "source": [
    "### 🔥 ¡Funciones!\n",
    "\n",
    "\n",
    "---\n",
    "\n",
    "Las funciones son un bloque de código, la idea es que pueda usar un nombre y puedas aplicar todo es código de una. \n",
    "\n",
    "La Estructura de las funciones es :\n",
    "\n",
    "\n",
    "\n",
    "\n",
    "```\n",
    "# def nombre(parametros_de_default):\n",
    "    bloque de código\n",
    "    return valor\n",
    "```\n",
    "\n",
    "\n",
    "\n",
    "\n",
    "\n"
   ]
  },
  {
   "cell_type": "code",
   "execution_count": 2,
   "metadata": {
    "colab": {},
    "colab_type": "code",
    "executionInfo": {
     "elapsed": 1377,
     "status": "ok",
     "timestamp": 1593981026480,
     "user": {
      "displayName": "Matias Moris",
      "photoUrl": "https://lh3.googleusercontent.com/a-/AOh14Ghnx2qwTy66pM1MCpyYrR1n2zDPAfW4wIShwBTvUo4=s64",
      "userId": "03290215519046744972"
     },
     "user_tz": 180
    },
    "id": "RUDPBM_Qtcxs"
   },
   "outputs": [],
   "source": [
    "def my_func(param1='default'):\n",
    "    \"\"\"\n",
    "    Explicación de lo que hace la función \n",
    "    \"\"\"\n",
    "    print(param1)"
   ]
  },
  {
   "cell_type": "code",
   "execution_count": 3,
   "metadata": {
    "colab": {
     "base_uri": "https://localhost:8080/",
     "height": 34
    },
    "colab_type": "code",
    "executionInfo": {
     "elapsed": 1610,
     "status": "ok",
     "timestamp": 1593981030925,
     "user": {
      "displayName": "Matias Moris",
      "photoUrl": "https://lh3.googleusercontent.com/a-/AOh14Ghnx2qwTy66pM1MCpyYrR1n2zDPAfW4wIShwBTvUo4=s64",
      "userId": "03290215519046744972"
     },
     "user_tz": 180
    },
    "id": "lwg5CW48tcxt",
    "outputId": "62973508-c5a5-4553-8b9d-94a59d884617"
   },
   "outputs": [
    {
     "name": "stdout",
     "output_type": "stream",
     "text": [
      "default\n"
     ]
    }
   ],
   "source": [
    "my_func()"
   ]
  },
  {
   "cell_type": "code",
   "execution_count": null,
   "metadata": {
    "colab": {
     "base_uri": "https://localhost:8080/",
     "height": 35
    },
    "colab_type": "code",
    "executionInfo": {
     "elapsed": 884,
     "status": "ok",
     "timestamp": 1592611911534,
     "user": {
      "displayName": "Matias Sanchez Gavier",
      "photoUrl": "https://lh3.googleusercontent.com/a-/AOh14GjD7hZiO5eInT5MTbCuYg7k5GwpkxEcRQM1Y9NQ2g=s64",
      "userId": "12001148323871082461"
     },
     "user_tz": 180
    },
    "id": "yZQY3Dnttcxv",
    "outputId": "4b8513f1-d159-4460-da3f-320aa9f279f3"
   },
   "outputs": [
    {
     "name": "stdout",
     "output_type": "stream",
     "text": [
      "hola soy un parametro\n"
     ]
    }
   ],
   "source": [
    "my_func('hola soy un parametro')"
   ]
  },
  {
   "cell_type": "code",
   "execution_count": null,
   "metadata": {
    "colab": {},
    "colab_type": "code",
    "id": "ax-M8k2qtcxz"
   },
   "outputs": [],
   "source": [
    "def cuadrado(x):\n",
    "    return x**2"
   ]
  },
  {
   "cell_type": "code",
   "execution_count": null,
   "metadata": {
    "colab": {
     "base_uri": "https://localhost:8080/",
     "height": 35
    },
    "colab_type": "code",
    "executionInfo": {
     "elapsed": 563,
     "status": "ok",
     "timestamp": 1592611988551,
     "user": {
      "displayName": "Matias Sanchez Gavier",
      "photoUrl": "https://lh3.googleusercontent.com/a-/AOh14GjD7hZiO5eInT5MTbCuYg7k5GwpkxEcRQM1Y9NQ2g=s64",
      "userId": "12001148323871082461"
     },
     "user_tz": 180
    },
    "id": "YbBpFAyjtcx1",
    "outputId": "0b7469e4-6f21-4b30-ce9d-72b4f9d0c7df"
   },
   "outputs": [
    {
     "data": {
      "text/plain": [
       "4"
      ]
     },
     "execution_count": 138,
     "metadata": {
      "tags": []
     },
     "output_type": "execute_result"
    }
   ],
   "source": [
    "cuadrado(2)"
   ]
  },
  {
   "cell_type": "code",
   "execution_count": null,
   "metadata": {
    "colab": {
     "base_uri": "https://localhost:8080/",
     "height": 35
    },
    "colab_type": "code",
    "executionInfo": {
     "elapsed": 533,
     "status": "ok",
     "timestamp": 1592611988985,
     "user": {
      "displayName": "Matias Sanchez Gavier",
      "photoUrl": "https://lh3.googleusercontent.com/a-/AOh14GjD7hZiO5eInT5MTbCuYg7k5GwpkxEcRQM1Y9NQ2g=s64",
      "userId": "12001148323871082461"
     },
     "user_tz": 180
    },
    "id": "6lQc2qJKEbPW",
    "outputId": "3df9aa6b-7943-4d94-e301-6f5d4160ad54"
   },
   "outputs": [
    {
     "name": "stdout",
     "output_type": "stream",
     "text": [
      "[0, 1, 4, 9, 16, 25, 36, 49, 64, 81]\n"
     ]
    }
   ],
   "source": [
    "resultado = []\n",
    "\n",
    "for i in range(10):\n",
    "  resultado.append(cuadrado(i))\n",
    "\n",
    "print(resultado)"
   ]
  },
  {
   "cell_type": "markdown",
   "metadata": {
    "colab_type": "text",
    "id": "mi5vBG_w1YA7"
   },
   "source": [
    "#### 🤖 Funciones  con condicionales\n",
    "\n",
    "\n",
    " Esta parte consta de combinar las secuencias \"if\" y las funciones, algo fundamental en la programación .\n",
    " Ejemplo: el profesor de Estadística I, acordó con los alumnos que de sacarse una nota mayor a 8 en los TPs, se les añadiría un punto adicional en el examen final especial. De lo contrario, no."
   ]
  },
  {
   "cell_type": "code",
   "execution_count": null,
   "metadata": {
    "colab": {},
    "colab_type": "code",
    "id": "Oxxgykfg5C7f"
   },
   "outputs": [],
   "source": [
    "def sumar_1(y):\n",
    "    if y >= 8:\n",
    "        y = y + 1\n",
    "        return y\n",
    "    elif  y <= 4:\n",
    "        y = y - 1\n",
    "        return  y \n",
    "    else: \n",
    "        return  y  "
   ]
  },
  {
   "cell_type": "code",
   "execution_count": null,
   "metadata": {
    "colab": {
     "base_uri": "https://localhost:8080/",
     "height": 34
    },
    "colab_type": "code",
    "executionInfo": {
     "elapsed": 986,
     "status": "ok",
     "timestamp": 1593230880392,
     "user": {
      "displayName": "Antonio Marrazzo",
      "photoUrl": "",
      "userId": "09279458356259982780"
     },
     "user_tz": 180
    },
    "id": "ue4C97oG8r-Z",
    "outputId": "32e89164-dfb1-4e6d-c214-2f8c28136b92"
   },
   "outputs": [
    {
     "data": {
      "text/plain": [
       "10"
      ]
     },
     "execution_count": 16,
     "metadata": {
      "tags": []
     },
     "output_type": "execute_result"
    }
   ],
   "source": [
    "sumar_1(9)"
   ]
  },
  {
   "cell_type": "code",
   "execution_count": null,
   "metadata": {
    "colab": {
     "base_uri": "https://localhost:8080/",
     "height": 34
    },
    "colab_type": "code",
    "executionInfo": {
     "elapsed": 1214,
     "status": "ok",
     "timestamp": 1593230882437,
     "user": {
      "displayName": "Antonio Marrazzo",
      "photoUrl": "",
      "userId": "09279458356259982780"
     },
     "user_tz": 180
    },
    "id": "5oweAmnf9JyI",
    "outputId": "de7f5964-8cc9-466a-aa44-1cc829fce60d"
   },
   "outputs": [
    {
     "data": {
      "text/plain": [
       "1"
      ]
     },
     "execution_count": 17,
     "metadata": {
      "tags": []
     },
     "output_type": "execute_result"
    }
   ],
   "source": [
    "sumar_1(2)"
   ]
  },
  {
   "cell_type": "code",
   "execution_count": null,
   "metadata": {
    "colab": {
     "base_uri": "https://localhost:8080/",
     "height": 34
    },
    "colab_type": "code",
    "executionInfo": {
     "elapsed": 1465,
     "status": "ok",
     "timestamp": 1593231072974,
     "user": {
      "displayName": "Antonio Marrazzo",
      "photoUrl": "",
      "userId": "09279458356259982780"
     },
     "user_tz": 180
    },
    "id": "207m5opi9O1Q",
    "outputId": "d92bc133-717e-4880-c433-0702bd178a03"
   },
   "outputs": [
    {
     "data": {
      "text/plain": [
       "5"
      ]
     },
     "execution_count": 19,
     "metadata": {
      "tags": []
     },
     "output_type": "execute_result"
    }
   ],
   "source": [
    "sumar_1(5)"
   ]
  },
  {
   "cell_type": "markdown",
   "metadata": {
    "colab_type": "text",
    "id": "BWaCAZDU_eZR"
   },
   "source": [
    "#### 👽 Funciones con  condicionales y loops\n",
    "---\n",
    "Para acelerar el conteo de alumnos que van a final, Rodri decide armar una funcion en python que haga eso por el. La idea es crear una variable de aprobados que parta de cero, y que al verificarse ciertas condiciones, cambie sus valores.   "
   ]
  },
  {
   "cell_type": "code",
   "execution_count": null,
   "metadata": {
    "colab": {},
    "colab_type": "code",
    "id": "HZGdlcJCLO0V"
   },
   "outputs": [],
   "source": [
    "def count(notas):\n",
    "  total_aprobados = 0\n",
    "  for x in notas:\n",
    "    if x > 4:\n",
    "      total_aprobados += 1\n",
    "  return total_aprobados"
   ]
  },
  {
   "cell_type": "code",
   "execution_count": null,
   "metadata": {
    "colab": {},
    "colab_type": "code",
    "id": "fyfuhv4dMRhk"
   },
   "outputs": [],
   "source": [
    "notas = [9, 8, 9, 5, 2, 2, 1, 3, 4, 2, 2, 8, 4, 3, 1, 7, 7, 1, 2, 10, 4, 6, 2]"
   ]
  },
  {
   "cell_type": "code",
   "execution_count": null,
   "metadata": {
    "colab": {
     "base_uri": "https://localhost:8080/",
     "height": 34
    },
    "colab_type": "code",
    "executionInfo": {
     "elapsed": 767,
     "status": "ok",
     "timestamp": 1593234909951,
     "user": {
      "displayName": "Antonio Marrazzo",
      "photoUrl": "",
      "userId": "09279458356259982780"
     },
     "user_tz": 180
    },
    "id": "qECli-0NMsPd",
    "outputId": "a5068131-a1b1-49d8-a61e-1ee70ea8a11c"
   },
   "outputs": [
    {
     "data": {
      "text/plain": [
       "9"
      ]
     },
     "execution_count": 3,
     "metadata": {
      "tags": []
     },
     "output_type": "execute_result"
    }
   ],
   "source": [
    "count(notas)"
   ]
  },
  {
   "cell_type": "markdown",
   "metadata": {
    "colab_type": "text",
    "id": "01z8ASVINxxq"
   },
   "source": [
    "## 📦  Programación Orientada a Objetos\n",
    "---\n",
    "**Todo en python es un objeto**\n",
    "\n",
    "Python es un lenguaje orientado a objetos y vamos a hacer provecho de esto.   La idea es dar otra capa de abstracción. POO permite crear estructuras más complejas. \n",
    "\n",
    "Una de las razones que queremos que aprendan sobre esto es porque es  muy útil para entender **las librerias modernas** que vamos a estar utilizando a lo largo del curso. \n",
    "\n",
    "En forma introductoria, definamos unos conceptos: \n",
    "\n",
    "- Una **clase** es como una preescripción general, en la cual se van a basar los objetos.\n",
    "- Un **objeto** es una instancia de una clase, es decir un caso particular. "
   ]
  },
  {
   "cell_type": "markdown",
   "metadata": {
    "colab_type": "text",
    "id": "0FdPdBMRNxxr"
   },
   "source": [
    "<img src=\"https://lh3.googleusercontent.com/proxy/TPy8rq03pRAuqQhxrOYtDKFS-xzhRFqBhBvYtG32Rlcq0ZAsn_u3dfGSsQBYxS2je1ZljA2up8a9UqA76-D7G3bEain98JAGjZ6r14r2Pz8bMx3IZZ9jVn01DgqP2qVi-lplSIEcJUEJ_RLR9gEOkm6SUsSrkyMTVbo\" alt=\"Italian Trulli\">\n"
   ]
  },
  {
   "cell_type": "code",
   "execution_count": null,
   "metadata": {
    "colab": {},
    "colab_type": "code",
    "id": "NYsdS2VlNxxr"
   },
   "outputs": [],
   "source": [
    "class Dog:\n",
    "    \n",
    "    #Metodo / funcion asociada a la clase\n",
    "    def molestar(self):\n",
    "        print(\"bauf, bauf, \"*5 )          "
   ]
  },
  {
   "cell_type": "code",
   "execution_count": null,
   "metadata": {
    "colab": {},
    "colab_type": "code",
    "id": "2B8X2iwINxxs",
    "outputId": "8dabdef3-c51f-440d-e5f6-cfb6a8361a75"
   },
   "outputs": [
    {
     "name": "stdout",
     "output_type": "stream",
     "text": [
      "bauf, bauf, bauf, bauf, bauf, bauf, bauf, bauf, bauf, bauf, \n",
      "bauf, bauf, bauf, bauf, bauf, bauf, bauf, bauf, bauf, bauf, \n"
     ]
    }
   ],
   "source": [
    "# instancia de la clase\n",
    "perro_matias = Dog()\n",
    "\n",
    "# metodo \n",
    "perro_matias.molestar()"
   ]
  },
  {
   "cell_type": "code",
   "execution_count": null,
   "metadata": {
    "colab": {},
    "colab_type": "code",
    "id": "1osAf_7QNxxu",
    "outputId": "3ec9906d-851c-43d5-d9ed-4084afd131fc"
   },
   "outputs": [
    {
     "name": "stdout",
     "output_type": "stream",
     "text": [
      "bauf, bauf, bauf, bauf, bauf, bauf, bauf, bauf, bauf, bauf, \n"
     ]
    }
   ],
   "source": [
    "#otro ejemplo, otra instancia\n",
    "perro_sofia = Dog()\n",
    "\n",
    "perro_sofia.molestar()"
   ]
  },
  {
   "cell_type": "markdown",
   "metadata": {
    "colab_type": "text",
    "id": "c-cWElUDNxxv"
   },
   "source": [
    "### 👑 ¿Qué es Self? \n",
    "---\n",
    "Self es una forma de referir a la instancia o objeto. Siempre que uno crea una función dentro de la clase debe de poner como argumento self para que la función funcione correctamente como hicimos arriba. "
   ]
  },
  {
   "cell_type": "markdown",
   "metadata": {
    "colab_type": "text",
    "id": "xbcEAGMfNxxv"
   },
   "source": [
    "###  🎫 Atributos\n",
    "---\n",
    "Una parte importante de las clases son los atributos. Los atributos son:\n",
    "\n",
    "- Una forma de que el objeto guarde información asociada a la clase y a la instancia.\n",
    "- Esta información se puede acceder \n",
    "- Los atributos tambíen se pueden usar en métodos\n",
    "\n",
    "Para indicar los atributos usamos un método especial **\\__init__\\** que se ejecuta direcamente cuando inicializamos el objeto."
   ]
  },
  {
   "cell_type": "code",
   "execution_count": null,
   "metadata": {
    "colab": {},
    "colab_type": "code",
    "id": "ulI7isaDNxxw"
   },
   "outputs": [],
   "source": [
    "class Perro:\n",
    "    \n",
    "     # atributos\n",
    "    def __init__(self, nombre):\n",
    "        self.nombre = nombre\n",
    "    \n",
    "    \n",
    "    def molestar(self):\n",
    "        print(\"bauf, bauf, \"*5 )     "
   ]
  },
  {
   "cell_type": "code",
   "execution_count": null,
   "metadata": {
    "colab": {},
    "colab_type": "code",
    "id": "7ho1cqywNxxy",
    "outputId": "2daace4b-e03d-4b11-b009-6925911d837f"
   },
   "outputs": [
    {
     "data": {
      "text/plain": [
       "'spiderman'"
      ]
     },
     "execution_count": 26,
     "metadata": {
      "tags": []
     },
     "output_type": "execute_result"
    }
   ],
   "source": [
    "miPerro = Perro(nombre = \"spiderman\")\n",
    "\n",
    "#accediendo al atributo\n",
    "miPerro.nombre"
   ]
  },
  {
   "cell_type": "markdown",
   "metadata": {
    "colab_type": "text",
    "id": "qwKV2mcHNxx1"
   },
   "source": [
    "Si deseamos podemos cambiar los valores de los atributos. "
   ]
  },
  {
   "cell_type": "code",
   "execution_count": null,
   "metadata": {
    "colab": {},
    "colab_type": "code",
    "id": "1NnXGqSdNxx1"
   },
   "outputs": [],
   "source": [
    "# El ejemplo que todos querían \n",
    "\n",
    "class gato:\n",
    "    \n",
    "     # atributos\n",
    "    def __init__(self, nombre, edad):\n",
    "        self.nombre = nombre\n",
    "        self.edad = edad\n",
    "    \n",
    "    \n",
    "    def molestar(self):\n",
    "        print(\"miau, miau, \"*5 )   \n",
    "        \n",
    "    \n",
    "    "
   ]
  },
  {
   "cell_type": "code",
   "execution_count": null,
   "metadata": {
    "colab": {},
    "colab_type": "code",
    "id": "ITbBggPlNxx3",
    "outputId": "84fe0324-9846-4b81-f4e0-89c12085af07"
   },
   "outputs": [
    {
     "data": {
      "text/plain": [
       "'Alfonso'"
      ]
     },
     "execution_count": 33,
     "metadata": {
      "tags": []
     },
     "output_type": "execute_result"
    }
   ],
   "source": [
    "X = gato(nombre= \"Gaturro\", edad=2)\n",
    "\n",
    "X.nombre = \"Alfonso\"\n",
    "\n",
    "X.nombre"
   ]
  },
  {
   "cell_type": "code",
   "execution_count": null,
   "metadata": {
    "colab": {},
    "colab_type": "code",
    "id": "6Ev25C0KNxx4"
   },
   "outputs": [],
   "source": [
    "class estudiante:\n",
    "    \n",
    "    def __init__(self, nombre, edad, nota):\n",
    "        self.nombre = nombre\n",
    "        self.edad = edad\n",
    "        self.nota = nota\n",
    "\n",
    "    def nota(self):\n",
    "        return self.nota    "
   ]
  },
  {
   "cell_type": "code",
   "execution_count": null,
   "metadata": {
    "colab": {},
    "colab_type": "code",
    "id": "AYemdCcnNxx6"
   },
   "outputs": [],
   "source": [
    "class Curso: \n",
    "    \n",
    "    def __init__(self, nombre, maximo_estudiantes):\n",
    "        self.nombre= nombre\n",
    "        self.maximo_estudiantes = maximo_estudiantes\n",
    "        # atributo no explícito en la inicialización \n",
    "        self.estudiantes = []  \n",
    "    \n",
    "    def agregar_alumno(self, estudiante):\n",
    "        self.estudiantes.append(estudiante)\n",
    "\n",
    "    \n",
    "    def Promedio(self):\n",
    "        prom = 0 \n",
    "        for x in self.estudiantes:\n",
    "            prom += x.nota\n",
    "        return prom/len(self.estudiantes)\n",
    "            "
   ]
  },
  {
   "cell_type": "code",
   "execution_count": null,
   "metadata": {
    "colab": {},
    "colab_type": "code",
    "id": "5WE4v_GtNxx7"
   },
   "outputs": [],
   "source": [
    "s1 = estudiante(\"Matias\", 21, 10)\n",
    "s2 = estudiante(\"Markov\", 35, 8)\n",
    "s3 = estudiante(\"Valentina\", 18, 7)"
   ]
  },
  {
   "cell_type": "code",
   "execution_count": null,
   "metadata": {
    "colab": {},
    "colab_type": "code",
    "id": "Unv9p6s1Nxx9",
    "outputId": "4a2c6aa5-55c1-4969-9b34-b13cefc59f08"
   },
   "outputs": [
    {
     "data": {
      "text/plain": [
       "[<__main__.estudiante at 0x20c13823dc8>,\n",
       " <__main__.estudiante at 0x20c13823d88>,\n",
       " <__main__.estudiante at 0x20c13823d08>]"
      ]
     },
     "execution_count": 61,
     "metadata": {
      "tags": []
     },
     "output_type": "execute_result"
    }
   ],
   "source": [
    "numerico = Curso(\"Analisis Numerico\", 2)\n",
    "\n",
    "numerico.agregar_alumno(s1)\n",
    "numerico.agregar_alumno(s2)\n",
    "numerico.agregar_alumno(s3)\n",
    "\n",
    "numerico.estudiantes"
   ]
  },
  {
   "cell_type": "code",
   "execution_count": null,
   "metadata": {
    "colab": {},
    "colab_type": "code",
    "id": "YwqcejVyNxx-",
    "outputId": "2c19cc6e-7d1e-4ec7-c7ac-bb766d471a49"
   },
   "outputs": [
    {
     "data": {
      "text/plain": [
       "'Matias'"
      ]
     },
     "execution_count": 62,
     "metadata": {
      "tags": []
     },
     "output_type": "execute_result"
    }
   ],
   "source": [
    "numerico.estudiantes[0].nombre"
   ]
  },
  {
   "cell_type": "code",
   "execution_count": null,
   "metadata": {
    "colab": {},
    "colab_type": "code",
    "id": "m3LsQ2KFNxx_",
    "outputId": "783cdbf6-9538-4674-9121-1c288477112a",
    "scrolled": false
   },
   "outputs": [
    {
     "data": {
      "text/plain": [
       "8.333333333333334"
      ]
     },
     "execution_count": 63,
     "metadata": {
      "tags": []
     },
     "output_type": "execute_result"
    }
   ],
   "source": [
    "numerico.Promedio()"
   ]
  },
  {
   "cell_type": "markdown",
   "metadata": {
    "colab_type": "text",
    "id": "lve_Y-FzNxyA"
   },
   "source": [
    "### 🌅  Herencia \n",
    "---\n",
    "Esto es cuando tenemos una clase _parent_  y creamos _childs_ de la misma. Es decir definimos la mayor generalidad y luego creamos clases mas específicas."
   ]
  },
  {
   "cell_type": "code",
   "execution_count": null,
   "metadata": {
    "colab": {},
    "colab_type": "code",
    "id": "9wKuzVh2NxyA",
    "outputId": "88cd201d-a677-4c3d-c6a1-c5bc2f7817dd"
   },
   "outputs": [
    {
     "name": "stdout",
     "output_type": "stream",
     "text": [
      "Soy bombon, y tengo 10 años de vida.\n"
     ]
    }
   ],
   "source": [
    "#parent class\n",
    "class animal:\n",
    "    def __init__(self, nombre, edad):\n",
    "        self.nombre = nombre\n",
    "        self.edad = edad\n",
    "        \n",
    "    def informacion(self):\n",
    "        print(f\"Soy {self.nombre}, y tengo {self.edad} años de vida.\")\n",
    "    \n",
    "x = animal(\"bombon\", 10)\n",
    "x.informacion()   \n",
    "    "
   ]
  },
  {
   "cell_type": "code",
   "execution_count": null,
   "metadata": {
    "colab": {},
    "colab_type": "code",
    "id": "77jFs2zwNxyB",
    "outputId": "bf984b30-8f05-4af1-f425-ecfad8ed1649"
   },
   "outputs": [
    {
     "name": "stdout",
     "output_type": "stream",
     "text": [
      "Soy bombon, y tengo 12 años de vida.\n"
     ]
    }
   ],
   "source": [
    "#child class, agregamos mas cosas\n",
    "\n",
    "\n",
    "class gato(animal):\n",
    "    \n",
    "     # atributos\n",
    "    def __init__(self, nombre, edad, especie):\n",
    "        super().__init__(nombre,edad)\n",
    "        self.especie = especie\n",
    "    \n",
    "\n",
    "    def molestar(self):\n",
    "        print(\"miau, miau, \"*5 )   \n",
    "        \n",
    "\n",
    "gato1  = gato(\"bombon\", 12, \"minino\")\n",
    "\n",
    "#los metodos de la parent class funcionan\n",
    "gato1.informacion()"
   ]
  },
  {
   "cell_type": "markdown",
   "metadata": {
    "colab_type": "text",
    "id": "sAiE8WvaNxyD"
   },
   "source": [
    "### ¡Gracias!  💘\n",
    "---\n",
    "<img src=\"https://media.makeameme.org/created/thats-the-end-ay4b7t.jpg\" alt=\"Italian Trulli\">\n",
    "\n"
   ]
  }
 ],
 "metadata": {
  "celltoolbar": "Slideshow",
  "colab": {
   "collapsed_sections": [],
   "name": "Clase I Python - Introducción.ipynb",
   "provenance": [],
   "toc_visible": true
  },
  "kernelspec": {
   "display_name": "Python 3",
   "language": "python",
   "name": "python3"
  },
  "language_info": {
   "codemirror_mode": {
    "name": "ipython",
    "version": 3
   },
   "file_extension": ".py",
   "mimetype": "text/x-python",
   "name": "python",
   "nbconvert_exporter": "python",
   "pygments_lexer": "ipython3",
   "version": "3.7.4"
  }
 },
 "nbformat": 4,
 "nbformat_minor": 1
}
