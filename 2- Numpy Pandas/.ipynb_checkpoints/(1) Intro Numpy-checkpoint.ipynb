{
 "cells": [
  {
   "cell_type": "markdown",
   "metadata": {
    "colab_type": "text",
    "id": "Cc5ILYAE3esd"
   },
   "source": [
    "# Introducción a Numpy\n",
    "\n",
    "Numpy es una librería de Algebra Lineal en Python. Resulta central para el análisis de datos y aplicaciones estadísticas basicamente porque casi todas las librerías de Datos del ecosistema Python se basan en numpy. En pocas palabras, todo data frame es una matriz y requiere entonces un background matricial. Numpy provee eso."
   ]
  },
  {
   "cell_type": "markdown",
   "metadata": {
    "colab_type": "text",
    "id": "oI8-T3mJ4zsA"
   },
   "source": [
    "# Numpy Arrays \n",
    "\n",
    "El módulo array define una estructura de datos que se parece mucho a list, excepto que todos los miembros tienen que ser del mismo tipo primitivo (todos numéricos)"
   ]
  },
  {
   "cell_type": "code",
   "execution_count": null,
   "metadata": {
    "colab": {},
    "colab_type": "code",
    "id": "CjMHD-x3525s"
   },
   "outputs": [],
   "source": [
    "import numpy as np"
   ]
  },
  {
   "cell_type": "markdown",
   "metadata": {
    "colab_type": "text",
    "id": "HBpqqBpK7toJ"
   },
   "source": [
    "Podemos crear un array directamente convirtiendo una lista o serie de listas"
   ]
  },
  {
   "cell_type": "code",
   "execution_count": null,
   "metadata": {
    "colab": {
     "base_uri": "https://localhost:8080/",
     "height": 34
    },
    "colab_type": "code",
    "executionInfo": {
     "elapsed": 744,
     "status": "ok",
     "timestamp": 1593314500740,
     "user": {
      "displayName": "Antonio Marrazzo",
      "photoUrl": "",
      "userId": "09279458356259982780"
     },
     "user_tz": 180
    },
    "id": "wWIFpzB877E2",
    "outputId": "1a3dd0f5-9bdc-4c1b-d6f3-2d06056517a4"
   },
   "outputs": [
    {
     "data": {
      "text/plain": [
       "[1, 2, 3]"
      ]
     },
     "execution_count": 4,
     "metadata": {
      "tags": []
     },
     "output_type": "execute_result"
    }
   ],
   "source": [
    "list = [1, 2, 3]\n",
    "list"
   ]
  },
  {
   "cell_type": "code",
   "execution_count": null,
   "metadata": {
    "colab": {
     "base_uri": "https://localhost:8080/",
     "height": 34
    },
    "colab_type": "code",
    "executionInfo": {
     "elapsed": 749,
     "status": "ok",
     "timestamp": 1593314512712,
     "user": {
      "displayName": "Antonio Marrazzo",
      "photoUrl": "",
      "userId": "09279458356259982780"
     },
     "user_tz": 180
    },
    "id": "f_UzdNec8bdm",
    "outputId": "4bcd610c-baf2-48ce-c4e1-d595e15f24c1"
   },
   "outputs": [
    {
     "data": {
      "text/plain": [
       "array([1, 2, 3])"
      ]
     },
     "execution_count": 5,
     "metadata": {
      "tags": []
     },
     "output_type": "execute_result"
    }
   ],
   "source": [
    "np.array(list)"
   ]
  },
  {
   "cell_type": "code",
   "execution_count": null,
   "metadata": {
    "colab": {
     "base_uri": "https://localhost:8080/",
     "height": 34
    },
    "colab_type": "code",
    "executionInfo": {
     "elapsed": 721,
     "status": "ok",
     "timestamp": 1593314569354,
     "user": {
      "displayName": "Antonio Marrazzo",
      "photoUrl": "",
      "userId": "09279458356259982780"
     },
     "user_tz": 180
    },
    "id": "61CY8OR58gvu",
    "outputId": "dc155152-2d4c-4391-aed1-e3949ffb8322"
   },
   "outputs": [
    {
     "data": {
      "text/plain": [
       "[[1, 2, 3], [4, 5, 6], [7, 8, 9]]"
      ]
     },
     "execution_count": 6,
     "metadata": {
      "tags": []
     },
     "output_type": "execute_result"
    }
   ],
   "source": [
    "mi_matriz = [[1, 2, 3], [4, 5, 6], [7, 8, 9]]\n",
    "mi_matriz"
   ]
  },
  {
   "cell_type": "code",
   "execution_count": null,
   "metadata": {
    "colab": {
     "base_uri": "https://localhost:8080/",
     "height": 68
    },
    "colab_type": "code",
    "executionInfo": {
     "elapsed": 698,
     "status": "ok",
     "timestamp": 1593314584586,
     "user": {
      "displayName": "Antonio Marrazzo",
      "photoUrl": "",
      "userId": "09279458356259982780"
     },
     "user_tz": 180
    },
    "id": "XfAEB4nb8uls",
    "outputId": "239407d3-c58c-4026-cf01-6148d6bcaa76"
   },
   "outputs": [
    {
     "data": {
      "text/plain": [
       "array([[1, 2, 3],\n",
       "       [4, 5, 6],\n",
       "       [7, 8, 9]])"
      ]
     },
     "execution_count": 7,
     "metadata": {
      "tags": []
     },
     "output_type": "execute_result"
    }
   ],
   "source": [
    "np.array(mi_matriz)"
   ]
  },
  {
   "cell_type": "markdown",
   "metadata": {
    "colab_type": "text",
    "id": "3qjFrwrk9DTP"
   },
   "source": [
    "# Algunos métodos para crear arrays"
   ]
  },
  {
   "cell_type": "markdown",
   "metadata": {
    "colab_type": "text",
    "id": "Yjbp6Pom9K8o"
   },
   "source": [
    "### Arange\n",
    "Devuelve valores equiespaciados en un intervalo "
   ]
  },
  {
   "cell_type": "code",
   "execution_count": null,
   "metadata": {
    "colab": {
     "base_uri": "https://localhost:8080/",
     "height": 34
    },
    "colab_type": "code",
    "executionInfo": {
     "elapsed": 761,
     "status": "ok",
     "timestamp": 1593314764202,
     "user": {
      "displayName": "Antonio Marrazzo",
      "photoUrl": "",
      "userId": "09279458356259982780"
     },
     "user_tz": 180
    },
    "id": "lyiK1L7C9XkC",
    "outputId": "6ebd47cf-6efc-4bee-e898-bd33829d856a"
   },
   "outputs": [
    {
     "data": {
      "text/plain": [
       "array([0, 1, 2, 3, 4])"
      ]
     },
     "execution_count": 8,
     "metadata": {
      "tags": []
     },
     "output_type": "execute_result"
    }
   ],
   "source": [
    "np.arange(0,5)"
   ]
  },
  {
   "cell_type": "code",
   "execution_count": null,
   "metadata": {
    "colab": {
     "base_uri": "https://localhost:8080/",
     "height": 34
    },
    "colab_type": "code",
    "executionInfo": {
     "elapsed": 861,
     "status": "ok",
     "timestamp": 1593314791097,
     "user": {
      "displayName": "Antonio Marrazzo",
      "photoUrl": "",
      "userId": "09279458356259982780"
     },
     "user_tz": 180
    },
    "id": "hCyBK0ak9eJf",
    "outputId": "38d2e2ca-2866-4e79-876e-b6c0f9289584"
   },
   "outputs": [
    {
     "data": {
      "text/plain": [
       "array([0, 2, 4, 6, 8])"
      ]
     },
     "execution_count": 9,
     "metadata": {
      "tags": []
     },
     "output_type": "execute_result"
    }
   ],
   "source": [
    "np.arange(0, 10, 2)"
   ]
  },
  {
   "cell_type": "markdown",
   "metadata": {
    "colab_type": "text",
    "id": "KliabEp49pxK"
   },
   "source": [
    "### Ceros y unos\n",
    "Devuelve arrays de ceros y unos"
   ]
  },
  {
   "cell_type": "code",
   "execution_count": null,
   "metadata": {
    "colab": {
     "base_uri": "https://localhost:8080/",
     "height": 34
    },
    "colab_type": "code",
    "executionInfo": {
     "elapsed": 1098,
     "status": "ok",
     "timestamp": 1593314938253,
     "user": {
      "displayName": "Antonio Marrazzo",
      "photoUrl": "",
      "userId": "09279458356259982780"
     },
     "user_tz": 180
    },
    "id": "CV9oxsCo9zXF",
    "outputId": "0aa25ba6-82b9-4085-a5e3-a7d63a84e803"
   },
   "outputs": [
    {
     "data": {
      "text/plain": [
       "array([0., 0., 0., 0.])"
      ]
     },
     "execution_count": 17,
     "metadata": {
      "tags": []
     },
     "output_type": "execute_result"
    }
   ],
   "source": [
    "np.zeros(4)"
   ]
  },
  {
   "cell_type": "code",
   "execution_count": null,
   "metadata": {
    "colab": {
     "base_uri": "https://localhost:8080/",
     "height": 119
    },
    "colab_type": "code",
    "executionInfo": {
     "elapsed": 614,
     "status": "ok",
     "timestamp": 1593314938256,
     "user": {
      "displayName": "Antonio Marrazzo",
      "photoUrl": "",
      "userId": "09279458356259982780"
     },
     "user_tz": 180
    },
    "id": "BezMcGLI934u",
    "outputId": "b6606862-6c17-45e5-e1d6-aef7319700ef"
   },
   "outputs": [
    {
     "data": {
      "text/plain": [
       "array([[0., 0., 0., 0., 0., 0.],\n",
       "       [0., 0., 0., 0., 0., 0.],\n",
       "       [0., 0., 0., 0., 0., 0.],\n",
       "       [0., 0., 0., 0., 0., 0.],\n",
       "       [0., 0., 0., 0., 0., 0.],\n",
       "       [0., 0., 0., 0., 0., 0.]])"
      ]
     },
     "execution_count": 18,
     "metadata": {
      "tags": []
     },
     "output_type": "execute_result"
    }
   ],
   "source": [
    "np.zeros((6,6))"
   ]
  },
  {
   "cell_type": "code",
   "execution_count": null,
   "metadata": {
    "colab": {
     "base_uri": "https://localhost:8080/",
     "height": 34
    },
    "colab_type": "code",
    "executionInfo": {
     "elapsed": 491,
     "status": "ok",
     "timestamp": 1593314938688,
     "user": {
      "displayName": "Antonio Marrazzo",
      "photoUrl": "",
      "userId": "09279458356259982780"
     },
     "user_tz": 180
    },
    "id": "hRsmy7zS96y0",
    "outputId": "cb2772f7-6a89-493d-96d6-cb407da716ac"
   },
   "outputs": [
    {
     "data": {
      "text/plain": [
       "array([1., 1.])"
      ]
     },
     "execution_count": 19,
     "metadata": {
      "tags": []
     },
     "output_type": "execute_result"
    }
   ],
   "source": [
    "np.ones(2)"
   ]
  },
  {
   "cell_type": "code",
   "execution_count": null,
   "metadata": {
    "colab": {
     "base_uri": "https://localhost:8080/",
     "height": 68
    },
    "colab_type": "code",
    "executionInfo": {
     "elapsed": 754,
     "status": "ok",
     "timestamp": 1593314939524,
     "user": {
      "displayName": "Antonio Marrazzo",
      "photoUrl": "",
      "userId": "09279458356259982780"
     },
     "user_tz": 180
    },
    "id": "njCMMWlx-ADi",
    "outputId": "5da2b04c-4063-4dc3-fe51-8c1c3e602ed1"
   },
   "outputs": [
    {
     "data": {
      "text/plain": [
       "array([[1., 1., 1.],\n",
       "       [1., 1., 1.],\n",
       "       [1., 1., 1.]])"
      ]
     },
     "execution_count": 20,
     "metadata": {
      "tags": []
     },
     "output_type": "execute_result"
    }
   ],
   "source": [
    "np.ones((3,3))"
   ]
  },
  {
   "cell_type": "markdown",
   "metadata": {
    "colab_type": "text",
    "id": "fy80tVpA-ah7"
   },
   "source": [
    "### Eye\n",
    "Devuelve una matriz identidad"
   ]
  },
  {
   "cell_type": "code",
   "execution_count": null,
   "metadata": {
    "colab": {
     "base_uri": "https://localhost:8080/",
     "height": 85
    },
    "colab_type": "code",
    "executionInfo": {
     "elapsed": 799,
     "status": "ok",
     "timestamp": 1593315056218,
     "user": {
      "displayName": "Antonio Marrazzo",
      "photoUrl": "",
      "userId": "09279458356259982780"
     },
     "user_tz": 180
    },
    "id": "kc83dkfm-fMh",
    "outputId": "9260e45a-4146-4be0-874a-3b167fec01d1"
   },
   "outputs": [
    {
     "data": {
      "text/plain": [
       "array([[1., 0., 0., 0.],\n",
       "       [0., 1., 0., 0.],\n",
       "       [0., 0., 1., 0.],\n",
       "       [0., 0., 0., 1.]])"
      ]
     },
     "execution_count": 22,
     "metadata": {
      "tags": []
     },
     "output_type": "execute_result"
    }
   ],
   "source": [
    "np.eye(4)"
   ]
  },
  {
   "cell_type": "markdown",
   "metadata": {
    "colab_type": "text",
    "id": "MTpJtPiv-15B"
   },
   "source": [
    "## Random arrays\n",
    "Hay diversas formas de crear arrays aleatorios"
   ]
  },
  {
   "cell_type": "markdown",
   "metadata": {
    "colab_type": "text",
    "id": "HUbitMnD_YpW"
   },
   "source": [
    "### rand\n",
    "Devuelve arrays con valores aleatorios de una distribución uniforme sobre [0, 1)"
   ]
  },
  {
   "cell_type": "code",
   "execution_count": null,
   "metadata": {
    "colab": {
     "base_uri": "https://localhost:8080/",
     "height": 34
    },
    "colab_type": "code",
    "executionInfo": {
     "elapsed": 704,
     "status": "ok",
     "timestamp": 1593315348822,
     "user": {
      "displayName": "Antonio Marrazzo",
      "photoUrl": "",
      "userId": "09279458356259982780"
     },
     "user_tz": 180
    },
    "id": "cmFQEo2g_e_j",
    "outputId": "912cb0cb-8e31-4813-e0c3-7ef197687b81"
   },
   "outputs": [
    {
     "data": {
      "text/plain": [
       "array([0.14349481, 0.66291496, 0.03725507])"
      ]
     },
     "execution_count": 23,
     "metadata": {
      "tags": []
     },
     "output_type": "execute_result"
    }
   ],
   "source": [
    "np.random.rand(3)"
   ]
  },
  {
   "cell_type": "code",
   "execution_count": null,
   "metadata": {
    "colab": {
     "base_uri": "https://localhost:8080/",
     "height": 85
    },
    "colab_type": "code",
    "executionInfo": {
     "elapsed": 688,
     "status": "ok",
     "timestamp": 1593315368244,
     "user": {
      "displayName": "Antonio Marrazzo",
      "photoUrl": "",
      "userId": "09279458356259982780"
     },
     "user_tz": 180
    },
    "id": "qg5_RbpD_s5B",
    "outputId": "a9c21f5e-c046-47f2-d5ce-51a04f634bf8"
   },
   "outputs": [
    {
     "data": {
      "text/plain": [
       "array([[0.93572302, 0.46559427, 0.16707372, 0.9214074 ],\n",
       "       [0.07051984, 0.67611158, 0.59067892, 0.76426263],\n",
       "       [0.14943689, 0.14794358, 0.38913593, 0.79153957],\n",
       "       [0.28688379, 0.8126091 , 0.58774232, 0.41254027]])"
      ]
     },
     "execution_count": 24,
     "metadata": {
      "tags": []
     },
     "output_type": "execute_result"
    }
   ],
   "source": [
    "np.random.rand(4,4)"
   ]
  },
  {
   "cell_type": "markdown",
   "metadata": {
    "colab_type": "text",
    "id": "YT4jH_Zd_zZ6"
   },
   "source": [
    "### randn\n",
    "Devuelve arrays con valores aleatorios de una distribución normal estándar"
   ]
  },
  {
   "cell_type": "code",
   "execution_count": null,
   "metadata": {
    "colab": {
     "base_uri": "https://localhost:8080/",
     "height": 34
    },
    "colab_type": "code",
    "executionInfo": {
     "elapsed": 895,
     "status": "ok",
     "timestamp": 1593315447116,
     "user": {
      "displayName": "Antonio Marrazzo",
      "photoUrl": "",
      "userId": "09279458356259982780"
     },
     "user_tz": 180
    },
    "id": "3P0pBUtLACNU",
    "outputId": "ed97859b-fd04-43fc-d160-27b4a805597d"
   },
   "outputs": [
    {
     "data": {
      "text/plain": [
       "array([-0.83109874,  0.57323351, -2.2130809 ])"
      ]
     },
     "execution_count": 25,
     "metadata": {
      "tags": []
     },
     "output_type": "execute_result"
    }
   ],
   "source": [
    "np.random.randn(3)"
   ]
  },
  {
   "cell_type": "code",
   "execution_count": null,
   "metadata": {
    "colab": {
     "base_uri": "https://localhost:8080/",
     "height": 51
    },
    "colab_type": "code",
    "executionInfo": {
     "elapsed": 958,
     "status": "ok",
     "timestamp": 1593315459264,
     "user": {
      "displayName": "Antonio Marrazzo",
      "photoUrl": "",
      "userId": "09279458356259982780"
     },
     "user_tz": 180
    },
    "id": "2PWbk2JgAE10",
    "outputId": "86ca9d66-8dee-4cec-e2ea-1b6ae8941673"
   },
   "outputs": [
    {
     "data": {
      "text/plain": [
       "array([[-0.24788455,  2.27082903],\n",
       "       [ 0.98904129, -0.90760852]])"
      ]
     },
     "execution_count": 26,
     "metadata": {
      "tags": []
     },
     "output_type": "execute_result"
    }
   ],
   "source": [
    "np.random.randn(2,2 )"
   ]
  },
  {
   "cell_type": "markdown",
   "metadata": {
    "colab_type": "text",
    "id": "YdPXj9__AaPT"
   },
   "source": [
    "# max, min, argmax, argmin\n",
    "Se trata de métodos para encontrar los máximos y mínimos dentro de un array, así como el lugar donde están ubicados\n"
   ]
  },
  {
   "cell_type": "code",
   "execution_count": null,
   "metadata": {
    "colab": {},
    "colab_type": "code",
    "id": "CLBL6TyCAnkk"
   },
   "outputs": [],
   "source": [
    "arr = np.arange(20)\n",
    "random_arr = np.random.randn(16)\n"
   ]
  },
  {
   "cell_type": "code",
   "execution_count": null,
   "metadata": {
    "colab": {
     "base_uri": "https://localhost:8080/",
     "height": 51
    },
    "colab_type": "code",
    "executionInfo": {
     "elapsed": 800,
     "status": "ok",
     "timestamp": 1593315874118,
     "user": {
      "displayName": "Antonio Marrazzo",
      "photoUrl": "",
      "userId": "09279458356259982780"
     },
     "user_tz": 180
    },
    "id": "5nzbVZKbBjsD",
    "outputId": "919b7edb-2a90-494b-cae9-284d7dadc850"
   },
   "outputs": [
    {
     "data": {
      "text/plain": [
       "array([ 0,  1,  2,  3,  4,  5,  6,  7,  8,  9, 10, 11, 12, 13, 14, 15, 16,\n",
       "       17, 18, 19])"
      ]
     },
     "execution_count": 29,
     "metadata": {
      "tags": []
     },
     "output_type": "execute_result"
    }
   ],
   "source": [
    "arr"
   ]
  },
  {
   "cell_type": "code",
   "execution_count": null,
   "metadata": {
    "colab": {
     "base_uri": "https://localhost:8080/",
     "height": 85
    },
    "colab_type": "code",
    "executionInfo": {
     "elapsed": 1084,
     "status": "ok",
     "timestamp": 1593315878914,
     "user": {
      "displayName": "Antonio Marrazzo",
      "photoUrl": "",
      "userId": "09279458356259982780"
     },
     "user_tz": 180
    },
    "id": "lp78en8HBtEq",
    "outputId": "9e0f5a44-c555-4845-a8a3-2c97ff7e656d"
   },
   "outputs": [
    {
     "data": {
      "text/plain": [
       "array([-0.63976991,  0.50314247, -1.0574052 ,  0.12046018,  0.10645613,\n",
       "        0.7269421 ,  1.65811003, -3.11405811, -0.31028143, -1.78059585,\n",
       "        0.08042881, -1.30412883, -1.16633666,  0.02767739,  0.81530471,\n",
       "       -0.891718  ])"
      ]
     },
     "execution_count": 30,
     "metadata": {
      "tags": []
     },
     "output_type": "execute_result"
    }
   ],
   "source": [
    "random_arr"
   ]
  },
  {
   "cell_type": "code",
   "execution_count": null,
   "metadata": {
    "colab": {
     "base_uri": "https://localhost:8080/",
     "height": 34
    },
    "colab_type": "code",
    "executionInfo": {
     "elapsed": 738,
     "status": "ok",
     "timestamp": 1593315904415,
     "user": {
      "displayName": "Antonio Marrazzo",
      "photoUrl": "",
      "userId": "09279458356259982780"
     },
     "user_tz": 180
    },
    "id": "aD0Vk7-pBuN6",
    "outputId": "b6af961e-cb2b-4ad0-ba1e-28a8fcf486e2"
   },
   "outputs": [
    {
     "data": {
      "text/plain": [
       "19"
      ]
     },
     "execution_count": 32,
     "metadata": {
      "tags": []
     },
     "output_type": "execute_result"
    }
   ],
   "source": [
    "arr.max()"
   ]
  },
  {
   "cell_type": "code",
   "execution_count": null,
   "metadata": {
    "colab": {
     "base_uri": "https://localhost:8080/",
     "height": 34
    },
    "colab_type": "code",
    "executionInfo": {
     "elapsed": 758,
     "status": "ok",
     "timestamp": 1593315916979,
     "user": {
      "displayName": "Antonio Marrazzo",
      "photoUrl": "",
      "userId": "09279458356259982780"
     },
     "user_tz": 180
    },
    "id": "iMqgipAaBxPg",
    "outputId": "760a98cd-8cf7-4bea-c6ea-83f1f373cd11"
   },
   "outputs": [
    {
     "data": {
      "text/plain": [
       "-3.1140581084455485"
      ]
     },
     "execution_count": 33,
     "metadata": {
      "tags": []
     },
     "output_type": "execute_result"
    }
   ],
   "source": [
    "random_arr.min()"
   ]
  },
  {
   "cell_type": "code",
   "execution_count": null,
   "metadata": {
    "colab": {
     "base_uri": "https://localhost:8080/",
     "height": 34
    },
    "colab_type": "code",
    "executionInfo": {
     "elapsed": 686,
     "status": "ok",
     "timestamp": 1593315928468,
     "user": {
      "displayName": "Antonio Marrazzo",
      "photoUrl": "",
      "userId": "09279458356259982780"
     },
     "user_tz": 180
    },
    "id": "gEZohxBCB3kL",
    "outputId": "5af7b302-a4bf-4a05-b959-acbcdb1765a6"
   },
   "outputs": [
    {
     "data": {
      "text/plain": [
       "19"
      ]
     },
     "execution_count": 34,
     "metadata": {
      "tags": []
     },
     "output_type": "execute_result"
    }
   ],
   "source": [
    "arr.argmax()"
   ]
  },
  {
   "cell_type": "code",
   "execution_count": null,
   "metadata": {
    "colab": {
     "base_uri": "https://localhost:8080/",
     "height": 34
    },
    "colab_type": "code",
    "executionInfo": {
     "elapsed": 746,
     "status": "ok",
     "timestamp": 1593315948853,
     "user": {
      "displayName": "Antonio Marrazzo",
      "photoUrl": "",
      "userId": "09279458356259982780"
     },
     "user_tz": 180
    },
    "id": "v5rMTrXsB6aL",
    "outputId": "39dce4cd-8927-45b6-c4bf-22a9709fa962"
   },
   "outputs": [
    {
     "data": {
      "text/plain": [
       "7"
      ]
     },
     "execution_count": 35,
     "metadata": {
      "tags": []
     },
     "output_type": "execute_result"
    }
   ],
   "source": [
    "random_arr.argmin()"
   ]
  },
  {
   "cell_type": "markdown",
   "metadata": {
    "colab_type": "text",
    "id": "ySdt9SL_CExT"
   },
   "source": [
    "# Indexación y selección en Numpy\n",
    "Refiere a cómo seleccionar un elemento o grupo de elementos de un array"
   ]
  },
  {
   "cell_type": "code",
   "execution_count": null,
   "metadata": {
    "colab": {
     "base_uri": "https://localhost:8080/",
     "height": 34
    },
    "colab_type": "code",
    "executionInfo": {
     "elapsed": 847,
     "status": "ok",
     "timestamp": 1593316157786,
     "user": {
      "displayName": "Antonio Marrazzo",
      "photoUrl": "",
      "userId": "09279458356259982780"
     },
     "user_tz": 180
    },
    "id": "2qa_6hXTCWnG",
    "outputId": "30db7090-531c-4a20-e594-41336a00f68b"
   },
   "outputs": [
    {
     "data": {
      "text/plain": [
       "array([0, 1, 2, 3, 4, 5, 6, 7, 8, 9])"
      ]
     },
     "execution_count": 38,
     "metadata": {
      "tags": []
     },
     "output_type": "execute_result"
    }
   ],
   "source": [
    "import numpy as np\n",
    "arr = np.arange(0, 10)\n",
    "arr"
   ]
  },
  {
   "cell_type": "code",
   "execution_count": null,
   "metadata": {
    "colab": {
     "base_uri": "https://localhost:8080/",
     "height": 34
    },
    "colab_type": "code",
    "executionInfo": {
     "elapsed": 751,
     "status": "ok",
     "timestamp": 1593316226850,
     "user": {
      "displayName": "Antonio Marrazzo",
      "photoUrl": "",
      "userId": "09279458356259982780"
     },
     "user_tz": 180
    },
    "id": "khjV0ZpgCsWW",
    "outputId": "863eb25e-377d-4546-8f2c-d23619d220f1"
   },
   "outputs": [
    {
     "data": {
      "text/plain": [
       "5"
      ]
     },
     "execution_count": 40,
     "metadata": {
      "tags": []
     },
     "output_type": "execute_result"
    }
   ],
   "source": [
    "arr[5]"
   ]
  },
  {
   "cell_type": "code",
   "execution_count": null,
   "metadata": {
    "colab": {
     "base_uri": "https://localhost:8080/",
     "height": 34
    },
    "colab_type": "code",
    "executionInfo": {
     "elapsed": 715,
     "status": "ok",
     "timestamp": 1593316244369,
     "user": {
      "displayName": "Antonio Marrazzo",
      "photoUrl": "",
      "userId": "09279458356259982780"
     },
     "user_tz": 180
    },
    "id": "iTnRiLnSC1R3",
    "outputId": "a1c132af-b0ac-4ef1-b6c1-424c69e808f7"
   },
   "outputs": [
    {
     "data": {
      "text/plain": [
       "array([1, 2, 3, 4, 5])"
      ]
     },
     "execution_count": 41,
     "metadata": {
      "tags": []
     },
     "output_type": "execute_result"
    }
   ],
   "source": [
    "arr[1:6]"
   ]
  },
  {
   "cell_type": "code",
   "execution_count": null,
   "metadata": {
    "colab": {
     "base_uri": "https://localhost:8080/",
     "height": 34
    },
    "colab_type": "code",
    "executionInfo": {
     "elapsed": 782,
     "status": "ok",
     "timestamp": 1593316281865,
     "user": {
      "displayName": "Antonio Marrazzo",
      "photoUrl": "",
      "userId": "09279458356259982780"
     },
     "user_tz": 180
    },
    "id": "AujY_MVMDHho",
    "outputId": "68c64159-7368-4d78-a86b-5b0fd9163025"
   },
   "outputs": [
    {
     "data": {
      "text/plain": [
       "array([100, 100, 100, 100, 100,   5,   6,   7,   8,   9])"
      ]
     },
     "execution_count": 43,
     "metadata": {
      "tags": []
     },
     "output_type": "execute_result"
    }
   ],
   "source": [
    "arr[0:5] = 100\n",
    "arr"
   ]
  },
  {
   "cell_type": "code",
   "execution_count": null,
   "metadata": {
    "colab": {},
    "colab_type": "code",
    "id": "WuHC2QjyDOLI"
   },
   "outputs": [],
   "source": [
    "# ¡Ahora con matrices! "
   ]
  },
  {
   "cell_type": "code",
   "execution_count": null,
   "metadata": {
    "colab": {
     "base_uri": "https://localhost:8080/",
     "height": 85
    },
    "colab_type": "code",
    "executionInfo": {
     "elapsed": 826,
     "status": "ok",
     "timestamp": 1593316449009,
     "user": {
      "displayName": "Antonio Marrazzo",
      "photoUrl": "",
      "userId": "09279458356259982780"
     },
     "user_tz": 180
    },
    "id": "NlpVQWkoDf-9",
    "outputId": "b8337abd-7a4b-43c7-a2a6-c51c44cb60c1"
   },
   "outputs": [
    {
     "data": {
      "text/plain": [
       "array([[-0.88153072,  0.92623618,  2.18671037,  0.725649  ],\n",
       "       [ 1.15884676, -1.31863524, -0.66071174,  0.20042994],\n",
       "       [ 0.63077293,  1.36994958,  0.54348229,  0.84196954],\n",
       "       [ 0.68594   , -1.06516914,  1.45894377, -1.87055435]])"
      ]
     },
     "execution_count": 49,
     "metadata": {
      "tags": []
     },
     "output_type": "execute_result"
    }
   ],
   "source": [
    "matrix = np.random.randn(4,4)\n",
    "matrix"
   ]
  },
  {
   "cell_type": "code",
   "execution_count": null,
   "metadata": {
    "colab": {
     "base_uri": "https://localhost:8080/",
     "height": 34
    },
    "colab_type": "code",
    "executionInfo": {
     "elapsed": 883,
     "status": "ok",
     "timestamp": 1593316463562,
     "user": {
      "displayName": "Antonio Marrazzo",
      "photoUrl": "",
      "userId": "09279458356259982780"
     },
     "user_tz": 180
    },
    "id": "i68HFRedDoKb",
    "outputId": "766948ce-66fa-4cbb-a987-4424c768e255"
   },
   "outputs": [
    {
     "data": {
      "text/plain": [
       "array([ 1.15884676, -1.31863524, -0.66071174,  0.20042994])"
      ]
     },
     "execution_count": 50,
     "metadata": {
      "tags": []
     },
     "output_type": "execute_result"
    }
   ],
   "source": [
    "matrix[1]"
   ]
  },
  {
   "cell_type": "code",
   "execution_count": null,
   "metadata": {
    "colab": {
     "base_uri": "https://localhost:8080/",
     "height": 34
    },
    "colab_type": "code",
    "executionInfo": {
     "elapsed": 826,
     "status": "ok",
     "timestamp": 1593316525274,
     "user": {
      "displayName": "Antonio Marrazzo",
      "photoUrl": "",
      "userId": "09279458356259982780"
     },
     "user_tz": 180
    },
    "id": "bqFhDYwRD80z",
    "outputId": "af90011d-3d2e-4751-d2d8-67e151eb6564"
   },
   "outputs": [
    {
     "data": {
      "text/plain": [
       "1.458943769265294"
      ]
     },
     "execution_count": 52,
     "metadata": {
      "tags": []
     },
     "output_type": "execute_result"
    }
   ],
   "source": [
    "matrix[3][2]"
   ]
  },
  {
   "cell_type": "code",
   "execution_count": null,
   "metadata": {
    "colab": {
     "base_uri": "https://localhost:8080/",
     "height": 51
    },
    "colab_type": "code",
    "executionInfo": {
     "elapsed": 810,
     "status": "ok",
     "timestamp": 1593316544604,
     "user": {
      "displayName": "Antonio Marrazzo",
      "photoUrl": "",
      "userId": "09279458356259982780"
     },
     "user_tz": 180
    },
    "id": "cleAhmC4D_1X",
    "outputId": "6bc13e29-83e8-449a-f27e-ec2a46dbc1e9"
   },
   "outputs": [
    {
     "data": {
      "text/plain": [
       "array([[ 2.18671037,  0.725649  ],\n",
       "       [-0.66071174,  0.20042994]])"
      ]
     },
     "execution_count": 54,
     "metadata": {
      "tags": []
     },
     "output_type": "execute_result"
    }
   ],
   "source": [
    "matrix[:2,2:]"
   ]
  },
  {
   "cell_type": "markdown",
   "metadata": {
    "colab_type": "text",
    "id": "KMC6Y5B8EuDz"
   },
   "source": [
    "# Operaciones con arrays\n"
   ]
  },
  {
   "cell_type": "code",
   "execution_count": null,
   "metadata": {
    "colab": {
     "base_uri": "https://localhost:8080/",
     "height": 34
    },
    "colab_type": "code",
    "executionInfo": {
     "elapsed": 723,
     "status": "ok",
     "timestamp": 1593317099019,
     "user": {
      "displayName": "Antonio Marrazzo",
      "photoUrl": "",
      "userId": "09279458356259982780"
     },
     "user_tz": 180
    },
    "id": "JzfBfj_NGECr",
    "outputId": "05fd3da2-fd97-4284-adcf-4bd7cad54850"
   },
   "outputs": [
    {
     "data": {
      "text/plain": [
       "array([0.38857652, 0.1150654 , 0.57987794])"
      ]
     },
     "execution_count": 56,
     "metadata": {
      "tags": []
     },
     "output_type": "execute_result"
    }
   ],
   "source": [
    "arx = np.random.rand(3)\n",
    "arx"
   ]
  },
  {
   "cell_type": "code",
   "execution_count": null,
   "metadata": {
    "colab": {
     "base_uri": "https://localhost:8080/",
     "height": 34
    },
    "colab_type": "code",
    "executionInfo": {
     "elapsed": 750,
     "status": "ok",
     "timestamp": 1593317108207,
     "user": {
      "displayName": "Antonio Marrazzo",
      "photoUrl": "",
      "userId": "09279458356259982780"
     },
     "user_tz": 180
    },
    "id": "98umUGqkGP_B",
    "outputId": "9a11fd56-3c53-4ca3-994a-18bdafb4f058"
   },
   "outputs": [
    {
     "data": {
      "text/plain": [
       "array([0.77715305, 0.2301308 , 1.15975588])"
      ]
     },
     "execution_count": 57,
     "metadata": {
      "tags": []
     },
     "output_type": "execute_result"
    }
   ],
   "source": [
    "arx + arx"
   ]
  },
  {
   "cell_type": "code",
   "execution_count": null,
   "metadata": {
    "colab": {
     "base_uri": "https://localhost:8080/",
     "height": 34
    },
    "colab_type": "code",
    "executionInfo": {
     "elapsed": 741,
     "status": "ok",
     "timestamp": 1593317139098,
     "user": {
      "displayName": "Antonio Marrazzo",
      "photoUrl": "",
      "userId": "09279458356259982780"
     },
     "user_tz": 180
    },
    "id": "41QMf3lSGaaU",
    "outputId": "94dd7850-8d12-41e7-a3e8-91bdb2138e4f"
   },
   "outputs": [
    {
     "data": {
      "text/plain": [
       "array([1.55430609, 0.46026159, 2.31951175])"
      ]
     },
     "execution_count": 59,
     "metadata": {
      "tags": []
     },
     "output_type": "execute_result"
    }
   ],
   "source": [
    "arx * 4"
   ]
  },
  {
   "cell_type": "code",
   "execution_count": null,
   "metadata": {
    "colab": {
     "base_uri": "https://localhost:8080/",
     "height": 34
    },
    "colab_type": "code",
    "executionInfo": {
     "elapsed": 759,
     "status": "ok",
     "timestamp": 1593317143862,
     "user": {
      "displayName": "Antonio Marrazzo",
      "photoUrl": "",
      "userId": "09279458356259982780"
     },
     "user_tz": 180
    },
    "id": "ZFp5qAEaGcr6",
    "outputId": "e5de3542-3278-4144-a2ab-b0959ce2ae8a"
   },
   "outputs": [
    {
     "data": {
      "text/plain": [
       "array([0.15099171, 0.01324005, 0.33625842])"
      ]
     },
     "execution_count": 60,
     "metadata": {
      "tags": []
     },
     "output_type": "execute_result"
    }
   ],
   "source": [
    "arx ** 2"
   ]
  },
  {
   "cell_type": "code",
   "execution_count": null,
   "metadata": {
    "colab": {
     "base_uri": "https://localhost:8080/",
     "height": 34
    },
    "colab_type": "code",
    "executionInfo": {
     "elapsed": 849,
     "status": "ok",
     "timestamp": 1593317153238,
     "user": {
      "displayName": "Antonio Marrazzo",
      "photoUrl": "",
      "userId": "09279458356259982780"
     },
     "user_tz": 180
    },
    "id": "NjIDR076GjHM",
    "outputId": "029f7fa1-0dd1-4330-9a5d-44f88148cce9"
   },
   "outputs": [
    {
     "data": {
      "text/plain": [
       "array([0., 0., 0.])"
      ]
     },
     "execution_count": 61,
     "metadata": {
      "tags": []
     },
     "output_type": "execute_result"
    }
   ],
   "source": [
    "arx - arx"
   ]
  },
  {
   "cell_type": "code",
   "execution_count": null,
   "metadata": {
    "colab": {},
    "colab_type": "code",
    "id": "P0zZR3OkGlYh"
   },
   "outputs": [],
   "source": []
  }
 ],
 "metadata": {
  "colab": {
   "collapsed_sections": [],
   "name": "Intro Numpy.ipynb",
   "provenance": [],
   "toc_visible": true
  },
  "kernelspec": {
   "display_name": "Python 3",
   "language": "python",
   "name": "python3"
  },
  "language_info": {
   "codemirror_mode": {
    "name": "ipython",
    "version": 3
   },
   "file_extension": ".py",
   "mimetype": "text/x-python",
   "name": "python",
   "nbconvert_exporter": "python",
   "pygments_lexer": "ipython3",
   "version": "3.7.4"
  }
 },
 "nbformat": 4,
 "nbformat_minor": 1
}
