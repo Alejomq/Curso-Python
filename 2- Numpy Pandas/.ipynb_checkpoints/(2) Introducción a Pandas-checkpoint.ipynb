{
 "cells": [
  {
   "cell_type": "markdown",
   "metadata": {
    "colab_type": "text",
    "id": "orDXdpZ1HPzF"
   },
   "source": [
    "# 🐼 Pandas\n",
    "## La Libreria de Manejo de Datos"
   ]
  },
  {
   "cell_type": "markdown",
   "metadata": {
    "colab_type": "text",
    "id": "WEJvvMYl8mDn"
   },
   "source": [
    "---\n",
    "**Autores de la Notebook:** \n",
    "\n",
    "\n",
    "* [Matias Sanchez Gavier ](https://matias-online.netlify.app/)  🧛\n",
    "*   [Matias Moris](https://www.linkedin.com/in/matias-moris-6041337b/) ⚽\n",
    "* [Anotonio Marrazzo](https://www.linkedin.com/in/antonio-marrazzo-40b3491a2/) 🏆\n",
    "\n",
    "---\n"
   ]
  },
  {
   "cell_type": "markdown",
   "metadata": {
    "colab_type": "text",
    "id": "QLZCYB-aHPzH"
   },
   "source": [
    "\n",
    "<img src=\"https://upload.wikimedia.org/wikipedia/commons/thumb/e/ed/Pandas_logo.svg/1200px-Pandas_logo.svg.png\" alt=\"Drawing\" style=\"width: 350px;\"/>\n"
   ]
  },
  {
   "cell_type": "markdown",
   "metadata": {
    "colab_type": "text",
    "id": "2SeckBlEHPzI"
   },
   "source": [
    "\n",
    "\n",
    "En esta clase vamos a aprender como usar la libreria de pandas para análisis de datos. Podes pensar a Pandas como una versión extremadamente poderosa de Excel, con un monton más de posibilidades. Los Temas que vamos a ver son los siguientes:\n",
    "\n",
    "__Crognograma__\n",
    "\n",
    "* Librerias\n",
    "* Manejo de Directorio (OS)\n",
    "* Análisis Introductorio\n",
    "* Selección de Filas y Columnas\n",
    "* Filtering, Selección Condicionada\n",
    "* Reslover NaN Values\n",
    "* Operaciones con DataFrames\n",
    "* Concadenar\n",
    "* Exportar Archivos \n",
    "* Gráficos con Pandas\n",
    "***"
   ]
  },
  {
   "cell_type": "markdown",
   "metadata": {
    "colab_type": "text",
    "id": "78_VXAAmHPzJ"
   },
   "source": [
    "Para más información acerca de pandas  te recomendamos que visites estas páginas: \n",
    "- [User Guide Pandas]( https://pandas.pydata.org/docs/user_guide/index.html)\n",
    "\n",
    "- [Tutorial Pandas ](https://pandas.pydata.org/docs/getting_started/intro_tutorials/01_table_oriented.html)"
   ]
  },
  {
   "cell_type": "markdown",
   "metadata": {
    "colab_type": "text",
    "id": "ENxFHZv4HPzK"
   },
   "source": [
    "## 📕 Introducción a las Librerias\n",
    "---\n",
    "Las librerias son básicamente código externo que podemos utilizar. Esto es clave y es una de la razones para usar python. Mientras más famoso un lenguaje mejores librerias uno dispone.  **Pandas es una libreria** que se centra en el manejo de datos, y es lo que vamos a explorar en este notebook . A continuación instalamos algunas librerias. \n",
    "\n"
   ]
  },
  {
   "cell_type": "code",
   "execution_count": null,
   "metadata": {
    "colab": {},
    "colab_type": "code",
    "id": "xOXq0n0yHPzK",
    "outputId": "ed72ea6f-a2d3-4813-befb-f26012c3e3e6"
   },
   "outputs": [],
   "source": [
    "#Instalar si es necesario \n",
    "# Formato: !pip install Nombre_de_libreria\n",
    "!pip install numpy\n",
    "!pip install pandas "
   ]
  },
  {
   "cell_type": "markdown",
   "metadata": {
    "colab_type": "text",
    "id": "OuGnNBW79Fcx"
   },
   "source": [
    "El símbolo **!**  permite ejecutar como si estubieras en la terminal. "
   ]
  },
  {
   "cell_type": "markdown",
   "metadata": {
    "colab_type": "text",
    "id": "Z90NTbpOMESl"
   },
   "source": [
    "### ☎️ Importar librerias\n",
    "\n",
    "---\n",
    "\n",
    "Hay varias formas de importar, pero en general cada librería tiene una forma **tradicional o popular** de importarse, en el sentido de que la mayoría de la gente lo hace de la misma forma. "
   ]
  },
  {
   "cell_type": "code",
   "execution_count": null,
   "metadata": {
    "colab": {},
    "colab_type": "code",
    "id": "ufMmgW38MJJi"
   },
   "outputs": [],
   "source": [
    "# Importando pandas\n",
    "import pandas as pd"
   ]
  },
  {
   "cell_type": "markdown",
   "metadata": {
    "colab_type": "text",
    "id": "Aky6ZH7KHPzW"
   },
   "source": [
    "## 📁  Lectura de Archivos\n",
    "---"
   ]
  },
  {
   "cell_type": "markdown",
   "metadata": {
    "colab_type": "text",
    "id": "vMkFK3ThPE4D"
   },
   "source": [
    "Vamos a utilizar el archivo pokemon.csv del github. Vamos a utilizar la función **read_csv()**, hay dos formas de indicarle que archivo leer:\n",
    "\n",
    "*   Dar un link al archivo csv\n",
    "*   Indicar el \"path\" al archivo en nuestra computadora\n",
    "\n",
    "Si uno esta usando colab se esta manejando con la compu de google, la nuestra no la registra google.  \n",
    "\n"
   ]
  },
  {
   "cell_type": "code",
   "execution_count": null,
   "metadata": {
    "colab": {},
    "colab_type": "code",
    "id": "BOeLi4QNHPzX"
   },
   "outputs": [],
   "source": [
    "#Leer con URL \n",
    "url = \"https://raw.githubusercontent.com/sanchezgaviermatias/Curso_Python-/master/2%20-%20Pandas/Pokemon.csv\"\n",
    "df = pd.read_csv(url)"
   ]
  },
  {
   "cell_type": "markdown",
   "metadata": {
    "colab_type": "text",
    "id": "KNAPs7T9HPzZ"
   },
   "source": [
    "CSV es un tipo especial de archivo. Otros tipos de archivos comunes son: \n",
    "- JSON Files\n",
    "- HTML Files\n",
    "- SQL Files\n",
    "\n",
    "Puede probar **pd.read**  y apretar tab para ver otras opciones (en Colab solo tiene que esperar y le va a aparecer mas opciones)."
   ]
  },
  {
   "cell_type": "code",
   "execution_count": null,
   "metadata": {
    "colab": {},
    "colab_type": "code",
    "id": "47EXbqLox_Bb"
   },
   "outputs": [],
   "source": [
    "# Ejemplos de funciones para leer datos:\n",
    "#pd.read_csv()\n",
    "#pd.read_excel()\n",
    "#pd.read_html()\n",
    "#pd.read_json()\n",
    "#pd.read_sql()\n",
    "#pd.read_sas()\n",
    "#pd.read_pickle()"
   ]
  },
  {
   "cell_type": "markdown",
   "metadata": {
    "colab_type": "text",
    "id": "BNrxSGF4RtjX"
   },
   "source": [
    "### 🗂️ Manejo de Archivos  (Solo usuarios en Colab)\n",
    "---"
   ]
  },
  {
   "cell_type": "code",
   "execution_count": null,
   "metadata": {
    "colab": {
     "base_uri": "https://localhost:8080/",
     "height": 35
    },
    "colab_type": "code",
    "executionInfo": {
     "elapsed": 3267,
     "status": "ok",
     "timestamp": 1592615111335,
     "user": {
      "displayName": "Matias Sanchez Gavier",
      "photoUrl": "https://lh3.googleusercontent.com/a-/AOh14GjD7hZiO5eInT5MTbCuYg7k5GwpkxEcRQM1Y9NQ2g=s64",
      "userId": "12001148323871082461"
     },
     "user_tz": 180
    },
    "id": "tvaryenvPQIm",
    "outputId": "41d26469-6f3c-42e1-a2f0-1a1cf86d5219"
   },
   "outputs": [],
   "source": [
    "#Inidica los archivos en el directorio actual\n",
    "!ls "
   ]
  },
  {
   "cell_type": "code",
   "execution_count": null,
   "metadata": {
    "colab": {},
    "colab_type": "code",
    "id": "GD7wsncTOzsc"
   },
   "outputs": [],
   "source": [
    "# En google colab puede subir archivos con esta función\n",
    "from google.colab import files\n",
    "uploaded = files.upload()"
   ]
  },
  {
   "cell_type": "markdown",
   "metadata": {
    "colab_type": "text",
    "id": "6rnPOkiaypdV"
   },
   "source": [
    "### 📀  Libreria OS (Opcional)\n",
    "---\n",
    "Una libreria que le puede interesar para el manejo de Directorios y Paths (Carpetas) es la libreria OS, para mas  infor visite: \n",
    "- [Tutorial - OS](https://stackabuse.com/introduction-to-python-os-module/)\n",
    "- [Youtube - OS ](https://www.youtube.com/watch?v=tJxcKyFMTGo)\n",
    "\n",
    "Es como usar la **terminal de la computadora** texto en cursiva.\n",
    "Se suele ver cuando se ve notebooks o proyectos de otras personas. "
   ]
  },
  {
   "cell_type": "code",
   "execution_count": null,
   "metadata": {
    "colab": {
     "base_uri": "https://localhost:8080/",
     "height": 90
    },
    "colab_type": "code",
    "executionInfo": {
     "elapsed": 684,
     "status": "ok",
     "timestamp": 1593379810738,
     "user": {
      "displayName": "Matias Sanchez Gavier",
      "photoUrl": "https://lh3.googleusercontent.com/a-/AOh14GjD7hZiO5eInT5MTbCuYg7k5GwpkxEcRQM1Y9NQ2g=s64",
      "userId": "12001148323871082461"
     },
     "user_tz": 180
    },
    "id": "cDEgRRSMysbw",
    "outputId": "573dfe80-734f-4a96-c736-52d285a438bd"
   },
   "outputs": [],
   "source": [
    "#Principales Usos:\n",
    "import os \n",
    "\n",
    "# Directorio Actual\n",
    "print(os.getcwd()) \n",
    "\n",
    "\n",
    "# Mostrar Archivos en el directorio Actual\n",
    "print(os.listdir())\n",
    "\n",
    "#Cambiar Directorio \n",
    "os.chdir('carpeta')\n",
    "print(os.listdir())\n",
    "\n",
    "os.chdir(\"../\")\n",
    "print(os.listdir())\n",
    "\n",
    "\n",
    "# Elimino la Carpeta \n",
    "os.rmdir('carpeta')"
   ]
  },
  {
   "cell_type": "markdown",
   "metadata": {
    "colab_type": "text",
    "id": "37c26OxU6tNE"
   },
   "source": [
    "La función **walk()** de la libreria os realiza un \"search\" de arriba hacia abajo de todo el sistema de archivos, partiendo desde el path que le indicas. Devuelve un tuple de tamaño 3 indicando el path (dirección), directorios(Carpetas) en ese path, y archivos en ese path, sucesivamente hasta que llega a la útlima carpeta.\n"
   ]
  },
  {
   "cell_type": "code",
   "execution_count": null,
   "metadata": {
    "colab": {
     "base_uri": "https://localhost:8080/",
     "height": 454
    },
    "colab_type": "code",
    "executionInfo": {
     "elapsed": 699,
     "status": "ok",
     "timestamp": 1593381133235,
     "user": {
      "displayName": "Matias Sanchez Gavier",
      "photoUrl": "https://lh3.googleusercontent.com/a-/AOh14GjD7hZiO5eInT5MTbCuYg7k5GwpkxEcRQM1Y9NQ2g=s64",
      "userId": "12001148323871082461"
     },
     "user_tz": 180
    },
    "id": "F5hdxysI6UmX",
    "outputId": "f13248b5-a1ba-427c-b526-5ac26f3d5aa5"
   },
   "outputs": [],
   "source": [
    "for dirpath, dirnames, filnames in os.walk(os.getcwd()):\n",
    "  print(f\"directorio: {dirpath}\")\n",
    "  print(f\"Carpetas: {dirnames}\")\n",
    "  print(f\"filnames:{filnames}\")\n",
    "  print()"
   ]
  },
  {
   "cell_type": "markdown",
   "metadata": {
    "colab_type": "text",
    "id": "mg1ZlhZ5HPza"
   },
   "source": [
    "## 📹 Análisis Introductorio\n",
    "---"
   ]
  },
  {
   "cell_type": "code",
   "execution_count": null,
   "metadata": {
    "colab": {
     "base_uri": "https://localhost:8080/",
     "height": 198
    },
    "colab_type": "code",
    "executionInfo": {
     "elapsed": 1094,
     "status": "ok",
     "timestamp": 1592615511389,
     "user": {
      "displayName": "Matias Sanchez Gavier",
      "photoUrl": "https://lh3.googleusercontent.com/a-/AOh14GjD7hZiO5eInT5MTbCuYg7k5GwpkxEcRQM1Y9NQ2g=s64",
      "userId": "12001148323871082461"
     },
     "user_tz": 180
    },
    "id": "dz4hUQomHPzb",
    "outputId": "a08e3ea5-4e1e-4231-9910-7ac48685f3ea"
   },
   "outputs": [],
   "source": [
    "df.head()"
   ]
  },
  {
   "cell_type": "code",
   "execution_count": null,
   "metadata": {
    "colab": {
     "base_uri": "https://localhost:8080/",
     "height": 35
    },
    "colab_type": "code",
    "executionInfo": {
     "elapsed": 958,
     "status": "ok",
     "timestamp": 1592615513459,
     "user": {
      "displayName": "Matias Sanchez Gavier",
      "photoUrl": "https://lh3.googleusercontent.com/a-/AOh14GjD7hZiO5eInT5MTbCuYg7k5GwpkxEcRQM1Y9NQ2g=s64",
      "userId": "12001148323871082461"
     },
     "user_tz": 180
    },
    "id": "Q00xe3sIHPzd",
    "outputId": "7ee02f58-6db5-42ed-cfbb-f29aac00e9f4"
   },
   "outputs": [],
   "source": [
    "# Devuelve (filas, columnas)\n",
    "df.shape"
   ]
  },
  {
   "cell_type": "code",
   "execution_count": null,
   "metadata": {
    "colab": {
     "base_uri": "https://localhost:8080/",
     "height": 72
    },
    "colab_type": "code",
    "executionInfo": {
     "elapsed": 715,
     "status": "ok",
     "timestamp": 1592615514456,
     "user": {
      "displayName": "Matias Sanchez Gavier",
      "photoUrl": "https://lh3.googleusercontent.com/a-/AOh14GjD7hZiO5eInT5MTbCuYg7k5GwpkxEcRQM1Y9NQ2g=s64",
      "userId": "12001148323871082461"
     },
     "user_tz": 180
    },
    "id": "LELPs7saHPzg",
    "outputId": "bf3633ed-452e-4ed9-87af-0f27783a1bef"
   },
   "outputs": [],
   "source": [
    "#Lista de Columnas\n",
    "df.columns"
   ]
  },
  {
   "cell_type": "code",
   "execution_count": null,
   "metadata": {
    "colab": {
     "base_uri": "https://localhost:8080/",
     "height": 381
    },
    "colab_type": "code",
    "executionInfo": {
     "elapsed": 952,
     "status": "ok",
     "timestamp": 1592615517098,
     "user": {
      "displayName": "Matias Sanchez Gavier",
      "photoUrl": "https://lh3.googleusercontent.com/a-/AOh14GjD7hZiO5eInT5MTbCuYg7k5GwpkxEcRQM1Y9NQ2g=s64",
      "userId": "12001148323871082461"
     },
     "user_tz": 180
    },
    "id": "hE62uqToHPzi",
    "outputId": "3372e4ba-cb3a-4437-fada-ceed7bc8d830"
   },
   "outputs": [],
   "source": [
    "df.info()"
   ]
  },
  {
   "cell_type": "code",
   "execution_count": null,
   "metadata": {
    "colab": {
     "base_uri": "https://localhost:8080/",
     "height": 288
    },
    "colab_type": "code",
    "executionInfo": {
     "elapsed": 1153,
     "status": "ok",
     "timestamp": 1592615521501,
     "user": {
      "displayName": "Matias Sanchez Gavier",
      "photoUrl": "https://lh3.googleusercontent.com/a-/AOh14GjD7hZiO5eInT5MTbCuYg7k5GwpkxEcRQM1Y9NQ2g=s64",
      "userId": "12001148323871082461"
     },
     "user_tz": 180
    },
    "id": "yPJvfMmfHPzl",
    "outputId": "690bea39-2c85-4c78-9c58-55ef5a138dea"
   },
   "outputs": [],
   "source": [
    "#Estadísticas \n",
    "df.describe()"
   ]
  },
  {
   "cell_type": "markdown",
   "metadata": {
    "colab_type": "text",
    "id": "2Z3Lc-p-HPzv"
   },
   "source": [
    "### 🍧 Selección de Filas y Columnas  \n",
    "---"
   ]
  },
  {
   "cell_type": "markdown",
   "metadata": {
    "colab_type": "text",
    "id": "nxbbdyp5HPzw"
   },
   "source": [
    "####  Selección de  Columnas\n",
    "---"
   ]
  },
  {
   "cell_type": "code",
   "execution_count": null,
   "metadata": {
    "colab": {},
    "colab_type": "code",
    "id": "HjEmFXGvHPzw",
    "outputId": "0729ca69-e297-4308-ef4b-165440e0e0f7"
   },
   "outputs": [],
   "source": [
    "df[\"HP\"]"
   ]
  },
  {
   "cell_type": "code",
   "execution_count": null,
   "metadata": {},
   "outputs": [],
   "source": [
    "df.HP"
   ]
  },
  {
   "cell_type": "code",
   "execution_count": null,
   "metadata": {
    "colab": {},
    "colab_type": "code",
    "id": "VP5Im2irHPzy",
    "outputId": "f5e3a28f-d1ee-49d7-bf50-cb8d442e72a3"
   },
   "outputs": [],
   "source": [
    "#seleccion de multiples columnas\n",
    "df[[\"Attack\",\"Defense\"]].head()"
   ]
  },
  {
   "cell_type": "markdown",
   "metadata": {
    "colab_type": "text",
    "id": "3LR75gHdHPz1"
   },
   "source": [
    "#### Selección de  Filas\n",
    "---"
   ]
  },
  {
   "cell_type": "code",
   "execution_count": null,
   "metadata": {
    "colab": {},
    "colab_type": "code",
    "id": "CrjNGD9LHPz2",
    "outputId": "0c28bc40-3031-4e0d-d53c-5553dab99b57"
   },
   "outputs": [],
   "source": [
    "df.loc[0, :]"
   ]
  },
  {
   "cell_type": "code",
   "execution_count": null,
   "metadata": {
    "colab": {},
    "colab_type": "code",
    "id": "UB0Bg4QtHPz4",
    "outputId": "22c83036-d7e9-450c-b123-60eca058e27c"
   },
   "outputs": [],
   "source": [
    "df.loc[[0,4], \"Type 1\"] "
   ]
  },
  {
   "cell_type": "code",
   "execution_count": null,
   "metadata": {
    "colab": {},
    "colab_type": "code",
    "id": "D1TG0KuEHPz7",
    "outputId": "bf46cb31-efb9-4440-ba08-3c503393baff"
   },
   "outputs": [],
   "source": [
    "# le indicamos una columna para que sea el índice\n",
    "df.set_index(\"#\").head( )"
   ]
  },
  {
   "cell_type": "markdown",
   "metadata": {
    "colab_type": "text",
    "id": "73Y97HdEw0-c"
   },
   "source": [
    "El cambio que hicimos **no se guardo!** Esto es muy común con pandas.\n",
    "\n",
    "Cuando hacemos cambios que afectan el dataset los cambios no se suelen guardar. "
   ]
  },
  {
   "cell_type": "code",
   "execution_count": null,
   "metadata": {
    "colab": {},
    "colab_type": "code",
    "id": "6IKC0ezHw0-e",
    "outputId": "8390406c-5c08-4db3-c03f-ac72858e8e59"
   },
   "outputs": [],
   "source": [
    "df.head()"
   ]
  },
  {
   "cell_type": "markdown",
   "metadata": {
    "colab_type": "text",
    "id": "mebENn3Uw0-h"
   },
   "source": [
    "Para que los cambios tengan efecto permanente usamos el parámetro **inplace=True**"
   ]
  },
  {
   "cell_type": "code",
   "execution_count": null,
   "metadata": {
    "colab": {},
    "colab_type": "code",
    "id": "egaQQLBzHPz9"
   },
   "outputs": [],
   "source": [
    "df.set_index(\"Name\", inplace=True)"
   ]
  },
  {
   "cell_type": "code",
   "execution_count": null,
   "metadata": {
    "colab": {},
    "colab_type": "code",
    "id": "aRrygqrsw0-j",
    "outputId": "9d130979-8973-4943-fd24-668ab155f9cb"
   },
   "outputs": [],
   "source": [
    "df.head()"
   ]
  },
  {
   "cell_type": "markdown",
   "metadata": {
    "colab_type": "text",
    "id": "PYSkgLPjw0-l"
   },
   "source": [
    "**loc** Busca en base al nombre del índice."
   ]
  },
  {
   "cell_type": "code",
   "execution_count": null,
   "metadata": {
    "colab": {},
    "colab_type": "code",
    "id": "Vd4mFKCFHPz_",
    "outputId": "ab90d3d3-ca9c-40aa-895b-df5e1e36fbf1"
   },
   "outputs": [],
   "source": [
    "df.loc[\"Bulbasaur\", : ]"
   ]
  },
  {
   "cell_type": "code",
   "execution_count": null,
   "metadata": {
    "colab": {},
    "colab_type": "code",
    "id": "CxQwgOSLHP0D",
    "outputId": "6b913e9f-e086-411c-cf16-3dccf4fdb001"
   },
   "outputs": [],
   "source": [
    "df.loc[[\"Bulbasaur\",\"Ivysaur\"], :]"
   ]
  },
  {
   "cell_type": "code",
   "execution_count": null,
   "metadata": {
    "colab": {},
    "colab_type": "code",
    "id": "SPGDcXPyHP0F",
    "outputId": "e8727725-2998-4db0-f45c-17824c70c208"
   },
   "outputs": [],
   "source": [
    "df.iloc[0:4, :]"
   ]
  },
  {
   "cell_type": "markdown",
   "metadata": {
    "colab_type": "text",
    "id": "R7zY4sLxw0-u"
   },
   "source": [
    "**iloc** busca en términos de la posición , no le importa el nombre de los valores. "
   ]
  },
  {
   "cell_type": "markdown",
   "metadata": {
    "colab_type": "text",
    "id": "vo31om-IHP0N"
   },
   "source": [
    "#### 🍫  Selección Condicionada\n",
    "---"
   ]
  },
  {
   "cell_type": "markdown",
   "metadata": {
    "colab_type": "text",
    "id": "WAA51snKHP0N"
   },
   "source": [
    "Simbolos y su Sígnificado:\n",
    "  \n",
    "* No   **-**\n",
    "* Y   **&**\n",
    "* O   **|**\n",
    "* son iguales?    **==**\n",
    "* mayor, menor ... **>, <, >=, <=** \n"
   ]
  },
  {
   "cell_type": "code",
   "execution_count": null,
   "metadata": {
    "colab": {},
    "colab_type": "code",
    "id": "bRKzqh_-HP0N",
    "outputId": "c15a6502-abed-4432-9e6b-25d2318651c4"
   },
   "outputs": [],
   "source": [
    "df.loc[df[\"Type 1\"] == \"Grass\",  : ].head()"
   ]
  },
  {
   "cell_type": "code",
   "execution_count": null,
   "metadata": {
    "colab": {},
    "colab_type": "code",
    "id": "Bp7ibh7xHP0P",
    "outputId": "f911f4d3-2bb2-4be6-f148-5d9ead433016"
   },
   "outputs": [],
   "source": [
    "df.loc[(df[\"Type 1\"] == \"Grass\") & (df[\"HP\"]>=80), : ]"
   ]
  },
  {
   "cell_type": "code",
   "execution_count": null,
   "metadata": {
    "colab": {
     "base_uri": "https://localhost:8080/",
     "height": 189
    },
    "colab_type": "code",
    "executionInfo": {
     "elapsed": 861,
     "status": "error",
     "timestamp": 1593378658742,
     "user": {
      "displayName": "Matias Sanchez Gavier",
      "photoUrl": "https://lh3.googleusercontent.com/a-/AOh14GjD7hZiO5eInT5MTbCuYg7k5GwpkxEcRQM1Y9NQ2g=s64",
      "userId": "12001148323871082461"
     },
     "user_tz": 180
    },
    "id": "ivQbkb5bHP0S",
    "outputId": "d2e0347d-7d85-4edd-fdae-1826a8927ddf"
   },
   "outputs": [],
   "source": [
    "mask = (df[\"Type 1\"] == \"Grass\") & -(df[\"HP\"]>=80)\n",
    "df.loc[mask, :].head()"
   ]
  },
  {
   "cell_type": "code",
   "execution_count": null,
   "metadata": {
    "colab": {},
    "colab_type": "code",
    "id": "-szvB7diHP0U",
    "outputId": "86a1b45b-0628-4d86-e050-c9ce91a30db0"
   },
   "outputs": [],
   "source": [
    "mask =  (df[\"Type 1\"].isin([\"Grass\", \"Fire\"]))\n",
    "\n",
    "df.loc[ mask, : ]"
   ]
  },
  {
   "cell_type": "markdown",
   "metadata": {
    "colab_type": "text",
    "id": "a3WNr-AXHP0W"
   },
   "source": [
    "## 🐾 Resolver NaN \n",
    "---\n",
    "Significa Not a Number y en general representa valores desconocidos. \n",
    "\n",
    "Es importante que no haya NaN, ya que estos causan problemas."
   ]
  },
  {
   "cell_type": "markdown",
   "metadata": {
    "colab_type": "text",
    "id": "j4DvbeX6HP0W"
   },
   "source": [
    "Hay 3 opciones:\n",
    " - Eliminar filas con NaN\n",
    " - Eliminar Calumna con NaN\n",
    " - Reemplzar NaN con Otros Valores"
   ]
  },
  {
   "cell_type": "markdown",
   "metadata": {
    "colab_type": "text",
    "id": "-C_b7osbHP0X"
   },
   "source": [
    "### 🔊 Detectar NaN values"
   ]
  },
  {
   "cell_type": "code",
   "execution_count": null,
   "metadata": {
    "colab": {},
    "colab_type": "code",
    "id": "ezNCJIfyHP0X",
    "outputId": "38c50edd-6874-445a-8062-ac6df26db330"
   },
   "outputs": [],
   "source": [
    "# Primer Método\n",
    "df.info()"
   ]
  },
  {
   "cell_type": "code",
   "execution_count": null,
   "metadata": {
    "colab": {},
    "colab_type": "code",
    "id": "knKSRVtWHP0Z",
    "outputId": "b634304a-423f-4aef-c355-6776ad168429"
   },
   "outputs": [],
   "source": [
    "#Segundo  Método, Recomendado\n",
    "df.isnull().sum()"
   ]
  },
  {
   "cell_type": "code",
   "execution_count": null,
   "metadata": {},
   "outputs": [],
   "source": [
    "# Ordenamos de mayor a menor\n",
    "df.isna().sum().sort_values(ascending=False)"
   ]
  },
  {
   "cell_type": "markdown",
   "metadata": {
    "colab_type": "text",
    "id": "eyhS57olHP0d"
   },
   "source": [
    "### 📴 Eliminar NaN Values"
   ]
  },
  {
   "cell_type": "code",
   "execution_count": null,
   "metadata": {
    "colab": {},
    "colab_type": "code",
    "id": "PCTGDsqUHP0d",
    "outputId": "7b55e8b9-fca3-4654-ef40-c7ef86478df1"
   },
   "outputs": [],
   "source": [
    "#eliminar columna, no recomendado\n",
    "df.drop(\"Type 2\",axis=1).head()"
   ]
  },
  {
   "cell_type": "code",
   "execution_count": null,
   "metadata": {
    "colab": {},
    "colab_type": "code",
    "id": "rMvf5YUWHP0h",
    "outputId": "b11aeb21-6661-4c26-de29-13b52a64abba"
   },
   "outputs": [],
   "source": [
    "#Eliminar Filas, mejor que lo anterior\n",
    "y = df.dropna()\n",
    "print(y.shape, df.shape)"
   ]
  },
  {
   "cell_type": "code",
   "execution_count": null,
   "metadata": {
    "colab": {},
    "colab_type": "code",
    "id": "HmRf8rjVHP0i",
    "outputId": "6d61312b-5ce4-4e61-9590-76730e1fba09"
   },
   "outputs": [],
   "source": [
    "# Reemplzar valores NAn, la posta baby\n",
    "df.fillna(value=df[\"Type 2\"].mode(), inplace=True)"
   ]
  },
  {
   "cell_type": "code",
   "execution_count": null,
   "metadata": {},
   "outputs": [],
   "source": [
    "# Ordenamos de mayor a menor\n",
    "df.isna().sum().sort_values(ascending=False)"
   ]
  },
  {
   "cell_type": "markdown",
   "metadata": {
    "colab_type": "text",
    "id": "M4ZtgTWjw0_S"
   },
   "source": [
    "Los métodos más comunes para reemplzar NaN son :\n",
    "\n",
    "- Variables **Continuas** --> Media, Mediana, Modo\n",
    "\n",
    "\n",
    "- Variables **Categóricas** --> Modo, Su propia Categoría  NaN\n",
    "\n",
    "Tambíen se pueden usar modelos estadísticos para intentar predecir los valores desconocidos. "
   ]
  },
  {
   "cell_type": "markdown",
   "metadata": {
    "colab_type": "text",
    "id": "n7YwfNKTHP0k"
   },
   "source": [
    "##  💮  Operaciones \n",
    "---\n",
    "### Operaciones Básicas"
   ]
  },
  {
   "cell_type": "code",
   "execution_count": null,
   "metadata": {
    "colab": {},
    "colab_type": "code",
    "id": "W6ho9jt1HP0l",
    "outputId": "6233e69a-9642-45b9-9fc3-a57473819313"
   },
   "outputs": [],
   "source": [
    "df['Attack'].sum()"
   ]
  },
  {
   "cell_type": "code",
   "execution_count": null,
   "metadata": {
    "colab": {},
    "colab_type": "code",
    "id": "Cz86cQjNHP0n",
    "outputId": "5125b993-5080-4464-b4d2-e62c23b5be49"
   },
   "outputs": [],
   "source": [
    "df.sort_values(by='Type 1').head( )"
   ]
  },
  {
   "cell_type": "code",
   "execution_count": null,
   "metadata": {
    "colab": {},
    "colab_type": "code",
    "id": "byGS3E1gHP0r",
    "outputId": "2fa8a35c-9706-402f-ade2-a454e97751df"
   },
   "outputs": [],
   "source": [
    "df.mean()"
   ]
  },
  {
   "cell_type": "code",
   "execution_count": null,
   "metadata": {
    "colab": {},
    "colab_type": "code",
    "id": "IbqyIlOjHP0t",
    "outputId": "17b4e74d-26c2-41b4-9a82-aaf88230028a"
   },
   "outputs": [],
   "source": [
    "df.std()"
   ]
  },
  {
   "cell_type": "markdown",
   "metadata": {
    "colab_type": "text",
    "id": "K6wZ6uYxw0_e"
   },
   "source": [
    "###  🧱   Operaciones entre Columnas"
   ]
  },
  {
   "cell_type": "code",
   "execution_count": null,
   "metadata": {
    "colab": {},
    "colab_type": "code",
    "id": "lDPQEBGmw0_e",
    "outputId": "48846f4f-bed9-4817-d76e-6350f7f63360"
   },
   "outputs": [],
   "source": [
    "df[\"Poder\"] = df[\"HP\"]*(1/3) + df[\"Attack\"]*(2/3)\n",
    "df[\"Poder\"] = round(df[\"Poder\"])\n",
    "df.head()"
   ]
  },
  {
   "cell_type": "code",
   "execution_count": null,
   "metadata": {},
   "outputs": [],
   "source": [
    "# valor Z !\n",
    "df[\"Z_HP\"] =  (df[\"HP\"] - df[\"HP\"].mean()) / df[\"HP\"].std()\n",
    "df.head()"
   ]
  },
  {
   "cell_type": "markdown",
   "metadata": {
    "colab_type": "text",
    "id": "KsAezLQvHP0v"
   },
   "source": [
    "### 🔦 Info en valores únicos "
   ]
  },
  {
   "cell_type": "code",
   "execution_count": null,
   "metadata": {
    "colab": {},
    "colab_type": "code",
    "id": "4fR9sv-nHP0w",
    "outputId": "e1aea4f7-8feb-4a61-b996-874bc959b44f"
   },
   "outputs": [],
   "source": [
    "#Valores únicos\n",
    "df[\"Type 1\"].unique()"
   ]
  },
  {
   "cell_type": "code",
   "execution_count": null,
   "metadata": {
    "colab": {},
    "colab_type": "code",
    "id": "M4yZvzmGHP0y",
    "outputId": "40acdf52-63f0-41f3-ea9e-41ecdc5047d4"
   },
   "outputs": [],
   "source": [
    "#Cantidad de Valores únicos\n",
    "df['Type 1'].nunique()"
   ]
  },
  {
   "cell_type": "code",
   "execution_count": null,
   "metadata": {
    "colab": {},
    "colab_type": "code",
    "id": "ZxPOfBORHP02",
    "outputId": "17ee57ab-3cc2-4d51-e54f-908aa6e023bc"
   },
   "outputs": [],
   "source": [
    "#Frecuencia Absoluta \n",
    "df['Type 1'].value_counts()"
   ]
  },
  {
   "cell_type": "markdown",
   "metadata": {
    "colab_type": "text",
    "id": "Hxoo18fIHP07"
   },
   "source": [
    "###  🛠️  Funciones aplicadas a las columnas\n",
    "\n",
    "Vamos a usar el método **apply()**, el cual toma como input una función. La idea es que se va a ejecutar a cada elemento. "
   ]
  },
  {
   "cell_type": "code",
   "execution_count": null,
   "metadata": {
    "colab": {},
    "colab_type": "code",
    "id": "hmXURGzOHP07"
   },
   "outputs": [],
   "source": [
    "def times2(x):\n",
    "    return x*2"
   ]
  },
  {
   "cell_type": "code",
   "execution_count": null,
   "metadata": {
    "colab": {},
    "colab_type": "code",
    "id": "CR3AZrT5HP09",
    "outputId": "b02b680e-cf2a-406e-8e5b-90abe62c9ce1"
   },
   "outputs": [],
   "source": [
    "df[\"Attack_x2\"] = df['Attack'].apply(times2)\n",
    "df.head()"
   ]
  },
  {
   "cell_type": "code",
   "execution_count": null,
   "metadata": {
    "colab": {},
    "colab_type": "code",
    "id": "KyPpE6Z4HP0_",
    "outputId": "4665b091-0bb2-4e99-a92d-beb75d7442c8"
   },
   "outputs": [],
   "source": [
    "df[\"Type 1\"].apply(len)"
   ]
  },
  {
   "cell_type": "markdown",
   "metadata": {
    "colab_type": "text",
    "id": "6CoigPAMHP1B"
   },
   "source": [
    "## 🛡️  Group By\n",
    "----\n",
    "Agrupar para hacer operaciones o funciones sobre un conjunto de variables categóricas.\n",
    "\n",
    "Group By **se aplica a variables categóricas** "
   ]
  },
  {
   "cell_type": "code",
   "execution_count": null,
   "metadata": {},
   "outputs": [],
   "source": [
    "df[\"Type 1\"].unique()"
   ]
  },
  {
   "cell_type": "code",
   "execution_count": null,
   "metadata": {
    "colab": {},
    "colab_type": "code",
    "id": "YdHPtNM-HP1B",
    "outputId": "86c0861d-a1b2-4b31-d395-f636f5633da7"
   },
   "outputs": [],
   "source": [
    "#Group By por si solo no hace nada\n",
    "df_group = df.groupby(\"Type 1\")\n",
    "df_group"
   ]
  },
  {
   "cell_type": "code",
   "execution_count": null,
   "metadata": {},
   "outputs": [],
   "source": [
    "# Devuelve la media para cada variable \n",
    "df_group.mean()"
   ]
  },
  {
   "cell_type": "code",
   "execution_count": null,
   "metadata": {},
   "outputs": [],
   "source": [
    "df_group.mean()[\"Attack\"].sort_values(ascending=False)"
   ]
  },
  {
   "cell_type": "code",
   "execution_count": null,
   "metadata": {
    "colab": {},
    "colab_type": "code",
    "id": "xPsSXOuqHP1C",
    "outputId": "81047e6a-8463-46a2-88c2-5341f51e7d36"
   },
   "outputs": [],
   "source": [
    "df_group.std()[\"Attack\"]"
   ]
  },
  {
   "cell_type": "code",
   "execution_count": null,
   "metadata": {
    "colab": {},
    "colab_type": "code",
    "id": "aji8vSOIHP1F",
    "outputId": "7b1f33eb-ed4c-4a1f-ac04-37ce9d3ef662"
   },
   "outputs": [],
   "source": [
    "df_group.describe()[\"HP\"]"
   ]
  },
  {
   "cell_type": "markdown",
   "metadata": {
    "colab_type": "text",
    "id": "pUD8MWD8HP1J"
   },
   "source": [
    "Otras operaciones summary son:\n",
    "- .min()\n",
    "- .max()\n",
    "- .count()\n",
    "- .idxmax()\n",
    "- .idxmin()\n",
    "- .quantile()"
   ]
  },
  {
   "cell_type": "markdown",
   "metadata": {},
   "source": [
    "### Operaciones Summary\n",
    "---\n",
    "Estas son algunas de las funciones que se aplican cuando usamos la **función describe()**\n"
   ]
  },
  {
   "cell_type": "code",
   "execution_count": null,
   "metadata": {},
   "outputs": [],
   "source": [
    "print(df[\"Attack\"].min()) # Minimo\n",
    "print(df[\"Attack\"].max()) # Maximo\n",
    "print(df[\"Attack\"].count()) # Cantidad\n",
    "print(df[\"Attack\"].idxmax()) # El índice del valor máximo\n",
    "print(df[\"Attack\"].idxmin()) # El índice del valor mínimo\n",
    "print(df[\"Attack\"].quantile([.25,.5,.75])) # Los quantiles"
   ]
  },
  {
   "cell_type": "markdown",
   "metadata": {
    "colab_type": "text",
    "id": "mUzj3v21HP1K"
   },
   "source": [
    "## 🧷 Concadenar Dataframes\n",
    "---"
   ]
  },
  {
   "cell_type": "markdown",
   "metadata": {
    "colab_type": "text",
    "id": "97WFB7hxHP1K"
   },
   "source": [
    "Se puede Armar Dataframes a partir de Diccionarios "
   ]
  },
  {
   "cell_type": "code",
   "execution_count": null,
   "metadata": {
    "colab": {},
    "colab_type": "code",
    "id": "hjJ2jUVtHP1L"
   },
   "outputs": [],
   "source": [
    "df1 = pd.DataFrame({'A': ['A0', 'A1', 'A2', 'A3'],\n",
    "                        'B': ['B0', 'B1', 'B2', 'B3'],\n",
    "                        'C': ['C0', 'C1', 'C2', 'C3'],\n",
    "                        'D': ['D0', 'D1', 'D2', 'D3']},\n",
    "                        index=[0, 1, 2, 3])"
   ]
  },
  {
   "cell_type": "code",
   "execution_count": null,
   "metadata": {
    "colab": {},
    "colab_type": "code",
    "id": "PeithGTpHP1O"
   },
   "outputs": [],
   "source": [
    "df2 = pd.DataFrame({'A': ['A4', 'A5', 'A6', 'A7'],\n",
    "                        'B': ['B4', 'B5', 'B6', 'B7'],\n",
    "                        'C': ['C4', 'C5', 'C6', 'C7'],\n",
    "                        'D': ['D4', 'D5', 'D6', 'D7']},\n",
    "                         index=[4, 5, 6, 7]) "
   ]
  },
  {
   "cell_type": "code",
   "execution_count": null,
   "metadata": {
    "colab": {},
    "colab_type": "code",
    "id": "WSE5DwbQHP1Q",
    "outputId": "eac91167-dd62-44b6-80fe-1c58c062eb4d"
   },
   "outputs": [],
   "source": [
    "pd.concat([df1,df2]) # stockean como blockes de lego"
   ]
  },
  {
   "cell_type": "code",
   "execution_count": null,
   "metadata": {
    "colab": {},
    "colab_type": "code",
    "id": "8h6P-F0yHP1T",
    "outputId": "aa0bfb33-17ba-4d9b-99bf-461e191a54de"
   },
   "outputs": [],
   "source": [
    "pd.concat([df1,df2], axis=1) #Por Default axis=0, se acumulan a la derecha"
   ]
  },
  {
   "cell_type": "markdown",
   "metadata": {},
   "source": [
    "###  Funciones Con Pandas! WOW\n",
    "---\n",
    "Vamos a ver como crear funciones para automtizar nuestro laburo"
   ]
  },
  {
   "cell_type": "code",
   "execution_count": null,
   "metadata": {},
   "outputs": [],
   "source": [
    "def obtener_Z(df, columna):\n",
    "    # valor Z !\n",
    "    df2 = pd.DataFrame([])\n",
    "    df2[f\"Z_{columna}\"] =  (df[columna] - df[columna].mean()) / df[columna].std()\n",
    "    return df2\n",
    "\n",
    "obtener_Z(df, \"Attack\")"
   ]
  },
  {
   "cell_type": "code",
   "execution_count": null,
   "metadata": {},
   "outputs": [],
   "source": [
    "# Sacamos los valores Z para Attack \n",
    "\n",
    "Z_attack = obtener_Z(df, \"Attack\")\n",
    "\n",
    "pd.concat([df, Z_attack ], axis=1)"
   ]
  },
  {
   "cell_type": "markdown",
   "metadata": {},
   "source": [
    "###  Intervalos de Clase\n",
    "---\n",
    "\n",
    "La idea es transformar las variables continuas en discretas, poniendolas en contenedores."
   ]
  },
  {
   "cell_type": "code",
   "execution_count": null,
   "metadata": {},
   "outputs": [],
   "source": [
    "# Con Cut le indicamos cuanto contenedores queremos\n",
    "pd.cut(df[\"Attack\"], bins=13)"
   ]
  },
  {
   "cell_type": "code",
   "execution_count": null,
   "metadata": {},
   "outputs": [],
   "source": [
    "# qcut se Basa en quantiles \n",
    "df[\"Ataque_IC\"] = pd.qcut(df[\"Attack\"],[0,0.25,0.5,0.75,1])\n",
    "df[\"Ataque_IC\"]"
   ]
  },
  {
   "cell_type": "markdown",
   "metadata": {},
   "source": [
    "###  Dummy Variables\n",
    "---\n",
    "Es la forma de Transformar variables en discretas en valores numéricos.\n",
    "\n",
    "\n",
    "La variable toma 1 si se cumple la condición y 0 en caso que no."
   ]
  },
  {
   "cell_type": "code",
   "execution_count": null,
   "metadata": {},
   "outputs": [],
   "source": [
    "pd.get_dummies(data = df, columns=[\"Legendary\"], prefix=\"Leg_Dummy\", drop_first=True )"
   ]
  },
  {
   "cell_type": "code",
   "execution_count": null,
   "metadata": {},
   "outputs": [],
   "source": [
    "pd.get_dummies(data = df, columns=[\"Ataque_IC\"], drop_first=True )"
   ]
  },
  {
   "cell_type": "code",
   "execution_count": null,
   "metadata": {},
   "outputs": [],
   "source": [
    "pd.get_dummies(data = df, columns=[\"Type 1\"], drop_first=True )"
   ]
  },
  {
   "cell_type": "markdown",
   "metadata": {},
   "source": [
    "### Funciones relacionadas al Texto\n",
    "---\n",
    "En general vamos a usar **.str** para indicar que vamos a usar una función relacionada a las strings. "
   ]
  },
  {
   "cell_type": "code",
   "execution_count": null,
   "metadata": {},
   "outputs": [],
   "source": [
    "df.reset_index() #Volver al índice Orinigal"
   ]
  },
  {
   "cell_type": "code",
   "execution_count": null,
   "metadata": {},
   "outputs": [],
   "source": [
    "df[\"Type 2\"].str.lower()"
   ]
  },
  {
   "cell_type": "code",
   "execution_count": null,
   "metadata": {},
   "outputs": [],
   "source": [
    "mask = df[\"Type 2\"].str.contains(\"Poison\")\n",
    "\n",
    "df.loc[mask,:].head()"
   ]
  },
  {
   "cell_type": "markdown",
   "metadata": {},
   "source": [
    "### Cambiar los nombres de Columna \n",
    "---\n",
    "Vamos a usar la función **rename()**."
   ]
  },
  {
   "cell_type": "code",
   "execution_count": null,
   "metadata": {},
   "outputs": [],
   "source": [
    "df.rename(columns = {'Type 1':'Tipo 1', \"Type 2\": \"Tipo 2\"}, inplace=True)\n",
    "df.head()"
   ]
  },
  {
   "cell_type": "code",
   "execution_count": null,
   "metadata": {},
   "outputs": [],
   "source": [
    "df.columns"
   ]
  },
  {
   "cell_type": "code",
   "execution_count": null,
   "metadata": {},
   "outputs": [],
   "source": [
    "df.columns = [x.lower() for x in df.columns]\n",
    "df"
   ]
  },
  {
   "cell_type": "markdown",
   "metadata": {},
   "source": [
    "### Exportando Archivos\n",
    "---"
   ]
  },
  {
   "cell_type": "code",
   "execution_count": null,
   "metadata": {
    "colab": {},
    "colab_type": "code",
    "id": "kXbNO0R8HP1b"
   },
   "outputs": [],
   "source": [
    "#Exportando a CSV\n",
    "df1.to_csv('Ejemplo.csv',index=False)\n",
    "#Exportando a Excel\n",
    "df1.to_excel(\"excel_df.xlsx\", index=False)"
   ]
  },
  {
   "cell_type": "code",
   "execution_count": null,
   "metadata": {
    "colab": {},
    "colab_type": "code",
    "id": "kqE1o2e3HP1e",
    "outputId": "9267bc81-83ef-4988-8b84-402fb7491f81"
   },
   "outputs": [],
   "source": [
    "pd.read_csv(\"Ejemplo.csv\")"
   ]
  },
  {
   "cell_type": "markdown",
   "metadata": {
    "colab_type": "text",
    "id": "OyeV4eQeHP1f"
   },
   "source": [
    "# Felicitaciones por completar esta parte!  "
   ]
  }
 ],
 "metadata": {
  "colab": {
   "collapsed_sections": [
    "K6wZ6uYxw0_e",
    "KsAezLQvHP0v",
    "Hxoo18fIHP07"
   ],
   "name": "Introducción a Pandas.ipynb",
   "provenance": [],
   "toc_visible": true
  },
  "kernelspec": {
   "display_name": "Python 3",
   "language": "python",
   "name": "python3"
  },
  "language_info": {
   "codemirror_mode": {
    "name": "ipython",
    "version": 3
   },
   "file_extension": ".py",
   "mimetype": "text/x-python",
   "name": "python",
   "nbconvert_exporter": "python",
   "pygments_lexer": "ipython3",
   "version": "3.7.4"
  }
 },
 "nbformat": 4,
 "nbformat_minor": 1
}
