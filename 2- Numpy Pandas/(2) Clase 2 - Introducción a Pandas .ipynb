{
 "cells": [
  {
   "cell_type": "markdown",
   "metadata": {
    "colab_type": "text",
    "id": "orDXdpZ1HPzF"
   },
   "source": [
    "# 🐼 Pandas\n",
    "## La Libreria de Manejo de Datos\n",
    "\n"
   ]
  },
  {
   "cell_type": "markdown",
   "metadata": {
    "colab_type": "text",
    "id": "WEJvvMYl8mDn"
   },
   "source": [
    "---\n",
    "**Autores de la Notebook:** \n",
    "\n",
    "\n",
    "* [Matias Sanchez Gavier ](https://matias-online.netlify.app/)  🧛\n",
    "*   [Matias Moris](https://www.linkedin.com/in/matias-moris-6041337b/) ⚽\n",
    "* [Anotonio Marrazzo](https://www.linkedin.com/in/antonio-marrazzo-40b3491a2/) 🏆\n",
    "\n",
    "---\n"
   ]
  },
  {
   "cell_type": "markdown",
   "metadata": {
    "colab_type": "text",
    "id": "QLZCYB-aHPzH"
   },
   "source": [
    "\n",
    "<img src=\"https://upload.wikimedia.org/wikipedia/commons/thumb/e/ed/Pandas_logo.svg/1200px-Pandas_logo.svg.png\" alt=\"Drawing\" style=\"width: 350px;\"/>\n"
   ]
  },
  {
   "cell_type": "markdown",
   "metadata": {
    "colab_type": "text",
    "id": "2SeckBlEHPzI"
   },
   "source": [
    "\n",
    "\n",
    "En esta clase vamos a aprender como usar la libreria de pandas para análisis de datos. Podes pensar a Pandas como una versión extremadamente poderosa de Excel, con un monton más de posibilidades. Los Temas que vamos a ver son los siguientes:\n",
    "\n",
    "__Crognograma__\n",
    "\n",
    "* Librerias\n",
    "* Manejo de Directorio (OS)\n",
    "* Análisis Introductorio\n",
    "* Selección de Filas y Columnas\n",
    "* Filtering, Selección Condicionada\n",
    "* Reslover NaN Values\n",
    "* Operaciones con DataFrames\n",
    "* Concadenar\n",
    "* Exportar Archivos \n",
    "* Gráficos con Pandas\n",
    "***"
   ]
  },
  {
   "cell_type": "markdown",
   "metadata": {
    "colab_type": "text",
    "id": "78_VXAAmHPzJ"
   },
   "source": [
    "Para más información acerca de pandas  te recomendamos que visites estas páginas: \n",
    "- [User Guide Pandas]( https://pandas.pydata.org/docs/user_guide/index.html)\n",
    "\n",
    "- [Tutorial Pandas ](https://pandas.pydata.org/docs/getting_started/intro_tutorials/01_table_oriented.html)"
   ]
  },
  {
   "cell_type": "markdown",
   "metadata": {
    "colab_type": "text",
    "id": "ENxFHZv4HPzK"
   },
   "source": [
    "## 📕 Introducción a las Librerias\n",
    "---\n",
    "Las librerias son básicamente código externo que podemos utilizar. Esto es clave y es una de la razones para usar python. Mientras más famoso un lenguaje mejores librerias uno dispone.  **Pandas es una libreria** que se centra en el manejo de datos, y es lo que vamos a explorar en este notebook . A continuación instalamos algunas librerias. \n",
    "\n"
   ]
  },
  {
   "cell_type": "code",
   "execution_count": null,
   "metadata": {
    "colab": {},
    "colab_type": "code",
    "id": "xOXq0n0yHPzK",
    "outputId": "42d72dd0-3afb-48eb-f7a3-17a325f7bc26"
   },
   "outputs": [
    {
     "name": "stdout",
     "output_type": "stream",
     "text": [
      "Requirement already satisfied: numpy in c:\\users\\matias\\anaconda3\\lib\\site-packages (1.16.5)\n",
      "Requirement already satisfied: pandas in c:\\users\\matias\\anaconda3\\lib\\site-packages (1.0.4)\n",
      "Requirement already satisfied: numpy>=1.13.3 in c:\\users\\matias\\anaconda3\\lib\\site-packages (from pandas) (1.16.5)\n",
      "Requirement already satisfied: pytz>=2017.2 in c:\\users\\matias\\anaconda3\\lib\\site-packages (from pandas) (2019.3)\n",
      "Requirement already satisfied: python-dateutil>=2.6.1 in c:\\users\\matias\\anaconda3\\lib\\site-packages (from pandas) (2.8.0)\n",
      "Requirement already satisfied: six>=1.5 in c:\\users\\matias\\anaconda3\\lib\\site-packages (from python-dateutil>=2.6.1->pandas) (1.12.0)\n"
     ]
    }
   ],
   "source": [
    "#Instalar si es necesario \n",
    "# Formato: !pip install Nombre_de_libreria\n",
    "!pip install numpy\n",
    "!pip install pandas "
   ]
  },
  {
   "cell_type": "markdown",
   "metadata": {
    "colab_type": "text",
    "id": "OuGnNBW79Fcx"
   },
   "source": [
    "El símbolo **!**  permite ejecutar como si estubieras en la terminal. "
   ]
  },
  {
   "cell_type": "markdown",
   "metadata": {
    "colab_type": "text",
    "id": "Z90NTbpOMESl"
   },
   "source": [
    "### ☎️ Importar librerias\n",
    "\n",
    "---\n",
    "\n",
    "Hay varias formas de importar, pero en general cada librería tiene una forma **tradicional o popular** de importarse, en el sentido de que la mayoría de la gente lo hace de la misma forma. "
   ]
  },
  {
   "cell_type": "code",
   "execution_count": 2,
   "metadata": {
    "colab": {},
    "colab_type": "code",
    "id": "ufMmgW38MJJi"
   },
   "outputs": [],
   "source": [
    "# Importando pandas y numpy\n",
    "import pandas as pd\n",
    "import numpy as np"
   ]
  },
  {
   "cell_type": "markdown",
   "metadata": {
    "colab_type": "text",
    "id": "Aky6ZH7KHPzW"
   },
   "source": [
    "## 📁  Lectura de Archivos\n",
    "---"
   ]
  },
  {
   "cell_type": "markdown",
   "metadata": {
    "colab_type": "text",
    "id": "vMkFK3ThPE4D"
   },
   "source": [
    "Vamos a utilizar el archivo pokemon.csv del github. Vamos a utilizar la función **read_csv()**, hay dos formas de indicarle que archivo leer:\n",
    "\n",
    "*   Dar un link al archivo csv\n",
    "*   Indicar el \"path\" al archivo en nuestra computadora\n",
    "\n",
    "Si uno esta usando colab se esta manejando con la compu de google, la nuestra no la registra google.  \n",
    "\n"
   ]
  },
  {
   "cell_type": "code",
   "execution_count": 3,
   "metadata": {
    "colab": {},
    "colab_type": "code",
    "id": "BOeLi4QNHPzX"
   },
   "outputs": [],
   "source": [
    "#Leer con URL \n",
    "url = \"https://raw.githubusercontent.com/sanchezgaviermatias/Curso-Python/master/2-%20Numpy%20Pandas/delitos_2019.csv\"\n",
    "df = pd.read_csv(url)"
   ]
  },
  {
   "cell_type": "markdown",
   "metadata": {
    "colab_type": "text",
    "id": "KNAPs7T9HPzZ"
   },
   "source": [
    "CSV es un tipo especial de archivo. Otros tipos de archivos comunes son: \n",
    "- JSON Files\n",
    "- HTML Files\n",
    "- SQL Files\n",
    "\n",
    "Puede probar **pd.read**  y apretar tab para ver otras opciones (en Colab solo tiene que esperar y le va a aparecer mas opciones)."
   ]
  },
  {
   "cell_type": "code",
   "execution_count": null,
   "metadata": {
    "colab": {},
    "colab_type": "code",
    "id": "47EXbqLox_Bb"
   },
   "outputs": [],
   "source": [
    "# Ejemplos de funciones para leer datos:\n",
    "#pd.read_csv()\n",
    "#pd.read_excel()\n",
    "#pd.read_html()\n",
    "#pd.read_json()\n",
    "#pd.read_sql()\n",
    "#pd.read_sas()\n",
    "#pd.read_pickle()"
   ]
  },
  {
   "cell_type": "markdown",
   "metadata": {
    "colab_type": "text",
    "id": "BNrxSGF4RtjX"
   },
   "source": [
    "### 🗂️ Manejo de Archivos  (Solo usuarios en Colab)\n",
    "---"
   ]
  },
  {
   "cell_type": "code",
   "execution_count": null,
   "metadata": {
    "colab": {},
    "colab_type": "code",
    "id": "tvaryenvPQIm"
   },
   "outputs": [],
   "source": [
    "#Inidica los archivos en el directorio actual\n",
    "!ls "
   ]
  },
  {
   "cell_type": "code",
   "execution_count": null,
   "metadata": {
    "colab": {},
    "colab_type": "code",
    "id": "GD7wsncTOzsc"
   },
   "outputs": [],
   "source": [
    "# En google colab puede subir archivos con esta función\n",
    "from google.colab import files\n",
    "uploaded = files.upload()"
   ]
  },
  {
   "cell_type": "markdown",
   "metadata": {
    "colab_type": "text",
    "id": "6rnPOkiaypdV"
   },
   "source": [
    "### 📀  Libreria OS (Opcional)\n",
    "---\n",
    "Una libreria que le puede interesar para el manejo de Directorios y Paths (Carpetas) es la libreria OS, para mas  infor visite: \n",
    "- [Tutorial - OS](https://stackabuse.com/introduction-to-python-os-module/)\n",
    "- [Youtube - OS ](https://www.youtube.com/watch?v=tJxcKyFMTGo)\n",
    "\n",
    "Es como usar la **terminal de la computadora**.\n",
    "Se suele ver cuando se ve notebooks o proyectos de otras personas. "
   ]
  },
  {
   "cell_type": "code",
   "execution_count": null,
   "metadata": {
    "colab": {
     "base_uri": "https://localhost:8080/",
     "height": 108
    },
    "colab_type": "code",
    "executionInfo": {
     "elapsed": 2511,
     "status": "ok",
     "timestamp": 1593993691406,
     "user": {
      "displayName": "Matias Sanchez Gavier",
      "photoUrl": "https://lh3.googleusercontent.com/a-/AOh14GjD7hZiO5eInT5MTbCuYg7k5GwpkxEcRQM1Y9NQ2g=s64",
      "userId": "12001148323871082461"
     },
     "user_tz": 180
    },
    "id": "cDEgRRSMysbw",
    "outputId": "7f292ebb-8b18-4909-c4b0-f22932996cff"
   },
   "outputs": [
    {
     "name": "stdout",
     "output_type": "stream",
     "text": [
      "/content\n",
      "['.config', 'sample_data']\n",
      "['.config', 'carpeta', 'sample_data']\n",
      "[]\n",
      "['.config', 'carpeta', 'sample_data']\n"
     ]
    }
   ],
   "source": [
    "#Principales Usos:\n",
    "import os \n",
    "\n",
    "# Directorio Actual\n",
    "print(os.getcwd()) \n",
    "\n",
    "\n",
    "# Mostrar Archivos en el directorio Actual\n",
    "print(os.listdir())\n",
    "\n",
    "# crear carpeta\n",
    "os.mkdir('carpeta')\n",
    "print(os.listdir())\n",
    "\n",
    "#Cambiar Directorio \n",
    "os.chdir('carpeta')\n",
    "print(os.listdir())\n",
    "\n",
    "# Cambiar Directorio\n",
    "os.chdir(\"../\")\n",
    "print(os.listdir())\n",
    "\n",
    "\n",
    "# Elimino la Carpeta \n",
    "os.rmdir('carpeta')"
   ]
  },
  {
   "cell_type": "markdown",
   "metadata": {
    "colab_type": "text",
    "id": "37c26OxU6tNE"
   },
   "source": [
    "La función **walk()** de la libreria os realiza un \"search\" de arriba hacia abajo de todo el sistema de archivos, partiendo desde el path que le indicas. Devuelve un tuple de tamaño 3 indicando el path (dirección), directorios(Carpetas) en ese path, y archivos en ese path, sucesivamente hasta que llega a la útlima carpeta.\n"
   ]
  },
  {
   "cell_type": "code",
   "execution_count": null,
   "metadata": {
    "colab": {},
    "colab_type": "code",
    "id": "F5hdxysI6UmX"
   },
   "outputs": [],
   "source": [
    "for dirpath, dirnames, filnames in os.walk(os.getcwd()):\n",
    "  print(f\"directorio: {dirpath}\")\n",
    "  print(f\"Carpetas: {dirnames}\")\n",
    "  print(f\"filnames:{filnames}\")\n",
    "  print()"
   ]
  },
  {
   "cell_type": "markdown",
   "metadata": {
    "colab_type": "text",
    "id": "mg1ZlhZ5HPza"
   },
   "source": [
    "## 📹 Análisis Introductorio\n",
    "---"
   ]
  },
  {
   "cell_type": "markdown",
   "metadata": {},
   "source": [
    "### Funciones escenciales para reconocer la data que vamos a manejar:\n",
    "\n",
    "* **Head**: Por default te devuelve las 5 primerias filas de nuestros data set (el encabezado). si usaramos la funcion .tail() nos mostraria las ultimas 5\n",
    "* **Shape**: por cuantas filas y columnas esta compuesto nuestro data set\n",
    "* **Info**: Nos devuelve columna por columna, cual es su 'Type' y cuantos datos son No Nulos. Tambien nos da informacion sobre cuanta memoria RAM estamos utilizando para correr este set de datos\n",
    "* **Columns**: lista de todas nuestras columnas separadas por ,\n",
    "* **Describe**: Nos devuelve informacion de estadistica descriptiva de todas las columnas numericas (cantidad de registros no nulos, media, desvio, cuantiles, etc)\n",
    "\n"
   ]
  },
  {
   "cell_type": "code",
   "execution_count": 148,
   "metadata": {
    "colab": {},
    "colab_type": "code",
    "id": "dz4hUQomHPzb",
    "outputId": "8c52a98a-c511-4bcb-8fa9-9650bf950685"
   },
   "outputs": [
    {
     "data": {
      "text/html": [
       "<div>\n",
       "<style scoped>\n",
       "    .dataframe tbody tr th:only-of-type {\n",
       "        vertical-align: middle;\n",
       "    }\n",
       "\n",
       "    .dataframe tbody tr th {\n",
       "        vertical-align: top;\n",
       "    }\n",
       "\n",
       "    .dataframe thead th {\n",
       "        text-align: right;\n",
       "    }\n",
       "</style>\n",
       "<table border=\"1\" class=\"dataframe\">\n",
       "  <thead>\n",
       "    <tr style=\"text-align: right;\">\n",
       "      <th></th>\n",
       "      <th>id</th>\n",
       "      <th>fecha</th>\n",
       "      <th>franja_horaria</th>\n",
       "      <th>tipo_delito</th>\n",
       "      <th>subtipo_delito</th>\n",
       "      <th>cantidad_registrada</th>\n",
       "      <th>comuna</th>\n",
       "      <th>barrio</th>\n",
       "      <th>lat</th>\n",
       "      <th>long</th>\n",
       "    </tr>\n",
       "  </thead>\n",
       "  <tbody>\n",
       "    <tr>\n",
       "      <th>0</th>\n",
       "      <td>374556</td>\n",
       "      <td>2019-01-01</td>\n",
       "      <td>12</td>\n",
       "      <td>Lesiones</td>\n",
       "      <td>Siniestro Vial</td>\n",
       "      <td>1.0</td>\n",
       "      <td>4.0</td>\n",
       "      <td>Nueva Pompeya</td>\n",
       "      <td>-34.648387</td>\n",
       "      <td>-58.404748</td>\n",
       "    </tr>\n",
       "    <tr>\n",
       "      <th>1</th>\n",
       "      <td>426152</td>\n",
       "      <td>2019-01-01</td>\n",
       "      <td>6</td>\n",
       "      <td>Robo (con violencia)</td>\n",
       "      <td>NaN</td>\n",
       "      <td>1.0</td>\n",
       "      <td>9.0</td>\n",
       "      <td>Liniers</td>\n",
       "      <td>-34.649827</td>\n",
       "      <td>-58.513859</td>\n",
       "    </tr>\n",
       "    <tr>\n",
       "      <th>2</th>\n",
       "      <td>371604</td>\n",
       "      <td>2019-01-01</td>\n",
       "      <td>8</td>\n",
       "      <td>Lesiones</td>\n",
       "      <td>Siniestro Vial</td>\n",
       "      <td>1.0</td>\n",
       "      <td>15.0</td>\n",
       "      <td>Chacarita</td>\n",
       "      <td>-34.588108</td>\n",
       "      <td>-58.439392</td>\n",
       "    </tr>\n",
       "    <tr>\n",
       "      <th>3</th>\n",
       "      <td>425359</td>\n",
       "      <td>2019-01-01</td>\n",
       "      <td>16</td>\n",
       "      <td>Hurto (sin violencia)</td>\n",
       "      <td>Hurto Automotor</td>\n",
       "      <td>1.0</td>\n",
       "      <td>10.0</td>\n",
       "      <td>Floresta</td>\n",
       "      <td>-34.631877</td>\n",
       "      <td>-58.483975</td>\n",
       "    </tr>\n",
       "    <tr>\n",
       "      <th>4</th>\n",
       "      <td>437571</td>\n",
       "      <td>2019-01-01</td>\n",
       "      <td>2</td>\n",
       "      <td>Robo (con violencia)</td>\n",
       "      <td>Robo Automotor</td>\n",
       "      <td>1.0</td>\n",
       "      <td>4.0</td>\n",
       "      <td>Parque Patricios</td>\n",
       "      <td>-34.633161</td>\n",
       "      <td>-58.397123</td>\n",
       "    </tr>\n",
       "  </tbody>\n",
       "</table>\n",
       "</div>"
      ],
      "text/plain": [
       "       id       fecha franja_horaria            tipo_delito   subtipo_delito  \\\n",
       "0  374556  2019-01-01             12               Lesiones   Siniestro Vial   \n",
       "1  426152  2019-01-01              6   Robo (con violencia)              NaN   \n",
       "2  371604  2019-01-01              8               Lesiones   Siniestro Vial   \n",
       "3  425359  2019-01-01             16  Hurto (sin violencia)  Hurto Automotor   \n",
       "4  437571  2019-01-01              2   Robo (con violencia)   Robo Automotor   \n",
       "\n",
       "   cantidad_registrada  comuna            barrio        lat       long  \n",
       "0                  1.0     4.0     Nueva Pompeya -34.648387 -58.404748  \n",
       "1                  1.0     9.0           Liniers -34.649827 -58.513859  \n",
       "2                  1.0    15.0         Chacarita -34.588108 -58.439392  \n",
       "3                  1.0    10.0          Floresta -34.631877 -58.483975  \n",
       "4                  1.0     4.0  Parque Patricios -34.633161 -58.397123  "
      ]
     },
     "execution_count": 148,
     "metadata": {},
     "output_type": "execute_result"
    }
   ],
   "source": [
    "df.head()"
   ]
  },
  {
   "cell_type": "code",
   "execution_count": 149,
   "metadata": {
    "colab": {},
    "colab_type": "code",
    "id": "Q00xe3sIHPzd",
    "outputId": "b482544c-8cbb-441e-c3fb-6701d15bd012"
   },
   "outputs": [
    {
     "data": {
      "text/plain": [
       "(117661, 10)"
      ]
     },
     "execution_count": 149,
     "metadata": {},
     "output_type": "execute_result"
    }
   ],
   "source": [
    "# Devuelve (filas, columnas)\n",
    "df.shape"
   ]
  },
  {
   "cell_type": "code",
   "execution_count": 150,
   "metadata": {
    "colab": {},
    "colab_type": "code",
    "id": "LELPs7saHPzg",
    "outputId": "e49f8e7c-e0c3-4cfa-d232-aafce263d6a3"
   },
   "outputs": [
    {
     "data": {
      "text/plain": [
       "Index(['id', 'fecha', 'franja_horaria', 'tipo_delito', 'subtipo_delito',\n",
       "       'cantidad_registrada', 'comuna', 'barrio', 'lat', 'long'],\n",
       "      dtype='object')"
      ]
     },
     "execution_count": 150,
     "metadata": {},
     "output_type": "execute_result"
    }
   ],
   "source": [
    "#Lista de Columnas\n",
    "df.columns"
   ]
  },
  {
   "cell_type": "code",
   "execution_count": 151,
   "metadata": {
    "colab": {},
    "colab_type": "code",
    "id": "hE62uqToHPzi",
    "outputId": "6fd82ab9-10af-4f6a-e276-eeee44560309"
   },
   "outputs": [
    {
     "name": "stdout",
     "output_type": "stream",
     "text": [
      "<class 'pandas.core.frame.DataFrame'>\n",
      "RangeIndex: 117661 entries, 0 to 117660\n",
      "Data columns (total 10 columns):\n",
      "id                     117661 non-null int64\n",
      "fecha                  117661 non-null object\n",
      "franja_horaria         117661 non-null object\n",
      "tipo_delito            117661 non-null object\n",
      "subtipo_delito         11676 non-null object\n",
      "cantidad_registrada    117661 non-null float64\n",
      "comuna                 117064 non-null float64\n",
      "barrio                 117064 non-null object\n",
      "lat                    117064 non-null float64\n",
      "long                   117064 non-null float64\n",
      "dtypes: float64(4), int64(1), object(5)\n",
      "memory usage: 9.0+ MB\n"
     ]
    }
   ],
   "source": [
    "df.info()"
   ]
  },
  {
   "cell_type": "code",
   "execution_count": 152,
   "metadata": {
    "colab": {},
    "colab_type": "code",
    "id": "yPJvfMmfHPzl",
    "outputId": "bbd4e2f7-6fba-4851-bb60-7b09989cbaa6"
   },
   "outputs": [
    {
     "data": {
      "text/html": [
       "<div>\n",
       "<style scoped>\n",
       "    .dataframe tbody tr th:only-of-type {\n",
       "        vertical-align: middle;\n",
       "    }\n",
       "\n",
       "    .dataframe tbody tr th {\n",
       "        vertical-align: top;\n",
       "    }\n",
       "\n",
       "    .dataframe thead th {\n",
       "        text-align: right;\n",
       "    }\n",
       "</style>\n",
       "<table border=\"1\" class=\"dataframe\">\n",
       "  <thead>\n",
       "    <tr style=\"text-align: right;\">\n",
       "      <th></th>\n",
       "      <th>id</th>\n",
       "      <th>cantidad_registrada</th>\n",
       "      <th>comuna</th>\n",
       "      <th>lat</th>\n",
       "      <th>long</th>\n",
       "    </tr>\n",
       "  </thead>\n",
       "  <tbody>\n",
       "    <tr>\n",
       "      <th>count</th>\n",
       "      <td>117661.0</td>\n",
       "      <td>117661.0</td>\n",
       "      <td>117064.0</td>\n",
       "      <td>117064.0</td>\n",
       "      <td>117064.0</td>\n",
       "    </tr>\n",
       "    <tr>\n",
       "      <th>mean</th>\n",
       "      <td>429710.0</td>\n",
       "      <td>1.0</td>\n",
       "      <td>7.0</td>\n",
       "      <td>-35.0</td>\n",
       "      <td>-58.0</td>\n",
       "    </tr>\n",
       "    <tr>\n",
       "      <th>std</th>\n",
       "      <td>33968.0</td>\n",
       "      <td>0.0</td>\n",
       "      <td>5.0</td>\n",
       "      <td>0.0</td>\n",
       "      <td>0.0</td>\n",
       "    </tr>\n",
       "    <tr>\n",
       "      <th>min</th>\n",
       "      <td>353583.0</td>\n",
       "      <td>1.0</td>\n",
       "      <td>1.0</td>\n",
       "      <td>-35.0</td>\n",
       "      <td>-59.0</td>\n",
       "    </tr>\n",
       "    <tr>\n",
       "      <th>1%</th>\n",
       "      <td>372058.0</td>\n",
       "      <td>1.0</td>\n",
       "      <td>1.0</td>\n",
       "      <td>-35.0</td>\n",
       "      <td>-59.0</td>\n",
       "    </tr>\n",
       "    <tr>\n",
       "      <th>10%</th>\n",
       "      <td>382647.0</td>\n",
       "      <td>1.0</td>\n",
       "      <td>1.0</td>\n",
       "      <td>-35.0</td>\n",
       "      <td>-58.0</td>\n",
       "    </tr>\n",
       "    <tr>\n",
       "      <th>50%</th>\n",
       "      <td>429711.0</td>\n",
       "      <td>1.0</td>\n",
       "      <td>7.0</td>\n",
       "      <td>-35.0</td>\n",
       "      <td>-58.0</td>\n",
       "    </tr>\n",
       "    <tr>\n",
       "      <th>90%</th>\n",
       "      <td>476775.0</td>\n",
       "      <td>1.0</td>\n",
       "      <td>14.0</td>\n",
       "      <td>-35.0</td>\n",
       "      <td>-58.0</td>\n",
       "    </tr>\n",
       "    <tr>\n",
       "      <th>99%</th>\n",
       "      <td>487364.0</td>\n",
       "      <td>1.0</td>\n",
       "      <td>15.0</td>\n",
       "      <td>-35.0</td>\n",
       "      <td>-58.0</td>\n",
       "    </tr>\n",
       "    <tr>\n",
       "      <th>max</th>\n",
       "      <td>488541.0</td>\n",
       "      <td>2.0</td>\n",
       "      <td>15.0</td>\n",
       "      <td>-35.0</td>\n",
       "      <td>-58.0</td>\n",
       "    </tr>\n",
       "  </tbody>\n",
       "</table>\n",
       "</div>"
      ],
      "text/plain": [
       "             id  cantidad_registrada    comuna       lat      long\n",
       "count  117661.0             117661.0  117064.0  117064.0  117064.0\n",
       "mean   429710.0                  1.0       7.0     -35.0     -58.0\n",
       "std     33968.0                  0.0       5.0       0.0       0.0\n",
       "min    353583.0                  1.0       1.0     -35.0     -59.0\n",
       "1%     372058.0                  1.0       1.0     -35.0     -59.0\n",
       "10%    382647.0                  1.0       1.0     -35.0     -58.0\n",
       "50%    429711.0                  1.0       7.0     -35.0     -58.0\n",
       "90%    476775.0                  1.0      14.0     -35.0     -58.0\n",
       "99%    487364.0                  1.0      15.0     -35.0     -58.0\n",
       "max    488541.0                  2.0      15.0     -35.0     -58.0"
      ]
     },
     "execution_count": 152,
     "metadata": {},
     "output_type": "execute_result"
    }
   ],
   "source": [
    "#Estadísticas \n",
    "round(df.describe(percentiles=(0.01,0.1,0.9,0.99)))"
   ]
  },
  {
   "cell_type": "markdown",
   "metadata": {
    "colab_type": "text",
    "id": "XbaZZpF8eicV"
   },
   "source": [
    "## 👬 Diferencia entre Series y Data Frames\n",
    "---\n",
    "\n",
    "Hay una sútil diferencia cuando trabajamos con una **columna (Series)** o multiples (Data Frames).  Como son diferentes objetos, hay cosas que se pueden hacer en uno y en otros no.\n",
    "\n",
    "\n",
    "\n",
    "\n",
    "\n"
   ]
  },
  {
   "cell_type": "code",
   "execution_count": 153,
   "metadata": {
    "colab": {
     "base_uri": "https://localhost:8080/",
     "height": 54
    },
    "colab_type": "code",
    "executionInfo": {
     "elapsed": 680,
     "status": "ok",
     "timestamp": 1593558461542,
     "user": {
      "displayName": "Matias Sanchez Gavier",
      "photoUrl": "https://lh3.googleusercontent.com/a-/AOh14GjD7hZiO5eInT5MTbCuYg7k5GwpkxEcRQM1Y9NQ2g=s64",
      "userId": "12001148323871082461"
     },
     "user_tz": 180
    },
    "id": "UeDLAe-Ce9zw",
    "outputId": "8cfc7b63-b23f-4faf-fc37-10aba8a7e1e6"
   },
   "outputs": [
    {
     "name": "stdout",
     "output_type": "stream",
     "text": [
      "<class 'pandas.core.series.Series'>\n"
     ]
    },
    {
     "data": {
      "text/plain": [
       "pandas.core.frame.DataFrame"
      ]
     },
     "execution_count": 153,
     "metadata": {},
     "output_type": "execute_result"
    }
   ],
   "source": [
    "print(type(df[\"comuna\"])) # Serie\n",
    "\n",
    "type(df) # Data Frame"
   ]
  },
  {
   "cell_type": "markdown",
   "metadata": {
    "colab_type": "text",
    "id": "9x_IvfbhfEys"
   },
   "source": [
    "### 🦘 Dtype "
   ]
  },
  {
   "cell_type": "markdown",
   "metadata": {
    "colab_type": "text",
    "id": "Mjt4Ojord-RB"
   },
   "source": [
    "Cada Serie tiene **su propio tipo de dato**, denominado **Dtype**, estos son en general:\n",
    "\n",
    "- int64 (número entero)\n",
    "- float (número real)\n",
    "- object (String, texto)\n",
    "- bool (verdadero o falso)"
   ]
  },
  {
   "cell_type": "code",
   "execution_count": 154,
   "metadata": {
    "colab": {
     "base_uri": "https://localhost:8080/",
     "height": 381
    },
    "colab_type": "code",
    "executionInfo": {
     "elapsed": 775,
     "status": "ok",
     "timestamp": 1593575310469,
     "user": {
      "displayName": "Matias Sanchez Gavier",
      "photoUrl": "https://lh3.googleusercontent.com/a-/AOh14GjD7hZiO5eInT5MTbCuYg7k5GwpkxEcRQM1Y9NQ2g=s64",
      "userId": "12001148323871082461"
     },
     "user_tz": 180
    },
    "id": "pTUIIbv5dikI",
    "outputId": "fa552d16-1303-47b1-cf1e-f691824128a4"
   },
   "outputs": [
    {
     "name": "stdout",
     "output_type": "stream",
     "text": [
      "<class 'pandas.core.frame.DataFrame'>\n",
      "RangeIndex: 117661 entries, 0 to 117660\n",
      "Data columns (total 10 columns):\n",
      "id                     117661 non-null int64\n",
      "fecha                  117661 non-null object\n",
      "franja_horaria         117661 non-null object\n",
      "tipo_delito            117661 non-null object\n",
      "subtipo_delito         11676 non-null object\n",
      "cantidad_registrada    117661 non-null float64\n",
      "comuna                 117064 non-null float64\n",
      "barrio                 117064 non-null object\n",
      "lat                    117064 non-null float64\n",
      "long                   117064 non-null float64\n",
      "dtypes: float64(4), int64(1), object(5)\n",
      "memory usage: 9.0+ MB\n"
     ]
    }
   ],
   "source": [
    "# Con info() podemos ver el Dtype de cada Serie\n",
    "df.info()"
   ]
  },
  {
   "cell_type": "markdown",
   "metadata": {
    "colab_type": "text",
    "id": "2Z3Lc-p-HPzv"
   },
   "source": [
    "## 🍧 Selección de Filas y Columnas  \n",
    "---"
   ]
  },
  {
   "cell_type": "markdown",
   "metadata": {
    "colab_type": "text",
    "id": "nxbbdyp5HPzw"
   },
   "source": [
    "###  Selección de  Columnas\n",
    "---"
   ]
  },
  {
   "cell_type": "code",
   "execution_count": 155,
   "metadata": {
    "colab": {},
    "colab_type": "code",
    "id": "HjEmFXGvHPzw",
    "outputId": "02e411a0-985d-4752-adcf-6f12edd805e2"
   },
   "outputs": [
    {
     "data": {
      "text/plain": [
       "0            Nueva Pompeya\n",
       "1                  Liniers\n",
       "2                Chacarita\n",
       "3                 Floresta\n",
       "4         Parque Patricios\n",
       "                ...       \n",
       "117656     Villa Riachuelo\n",
       "117657               Boedo\n",
       "117658           Monserrat\n",
       "117659        Villa Crespo\n",
       "117660        Villa Lugano\n",
       "Name: barrio, Length: 117661, dtype: object"
      ]
     },
     "execution_count": 155,
     "metadata": {},
     "output_type": "execute_result"
    }
   ],
   "source": [
    "df[\"barrio\"]"
   ]
  },
  {
   "cell_type": "code",
   "execution_count": 156,
   "metadata": {
    "colab": {},
    "colab_type": "code",
    "id": "1Qn8BTokJYWa",
    "outputId": "216717ff-49ce-4e0e-c92c-7acb228d43f4"
   },
   "outputs": [
    {
     "data": {
      "text/plain": [
       "0            Nueva Pompeya\n",
       "1                  Liniers\n",
       "2                Chacarita\n",
       "3                 Floresta\n",
       "4         Parque Patricios\n",
       "                ...       \n",
       "117656     Villa Riachuelo\n",
       "117657               Boedo\n",
       "117658           Monserrat\n",
       "117659        Villa Crespo\n",
       "117660        Villa Lugano\n",
       "Name: barrio, Length: 117661, dtype: object"
      ]
     },
     "execution_count": 156,
     "metadata": {},
     "output_type": "execute_result"
    }
   ],
   "source": [
    "df.barrio"
   ]
  },
  {
   "cell_type": "code",
   "execution_count": 157,
   "metadata": {
    "colab": {},
    "colab_type": "code",
    "id": "VP5Im2irHPzy",
    "outputId": "319b96fe-70cf-4cf9-d4c5-2a6de951f664"
   },
   "outputs": [
    {
     "data": {
      "text/html": [
       "<div>\n",
       "<style scoped>\n",
       "    .dataframe tbody tr th:only-of-type {\n",
       "        vertical-align: middle;\n",
       "    }\n",
       "\n",
       "    .dataframe tbody tr th {\n",
       "        vertical-align: top;\n",
       "    }\n",
       "\n",
       "    .dataframe thead th {\n",
       "        text-align: right;\n",
       "    }\n",
       "</style>\n",
       "<table border=\"1\" class=\"dataframe\">\n",
       "  <thead>\n",
       "    <tr style=\"text-align: right;\">\n",
       "      <th></th>\n",
       "      <th>barrio</th>\n",
       "      <th>comuna</th>\n",
       "    </tr>\n",
       "  </thead>\n",
       "  <tbody>\n",
       "    <tr>\n",
       "      <th>0</th>\n",
       "      <td>Nueva Pompeya</td>\n",
       "      <td>4.0</td>\n",
       "    </tr>\n",
       "    <tr>\n",
       "      <th>1</th>\n",
       "      <td>Liniers</td>\n",
       "      <td>9.0</td>\n",
       "    </tr>\n",
       "    <tr>\n",
       "      <th>2</th>\n",
       "      <td>Chacarita</td>\n",
       "      <td>15.0</td>\n",
       "    </tr>\n",
       "    <tr>\n",
       "      <th>3</th>\n",
       "      <td>Floresta</td>\n",
       "      <td>10.0</td>\n",
       "    </tr>\n",
       "    <tr>\n",
       "      <th>4</th>\n",
       "      <td>Parque Patricios</td>\n",
       "      <td>4.0</td>\n",
       "    </tr>\n",
       "  </tbody>\n",
       "</table>\n",
       "</div>"
      ],
      "text/plain": [
       "             barrio  comuna\n",
       "0     Nueva Pompeya     4.0\n",
       "1           Liniers     9.0\n",
       "2         Chacarita    15.0\n",
       "3          Floresta    10.0\n",
       "4  Parque Patricios     4.0"
      ]
     },
     "execution_count": 157,
     "metadata": {},
     "output_type": "execute_result"
    }
   ],
   "source": [
    "#seleccion de multiples columnas\n",
    "df[[\"barrio\",\"comuna\"]].head()"
   ]
  },
  {
   "cell_type": "markdown",
   "metadata": {
    "colab_type": "text",
    "id": "3LR75gHdHPz1"
   },
   "source": [
    "### Selección de  Filas y Columnas\n",
    "---\n",
    "\n",
    "seleccion con **LOC** , debemos pasarles \"Nombres\" , es decir, tanto de filas como columnas, indicarle Qué posicion, hasta donde, o a partir de donde, pero siempre pidiendole con el nombre: `colname` o `rowname` tanto de la fila como de la columna `(fila,columna)`"
   ]
  },
  {
   "cell_type": "code",
   "execution_count": 180,
   "metadata": {
    "colab": {},
    "colab_type": "code",
    "id": "CrjNGD9LHPz2",
    "outputId": "094ccbca-0f1e-466b-8e2d-d13c42864abd"
   },
   "outputs": [
    {
     "data": {
      "text/html": [
       "<div>\n",
       "<style scoped>\n",
       "    .dataframe tbody tr th:only-of-type {\n",
       "        vertical-align: middle;\n",
       "    }\n",
       "\n",
       "    .dataframe tbody tr th {\n",
       "        vertical-align: top;\n",
       "    }\n",
       "\n",
       "    .dataframe thead th {\n",
       "        text-align: right;\n",
       "    }\n",
       "</style>\n",
       "<table border=\"1\" class=\"dataframe\">\n",
       "  <thead>\n",
       "    <tr style=\"text-align: right;\">\n",
       "      <th></th>\n",
       "      <th>id</th>\n",
       "      <th>fecha</th>\n",
       "      <th>franja_horaria</th>\n",
       "      <th>tipo_delito</th>\n",
       "      <th>subtipo_delito</th>\n",
       "      <th>cantidad_registrada</th>\n",
       "      <th>comuna</th>\n",
       "      <th>barrio</th>\n",
       "    </tr>\n",
       "  </thead>\n",
       "  <tbody>\n",
       "    <tr>\n",
       "      <th>0</th>\n",
       "      <td>374556</td>\n",
       "      <td>2019-01-01</td>\n",
       "      <td>12</td>\n",
       "      <td>Lesiones</td>\n",
       "      <td>Siniestro Vial</td>\n",
       "      <td>1.0</td>\n",
       "      <td>4.0</td>\n",
       "      <td>Nueva Pompeya</td>\n",
       "    </tr>\n",
       "    <tr>\n",
       "      <th>1</th>\n",
       "      <td>426152</td>\n",
       "      <td>2019-01-01</td>\n",
       "      <td>6</td>\n",
       "      <td>Robo (con violencia)</td>\n",
       "      <td>NaN</td>\n",
       "      <td>1.0</td>\n",
       "      <td>9.0</td>\n",
       "      <td>Liniers</td>\n",
       "    </tr>\n",
       "    <tr>\n",
       "      <th>2</th>\n",
       "      <td>371604</td>\n",
       "      <td>2019-01-01</td>\n",
       "      <td>8</td>\n",
       "      <td>Lesiones</td>\n",
       "      <td>Siniestro Vial</td>\n",
       "      <td>1.0</td>\n",
       "      <td>15.0</td>\n",
       "      <td>Chacarita</td>\n",
       "    </tr>\n",
       "    <tr>\n",
       "      <th>3</th>\n",
       "      <td>425359</td>\n",
       "      <td>2019-01-01</td>\n",
       "      <td>16</td>\n",
       "      <td>Hurto (sin violencia)</td>\n",
       "      <td>Hurto Automotor</td>\n",
       "      <td>1.0</td>\n",
       "      <td>10.0</td>\n",
       "      <td>Floresta</td>\n",
       "    </tr>\n",
       "  </tbody>\n",
       "</table>\n",
       "</div>"
      ],
      "text/plain": [
       "       id       fecha franja_horaria            tipo_delito   subtipo_delito  \\\n",
       "0  374556  2019-01-01             12               Lesiones   Siniestro Vial   \n",
       "1  426152  2019-01-01              6   Robo (con violencia)              NaN   \n",
       "2  371604  2019-01-01              8               Lesiones   Siniestro Vial   \n",
       "3  425359  2019-01-01             16  Hurto (sin violencia)  Hurto Automotor   \n",
       "\n",
       "   cantidad_registrada  comuna         barrio  \n",
       "0                  1.0     4.0  Nueva Pompeya  \n",
       "1                  1.0     9.0        Liniers  \n",
       "2                  1.0    15.0      Chacarita  \n",
       "3                  1.0    10.0       Floresta  "
      ]
     },
     "execution_count": 180,
     "metadata": {},
     "output_type": "execute_result"
    }
   ],
   "source": [
    "df.loc[:3,:'barrio']"
   ]
  },
  {
   "cell_type": "markdown",
   "metadata": {},
   "source": [
    "en este caso le pasamos numeros en las \"filas\" dado que el `ìndex` es el que Pandas nos da por default del 0 hasta n.\n",
    "\n",
    "Si quisieramos tomar filas en particular, deberiamos pasarlas en forma de Lista`[1,2,10,232]`"
   ]
  },
  {
   "cell_type": "code",
   "execution_count": 184,
   "metadata": {
    "colab": {},
    "colab_type": "code",
    "id": "UB0Bg4QtHPz4",
    "outputId": "54244dd1-3cde-4bf8-863e-49d7bc6859ff"
   },
   "outputs": [
    {
     "data": {
      "text/plain": [
       "0                  Lesiones\n",
       "1      Robo (con violencia)\n",
       "2                  Lesiones\n",
       "3     Hurto (sin violencia)\n",
       "4      Robo (con violencia)\n",
       "5      Robo (con violencia)\n",
       "6                  Lesiones\n",
       "7     Hurto (sin violencia)\n",
       "8      Robo (con violencia)\n",
       "9      Robo (con violencia)\n",
       "10                 Lesiones\n",
       "Name: tipo_delito, dtype: object"
      ]
     },
     "execution_count": 184,
     "metadata": {},
     "output_type": "execute_result"
    }
   ],
   "source": [
    "df.loc[0:10, \"tipo_delito\"] "
   ]
  },
  {
   "cell_type": "markdown",
   "metadata": {
    "colab_type": "text",
    "id": "R7zY4sLxw0-u"
   },
   "source": [
    "con **ILOC** buscamos en términos de la `posición` , no le importa el nombre de las filas o columnas."
   ]
  },
  {
   "cell_type": "code",
   "execution_count": 193,
   "metadata": {
    "colab": {},
    "colab_type": "code",
    "id": "SPGDcXPyHP0F",
    "outputId": "36255b18-93db-49f6-811a-8173f8309093"
   },
   "outputs": [
    {
     "data": {
      "text/html": [
       "<div>\n",
       "<style scoped>\n",
       "    .dataframe tbody tr th:only-of-type {\n",
       "        vertical-align: middle;\n",
       "    }\n",
       "\n",
       "    .dataframe tbody tr th {\n",
       "        vertical-align: top;\n",
       "    }\n",
       "\n",
       "    .dataframe thead th {\n",
       "        text-align: right;\n",
       "    }\n",
       "</style>\n",
       "<table border=\"1\" class=\"dataframe\">\n",
       "  <thead>\n",
       "    <tr style=\"text-align: right;\">\n",
       "      <th></th>\n",
       "      <th>id</th>\n",
       "      <th>fecha</th>\n",
       "      <th>franja_horaria</th>\n",
       "      <th>tipo_delito</th>\n",
       "      <th>subtipo_delito</th>\n",
       "      <th>cantidad_registrada</th>\n",
       "    </tr>\n",
       "  </thead>\n",
       "  <tbody>\n",
       "    <tr>\n",
       "      <th>0</th>\n",
       "      <td>374556</td>\n",
       "      <td>2019-01-01</td>\n",
       "      <td>12</td>\n",
       "      <td>Lesiones</td>\n",
       "      <td>Siniestro Vial</td>\n",
       "      <td>1.0</td>\n",
       "    </tr>\n",
       "    <tr>\n",
       "      <th>1</th>\n",
       "      <td>426152</td>\n",
       "      <td>2019-01-01</td>\n",
       "      <td>6</td>\n",
       "      <td>Robo (con violencia)</td>\n",
       "      <td>NaN</td>\n",
       "      <td>1.0</td>\n",
       "    </tr>\n",
       "    <tr>\n",
       "      <th>2</th>\n",
       "      <td>371604</td>\n",
       "      <td>2019-01-01</td>\n",
       "      <td>8</td>\n",
       "      <td>Lesiones</td>\n",
       "      <td>Siniestro Vial</td>\n",
       "      <td>1.0</td>\n",
       "    </tr>\n",
       "    <tr>\n",
       "      <th>3</th>\n",
       "      <td>425359</td>\n",
       "      <td>2019-01-01</td>\n",
       "      <td>16</td>\n",
       "      <td>Hurto (sin violencia)</td>\n",
       "      <td>Hurto Automotor</td>\n",
       "      <td>1.0</td>\n",
       "    </tr>\n",
       "    <tr>\n",
       "      <th>4</th>\n",
       "      <td>437571</td>\n",
       "      <td>2019-01-01</td>\n",
       "      <td>2</td>\n",
       "      <td>Robo (con violencia)</td>\n",
       "      <td>Robo Automotor</td>\n",
       "      <td>1.0</td>\n",
       "    </tr>\n",
       "  </tbody>\n",
       "</table>\n",
       "</div>"
      ],
      "text/plain": [
       "       id       fecha franja_horaria            tipo_delito   subtipo_delito  \\\n",
       "0  374556  2019-01-01             12               Lesiones   Siniestro Vial   \n",
       "1  426152  2019-01-01              6   Robo (con violencia)              NaN   \n",
       "2  371604  2019-01-01              8               Lesiones   Siniestro Vial   \n",
       "3  425359  2019-01-01             16  Hurto (sin violencia)  Hurto Automotor   \n",
       "4  437571  2019-01-01              2   Robo (con violencia)   Robo Automotor   \n",
       "\n",
       "   cantidad_registrada  \n",
       "0                  1.0  \n",
       "1                  1.0  \n",
       "2                  1.0  \n",
       "3                  1.0  \n",
       "4                  1.0  "
      ]
     },
     "execution_count": 193,
     "metadata": {},
     "output_type": "execute_result"
    }
   ],
   "source": [
    "df.iloc[:5,:6]"
   ]
  },
  {
   "cell_type": "code",
   "execution_count": null,
   "metadata": {},
   "outputs": [],
   "source": []
  },
  {
   "cell_type": "code",
   "execution_count": null,
   "metadata": {},
   "outputs": [],
   "source": []
  },
  {
   "cell_type": "markdown",
   "metadata": {
    "colab_type": "text",
    "id": "vo31om-IHP0N"
   },
   "source": [
    "### 🍫  Selección Condicionada\n",
    "---"
   ]
  },
  {
   "cell_type": "markdown",
   "metadata": {
    "colab_type": "text",
    "id": "WAA51snKHP0N"
   },
   "source": [
    "**Simbolos y su Sígnificado:**\n",
    "  \n",
    "* No   **-**\n",
    "* Y   **&**\n",
    "* O   **|**\n",
    "* son iguales?    **==**\n",
    "* mayor, menor ... **>, <, >=, <=** \n"
   ]
  },
  {
   "cell_type": "code",
   "execution_count": 29,
   "metadata": {
    "colab": {},
    "colab_type": "code",
    "id": "bRKzqh_-HP0N",
    "outputId": "431765aa-2912-4882-d6f2-39a3b000ce97"
   },
   "outputs": [
    {
     "data": {
      "text/html": [
       "<div>\n",
       "<style scoped>\n",
       "    .dataframe tbody tr th:only-of-type {\n",
       "        vertical-align: middle;\n",
       "    }\n",
       "\n",
       "    .dataframe tbody tr th {\n",
       "        vertical-align: top;\n",
       "    }\n",
       "\n",
       "    .dataframe thead th {\n",
       "        text-align: right;\n",
       "    }\n",
       "</style>\n",
       "<table border=\"1\" class=\"dataframe\">\n",
       "  <thead>\n",
       "    <tr style=\"text-align: right;\">\n",
       "      <th></th>\n",
       "      <th>id</th>\n",
       "      <th>fecha</th>\n",
       "      <th>franja_horaria</th>\n",
       "      <th>tipo_delito</th>\n",
       "      <th>subtipo_delito</th>\n",
       "      <th>cantidad_registrada</th>\n",
       "      <th>comuna</th>\n",
       "      <th>barrio</th>\n",
       "      <th>lat</th>\n",
       "      <th>long</th>\n",
       "    </tr>\n",
       "  </thead>\n",
       "  <tbody>\n",
       "    <tr>\n",
       "      <th>159</th>\n",
       "      <td>451688</td>\n",
       "      <td>2019-01-01</td>\n",
       "      <td>13</td>\n",
       "      <td>Robo (con violencia)</td>\n",
       "      <td>NaN</td>\n",
       "      <td>1.0</td>\n",
       "      <td>11.0</td>\n",
       "      <td>Villa del Parque</td>\n",
       "      <td>-34.599154</td>\n",
       "      <td>-58.483507</td>\n",
       "    </tr>\n",
       "    <tr>\n",
       "      <th>188</th>\n",
       "      <td>460113</td>\n",
       "      <td>2019-01-01</td>\n",
       "      <td>16</td>\n",
       "      <td>Robo (con violencia)</td>\n",
       "      <td>NaN</td>\n",
       "      <td>1.0</td>\n",
       "      <td>11.0</td>\n",
       "      <td>Villa del Parque</td>\n",
       "      <td>-34.602306</td>\n",
       "      <td>-58.489087</td>\n",
       "    </tr>\n",
       "    <tr>\n",
       "      <th>215</th>\n",
       "      <td>446396</td>\n",
       "      <td>2019-01-02</td>\n",
       "      <td>22</td>\n",
       "      <td>Robo (con violencia)</td>\n",
       "      <td>Robo Automotor</td>\n",
       "      <td>1.0</td>\n",
       "      <td>11.0</td>\n",
       "      <td>Villa del Parque</td>\n",
       "      <td>-34.604106</td>\n",
       "      <td>-58.489222</td>\n",
       "    </tr>\n",
       "    <tr>\n",
       "      <th>281</th>\n",
       "      <td>431340</td>\n",
       "      <td>2019-01-02</td>\n",
       "      <td>7</td>\n",
       "      <td>Robo (con violencia)</td>\n",
       "      <td>NaN</td>\n",
       "      <td>1.0</td>\n",
       "      <td>11.0</td>\n",
       "      <td>Villa del Parque</td>\n",
       "      <td>-34.606146</td>\n",
       "      <td>-58.497404</td>\n",
       "    </tr>\n",
       "    <tr>\n",
       "      <th>346</th>\n",
       "      <td>463250</td>\n",
       "      <td>2019-01-02</td>\n",
       "      <td>4</td>\n",
       "      <td>Robo (con violencia)</td>\n",
       "      <td>NaN</td>\n",
       "      <td>1.0</td>\n",
       "      <td>11.0</td>\n",
       "      <td>Villa del Parque</td>\n",
       "      <td>-34.601393</td>\n",
       "      <td>-58.489140</td>\n",
       "    </tr>\n",
       "  </tbody>\n",
       "</table>\n",
       "</div>"
      ],
      "text/plain": [
       "         id       fecha franja_horaria           tipo_delito  subtipo_delito  \\\n",
       "159  451688  2019-01-01             13  Robo (con violencia)             NaN   \n",
       "188  460113  2019-01-01             16  Robo (con violencia)             NaN   \n",
       "215  446396  2019-01-02             22  Robo (con violencia)  Robo Automotor   \n",
       "281  431340  2019-01-02              7  Robo (con violencia)             NaN   \n",
       "346  463250  2019-01-02              4  Robo (con violencia)             NaN   \n",
       "\n",
       "     cantidad_registrada  comuna            barrio        lat       long  \n",
       "159                  1.0    11.0  Villa del Parque -34.599154 -58.483507  \n",
       "188                  1.0    11.0  Villa del Parque -34.602306 -58.489087  \n",
       "215                  1.0    11.0  Villa del Parque -34.604106 -58.489222  \n",
       "281                  1.0    11.0  Villa del Parque -34.606146 -58.497404  \n",
       "346                  1.0    11.0  Villa del Parque -34.601393 -58.489140  "
      ]
     },
     "execution_count": 29,
     "metadata": {},
     "output_type": "execute_result"
    }
   ],
   "source": [
    "df.loc[df[\"barrio\"] == \"Villa del Parque\",  : ].head()"
   ]
  },
  {
   "cell_type": "code",
   "execution_count": 213,
   "metadata": {},
   "outputs": [
    {
     "data": {
      "text/html": [
       "<div>\n",
       "<style scoped>\n",
       "    .dataframe tbody tr th:only-of-type {\n",
       "        vertical-align: middle;\n",
       "    }\n",
       "\n",
       "    .dataframe tbody tr th {\n",
       "        vertical-align: top;\n",
       "    }\n",
       "\n",
       "    .dataframe thead th {\n",
       "        text-align: right;\n",
       "    }\n",
       "</style>\n",
       "<table border=\"1\" class=\"dataframe\">\n",
       "  <thead>\n",
       "    <tr style=\"text-align: right;\">\n",
       "      <th></th>\n",
       "      <th>id</th>\n",
       "      <th>fecha</th>\n",
       "      <th>franja_horaria</th>\n",
       "      <th>tipo_delito</th>\n",
       "      <th>subtipo_delito</th>\n",
       "      <th>cantidad_registrada</th>\n",
       "      <th>comuna</th>\n",
       "      <th>barrio</th>\n",
       "      <th>lat</th>\n",
       "      <th>long</th>\n",
       "    </tr>\n",
       "  </thead>\n",
       "  <tbody>\n",
       "    <tr>\n",
       "      <th>117631</th>\n",
       "      <td>388617</td>\n",
       "      <td>2019-12-31</td>\n",
       "      <td>14</td>\n",
       "      <td>Hurto (sin violencia)</td>\n",
       "      <td>NaN</td>\n",
       "      <td>1.0</td>\n",
       "      <td>10.0</td>\n",
       "      <td>Floresta</td>\n",
       "      <td>-34.629940</td>\n",
       "      <td>-58.479126</td>\n",
       "    </tr>\n",
       "    <tr>\n",
       "      <th>117633</th>\n",
       "      <td>379910</td>\n",
       "      <td>2019-12-31</td>\n",
       "      <td>15</td>\n",
       "      <td>Hurto (sin violencia)</td>\n",
       "      <td>NaN</td>\n",
       "      <td>1.0</td>\n",
       "      <td>10.0</td>\n",
       "      <td>Floresta</td>\n",
       "      <td>-34.629873</td>\n",
       "      <td>-58.480287</td>\n",
       "    </tr>\n",
       "    <tr>\n",
       "      <th>117637</th>\n",
       "      <td>424528</td>\n",
       "      <td>2019-12-31</td>\n",
       "      <td>13</td>\n",
       "      <td>Hurto (sin violencia)</td>\n",
       "      <td>NaN</td>\n",
       "      <td>1.0</td>\n",
       "      <td>10.0</td>\n",
       "      <td>Floresta</td>\n",
       "      <td>-34.632503</td>\n",
       "      <td>-58.480787</td>\n",
       "    </tr>\n",
       "    <tr>\n",
       "      <th>117642</th>\n",
       "      <td>486706</td>\n",
       "      <td>2019-12-31</td>\n",
       "      <td>0</td>\n",
       "      <td>Robo (con violencia)</td>\n",
       "      <td>NaN</td>\n",
       "      <td>1.0</td>\n",
       "      <td>10.0</td>\n",
       "      <td>Floresta</td>\n",
       "      <td>-34.627221</td>\n",
       "      <td>-58.479754</td>\n",
       "    </tr>\n",
       "  </tbody>\n",
       "</table>\n",
       "</div>"
      ],
      "text/plain": [
       "            id       fecha franja_horaria            tipo_delito  \\\n",
       "117631  388617  2019-12-31             14  Hurto (sin violencia)   \n",
       "117633  379910  2019-12-31             15  Hurto (sin violencia)   \n",
       "117637  424528  2019-12-31             13  Hurto (sin violencia)   \n",
       "117642  486706  2019-12-31              0   Robo (con violencia)   \n",
       "\n",
       "       subtipo_delito  cantidad_registrada  comuna    barrio        lat  \\\n",
       "117631            NaN                  1.0    10.0  Floresta -34.629940   \n",
       "117633            NaN                  1.0    10.0  Floresta -34.629873   \n",
       "117637            NaN                  1.0    10.0  Floresta -34.632503   \n",
       "117642            NaN                  1.0    10.0  Floresta -34.627221   \n",
       "\n",
       "             long  \n",
       "117631 -58.479126  \n",
       "117633 -58.480287  \n",
       "117637 -58.480787  \n",
       "117642 -58.479754  "
      ]
     },
     "execution_count": 213,
     "metadata": {},
     "output_type": "execute_result"
    }
   ],
   "source": [
    "df.loc[df['barrio'] == 'Floresta'].tail(4)"
   ]
  },
  {
   "cell_type": "code",
   "execution_count": null,
   "metadata": {},
   "outputs": [],
   "source": []
  },
  {
   "cell_type": "code",
   "execution_count": 221,
   "metadata": {
    "colab": {},
    "colab_type": "code",
    "id": "Bp7ibh7xHP0P",
    "outputId": "aa389287-571b-4bf4-ae2c-1f6cee3e6ae3"
   },
   "outputs": [
    {
     "data": {
      "text/html": [
       "<div>\n",
       "<style scoped>\n",
       "    .dataframe tbody tr th:only-of-type {\n",
       "        vertical-align: middle;\n",
       "    }\n",
       "\n",
       "    .dataframe tbody tr th {\n",
       "        vertical-align: top;\n",
       "    }\n",
       "\n",
       "    .dataframe thead th {\n",
       "        text-align: right;\n",
       "    }\n",
       "</style>\n",
       "<table border=\"1\" class=\"dataframe\">\n",
       "  <thead>\n",
       "    <tr style=\"text-align: right;\">\n",
       "      <th></th>\n",
       "      <th>id</th>\n",
       "      <th>fecha</th>\n",
       "      <th>franja_horaria</th>\n",
       "      <th>tipo_delito</th>\n",
       "      <th>subtipo_delito</th>\n",
       "      <th>cantidad_registrada</th>\n",
       "      <th>comuna</th>\n",
       "      <th>barrio</th>\n",
       "      <th>lat</th>\n",
       "      <th>long</th>\n",
       "    </tr>\n",
       "  </thead>\n",
       "  <tbody>\n",
       "    <tr>\n",
       "      <th>215</th>\n",
       "      <td>446396</td>\n",
       "      <td>2019-01-02</td>\n",
       "      <td>22</td>\n",
       "      <td>Robo (con violencia)</td>\n",
       "      <td>Robo Automotor</td>\n",
       "      <td>1.0</td>\n",
       "      <td>11.0</td>\n",
       "      <td>Villa del Parque</td>\n",
       "      <td>-34.604106</td>\n",
       "      <td>-58.489222</td>\n",
       "    </tr>\n",
       "    <tr>\n",
       "      <th>1809</th>\n",
       "      <td>426793</td>\n",
       "      <td>2019-01-06</td>\n",
       "      <td>23</td>\n",
       "      <td>Robo (con violencia)</td>\n",
       "      <td>Robo Automotor</td>\n",
       "      <td>1.0</td>\n",
       "      <td>11.0</td>\n",
       "      <td>Villa del Parque</td>\n",
       "      <td>-34.607246</td>\n",
       "      <td>-58.495078</td>\n",
       "    </tr>\n",
       "    <tr>\n",
       "      <th>5688</th>\n",
       "      <td>448210</td>\n",
       "      <td>2019-01-17</td>\n",
       "      <td>14</td>\n",
       "      <td>Robo (con violencia)</td>\n",
       "      <td>Robo Automotor</td>\n",
       "      <td>1.0</td>\n",
       "      <td>11.0</td>\n",
       "      <td>Villa del Parque</td>\n",
       "      <td>-34.601893</td>\n",
       "      <td>-58.487804</td>\n",
       "    </tr>\n",
       "    <tr>\n",
       "      <th>7299</th>\n",
       "      <td>458451</td>\n",
       "      <td>2019-01-22</td>\n",
       "      <td>23</td>\n",
       "      <td>Robo (con violencia)</td>\n",
       "      <td>Robo Automotor</td>\n",
       "      <td>1.0</td>\n",
       "      <td>11.0</td>\n",
       "      <td>Villa del Parque</td>\n",
       "      <td>-34.597674</td>\n",
       "      <td>-58.490878</td>\n",
       "    </tr>\n",
       "    <tr>\n",
       "      <th>10154</th>\n",
       "      <td>474026</td>\n",
       "      <td>2019-01-31</td>\n",
       "      <td>23</td>\n",
       "      <td>Robo (con violencia)</td>\n",
       "      <td>Robo Automotor</td>\n",
       "      <td>1.0</td>\n",
       "      <td>11.0</td>\n",
       "      <td>Villa del Parque</td>\n",
       "      <td>-34.603060</td>\n",
       "      <td>-58.498042</td>\n",
       "    </tr>\n",
       "  </tbody>\n",
       "</table>\n",
       "</div>"
      ],
      "text/plain": [
       "           id       fecha franja_horaria           tipo_delito  \\\n",
       "215    446396  2019-01-02             22  Robo (con violencia)   \n",
       "1809   426793  2019-01-06             23  Robo (con violencia)   \n",
       "5688   448210  2019-01-17             14  Robo (con violencia)   \n",
       "7299   458451  2019-01-22             23  Robo (con violencia)   \n",
       "10154  474026  2019-01-31             23  Robo (con violencia)   \n",
       "\n",
       "       subtipo_delito  cantidad_registrada  comuna            barrio  \\\n",
       "215    Robo Automotor                  1.0    11.0  Villa del Parque   \n",
       "1809   Robo Automotor                  1.0    11.0  Villa del Parque   \n",
       "5688   Robo Automotor                  1.0    11.0  Villa del Parque   \n",
       "7299   Robo Automotor                  1.0    11.0  Villa del Parque   \n",
       "10154  Robo Automotor                  1.0    11.0  Villa del Parque   \n",
       "\n",
       "             lat       long  \n",
       "215   -34.604106 -58.489222  \n",
       "1809  -34.607246 -58.495078  \n",
       "5688  -34.601893 -58.487804  \n",
       "7299  -34.597674 -58.490878  \n",
       "10154 -34.603060 -58.498042  "
      ]
     },
     "execution_count": 221,
     "metadata": {},
     "output_type": "execute_result"
    }
   ],
   "source": [
    "df.loc[(df[\"barrio\"] == \"Villa del Parque\") & \n",
    "       (df[\"tipo_delito\"]=='Robo (con violencia)') & \n",
    "       (df['subtipo_delito'] == 'Robo Automotor')].head()"
   ]
  },
  {
   "cell_type": "markdown",
   "metadata": {
    "colab_type": "text",
    "id": "PYSkgLPjw0-l"
   },
   "source": [
    "si a la seleccion la `asignamos` a alguna variable, con el **LOC** podemos reutilizarla para realizar una sub-seleccion\n"
   ]
  },
  {
   "cell_type": "code",
   "execution_count": 222,
   "metadata": {
    "colab": {},
    "colab_type": "code",
    "id": "ivQbkb5bHP0S",
    "outputId": "bff3808f-e7b2-472b-9395-5bdc453b486f"
   },
   "outputs": [
    {
     "data": {
      "text/html": [
       "<div>\n",
       "<style scoped>\n",
       "    .dataframe tbody tr th:only-of-type {\n",
       "        vertical-align: middle;\n",
       "    }\n",
       "\n",
       "    .dataframe tbody tr th {\n",
       "        vertical-align: top;\n",
       "    }\n",
       "\n",
       "    .dataframe thead th {\n",
       "        text-align: right;\n",
       "    }\n",
       "</style>\n",
       "<table border=\"1\" class=\"dataframe\">\n",
       "  <thead>\n",
       "    <tr style=\"text-align: right;\">\n",
       "      <th></th>\n",
       "      <th>id</th>\n",
       "      <th>fecha</th>\n",
       "      <th>franja_horaria</th>\n",
       "      <th>tipo_delito</th>\n",
       "      <th>subtipo_delito</th>\n",
       "      <th>cantidad_registrada</th>\n",
       "      <th>comuna</th>\n",
       "      <th>barrio</th>\n",
       "    </tr>\n",
       "  </thead>\n",
       "  <tbody>\n",
       "    <tr>\n",
       "      <th>117194</th>\n",
       "      <td>424308</td>\n",
       "      <td>2019-12-30</td>\n",
       "      <td>9</td>\n",
       "      <td>Hurto (sin violencia)</td>\n",
       "      <td>Hurto Automotor</td>\n",
       "      <td>1.0</td>\n",
       "      <td>11.0</td>\n",
       "      <td>Villa Gral. Mitre</td>\n",
       "    </tr>\n",
       "    <tr>\n",
       "      <th>117228</th>\n",
       "      <td>424311</td>\n",
       "      <td>2019-12-30</td>\n",
       "      <td>9</td>\n",
       "      <td>Hurto (sin violencia)</td>\n",
       "      <td>NaN</td>\n",
       "      <td>1.0</td>\n",
       "      <td>11.0</td>\n",
       "      <td>Villa Devoto</td>\n",
       "    </tr>\n",
       "    <tr>\n",
       "      <th>117260</th>\n",
       "      <td>424514</td>\n",
       "      <td>2019-12-30</td>\n",
       "      <td>17</td>\n",
       "      <td>Hurto (sin violencia)</td>\n",
       "      <td>NaN</td>\n",
       "      <td>1.0</td>\n",
       "      <td>11.0</td>\n",
       "      <td>Villa Gral. Mitre</td>\n",
       "    </tr>\n",
       "    <tr>\n",
       "      <th>117270</th>\n",
       "      <td>424330</td>\n",
       "      <td>2019-12-30</td>\n",
       "      <td>11</td>\n",
       "      <td>Hurto (sin violencia)</td>\n",
       "      <td>NaN</td>\n",
       "      <td>1.0</td>\n",
       "      <td>11.0</td>\n",
       "      <td>Villa Devoto</td>\n",
       "    </tr>\n",
       "    <tr>\n",
       "      <th>117408</th>\n",
       "      <td>424440</td>\n",
       "      <td>2019-12-30</td>\n",
       "      <td>21</td>\n",
       "      <td>Hurto (sin violencia)</td>\n",
       "      <td>NaN</td>\n",
       "      <td>1.0</td>\n",
       "      <td>11.0</td>\n",
       "      <td>Villa Gral. Mitre</td>\n",
       "    </tr>\n",
       "  </tbody>\n",
       "</table>\n",
       "</div>"
      ],
      "text/plain": [
       "            id       fecha franja_horaria            tipo_delito  \\\n",
       "117194  424308  2019-12-30              9  Hurto (sin violencia)   \n",
       "117228  424311  2019-12-30              9  Hurto (sin violencia)   \n",
       "117260  424514  2019-12-30             17  Hurto (sin violencia)   \n",
       "117270  424330  2019-12-30             11  Hurto (sin violencia)   \n",
       "117408  424440  2019-12-30             21  Hurto (sin violencia)   \n",
       "\n",
       "         subtipo_delito  cantidad_registrada  comuna             barrio  \n",
       "117194  Hurto Automotor                  1.0    11.0  Villa Gral. Mitre  \n",
       "117228              NaN                  1.0    11.0       Villa Devoto  \n",
       "117260              NaN                  1.0    11.0  Villa Gral. Mitre  \n",
       "117270              NaN                  1.0    11.0       Villa Devoto  \n",
       "117408              NaN                  1.0    11.0  Villa Gral. Mitre  "
      ]
     },
     "execution_count": 222,
     "metadata": {},
     "output_type": "execute_result"
    }
   ],
   "source": [
    "mask = (df[\"fecha\"] == \"2019-12-30\") & (df[\"comuna\"]== 11) & -(df[\"barrio\"]=='Villa del Parque')\n",
    "\n",
    "df.loc[mask, :'barrio'].head()"
   ]
  },
  {
   "cell_type": "markdown",
   "metadata": {},
   "source": [
    "_Otro ejemplo:_"
   ]
  },
  {
   "cell_type": "code",
   "execution_count": 223,
   "metadata": {
    "colab": {},
    "colab_type": "code",
    "id": "-szvB7diHP0U",
    "outputId": "afabe351-c39e-4929-83ef-60f47d5178b0"
   },
   "outputs": [
    {
     "data": {
      "text/html": [
       "<div>\n",
       "<style scoped>\n",
       "    .dataframe tbody tr th:only-of-type {\n",
       "        vertical-align: middle;\n",
       "    }\n",
       "\n",
       "    .dataframe tbody tr th {\n",
       "        vertical-align: top;\n",
       "    }\n",
       "\n",
       "    .dataframe thead th {\n",
       "        text-align: right;\n",
       "    }\n",
       "</style>\n",
       "<table border=\"1\" class=\"dataframe\">\n",
       "  <thead>\n",
       "    <tr style=\"text-align: right;\">\n",
       "      <th></th>\n",
       "      <th>id</th>\n",
       "      <th>fecha</th>\n",
       "      <th>franja_horaria</th>\n",
       "      <th>tipo_delito</th>\n",
       "      <th>subtipo_delito</th>\n",
       "      <th>cantidad_registrada</th>\n",
       "      <th>comuna</th>\n",
       "      <th>barrio</th>\n",
       "      <th>lat</th>\n",
       "      <th>long</th>\n",
       "    </tr>\n",
       "  </thead>\n",
       "  <tbody>\n",
       "    <tr>\n",
       "      <th>14</th>\n",
       "      <td>371693</td>\n",
       "      <td>2019-01-01</td>\n",
       "      <td>7</td>\n",
       "      <td>Lesiones</td>\n",
       "      <td>Siniestro Vial</td>\n",
       "      <td>1.0</td>\n",
       "      <td>11.0</td>\n",
       "      <td>Villa Devoto</td>\n",
       "      <td>-34.589282</td>\n",
       "      <td>-58.519116</td>\n",
       "    </tr>\n",
       "    <tr>\n",
       "      <th>24</th>\n",
       "      <td>375762</td>\n",
       "      <td>2019-01-01</td>\n",
       "      <td>13</td>\n",
       "      <td>Lesiones</td>\n",
       "      <td>Siniestro Vial</td>\n",
       "      <td>1.0</td>\n",
       "      <td>11.0</td>\n",
       "      <td>Villa Devoto</td>\n",
       "      <td>-34.603255</td>\n",
       "      <td>-58.524662</td>\n",
       "    </tr>\n",
       "    <tr>\n",
       "      <th>63</th>\n",
       "      <td>452436</td>\n",
       "      <td>2019-01-01</td>\n",
       "      <td>8</td>\n",
       "      <td>Robo (con violencia)</td>\n",
       "      <td>NaN</td>\n",
       "      <td>1.0</td>\n",
       "      <td>11.0</td>\n",
       "      <td>Villa Devoto</td>\n",
       "      <td>-34.604306</td>\n",
       "      <td>-58.513099</td>\n",
       "    </tr>\n",
       "    <tr>\n",
       "      <th>79</th>\n",
       "      <td>440363</td>\n",
       "      <td>2019-01-01</td>\n",
       "      <td>1</td>\n",
       "      <td>Robo (con violencia)</td>\n",
       "      <td>NaN</td>\n",
       "      <td>1.0</td>\n",
       "      <td>11.0</td>\n",
       "      <td>Villa Devoto</td>\n",
       "      <td>-34.600628</td>\n",
       "      <td>-58.512470</td>\n",
       "    </tr>\n",
       "    <tr>\n",
       "      <th>155</th>\n",
       "      <td>449568</td>\n",
       "      <td>2019-01-01</td>\n",
       "      <td>11</td>\n",
       "      <td>Robo (con violencia)</td>\n",
       "      <td>NaN</td>\n",
       "      <td>1.0</td>\n",
       "      <td>11.0</td>\n",
       "      <td>Villa Devoto</td>\n",
       "      <td>-34.608756</td>\n",
       "      <td>-58.514194</td>\n",
       "    </tr>\n",
       "  </tbody>\n",
       "</table>\n",
       "</div>"
      ],
      "text/plain": [
       "         id       fecha franja_horaria           tipo_delito  subtipo_delito  \\\n",
       "14   371693  2019-01-01              7              Lesiones  Siniestro Vial   \n",
       "24   375762  2019-01-01             13              Lesiones  Siniestro Vial   \n",
       "63   452436  2019-01-01              8  Robo (con violencia)             NaN   \n",
       "79   440363  2019-01-01              1  Robo (con violencia)             NaN   \n",
       "155  449568  2019-01-01             11  Robo (con violencia)             NaN   \n",
       "\n",
       "     cantidad_registrada  comuna        barrio        lat       long  \n",
       "14                   1.0    11.0  Villa Devoto -34.589282 -58.519116  \n",
       "24                   1.0    11.0  Villa Devoto -34.603255 -58.524662  \n",
       "63                   1.0    11.0  Villa Devoto -34.604306 -58.513099  \n",
       "79                   1.0    11.0  Villa Devoto -34.600628 -58.512470  \n",
       "155                  1.0    11.0  Villa Devoto -34.608756 -58.514194  "
      ]
     },
     "execution_count": 223,
     "metadata": {},
     "output_type": "execute_result"
    }
   ],
   "source": [
    "mask =  (df[\"barrio\"].isin([\"Villa Devoto\", \"Villa Gral. Mitre\"]))\n",
    "df.loc[ mask, : ].head()"
   ]
  },
  {
   "cell_type": "markdown",
   "metadata": {
    "colab_type": "text",
    "id": "P4q9Ce6Jfets"
   },
   "source": [
    "## ☕ Index\n",
    "---\n",
    "\n",
    "cuando le pedimos a Pandas que nos devuelva los indices de nuestro DF nos va devolver como estan guardados (parecidos los rangos que vimos anteriormente)"
   ]
  },
  {
   "cell_type": "code",
   "execution_count": 227,
   "metadata": {
    "colab": {
     "base_uri": "https://localhost:8080/",
     "height": 35
    },
    "colab_type": "code",
    "executionInfo": {
     "elapsed": 816,
     "status": "ok",
     "timestamp": 1593575332603,
     "user": {
      "displayName": "Matias Sanchez Gavier",
      "photoUrl": "https://lh3.googleusercontent.com/a-/AOh14GjD7hZiO5eInT5MTbCuYg7k5GwpkxEcRQM1Y9NQ2g=s64",
      "userId": "12001148323871082461"
     },
     "user_tz": 180
    },
    "id": "Ezs6OPOyfYmy",
    "outputId": "26551108-06d0-4227-8f5c-7862ac4fdb5c"
   },
   "outputs": [
    {
     "data": {
      "text/plain": [
       "RangeIndex(start=0, stop=117661, step=1)"
      ]
     },
     "execution_count": 227,
     "metadata": {},
     "output_type": "execute_result"
    }
   ],
   "source": [
    "df.index"
   ]
  },
  {
   "cell_type": "markdown",
   "metadata": {},
   "source": [
    "### 💾 Setear Index\n",
    "\n",
    "Podemos **Redefinir** el Indice que tuvimos por default utilizando la siguiente funcion:"
   ]
  },
  {
   "cell_type": "code",
   "execution_count": 234,
   "metadata": {
    "colab": {},
    "colab_type": "code",
    "id": "D1TG0KuEHPz7",
    "outputId": "c360a177-4fd0-4d96-fff4-7cd7f413bdc0"
   },
   "outputs": [],
   "source": [
    "# le indicamos una columna para que sea el índice\n",
    "\n",
    "df.set_index(\"id\").head( )"
   ]
  },
  {
   "cell_type": "code",
   "execution_count": 229,
   "metadata": {
    "colab": {},
    "colab_type": "code",
    "id": "6IKC0ezHw0-e",
    "outputId": "dbf32993-9a0c-4b0c-9813-a9bff2e07252"
   },
   "outputs": [
    {
     "data": {
      "text/html": [
       "<div>\n",
       "<style scoped>\n",
       "    .dataframe tbody tr th:only-of-type {\n",
       "        vertical-align: middle;\n",
       "    }\n",
       "\n",
       "    .dataframe tbody tr th {\n",
       "        vertical-align: top;\n",
       "    }\n",
       "\n",
       "    .dataframe thead th {\n",
       "        text-align: right;\n",
       "    }\n",
       "</style>\n",
       "<table border=\"1\" class=\"dataframe\">\n",
       "  <thead>\n",
       "    <tr style=\"text-align: right;\">\n",
       "      <th></th>\n",
       "      <th>id</th>\n",
       "      <th>fecha</th>\n",
       "      <th>franja_horaria</th>\n",
       "      <th>tipo_delito</th>\n",
       "      <th>subtipo_delito</th>\n",
       "      <th>cantidad_registrada</th>\n",
       "      <th>comuna</th>\n",
       "      <th>barrio</th>\n",
       "      <th>lat</th>\n",
       "      <th>long</th>\n",
       "    </tr>\n",
       "  </thead>\n",
       "  <tbody>\n",
       "    <tr>\n",
       "      <th>0</th>\n",
       "      <td>374556</td>\n",
       "      <td>2019-01-01</td>\n",
       "      <td>12</td>\n",
       "      <td>Lesiones</td>\n",
       "      <td>Siniestro Vial</td>\n",
       "      <td>1.0</td>\n",
       "      <td>4.0</td>\n",
       "      <td>Nueva Pompeya</td>\n",
       "      <td>-34.648387</td>\n",
       "      <td>-58.404748</td>\n",
       "    </tr>\n",
       "    <tr>\n",
       "      <th>1</th>\n",
       "      <td>426152</td>\n",
       "      <td>2019-01-01</td>\n",
       "      <td>6</td>\n",
       "      <td>Robo (con violencia)</td>\n",
       "      <td>NaN</td>\n",
       "      <td>1.0</td>\n",
       "      <td>9.0</td>\n",
       "      <td>Liniers</td>\n",
       "      <td>-34.649827</td>\n",
       "      <td>-58.513859</td>\n",
       "    </tr>\n",
       "    <tr>\n",
       "      <th>2</th>\n",
       "      <td>371604</td>\n",
       "      <td>2019-01-01</td>\n",
       "      <td>8</td>\n",
       "      <td>Lesiones</td>\n",
       "      <td>Siniestro Vial</td>\n",
       "      <td>1.0</td>\n",
       "      <td>15.0</td>\n",
       "      <td>Chacarita</td>\n",
       "      <td>-34.588108</td>\n",
       "      <td>-58.439392</td>\n",
       "    </tr>\n",
       "    <tr>\n",
       "      <th>3</th>\n",
       "      <td>425359</td>\n",
       "      <td>2019-01-01</td>\n",
       "      <td>16</td>\n",
       "      <td>Hurto (sin violencia)</td>\n",
       "      <td>Hurto Automotor</td>\n",
       "      <td>1.0</td>\n",
       "      <td>10.0</td>\n",
       "      <td>Floresta</td>\n",
       "      <td>-34.631877</td>\n",
       "      <td>-58.483975</td>\n",
       "    </tr>\n",
       "    <tr>\n",
       "      <th>4</th>\n",
       "      <td>437571</td>\n",
       "      <td>2019-01-01</td>\n",
       "      <td>2</td>\n",
       "      <td>Robo (con violencia)</td>\n",
       "      <td>Robo Automotor</td>\n",
       "      <td>1.0</td>\n",
       "      <td>4.0</td>\n",
       "      <td>Parque Patricios</td>\n",
       "      <td>-34.633161</td>\n",
       "      <td>-58.397123</td>\n",
       "    </tr>\n",
       "  </tbody>\n",
       "</table>\n",
       "</div>"
      ],
      "text/plain": [
       "       id       fecha franja_horaria            tipo_delito   subtipo_delito  \\\n",
       "0  374556  2019-01-01             12               Lesiones   Siniestro Vial   \n",
       "1  426152  2019-01-01              6   Robo (con violencia)              NaN   \n",
       "2  371604  2019-01-01              8               Lesiones   Siniestro Vial   \n",
       "3  425359  2019-01-01             16  Hurto (sin violencia)  Hurto Automotor   \n",
       "4  437571  2019-01-01              2   Robo (con violencia)   Robo Automotor   \n",
       "\n",
       "   cantidad_registrada  comuna            barrio        lat       long  \n",
       "0                  1.0     4.0     Nueva Pompeya -34.648387 -58.404748  \n",
       "1                  1.0     9.0           Liniers -34.649827 -58.513859  \n",
       "2                  1.0    15.0         Chacarita -34.588108 -58.439392  \n",
       "3                  1.0    10.0          Floresta -34.631877 -58.483975  \n",
       "4                  1.0     4.0  Parque Patricios -34.633161 -58.397123  "
      ]
     },
     "execution_count": 229,
     "metadata": {},
     "output_type": "execute_result"
    }
   ],
   "source": [
    "df.head()"
   ]
  },
  {
   "cell_type": "markdown",
   "metadata": {
    "colab_type": "text",
    "id": "73Y97HdEw0-c"
   },
   "source": [
    "El cambio que hicimos **no se guardo!** Esto es muy común con pandas.\n",
    "\n",
    "Cuando hacemos cambios que afectan el dataset los cambios no se suelen guardar. "
   ]
  },
  {
   "cell_type": "markdown",
   "metadata": {
    "colab_type": "text",
    "id": "mebENn3Uw0-h"
   },
   "source": [
    "Para que los cambios tengan efecto permanente usamos el parámetro `inplace=True`"
   ]
  },
  {
   "cell_type": "code",
   "execution_count": 230,
   "metadata": {
    "colab": {},
    "colab_type": "code",
    "id": "egaQQLBzHPz9"
   },
   "outputs": [],
   "source": [
    "df.set_index(\"id\", inplace=True)"
   ]
  },
  {
   "cell_type": "code",
   "execution_count": 231,
   "metadata": {
    "colab": {},
    "colab_type": "code",
    "id": "aRrygqrsw0-j",
    "outputId": "83456913-8bd9-4033-95fb-4b5cb5a909da"
   },
   "outputs": [
    {
     "data": {
      "text/html": [
       "<div>\n",
       "<style scoped>\n",
       "    .dataframe tbody tr th:only-of-type {\n",
       "        vertical-align: middle;\n",
       "    }\n",
       "\n",
       "    .dataframe tbody tr th {\n",
       "        vertical-align: top;\n",
       "    }\n",
       "\n",
       "    .dataframe thead th {\n",
       "        text-align: right;\n",
       "    }\n",
       "</style>\n",
       "<table border=\"1\" class=\"dataframe\">\n",
       "  <thead>\n",
       "    <tr style=\"text-align: right;\">\n",
       "      <th></th>\n",
       "      <th>fecha</th>\n",
       "      <th>franja_horaria</th>\n",
       "      <th>tipo_delito</th>\n",
       "      <th>subtipo_delito</th>\n",
       "      <th>cantidad_registrada</th>\n",
       "      <th>comuna</th>\n",
       "      <th>barrio</th>\n",
       "      <th>lat</th>\n",
       "      <th>long</th>\n",
       "    </tr>\n",
       "    <tr>\n",
       "      <th>id</th>\n",
       "      <th></th>\n",
       "      <th></th>\n",
       "      <th></th>\n",
       "      <th></th>\n",
       "      <th></th>\n",
       "      <th></th>\n",
       "      <th></th>\n",
       "      <th></th>\n",
       "      <th></th>\n",
       "    </tr>\n",
       "  </thead>\n",
       "  <tbody>\n",
       "    <tr>\n",
       "      <th>374556</th>\n",
       "      <td>2019-01-01</td>\n",
       "      <td>12</td>\n",
       "      <td>Lesiones</td>\n",
       "      <td>Siniestro Vial</td>\n",
       "      <td>1.0</td>\n",
       "      <td>4.0</td>\n",
       "      <td>Nueva Pompeya</td>\n",
       "      <td>-34.648387</td>\n",
       "      <td>-58.404748</td>\n",
       "    </tr>\n",
       "    <tr>\n",
       "      <th>426152</th>\n",
       "      <td>2019-01-01</td>\n",
       "      <td>6</td>\n",
       "      <td>Robo (con violencia)</td>\n",
       "      <td>NaN</td>\n",
       "      <td>1.0</td>\n",
       "      <td>9.0</td>\n",
       "      <td>Liniers</td>\n",
       "      <td>-34.649827</td>\n",
       "      <td>-58.513859</td>\n",
       "    </tr>\n",
       "    <tr>\n",
       "      <th>371604</th>\n",
       "      <td>2019-01-01</td>\n",
       "      <td>8</td>\n",
       "      <td>Lesiones</td>\n",
       "      <td>Siniestro Vial</td>\n",
       "      <td>1.0</td>\n",
       "      <td>15.0</td>\n",
       "      <td>Chacarita</td>\n",
       "      <td>-34.588108</td>\n",
       "      <td>-58.439392</td>\n",
       "    </tr>\n",
       "    <tr>\n",
       "      <th>425359</th>\n",
       "      <td>2019-01-01</td>\n",
       "      <td>16</td>\n",
       "      <td>Hurto (sin violencia)</td>\n",
       "      <td>Hurto Automotor</td>\n",
       "      <td>1.0</td>\n",
       "      <td>10.0</td>\n",
       "      <td>Floresta</td>\n",
       "      <td>-34.631877</td>\n",
       "      <td>-58.483975</td>\n",
       "    </tr>\n",
       "    <tr>\n",
       "      <th>437571</th>\n",
       "      <td>2019-01-01</td>\n",
       "      <td>2</td>\n",
       "      <td>Robo (con violencia)</td>\n",
       "      <td>Robo Automotor</td>\n",
       "      <td>1.0</td>\n",
       "      <td>4.0</td>\n",
       "      <td>Parque Patricios</td>\n",
       "      <td>-34.633161</td>\n",
       "      <td>-58.397123</td>\n",
       "    </tr>\n",
       "  </tbody>\n",
       "</table>\n",
       "</div>"
      ],
      "text/plain": [
       "             fecha franja_horaria            tipo_delito   subtipo_delito  \\\n",
       "id                                                                          \n",
       "374556  2019-01-01             12               Lesiones   Siniestro Vial   \n",
       "426152  2019-01-01              6   Robo (con violencia)              NaN   \n",
       "371604  2019-01-01              8               Lesiones   Siniestro Vial   \n",
       "425359  2019-01-01             16  Hurto (sin violencia)  Hurto Automotor   \n",
       "437571  2019-01-01              2   Robo (con violencia)   Robo Automotor   \n",
       "\n",
       "        cantidad_registrada  comuna            barrio        lat       long  \n",
       "id                                                                           \n",
       "374556                  1.0     4.0     Nueva Pompeya -34.648387 -58.404748  \n",
       "426152                  1.0     9.0           Liniers -34.649827 -58.513859  \n",
       "371604                  1.0    15.0         Chacarita -34.588108 -58.439392  \n",
       "425359                  1.0    10.0          Floresta -34.631877 -58.483975  \n",
       "437571                  1.0     4.0  Parque Patricios -34.633161 -58.397123  "
      ]
     },
     "execution_count": 231,
     "metadata": {},
     "output_type": "execute_result"
    }
   ],
   "source": [
    "df.head()"
   ]
  },
  {
   "cell_type": "markdown",
   "metadata": {},
   "source": [
    "Ahora si, cuando utilicemos la funcion **LOC** vamos a tener que pasarle el nuevo Index (ya no es mas de 0 a n)"
   ]
  },
  {
   "cell_type": "code",
   "execution_count": 48,
   "metadata": {
    "colab": {},
    "colab_type": "code",
    "id": "Vd4mFKCFHPz_",
    "outputId": "3c998724-1780-4ab3-d6bb-070b7c5b58c0"
   },
   "outputs": [
    {
     "data": {
      "text/plain": [
       "fecha                             2019-01-01\n",
       "franja_horaria                            16\n",
       "tipo_delito            Hurto (sin violencia)\n",
       "subtipo_delito               Hurto Automotor\n",
       "cantidad_registrada                        1\n",
       "comuna                                    10\n",
       "barrio                              Floresta\n",
       "lat                                 -34.6319\n",
       "long                                 -58.484\n",
       "Name: 425359, dtype: object"
      ]
     },
     "execution_count": 48,
     "metadata": {},
     "output_type": "execute_result"
    }
   ],
   "source": [
    "df.loc[425359, : ]"
   ]
  },
  {
   "cell_type": "code",
   "execution_count": 50,
   "metadata": {
    "colab": {},
    "colab_type": "code",
    "id": "CxQwgOSLHP0D",
    "outputId": "2ffcbf8c-85ff-49f4-c834-3dd2f1921e3a"
   },
   "outputs": [
    {
     "data": {
      "text/html": [
       "<div>\n",
       "<style scoped>\n",
       "    .dataframe tbody tr th:only-of-type {\n",
       "        vertical-align: middle;\n",
       "    }\n",
       "\n",
       "    .dataframe tbody tr th {\n",
       "        vertical-align: top;\n",
       "    }\n",
       "\n",
       "    .dataframe thead th {\n",
       "        text-align: right;\n",
       "    }\n",
       "</style>\n",
       "<table border=\"1\" class=\"dataframe\">\n",
       "  <thead>\n",
       "    <tr style=\"text-align: right;\">\n",
       "      <th></th>\n",
       "      <th>fecha</th>\n",
       "      <th>franja_horaria</th>\n",
       "      <th>tipo_delito</th>\n",
       "      <th>subtipo_delito</th>\n",
       "      <th>cantidad_registrada</th>\n",
       "      <th>comuna</th>\n",
       "      <th>barrio</th>\n",
       "      <th>lat</th>\n",
       "      <th>long</th>\n",
       "    </tr>\n",
       "    <tr>\n",
       "      <th>id</th>\n",
       "      <th></th>\n",
       "      <th></th>\n",
       "      <th></th>\n",
       "      <th></th>\n",
       "      <th></th>\n",
       "      <th></th>\n",
       "      <th></th>\n",
       "      <th></th>\n",
       "      <th></th>\n",
       "    </tr>\n",
       "  </thead>\n",
       "  <tbody>\n",
       "    <tr>\n",
       "      <th>371604</th>\n",
       "      <td>2019-01-01</td>\n",
       "      <td>8</td>\n",
       "      <td>Lesiones</td>\n",
       "      <td>Siniestro Vial</td>\n",
       "      <td>1.0</td>\n",
       "      <td>15.0</td>\n",
       "      <td>Chacarita</td>\n",
       "      <td>-34.588108</td>\n",
       "      <td>-58.439392</td>\n",
       "    </tr>\n",
       "    <tr>\n",
       "      <th>425359</th>\n",
       "      <td>2019-01-01</td>\n",
       "      <td>16</td>\n",
       "      <td>Hurto (sin violencia)</td>\n",
       "      <td>Hurto Automotor</td>\n",
       "      <td>1.0</td>\n",
       "      <td>10.0</td>\n",
       "      <td>Floresta</td>\n",
       "      <td>-34.631877</td>\n",
       "      <td>-58.483975</td>\n",
       "    </tr>\n",
       "  </tbody>\n",
       "</table>\n",
       "</div>"
      ],
      "text/plain": [
       "             fecha franja_horaria            tipo_delito   subtipo_delito  \\\n",
       "id                                                                          \n",
       "371604  2019-01-01              8               Lesiones   Siniestro Vial   \n",
       "425359  2019-01-01             16  Hurto (sin violencia)  Hurto Automotor   \n",
       "\n",
       "        cantidad_registrada  comuna     barrio        lat       long  \n",
       "id                                                                    \n",
       "371604                  1.0    15.0  Chacarita -34.588108 -58.439392  \n",
       "425359                  1.0    10.0   Floresta -34.631877 -58.483975  "
      ]
     },
     "execution_count": 50,
     "metadata": {},
     "output_type": "execute_result"
    }
   ],
   "source": [
    "df.loc[[371604,425359], :]"
   ]
  },
  {
   "cell_type": "markdown",
   "metadata": {},
   "source": [
    "### 🕰 ReSetear Index\n",
    "---\n",
    "\n"
   ]
  },
  {
   "cell_type": "code",
   "execution_count": 237,
   "metadata": {},
   "outputs": [
    {
     "data": {
      "text/html": [
       "<div>\n",
       "<style scoped>\n",
       "    .dataframe tbody tr th:only-of-type {\n",
       "        vertical-align: middle;\n",
       "    }\n",
       "\n",
       "    .dataframe tbody tr th {\n",
       "        vertical-align: top;\n",
       "    }\n",
       "\n",
       "    .dataframe thead th {\n",
       "        text-align: right;\n",
       "    }\n",
       "</style>\n",
       "<table border=\"1\" class=\"dataframe\">\n",
       "  <thead>\n",
       "    <tr style=\"text-align: right;\">\n",
       "      <th></th>\n",
       "      <th>id</th>\n",
       "      <th>fecha</th>\n",
       "      <th>franja_horaria</th>\n",
       "      <th>tipo_delito</th>\n",
       "      <th>subtipo_delito</th>\n",
       "      <th>cantidad_registrada</th>\n",
       "      <th>comuna</th>\n",
       "      <th>barrio</th>\n",
       "      <th>lat</th>\n",
       "      <th>long</th>\n",
       "    </tr>\n",
       "  </thead>\n",
       "  <tbody>\n",
       "    <tr>\n",
       "      <th>0</th>\n",
       "      <td>374556</td>\n",
       "      <td>2019-01-01</td>\n",
       "      <td>12</td>\n",
       "      <td>Lesiones</td>\n",
       "      <td>Siniestro Vial</td>\n",
       "      <td>1.0</td>\n",
       "      <td>4.0</td>\n",
       "      <td>Nueva Pompeya</td>\n",
       "      <td>-34.648387</td>\n",
       "      <td>-58.404748</td>\n",
       "    </tr>\n",
       "    <tr>\n",
       "      <th>1</th>\n",
       "      <td>426152</td>\n",
       "      <td>2019-01-01</td>\n",
       "      <td>6</td>\n",
       "      <td>Robo (con violencia)</td>\n",
       "      <td>NaN</td>\n",
       "      <td>1.0</td>\n",
       "      <td>9.0</td>\n",
       "      <td>Liniers</td>\n",
       "      <td>-34.649827</td>\n",
       "      <td>-58.513859</td>\n",
       "    </tr>\n",
       "    <tr>\n",
       "      <th>2</th>\n",
       "      <td>371604</td>\n",
       "      <td>2019-01-01</td>\n",
       "      <td>8</td>\n",
       "      <td>Lesiones</td>\n",
       "      <td>Siniestro Vial</td>\n",
       "      <td>1.0</td>\n",
       "      <td>15.0</td>\n",
       "      <td>Chacarita</td>\n",
       "      <td>-34.588108</td>\n",
       "      <td>-58.439392</td>\n",
       "    </tr>\n",
       "    <tr>\n",
       "      <th>3</th>\n",
       "      <td>425359</td>\n",
       "      <td>2019-01-01</td>\n",
       "      <td>16</td>\n",
       "      <td>Hurto (sin violencia)</td>\n",
       "      <td>Hurto Automotor</td>\n",
       "      <td>1.0</td>\n",
       "      <td>10.0</td>\n",
       "      <td>Floresta</td>\n",
       "      <td>-34.631877</td>\n",
       "      <td>-58.483975</td>\n",
       "    </tr>\n",
       "    <tr>\n",
       "      <th>4</th>\n",
       "      <td>437571</td>\n",
       "      <td>2019-01-01</td>\n",
       "      <td>2</td>\n",
       "      <td>Robo (con violencia)</td>\n",
       "      <td>Robo Automotor</td>\n",
       "      <td>1.0</td>\n",
       "      <td>4.0</td>\n",
       "      <td>Parque Patricios</td>\n",
       "      <td>-34.633161</td>\n",
       "      <td>-58.397123</td>\n",
       "    </tr>\n",
       "  </tbody>\n",
       "</table>\n",
       "</div>"
      ],
      "text/plain": [
       "       id       fecha franja_horaria            tipo_delito   subtipo_delito  \\\n",
       "0  374556  2019-01-01             12               Lesiones   Siniestro Vial   \n",
       "1  426152  2019-01-01              6   Robo (con violencia)              NaN   \n",
       "2  371604  2019-01-01              8               Lesiones   Siniestro Vial   \n",
       "3  425359  2019-01-01             16  Hurto (sin violencia)  Hurto Automotor   \n",
       "4  437571  2019-01-01              2   Robo (con violencia)   Robo Automotor   \n",
       "\n",
       "   cantidad_registrada  comuna            barrio        lat       long  \n",
       "0                  1.0     4.0     Nueva Pompeya -34.648387 -58.404748  \n",
       "1                  1.0     9.0           Liniers -34.649827 -58.513859  \n",
       "2                  1.0    15.0         Chacarita -34.588108 -58.439392  \n",
       "3                  1.0    10.0          Floresta -34.631877 -58.483975  \n",
       "4                  1.0     4.0  Parque Patricios -34.633161 -58.397123  "
      ]
     },
     "execution_count": 237,
     "metadata": {},
     "output_type": "execute_result"
    }
   ],
   "source": [
    "df.reset_index().head()"
   ]
  },
  {
   "cell_type": "code",
   "execution_count": 238,
   "metadata": {},
   "outputs": [
    {
     "data": {
      "text/html": [
       "<div>\n",
       "<style scoped>\n",
       "    .dataframe tbody tr th:only-of-type {\n",
       "        vertical-align: middle;\n",
       "    }\n",
       "\n",
       "    .dataframe tbody tr th {\n",
       "        vertical-align: top;\n",
       "    }\n",
       "\n",
       "    .dataframe thead th {\n",
       "        text-align: right;\n",
       "    }\n",
       "</style>\n",
       "<table border=\"1\" class=\"dataframe\">\n",
       "  <thead>\n",
       "    <tr style=\"text-align: right;\">\n",
       "      <th></th>\n",
       "      <th>fecha</th>\n",
       "      <th>franja_horaria</th>\n",
       "      <th>tipo_delito</th>\n",
       "      <th>subtipo_delito</th>\n",
       "      <th>cantidad_registrada</th>\n",
       "      <th>comuna</th>\n",
       "      <th>barrio</th>\n",
       "      <th>lat</th>\n",
       "      <th>long</th>\n",
       "    </tr>\n",
       "    <tr>\n",
       "      <th>id</th>\n",
       "      <th></th>\n",
       "      <th></th>\n",
       "      <th></th>\n",
       "      <th></th>\n",
       "      <th></th>\n",
       "      <th></th>\n",
       "      <th></th>\n",
       "      <th></th>\n",
       "      <th></th>\n",
       "    </tr>\n",
       "  </thead>\n",
       "  <tbody>\n",
       "    <tr>\n",
       "      <th>374556</th>\n",
       "      <td>2019-01-01</td>\n",
       "      <td>12</td>\n",
       "      <td>Lesiones</td>\n",
       "      <td>Siniestro Vial</td>\n",
       "      <td>1.0</td>\n",
       "      <td>4.0</td>\n",
       "      <td>Nueva Pompeya</td>\n",
       "      <td>-34.648387</td>\n",
       "      <td>-58.404748</td>\n",
       "    </tr>\n",
       "    <tr>\n",
       "      <th>426152</th>\n",
       "      <td>2019-01-01</td>\n",
       "      <td>6</td>\n",
       "      <td>Robo (con violencia)</td>\n",
       "      <td>NaN</td>\n",
       "      <td>1.0</td>\n",
       "      <td>9.0</td>\n",
       "      <td>Liniers</td>\n",
       "      <td>-34.649827</td>\n",
       "      <td>-58.513859</td>\n",
       "    </tr>\n",
       "    <tr>\n",
       "      <th>371604</th>\n",
       "      <td>2019-01-01</td>\n",
       "      <td>8</td>\n",
       "      <td>Lesiones</td>\n",
       "      <td>Siniestro Vial</td>\n",
       "      <td>1.0</td>\n",
       "      <td>15.0</td>\n",
       "      <td>Chacarita</td>\n",
       "      <td>-34.588108</td>\n",
       "      <td>-58.439392</td>\n",
       "    </tr>\n",
       "    <tr>\n",
       "      <th>425359</th>\n",
       "      <td>2019-01-01</td>\n",
       "      <td>16</td>\n",
       "      <td>Hurto (sin violencia)</td>\n",
       "      <td>Hurto Automotor</td>\n",
       "      <td>1.0</td>\n",
       "      <td>10.0</td>\n",
       "      <td>Floresta</td>\n",
       "      <td>-34.631877</td>\n",
       "      <td>-58.483975</td>\n",
       "    </tr>\n",
       "    <tr>\n",
       "      <th>437571</th>\n",
       "      <td>2019-01-01</td>\n",
       "      <td>2</td>\n",
       "      <td>Robo (con violencia)</td>\n",
       "      <td>Robo Automotor</td>\n",
       "      <td>1.0</td>\n",
       "      <td>4.0</td>\n",
       "      <td>Parque Patricios</td>\n",
       "      <td>-34.633161</td>\n",
       "      <td>-58.397123</td>\n",
       "    </tr>\n",
       "  </tbody>\n",
       "</table>\n",
       "</div>"
      ],
      "text/plain": [
       "             fecha franja_horaria            tipo_delito   subtipo_delito  \\\n",
       "id                                                                          \n",
       "374556  2019-01-01             12               Lesiones   Siniestro Vial   \n",
       "426152  2019-01-01              6   Robo (con violencia)              NaN   \n",
       "371604  2019-01-01              8               Lesiones   Siniestro Vial   \n",
       "425359  2019-01-01             16  Hurto (sin violencia)  Hurto Automotor   \n",
       "437571  2019-01-01              2   Robo (con violencia)   Robo Automotor   \n",
       "\n",
       "        cantidad_registrada  comuna            barrio        lat       long  \n",
       "id                                                                           \n",
       "374556                  1.0     4.0     Nueva Pompeya -34.648387 -58.404748  \n",
       "426152                  1.0     9.0           Liniers -34.649827 -58.513859  \n",
       "371604                  1.0    15.0         Chacarita -34.588108 -58.439392  \n",
       "425359                  1.0    10.0          Floresta -34.631877 -58.483975  \n",
       "437571                  1.0     4.0  Parque Patricios -34.633161 -58.397123  "
      ]
     },
     "execution_count": 238,
     "metadata": {},
     "output_type": "execute_result"
    }
   ],
   "source": [
    "df.head()"
   ]
  },
  {
   "cell_type": "markdown",
   "metadata": {},
   "source": [
    "Nos volvio a pasar lo mismo, esto es porque cuando hacemos un `reseteo` del Index, Pandas va a pisar a nuestro indice actual y lo va a eliminar de nuestro DF "
   ]
  },
  {
   "cell_type": "markdown",
   "metadata": {
    "colab_type": "text",
    "id": "a3WNr-AXHP0W"
   },
   "source": [
    "## 🐾 Resolver NaN \n",
    "---\n",
    "Significa Not a Number, es lo que generalmente conocemos como `Nulo, Null` o en excel es simplemente una celda sin datos. \n",
    "\n",
    "Es importante que no haya NaN, ya que estos nos pueden generar problemas (existen ciertos algoritmos que pueden sortearlos pero no es recomendable tenerlos)."
   ]
  },
  {
   "cell_type": "markdown",
   "metadata": {
    "colab_type": "text",
    "id": "j4DvbeX6HP0W"
   },
   "source": [
    "Hay 3 opciones:\n",
    " - Eliminar filas con NaN\n",
    " - Eliminar Calumnas con NaN\n",
    " - Reemplzar NaN con Otros Valores"
   ]
  },
  {
   "cell_type": "markdown",
   "metadata": {
    "colab_type": "text",
    "id": "-C_b7osbHP0X"
   },
   "source": [
    "### 🔊 Detectar NaN values"
   ]
  },
  {
   "cell_type": "code",
   "execution_count": 51,
   "metadata": {
    "colab": {},
    "colab_type": "code",
    "id": "ezNCJIfyHP0X",
    "outputId": "7312bea6-0d4e-460c-bcce-87575ff64c57"
   },
   "outputs": [
    {
     "name": "stdout",
     "output_type": "stream",
     "text": [
      "<class 'pandas.core.frame.DataFrame'>\n",
      "Int64Index: 117661 entries, 374556 to 486683\n",
      "Data columns (total 9 columns):\n",
      "fecha                  117661 non-null object\n",
      "franja_horaria         117661 non-null object\n",
      "tipo_delito            117661 non-null object\n",
      "subtipo_delito         11676 non-null object\n",
      "cantidad_registrada    117661 non-null float64\n",
      "comuna                 117064 non-null float64\n",
      "barrio                 117064 non-null object\n",
      "lat                    117064 non-null float64\n",
      "long                   117064 non-null float64\n",
      "dtypes: float64(4), object(5)\n",
      "memory usage: 14.0+ MB\n"
     ]
    }
   ],
   "source": [
    "# Primer Método\n",
    "df.info()"
   ]
  },
  {
   "cell_type": "code",
   "execution_count": 52,
   "metadata": {
    "colab": {},
    "colab_type": "code",
    "id": "knKSRVtWHP0Z",
    "outputId": "9d512f46-04fb-408d-d5c3-55602f634ded"
   },
   "outputs": [
    {
     "data": {
      "text/plain": [
       "fecha                       0\n",
       "franja_horaria              0\n",
       "tipo_delito                 0\n",
       "subtipo_delito         105985\n",
       "cantidad_registrada         0\n",
       "comuna                    597\n",
       "barrio                    597\n",
       "lat                       597\n",
       "long                      597\n",
       "dtype: int64"
      ]
     },
     "execution_count": 52,
     "metadata": {},
     "output_type": "execute_result"
    }
   ],
   "source": [
    "#Segundo  Método, Recomendado\n",
    "df.isnull().sum()"
   ]
  },
  {
   "cell_type": "code",
   "execution_count": null,
   "metadata": {},
   "outputs": [],
   "source": []
  },
  {
   "cell_type": "code",
   "execution_count": 53,
   "metadata": {
    "colab": {
     "base_uri": "https://localhost:8080/",
     "height": 272
    },
    "colab_type": "code",
    "executionInfo": {
     "elapsed": 452,
     "status": "ok",
     "timestamp": 1593554991034,
     "user": {
      "displayName": "Matias Sanchez Gavier",
      "photoUrl": "https://lh3.googleusercontent.com/a-/AOh14GjD7hZiO5eInT5MTbCuYg7k5GwpkxEcRQM1Y9NQ2g=s64",
      "userId": "12001148323871082461"
     },
     "user_tz": 180
    },
    "id": "L8QtOfHrJYXG",
    "outputId": "edf152bd-ee30-41b4-86e7-3dd999814999"
   },
   "outputs": [
    {
     "data": {
      "text/plain": [
       "subtipo_delito         105985\n",
       "long                      597\n",
       "lat                       597\n",
       "barrio                    597\n",
       "comuna                    597\n",
       "cantidad_registrada         0\n",
       "tipo_delito                 0\n",
       "franja_horaria              0\n",
       "fecha                       0\n",
       "dtype: int64"
      ]
     },
     "execution_count": 53,
     "metadata": {},
     "output_type": "execute_result"
    }
   ],
   "source": [
    "# Ordenamos de mayor a menor\n",
    "df.isna().sum().sort_values(ascending=False)"
   ]
  },
  {
   "cell_type": "markdown",
   "metadata": {
    "colab_type": "text",
    "id": "eyhS57olHP0d"
   },
   "source": [
    "### 📴 Eliminar NaN Values\n",
    "---\n",
    "\n",
    "Eliminar columnas o eliminar filas? Depende el tipo de data set que tengamos podremos determinar que conviene. Regularmente _**eliminar filas**_ es mucho mas practico, dado que todas las columnas pueden ser de valor, pero...\n",
    "\n",
    "Cuando tenemos un caso como este, donde una columna tiene casi todos sus registros Nulos, eliminando las filas perderiamos casi todo el potencial del data set, aqui SI conviene _**eliminar una columna**_ que aporta pocos atributos.\n"
   ]
  },
  {
   "cell_type": "code",
   "execution_count": null,
   "metadata": {},
   "outputs": [],
   "source": []
  },
  {
   "cell_type": "code",
   "execution_count": 246,
   "metadata": {
    "colab": {},
    "colab_type": "code",
    "id": "PCTGDsqUHP0d"
   },
   "outputs": [
    {
     "data": {
      "text/html": [
       "<div>\n",
       "<style scoped>\n",
       "    .dataframe tbody tr th:only-of-type {\n",
       "        vertical-align: middle;\n",
       "    }\n",
       "\n",
       "    .dataframe tbody tr th {\n",
       "        vertical-align: top;\n",
       "    }\n",
       "\n",
       "    .dataframe thead th {\n",
       "        text-align: right;\n",
       "    }\n",
       "</style>\n",
       "<table border=\"1\" class=\"dataframe\">\n",
       "  <thead>\n",
       "    <tr style=\"text-align: right;\">\n",
       "      <th></th>\n",
       "      <th>fecha</th>\n",
       "      <th>franja_horaria</th>\n",
       "      <th>tipo_delito</th>\n",
       "      <th>cantidad_registrada</th>\n",
       "      <th>comuna</th>\n",
       "      <th>barrio</th>\n",
       "      <th>lat</th>\n",
       "      <th>long</th>\n",
       "    </tr>\n",
       "    <tr>\n",
       "      <th>id</th>\n",
       "      <th></th>\n",
       "      <th></th>\n",
       "      <th></th>\n",
       "      <th></th>\n",
       "      <th></th>\n",
       "      <th></th>\n",
       "      <th></th>\n",
       "      <th></th>\n",
       "    </tr>\n",
       "  </thead>\n",
       "  <tbody>\n",
       "    <tr>\n",
       "      <th>374556</th>\n",
       "      <td>2019-01-01</td>\n",
       "      <td>12</td>\n",
       "      <td>Lesiones</td>\n",
       "      <td>1.0</td>\n",
       "      <td>4.0</td>\n",
       "      <td>Nueva Pompeya</td>\n",
       "      <td>-34.648387</td>\n",
       "      <td>-58.404748</td>\n",
       "    </tr>\n",
       "    <tr>\n",
       "      <th>426152</th>\n",
       "      <td>2019-01-01</td>\n",
       "      <td>6</td>\n",
       "      <td>Robo (con violencia)</td>\n",
       "      <td>1.0</td>\n",
       "      <td>9.0</td>\n",
       "      <td>Liniers</td>\n",
       "      <td>-34.649827</td>\n",
       "      <td>-58.513859</td>\n",
       "    </tr>\n",
       "    <tr>\n",
       "      <th>371604</th>\n",
       "      <td>2019-01-01</td>\n",
       "      <td>8</td>\n",
       "      <td>Lesiones</td>\n",
       "      <td>1.0</td>\n",
       "      <td>15.0</td>\n",
       "      <td>Chacarita</td>\n",
       "      <td>-34.588108</td>\n",
       "      <td>-58.439392</td>\n",
       "    </tr>\n",
       "    <tr>\n",
       "      <th>425359</th>\n",
       "      <td>2019-01-01</td>\n",
       "      <td>16</td>\n",
       "      <td>Hurto (sin violencia)</td>\n",
       "      <td>1.0</td>\n",
       "      <td>10.0</td>\n",
       "      <td>Floresta</td>\n",
       "      <td>-34.631877</td>\n",
       "      <td>-58.483975</td>\n",
       "    </tr>\n",
       "    <tr>\n",
       "      <th>437571</th>\n",
       "      <td>2019-01-01</td>\n",
       "      <td>2</td>\n",
       "      <td>Robo (con violencia)</td>\n",
       "      <td>1.0</td>\n",
       "      <td>4.0</td>\n",
       "      <td>Parque Patricios</td>\n",
       "      <td>-34.633161</td>\n",
       "      <td>-58.397123</td>\n",
       "    </tr>\n",
       "  </tbody>\n",
       "</table>\n",
       "</div>"
      ],
      "text/plain": [
       "             fecha franja_horaria            tipo_delito  cantidad_registrada  \\\n",
       "id                                                                              \n",
       "374556  2019-01-01             12               Lesiones                  1.0   \n",
       "426152  2019-01-01              6   Robo (con violencia)                  1.0   \n",
       "371604  2019-01-01              8               Lesiones                  1.0   \n",
       "425359  2019-01-01             16  Hurto (sin violencia)                  1.0   \n",
       "437571  2019-01-01              2   Robo (con violencia)                  1.0   \n",
       "\n",
       "        comuna            barrio        lat       long  \n",
       "id                                                      \n",
       "374556     4.0     Nueva Pompeya -34.648387 -58.404748  \n",
       "426152     9.0           Liniers -34.649827 -58.513859  \n",
       "371604    15.0         Chacarita -34.588108 -58.439392  \n",
       "425359    10.0          Floresta -34.631877 -58.483975  \n",
       "437571     4.0  Parque Patricios -34.633161 -58.397123  "
      ]
     },
     "execution_count": 246,
     "metadata": {},
     "output_type": "execute_result"
    }
   ],
   "source": [
    "#eliminar columna 'Axis=1, Columnas'\n",
    "df.drop(\"subtipo_delito\",axis=1).head()"
   ]
  },
  {
   "cell_type": "markdown",
   "metadata": {},
   "source": [
    "Que pasaria si borrasemos todas las filas con `Nulos`??"
   ]
  },
  {
   "cell_type": "code",
   "execution_count": 249,
   "metadata": {
    "colab": {},
    "colab_type": "code",
    "id": "rMvf5YUWHP0h"
   },
   "outputs": [
    {
     "name": "stdout",
     "output_type": "stream",
     "text": [
      "(11324, 9) (117661, 9)\n"
     ]
    }
   ],
   "source": [
    "#Eliminar Filas\n",
    "y = df.dropna()\n",
    "print(y.shape, df.shape)"
   ]
  },
  {
   "cell_type": "markdown",
   "metadata": {},
   "source": [
    "#### Variables Numericas"
   ]
  },
  {
   "cell_type": "code",
   "execution_count": 257,
   "metadata": {
    "colab": {},
    "colab_type": "code",
    "id": "HmRf8rjVHP0i"
   },
   "outputs": [
    {
     "data": {
      "text/plain": [
       "cantidad_registrada     1.000059\n",
       "comuna                  7.131868\n",
       "lat                   -34.611337\n",
       "long                  -58.432901\n",
       "dtype: float64"
      ]
     },
     "execution_count": 257,
     "metadata": {},
     "output_type": "execute_result"
    }
   ],
   "source": [
    "# Reemplzar valores NaN\n",
    "df.fillna(df.mean())"
   ]
  },
  {
   "cell_type": "markdown",
   "metadata": {},
   "source": [
    "**Sugerencia:** En estos casos donde hay pocas variables numericas, podemos reemplazar cada una por su propia Media `mean()`"
   ]
  },
  {
   "cell_type": "code",
   "execution_count": 267,
   "metadata": {},
   "outputs": [],
   "source": [
    "df['long'].fillna(df['long'].mean(), inplace = True)"
   ]
  },
  {
   "cell_type": "code",
   "execution_count": 268,
   "metadata": {
    "colab": {},
    "colab_type": "code",
    "id": "mobYyMaZJYXO"
   },
   "outputs": [
    {
     "data": {
      "text/plain": [
       "subtipo_delito         105985\n",
       "barrio                    597\n",
       "comuna                    597\n",
       "long                        0\n",
       "lat                         0\n",
       "cantidad_registrada         0\n",
       "tipo_delito                 0\n",
       "franja_horaria              0\n",
       "fecha                       0\n",
       "dtype: int64"
      ]
     },
     "execution_count": 268,
     "metadata": {},
     "output_type": "execute_result"
    }
   ],
   "source": [
    "# Ordenamos de mayor a menor\n",
    "df.isna().sum().sort_values(ascending=False)"
   ]
  },
  {
   "cell_type": "markdown",
   "metadata": {
    "colab_type": "text",
    "id": "M4ZtgTWjw0_S"
   },
   "source": [
    "Los métodos más comunes para reemplzar NaN son :\n",
    "\n",
    "- Variables **Continuas** --> Media, Mediana, Modo\n",
    "\n",
    "\n",
    "- Variables **Categóricas** --> Modo, Su propia Categoría  NaN\n",
    "\n",
    "Tambíen se pueden usar modelos estadísticos para intentar predecir los valores desconocidos. "
   ]
  },
  {
   "cell_type": "markdown",
   "metadata": {},
   "source": [
    "## 🕹Transformación de Variables\n",
    "---\n",
    "\n",
    "#### Qué pasa cuando tenemos valores que queremos descartar, pero no son Nan?"
   ]
  },
  {
   "cell_type": "code",
   "execution_count": 278,
   "metadata": {},
   "outputs": [
    {
     "data": {
      "text/plain": [
       "5      2357\n",
       "2      1965\n",
       "4      1814\n",
       "3      1719\n",
       "S/D       8\n",
       "Name: franja_horaria, dtype: int64"
      ]
     },
     "execution_count": 278,
     "metadata": {},
     "output_type": "execute_result"
    }
   ],
   "source": [
    "df['franja_horaria'].value_counts().tail()"
   ]
  },
  {
   "cell_type": "markdown",
   "metadata": {},
   "source": [
    "Nos vamos a guardar los `Index` de todas las filas que contengan ese \"S/D\" que hace que una columna Numerica sea un String"
   ]
  },
  {
   "cell_type": "code",
   "execution_count": 287,
   "metadata": {},
   "outputs": [],
   "source": [
    "h = df[(df.franja_horaria == 'S/D')].index"
   ]
  },
  {
   "cell_type": "code",
   "execution_count": 288,
   "metadata": {},
   "outputs": [
    {
     "data": {
      "text/plain": [
       "Int64Index([370989, 392384, 449495, 392348, 392639, 449807, 477325, 370978], dtype='int64', name='id')"
      ]
     },
     "execution_count": 288,
     "metadata": {},
     "output_type": "execute_result"
    }
   ],
   "source": [
    "h.unique()"
   ]
  },
  {
   "cell_type": "code",
   "execution_count": 289,
   "metadata": {},
   "outputs": [],
   "source": [
    "df.drop(h, inplace = True)"
   ]
  },
  {
   "cell_type": "code",
   "execution_count": 290,
   "metadata": {},
   "outputs": [
    {
     "data": {
      "text/plain": [
       "1    2445\n",
       "5    2357\n",
       "2    1965\n",
       "4    1814\n",
       "3    1719\n",
       "Name: franja_horaria, dtype: int64"
      ]
     },
     "execution_count": 290,
     "metadata": {},
     "output_type": "execute_result"
    }
   ],
   "source": [
    "df.franja_horaria.value_counts().tail()"
   ]
  },
  {
   "cell_type": "code",
   "execution_count": 291,
   "metadata": {},
   "outputs": [],
   "source": [
    "df.franja_horaria = pd.to_numeric(df.franja_horaria).astype('Int64')"
   ]
  },
  {
   "cell_type": "code",
   "execution_count": 292,
   "metadata": {},
   "outputs": [
    {
     "name": "stdout",
     "output_type": "stream",
     "text": [
      "<class 'pandas.core.frame.DataFrame'>\n",
      "Int64Index: 117653 entries, 374556 to 486683\n",
      "Data columns (total 9 columns):\n",
      "fecha                  117653 non-null object\n",
      "franja_horaria         117653 non-null Int64\n",
      "tipo_delito            117653 non-null object\n",
      "subtipo_delito         11674 non-null object\n",
      "cantidad_registrada    117653 non-null float64\n",
      "comuna                 117057 non-null float64\n",
      "barrio                 117057 non-null object\n",
      "lat                    117653 non-null float64\n",
      "long                   117653 non-null float64\n",
      "dtypes: Int64(1), float64(4), object(4)\n",
      "memory usage: 9.1+ MB\n"
     ]
    }
   ],
   "source": [
    "df.info()"
   ]
  },
  {
   "cell_type": "markdown",
   "metadata": {
    "colab_type": "text",
    "id": "n7YwfNKTHP0k"
   },
   "source": [
    "##  💮  Operaciones \n",
    "---\n",
    "### Operaciones Básicas"
   ]
  },
  {
   "cell_type": "code",
   "execution_count": 61,
   "metadata": {
    "colab": {},
    "colab_type": "code",
    "id": "W6ho9jt1HP0l",
    "outputId": "766a6533-8a6f-44ae-8a1d-9f9d9ec511ca"
   },
   "outputs": [
    {
     "data": {
      "text/plain": [
       "117668.0"
      ]
     },
     "execution_count": 61,
     "metadata": {},
     "output_type": "execute_result"
    }
   ],
   "source": [
    "df['cantidad_registrada'].sum()"
   ]
  },
  {
   "cell_type": "code",
   "execution_count": 130,
   "metadata": {
    "colab": {},
    "colab_type": "code",
    "id": "Cz86cQjNHP0n",
    "outputId": "9e1e6866-c6d0-44f9-8b0a-85ff2afae409"
   },
   "outputs": [
    {
     "data": {
      "text/html": [
       "<div>\n",
       "<style scoped>\n",
       "    .dataframe tbody tr th:only-of-type {\n",
       "        vertical-align: middle;\n",
       "    }\n",
       "\n",
       "    .dataframe tbody tr th {\n",
       "        vertical-align: top;\n",
       "    }\n",
       "\n",
       "    .dataframe thead th {\n",
       "        text-align: right;\n",
       "    }\n",
       "</style>\n",
       "<table border=\"1\" class=\"dataframe\">\n",
       "  <thead>\n",
       "    <tr style=\"text-align: right;\">\n",
       "      <th></th>\n",
       "      <th>franja_horaria</th>\n",
       "      <th>id</th>\n",
       "      <th>fecha</th>\n",
       "      <th>tipo_delito</th>\n",
       "      <th>subtipo_delito</th>\n",
       "      <th>cantidad_registrada</th>\n",
       "      <th>comuna</th>\n",
       "      <th>barrio</th>\n",
       "      <th>lat</th>\n",
       "      <th>long</th>\n",
       "    </tr>\n",
       "  </thead>\n",
       "  <tbody>\n",
       "    <tr>\n",
       "      <th>45208</th>\n",
       "      <td>0</td>\n",
       "      <td>442972</td>\n",
       "      <td>2019-05-10</td>\n",
       "      <td>Robo (con violencia)</td>\n",
       "      <td>-58.4329</td>\n",
       "      <td>1.0</td>\n",
       "      <td>2.0</td>\n",
       "      <td>Recoleta</td>\n",
       "      <td>-34.596770</td>\n",
       "      <td>-58.414240</td>\n",
       "    </tr>\n",
       "    <tr>\n",
       "      <th>30566</th>\n",
       "      <td>0</td>\n",
       "      <td>372386</td>\n",
       "      <td>2019-03-28</td>\n",
       "      <td>Lesiones</td>\n",
       "      <td>Siniestro Vial</td>\n",
       "      <td>1.0</td>\n",
       "      <td>5.0</td>\n",
       "      <td>Almagro</td>\n",
       "      <td>-34.618770</td>\n",
       "      <td>-58.419633</td>\n",
       "    </tr>\n",
       "    <tr>\n",
       "      <th>103232</th>\n",
       "      <td>0</td>\n",
       "      <td>478040</td>\n",
       "      <td>2019-11-13</td>\n",
       "      <td>Robo (con violencia)</td>\n",
       "      <td>-58.4329</td>\n",
       "      <td>1.0</td>\n",
       "      <td>8.0</td>\n",
       "      <td>Villa Lugano</td>\n",
       "      <td>-34.678242</td>\n",
       "      <td>-58.476561</td>\n",
       "    </tr>\n",
       "    <tr>\n",
       "      <th>2935</th>\n",
       "      <td>0</td>\n",
       "      <td>381048</td>\n",
       "      <td>2019-01-09</td>\n",
       "      <td>Hurto (sin violencia)</td>\n",
       "      <td>-58.4329</td>\n",
       "      <td>1.0</td>\n",
       "      <td>1.0</td>\n",
       "      <td>San Telmo</td>\n",
       "      <td>-34.623028</td>\n",
       "      <td>-58.371454</td>\n",
       "    </tr>\n",
       "    <tr>\n",
       "      <th>113467</th>\n",
       "      <td>0</td>\n",
       "      <td>484036</td>\n",
       "      <td>2019-12-16</td>\n",
       "      <td>Robo (con violencia)</td>\n",
       "      <td>-58.4329</td>\n",
       "      <td>1.0</td>\n",
       "      <td>4.0</td>\n",
       "      <td>Barracas</td>\n",
       "      <td>-34.650770</td>\n",
       "      <td>-58.396049</td>\n",
       "    </tr>\n",
       "  </tbody>\n",
       "</table>\n",
       "</div>"
      ],
      "text/plain": [
       "        franja_horaria      id       fecha            tipo_delito  \\\n",
       "45208                0  442972  2019-05-10   Robo (con violencia)   \n",
       "30566                0  372386  2019-03-28               Lesiones   \n",
       "103232               0  478040  2019-11-13   Robo (con violencia)   \n",
       "2935                 0  381048  2019-01-09  Hurto (sin violencia)   \n",
       "113467               0  484036  2019-12-16   Robo (con violencia)   \n",
       "\n",
       "        subtipo_delito  cantidad_registrada  comuna        barrio        lat  \\\n",
       "45208         -58.4329                  1.0     2.0      Recoleta -34.596770   \n",
       "30566   Siniestro Vial                  1.0     5.0       Almagro -34.618770   \n",
       "103232        -58.4329                  1.0     8.0  Villa Lugano -34.678242   \n",
       "2935          -58.4329                  1.0     1.0     San Telmo -34.623028   \n",
       "113467        -58.4329                  1.0     4.0      Barracas -34.650770   \n",
       "\n",
       "             long  \n",
       "45208  -58.414240  \n",
       "30566  -58.419633  \n",
       "103232 -58.476561  \n",
       "2935   -58.371454  \n",
       "113467 -58.396049  "
      ]
     },
     "execution_count": 130,
     "metadata": {},
     "output_type": "execute_result"
    }
   ],
   "source": [
    "df.sort_values(by='franja_horaria').head( )"
   ]
  },
  {
   "cell_type": "code",
   "execution_count": 131,
   "metadata": {
    "colab": {},
    "colab_type": "code",
    "id": "byGS3E1gHP0r",
    "outputId": "877bfb69-40aa-4174-e5fb-af80dec3fc52"
   },
   "outputs": [
    {
     "data": {
      "text/plain": [
       "13.61306554019022"
      ]
     },
     "execution_count": 131,
     "metadata": {},
     "output_type": "execute_result"
    }
   ],
   "source": [
    "df['franja_horaria'].mean()"
   ]
  },
  {
   "cell_type": "code",
   "execution_count": 132,
   "metadata": {
    "colab": {},
    "colab_type": "code",
    "id": "IbqyIlOjHP0t",
    "outputId": "548a2c07-1fd7-4124-d2ae-931b3a4870ac"
   },
   "outputs": [
    {
     "data": {
      "text/plain": [
       "6.107206697676569"
      ]
     },
     "execution_count": 132,
     "metadata": {},
     "output_type": "execute_result"
    }
   ],
   "source": [
    "df['franja_horaria'].std()"
   ]
  },
  {
   "cell_type": "code",
   "execution_count": 133,
   "metadata": {},
   "outputs": [
    {
     "data": {
      "text/plain": [
       "franja_horaria                           23\n",
       "id                                   488541\n",
       "fecha                            2019-12-31\n",
       "tipo_delito            Robo (con violencia)\n",
       "cantidad_registrada                       2\n",
       "comuna                                   15\n",
       "lat                                -34.5285\n",
       "long                               -58.3434\n",
       "dtype: object"
      ]
     },
     "execution_count": 133,
     "metadata": {},
     "output_type": "execute_result"
    }
   ],
   "source": [
    "df.max()"
   ]
  },
  {
   "cell_type": "markdown",
   "metadata": {
    "colab_type": "text",
    "id": "K6wZ6uYxw0_e"
   },
   "source": [
    "###  🧱   Operaciones entre Columnas"
   ]
  },
  {
   "cell_type": "code",
   "execution_count": 134,
   "metadata": {
    "colab": {},
    "colab_type": "code",
    "id": "lDPQEBGmw0_e",
    "outputId": "b663db76-82c1-4a12-cdf6-8052d24cac0e"
   },
   "outputs": [
    {
     "data": {
      "text/html": [
       "<div>\n",
       "<style scoped>\n",
       "    .dataframe tbody tr th:only-of-type {\n",
       "        vertical-align: middle;\n",
       "    }\n",
       "\n",
       "    .dataframe tbody tr th {\n",
       "        vertical-align: top;\n",
       "    }\n",
       "\n",
       "    .dataframe thead th {\n",
       "        text-align: right;\n",
       "    }\n",
       "</style>\n",
       "<table border=\"1\" class=\"dataframe\">\n",
       "  <thead>\n",
       "    <tr style=\"text-align: right;\">\n",
       "      <th></th>\n",
       "      <th>franja_horaria</th>\n",
       "      <th>id</th>\n",
       "      <th>fecha</th>\n",
       "      <th>tipo_delito</th>\n",
       "      <th>subtipo_delito</th>\n",
       "      <th>cantidad_registrada</th>\n",
       "      <th>comuna</th>\n",
       "      <th>barrio</th>\n",
       "      <th>lat</th>\n",
       "      <th>long</th>\n",
       "      <th>columna_x</th>\n",
       "    </tr>\n",
       "  </thead>\n",
       "  <tbody>\n",
       "    <tr>\n",
       "      <th>0</th>\n",
       "      <td>12</td>\n",
       "      <td>374556</td>\n",
       "      <td>2019-01-01</td>\n",
       "      <td>Lesiones</td>\n",
       "      <td>Siniestro Vial</td>\n",
       "      <td>1.0</td>\n",
       "      <td>4.0</td>\n",
       "      <td>Nueva Pompeya</td>\n",
       "      <td>-34.648387</td>\n",
       "      <td>-58.404748</td>\n",
       "      <td>9.0</td>\n",
       "    </tr>\n",
       "    <tr>\n",
       "      <th>1</th>\n",
       "      <td>6</td>\n",
       "      <td>426152</td>\n",
       "      <td>2019-01-01</td>\n",
       "      <td>Robo (con violencia)</td>\n",
       "      <td>-58.4329</td>\n",
       "      <td>1.0</td>\n",
       "      <td>9.0</td>\n",
       "      <td>Liniers</td>\n",
       "      <td>-34.649827</td>\n",
       "      <td>-58.513859</td>\n",
       "      <td>7.0</td>\n",
       "    </tr>\n",
       "    <tr>\n",
       "      <th>2</th>\n",
       "      <td>8</td>\n",
       "      <td>371604</td>\n",
       "      <td>2019-01-01</td>\n",
       "      <td>Lesiones</td>\n",
       "      <td>Siniestro Vial</td>\n",
       "      <td>1.0</td>\n",
       "      <td>15.0</td>\n",
       "      <td>Chacarita</td>\n",
       "      <td>-34.588108</td>\n",
       "      <td>-58.439392</td>\n",
       "      <td>10.0</td>\n",
       "    </tr>\n",
       "    <tr>\n",
       "      <th>3</th>\n",
       "      <td>16</td>\n",
       "      <td>425359</td>\n",
       "      <td>2019-01-01</td>\n",
       "      <td>Hurto (sin violencia)</td>\n",
       "      <td>Hurto Automotor</td>\n",
       "      <td>1.0</td>\n",
       "      <td>10.0</td>\n",
       "      <td>Floresta</td>\n",
       "      <td>-34.631877</td>\n",
       "      <td>-58.483975</td>\n",
       "      <td>14.0</td>\n",
       "    </tr>\n",
       "    <tr>\n",
       "      <th>4</th>\n",
       "      <td>2</td>\n",
       "      <td>437571</td>\n",
       "      <td>2019-01-01</td>\n",
       "      <td>Robo (con violencia)</td>\n",
       "      <td>Robo Automotor</td>\n",
       "      <td>1.0</td>\n",
       "      <td>4.0</td>\n",
       "      <td>Parque Patricios</td>\n",
       "      <td>-34.633161</td>\n",
       "      <td>-58.397123</td>\n",
       "      <td>3.0</td>\n",
       "    </tr>\n",
       "  </tbody>\n",
       "</table>\n",
       "</div>"
      ],
      "text/plain": [
       "   franja_horaria      id       fecha            tipo_delito   subtipo_delito  \\\n",
       "0              12  374556  2019-01-01               Lesiones   Siniestro Vial   \n",
       "1               6  426152  2019-01-01   Robo (con violencia)         -58.4329   \n",
       "2               8  371604  2019-01-01               Lesiones   Siniestro Vial   \n",
       "3              16  425359  2019-01-01  Hurto (sin violencia)  Hurto Automotor   \n",
       "4               2  437571  2019-01-01   Robo (con violencia)   Robo Automotor   \n",
       "\n",
       "   cantidad_registrada  comuna            barrio        lat       long  \\\n",
       "0                  1.0     4.0     Nueva Pompeya -34.648387 -58.404748   \n",
       "1                  1.0     9.0           Liniers -34.649827 -58.513859   \n",
       "2                  1.0    15.0         Chacarita -34.588108 -58.439392   \n",
       "3                  1.0    10.0          Floresta -34.631877 -58.483975   \n",
       "4                  1.0     4.0  Parque Patricios -34.633161 -58.397123   \n",
       "\n",
       "   columna_x  \n",
       "0        9.0  \n",
       "1        7.0  \n",
       "2       10.0  \n",
       "3       14.0  \n",
       "4        3.0  "
      ]
     },
     "execution_count": 134,
     "metadata": {},
     "output_type": "execute_result"
    }
   ],
   "source": [
    "df[\"columna_x\"] = df[\"comuna\"]*(1/3) + df[\"franja_horaria\"]*(2/3)\n",
    "df[\"columna_x\"] = round(df[\"columna_x\"])\n",
    "df.head()"
   ]
  },
  {
   "cell_type": "code",
   "execution_count": 135,
   "metadata": {
    "colab": {},
    "colab_type": "code",
    "id": "GcXFXBAYJYXf",
    "outputId": "bc5fd6aa-db7e-46f3-df7b-327c6e8e6ee1"
   },
   "outputs": [
    {
     "data": {
      "text/html": [
       "<div>\n",
       "<style scoped>\n",
       "    .dataframe tbody tr th:only-of-type {\n",
       "        vertical-align: middle;\n",
       "    }\n",
       "\n",
       "    .dataframe tbody tr th {\n",
       "        vertical-align: top;\n",
       "    }\n",
       "\n",
       "    .dataframe thead th {\n",
       "        text-align: right;\n",
       "    }\n",
       "</style>\n",
       "<table border=\"1\" class=\"dataframe\">\n",
       "  <thead>\n",
       "    <tr style=\"text-align: right;\">\n",
       "      <th></th>\n",
       "      <th>franja_horaria</th>\n",
       "      <th>id</th>\n",
       "      <th>fecha</th>\n",
       "      <th>tipo_delito</th>\n",
       "      <th>subtipo_delito</th>\n",
       "      <th>cantidad_registrada</th>\n",
       "      <th>comuna</th>\n",
       "      <th>barrio</th>\n",
       "      <th>lat</th>\n",
       "      <th>long</th>\n",
       "      <th>columna_x</th>\n",
       "      <th>columna_z</th>\n",
       "    </tr>\n",
       "  </thead>\n",
       "  <tbody>\n",
       "    <tr>\n",
       "      <th>0</th>\n",
       "      <td>12</td>\n",
       "      <td>374556</td>\n",
       "      <td>2019-01-01</td>\n",
       "      <td>Lesiones</td>\n",
       "      <td>Siniestro Vial</td>\n",
       "      <td>1.0</td>\n",
       "      <td>4.0</td>\n",
       "      <td>Nueva Pompeya</td>\n",
       "      <td>-34.648387</td>\n",
       "      <td>-58.404748</td>\n",
       "      <td>9.0</td>\n",
       "      <td>-0.505872</td>\n",
       "    </tr>\n",
       "    <tr>\n",
       "      <th>1</th>\n",
       "      <td>6</td>\n",
       "      <td>426152</td>\n",
       "      <td>2019-01-01</td>\n",
       "      <td>Robo (con violencia)</td>\n",
       "      <td>-58.4329</td>\n",
       "      <td>1.0</td>\n",
       "      <td>9.0</td>\n",
       "      <td>Liniers</td>\n",
       "      <td>-34.649827</td>\n",
       "      <td>-58.513859</td>\n",
       "      <td>7.0</td>\n",
       "      <td>-0.937858</td>\n",
       "    </tr>\n",
       "    <tr>\n",
       "      <th>2</th>\n",
       "      <td>8</td>\n",
       "      <td>371604</td>\n",
       "      <td>2019-01-01</td>\n",
       "      <td>Lesiones</td>\n",
       "      <td>Siniestro Vial</td>\n",
       "      <td>1.0</td>\n",
       "      <td>15.0</td>\n",
       "      <td>Chacarita</td>\n",
       "      <td>-34.588108</td>\n",
       "      <td>-58.439392</td>\n",
       "      <td>10.0</td>\n",
       "      <td>-0.289879</td>\n",
       "    </tr>\n",
       "    <tr>\n",
       "      <th>3</th>\n",
       "      <td>16</td>\n",
       "      <td>425359</td>\n",
       "      <td>2019-01-01</td>\n",
       "      <td>Hurto (sin violencia)</td>\n",
       "      <td>Hurto Automotor</td>\n",
       "      <td>1.0</td>\n",
       "      <td>10.0</td>\n",
       "      <td>Floresta</td>\n",
       "      <td>-34.631877</td>\n",
       "      <td>-58.483975</td>\n",
       "      <td>14.0</td>\n",
       "      <td>0.574094</td>\n",
       "    </tr>\n",
       "    <tr>\n",
       "      <th>4</th>\n",
       "      <td>2</td>\n",
       "      <td>437571</td>\n",
       "      <td>2019-01-01</td>\n",
       "      <td>Robo (con violencia)</td>\n",
       "      <td>Robo Automotor</td>\n",
       "      <td>1.0</td>\n",
       "      <td>4.0</td>\n",
       "      <td>Parque Patricios</td>\n",
       "      <td>-34.633161</td>\n",
       "      <td>-58.397123</td>\n",
       "      <td>3.0</td>\n",
       "      <td>-1.801830</td>\n",
       "    </tr>\n",
       "  </tbody>\n",
       "</table>\n",
       "</div>"
      ],
      "text/plain": [
       "   franja_horaria      id       fecha            tipo_delito   subtipo_delito  \\\n",
       "0              12  374556  2019-01-01               Lesiones   Siniestro Vial   \n",
       "1               6  426152  2019-01-01   Robo (con violencia)         -58.4329   \n",
       "2               8  371604  2019-01-01               Lesiones   Siniestro Vial   \n",
       "3              16  425359  2019-01-01  Hurto (sin violencia)  Hurto Automotor   \n",
       "4               2  437571  2019-01-01   Robo (con violencia)   Robo Automotor   \n",
       "\n",
       "   cantidad_registrada  comuna            barrio        lat       long  \\\n",
       "0                  1.0     4.0     Nueva Pompeya -34.648387 -58.404748   \n",
       "1                  1.0     9.0           Liniers -34.649827 -58.513859   \n",
       "2                  1.0    15.0         Chacarita -34.588108 -58.439392   \n",
       "3                  1.0    10.0          Floresta -34.631877 -58.483975   \n",
       "4                  1.0     4.0  Parque Patricios -34.633161 -58.397123   \n",
       "\n",
       "   columna_x  columna_z  \n",
       "0        9.0  -0.505872  \n",
       "1        7.0  -0.937858  \n",
       "2       10.0  -0.289879  \n",
       "3       14.0   0.574094  \n",
       "4        3.0  -1.801830  "
      ]
     },
     "execution_count": 135,
     "metadata": {},
     "output_type": "execute_result"
    }
   ],
   "source": [
    "# valor Z !\n",
    "df[\"columna_z\"] =  (df[\"columna_x\"] - df[\"columna_x\"].mean()) / df[\"columna_x\"].std()\n",
    "df.head()"
   ]
  },
  {
   "cell_type": "markdown",
   "metadata": {
    "colab_type": "text",
    "id": "KsAezLQvHP0v"
   },
   "source": [
    "### 🔦 Info en valores únicos "
   ]
  },
  {
   "cell_type": "code",
   "execution_count": 137,
   "metadata": {
    "colab": {},
    "colab_type": "code",
    "id": "4fR9sv-nHP0w",
    "outputId": "50df27eb-de4d-45c7-97e1-56ddec134e2b"
   },
   "outputs": [
    {
     "data": {
      "text/plain": [
       "array([  4.        ,   9.        ,  15.        ,  10.        ,\n",
       "        12.        ,   5.        ,  14.        ,   7.        ,\n",
       "        11.        ,   3.        ,   8.        ,   1.        ,\n",
       "         2.        ,   6.        ,  13.        , -58.43290079])"
      ]
     },
     "execution_count": 137,
     "metadata": {},
     "output_type": "execute_result"
    }
   ],
   "source": [
    "#Valores únicos\n",
    "df[\"comuna\"].unique()"
   ]
  },
  {
   "cell_type": "code",
   "execution_count": 138,
   "metadata": {
    "colab": {},
    "colab_type": "code",
    "id": "M4yZvzmGHP0y",
    "outputId": "51cfccb9-de65-48f1-81ce-a334a84895d5"
   },
   "outputs": [
    {
     "data": {
      "text/plain": [
       "16"
      ]
     },
     "execution_count": 138,
     "metadata": {},
     "output_type": "execute_result"
    }
   ],
   "source": [
    "#Cantidad de Valores únicos\n",
    "df['comuna'].nunique()"
   ]
  },
  {
   "cell_type": "code",
   "execution_count": 139,
   "metadata": {
    "colab": {},
    "colab_type": "code",
    "id": "ZxPOfBORHP02",
    "outputId": "36629e47-6e06-40cd-fbfb-89bee4d7f84f"
   },
   "outputs": [
    {
     "data": {
      "text/plain": [
       " 1.000000     18874\n",
       " 3.000000     11134\n",
       " 4.000000      9920\n",
       " 14.000000     9559\n",
       " 7.000000      7767\n",
       " 13.000000     7274\n",
       " 15.000000     6836\n",
       " 5.000000      6720\n",
       " 9.000000      6082\n",
       " 8.000000      6074\n",
       " 12.000000     5918\n",
       " 2.000000      5589\n",
       " 11.000000     5193\n",
       " 10.000000     5155\n",
       " 6.000000      4962\n",
       "-58.432901      596\n",
       "Name: comuna, dtype: int64"
      ]
     },
     "execution_count": 139,
     "metadata": {},
     "output_type": "execute_result"
    }
   ],
   "source": [
    "#Frecuencia Absoluta \n",
    "df['comuna'].value_counts()"
   ]
  },
  {
   "cell_type": "markdown",
   "metadata": {
    "colab_type": "text",
    "id": "HPDO-oJYZ3GQ"
   },
   "source": [
    "###  Columnas  Condicionales \n",
    "---\n",
    "\n",
    "Este paso es muy común y es muy usado para realizar **feature engineering**, crear nuevas variables a partir de ya existentes. \n"
   ]
  },
  {
   "cell_type": "code",
   "execution_count": 140,
   "metadata": {
    "colab": {
     "base_uri": "https://localhost:8080/",
     "height": 35
    },
    "colab_type": "code",
    "executionInfo": {
     "elapsed": 675,
     "status": "ok",
     "timestamp": 1593557112988,
     "user": {
      "displayName": "Matias Sanchez Gavier",
      "photoUrl": "https://lh3.googleusercontent.com/a-/AOh14GjD7hZiO5eInT5MTbCuYg7k5GwpkxEcRQM1Y9NQ2g=s64",
      "userId": "12001148323871082461"
     },
     "user_tz": 180
    },
    "id": "QPTamh97Z8B4",
    "outputId": "3973711b-9576-4bf9-b2f6-164f679c7a0e"
   },
   "outputs": [
    {
     "data": {
      "text/plain": [
       "array(['Nueva Pompeya', 'Liniers', 'Chacarita', 'Floresta',\n",
       "       'Parque Patricios', 'Boca', 'Villa Pueyrredón', 'Barracas',\n",
       "       'Almagro', 'Palermo', 'Parque Avellaneda', 'Parque Chacabuco',\n",
       "       'Villa Devoto', 'San Cristóbal', 'Villa Lugano', 'Retiro',\n",
       "       'Mataderos', 'Villa Crespo', 'Balvanera', 'Recoleta',\n",
       "       'Villa Soldati', 'Constitución', 'Villa Urquiza', 'Flores',\n",
       "       'San Telmo', 'Caballito', 'Nuñez', 'Villa Luro', 'Belgrano',\n",
       "       'Saavedra', 'Puerto Madero', 'Villa Ortuzar', 'San Nicolás',\n",
       "       'Boedo', 'Monserrat', 'Colegiales', 'Villa del Parque', 'Coghlan',\n",
       "       'Villa Santa Rita', -58.432900790515326, 'Monte Castro',\n",
       "       'Villa Riachuelo', 'Villa Gral. Mitre', 'Paternal', 'Agronomía',\n",
       "       'Vélez Sársfield', 'Parque Chas', 'Villa Real', 'Versalles'],\n",
       "      dtype=object)"
      ]
     },
     "execution_count": 140,
     "metadata": {},
     "output_type": "execute_result"
    }
   ],
   "source": [
    "df[\"barrio\"].unique()"
   ]
  },
  {
   "cell_type": "markdown",
   "metadata": {
    "colab_type": "text",
    "id": "BCvEOPanZ9wR"
   },
   "source": [
    "Queremos crear una nueva columna donde indiquemos que tan cool es el pokemon basado en la generación.  Entonces usamos esta regla:\n",
    "\n",
    "- Entre 1 y 3 son  Loosers\n",
    "- Entre 4 y 5 son casi Cool\n",
    "- 6 son Instagramers \n",
    "\n",
    "para esto vamos a usar la **selección condicional** que vimos hace un rato.\n",
    "\n"
   ]
  },
  {
   "cell_type": "code",
   "execution_count": 141,
   "metadata": {
    "colab": {
     "base_uri": "https://localhost:8080/",
     "height": 198
    },
    "colab_type": "code",
    "executionInfo": {
     "elapsed": 648,
     "status": "ok",
     "timestamp": 1593558055579,
     "user": {
      "displayName": "Matias Sanchez Gavier",
      "photoUrl": "https://lh3.googleusercontent.com/a-/AOh14GjD7hZiO5eInT5MTbCuYg7k5GwpkxEcRQM1Y9NQ2g=s64",
      "userId": "12001148323871082461"
     },
     "user_tz": 180
    },
    "id": "QmGYBdWhaXe8",
    "outputId": "f6d841e0-2bf5-413b-8339-8ca834ec4b4f"
   },
   "outputs": [
    {
     "data": {
      "text/html": [
       "<div>\n",
       "<style scoped>\n",
       "    .dataframe tbody tr th:only-of-type {\n",
       "        vertical-align: middle;\n",
       "    }\n",
       "\n",
       "    .dataframe tbody tr th {\n",
       "        vertical-align: top;\n",
       "    }\n",
       "\n",
       "    .dataframe thead th {\n",
       "        text-align: right;\n",
       "    }\n",
       "</style>\n",
       "<table border=\"1\" class=\"dataframe\">\n",
       "  <thead>\n",
       "    <tr style=\"text-align: right;\">\n",
       "      <th></th>\n",
       "      <th>franja_horaria</th>\n",
       "      <th>id</th>\n",
       "      <th>fecha</th>\n",
       "      <th>tipo_delito</th>\n",
       "      <th>subtipo_delito</th>\n",
       "      <th>cantidad_registrada</th>\n",
       "      <th>comuna</th>\n",
       "      <th>barrio</th>\n",
       "      <th>lat</th>\n",
       "      <th>long</th>\n",
       "      <th>columna_x</th>\n",
       "      <th>columna_z</th>\n",
       "      <th>barrio_clase</th>\n",
       "    </tr>\n",
       "  </thead>\n",
       "  <tbody>\n",
       "    <tr>\n",
       "      <th>0</th>\n",
       "      <td>12</td>\n",
       "      <td>374556</td>\n",
       "      <td>2019-01-01</td>\n",
       "      <td>Lesiones</td>\n",
       "      <td>Siniestro Vial</td>\n",
       "      <td>1.0</td>\n",
       "      <td>4.0</td>\n",
       "      <td>Nueva Pompeya</td>\n",
       "      <td>-34.648387</td>\n",
       "      <td>-58.404748</td>\n",
       "      <td>9.0</td>\n",
       "      <td>-0.505872</td>\n",
       "      <td>este</td>\n",
       "    </tr>\n",
       "    <tr>\n",
       "      <th>1</th>\n",
       "      <td>6</td>\n",
       "      <td>426152</td>\n",
       "      <td>2019-01-01</td>\n",
       "      <td>Robo (con violencia)</td>\n",
       "      <td>-58.4329</td>\n",
       "      <td>1.0</td>\n",
       "      <td>9.0</td>\n",
       "      <td>Liniers</td>\n",
       "      <td>-34.649827</td>\n",
       "      <td>-58.513859</td>\n",
       "      <td>7.0</td>\n",
       "      <td>-0.937858</td>\n",
       "      <td>centro</td>\n",
       "    </tr>\n",
       "    <tr>\n",
       "      <th>2</th>\n",
       "      <td>8</td>\n",
       "      <td>371604</td>\n",
       "      <td>2019-01-01</td>\n",
       "      <td>Lesiones</td>\n",
       "      <td>Siniestro Vial</td>\n",
       "      <td>1.0</td>\n",
       "      <td>15.0</td>\n",
       "      <td>Chacarita</td>\n",
       "      <td>-34.588108</td>\n",
       "      <td>-58.439392</td>\n",
       "      <td>10.0</td>\n",
       "      <td>-0.289879</td>\n",
       "      <td>centro</td>\n",
       "    </tr>\n",
       "    <tr>\n",
       "      <th>3</th>\n",
       "      <td>16</td>\n",
       "      <td>425359</td>\n",
       "      <td>2019-01-01</td>\n",
       "      <td>Hurto (sin violencia)</td>\n",
       "      <td>Hurto Automotor</td>\n",
       "      <td>1.0</td>\n",
       "      <td>10.0</td>\n",
       "      <td>Floresta</td>\n",
       "      <td>-34.631877</td>\n",
       "      <td>-58.483975</td>\n",
       "      <td>14.0</td>\n",
       "      <td>0.574094</td>\n",
       "      <td>centro</td>\n",
       "    </tr>\n",
       "    <tr>\n",
       "      <th>4</th>\n",
       "      <td>2</td>\n",
       "      <td>437571</td>\n",
       "      <td>2019-01-01</td>\n",
       "      <td>Robo (con violencia)</td>\n",
       "      <td>Robo Automotor</td>\n",
       "      <td>1.0</td>\n",
       "      <td>4.0</td>\n",
       "      <td>Parque Patricios</td>\n",
       "      <td>-34.633161</td>\n",
       "      <td>-58.397123</td>\n",
       "      <td>3.0</td>\n",
       "      <td>-1.801830</td>\n",
       "      <td>este</td>\n",
       "    </tr>\n",
       "  </tbody>\n",
       "</table>\n",
       "</div>"
      ],
      "text/plain": [
       "   franja_horaria      id       fecha            tipo_delito   subtipo_delito  \\\n",
       "0              12  374556  2019-01-01               Lesiones   Siniestro Vial   \n",
       "1               6  426152  2019-01-01   Robo (con violencia)         -58.4329   \n",
       "2               8  371604  2019-01-01               Lesiones   Siniestro Vial   \n",
       "3              16  425359  2019-01-01  Hurto (sin violencia)  Hurto Automotor   \n",
       "4               2  437571  2019-01-01   Robo (con violencia)   Robo Automotor   \n",
       "\n",
       "   cantidad_registrada  comuna            barrio        lat       long  \\\n",
       "0                  1.0     4.0     Nueva Pompeya -34.648387 -58.404748   \n",
       "1                  1.0     9.0           Liniers -34.649827 -58.513859   \n",
       "2                  1.0    15.0         Chacarita -34.588108 -58.439392   \n",
       "3                  1.0    10.0          Floresta -34.631877 -58.483975   \n",
       "4                  1.0     4.0  Parque Patricios -34.633161 -58.397123   \n",
       "\n",
       "   columna_x  columna_z barrio_clase  \n",
       "0        9.0  -0.505872         este  \n",
       "1        7.0  -0.937858       centro  \n",
       "2       10.0  -0.289879       centro  \n",
       "3       14.0   0.574094       centro  \n",
       "4        3.0  -1.801830         este  "
      ]
     },
     "execution_count": 141,
     "metadata": {},
     "output_type": "execute_result"
    }
   ],
   "source": [
    "df.loc[df['comuna'] <= 4 , 'barrio_clase'] = \"este\"\n",
    "\n",
    "df.loc[(4 < df['comuna']) & (df['comuna'] <=8) , 'barrio_clase'] = \"oeste\"\n",
    "\n",
    "df.loc[df['comuna']>8 , 'barrio_clase'] = \"centro\"\n",
    "\n",
    "df.head()"
   ]
  },
  {
   "cell_type": "code",
   "execution_count": 144,
   "metadata": {
    "colab": {
     "base_uri": "https://localhost:8080/",
     "height": 126
    },
    "colab_type": "code",
    "executionInfo": {
     "elapsed": 626,
     "status": "ok",
     "timestamp": 1593558118571,
     "user": {
      "displayName": "Matias Sanchez Gavier",
      "photoUrl": "https://lh3.googleusercontent.com/a-/AOh14GjD7hZiO5eInT5MTbCuYg7k5GwpkxEcRQM1Y9NQ2g=s64",
      "userId": "12001148323871082461"
     },
     "user_tz": 180
    },
    "id": "bnAbAsbkdl37",
    "outputId": "9e7aa029-3393-447e-fc2a-fe38148ba41a"
   },
   "outputs": [
    {
     "name": "stdout",
     "output_type": "stream",
     "text": [
      "['este' 'centro' 'oeste']\n"
     ]
    },
    {
     "data": {
      "text/plain": [
       "este      46113\n",
       "centro    46017\n",
       "oeste     25523\n",
       "Name: barrio_clase, dtype: int64"
      ]
     },
     "execution_count": 144,
     "metadata": {},
     "output_type": "execute_result"
    }
   ],
   "source": [
    "print(df[\"barrio_clase\"].unique())\n",
    "df[\"barrio_clase\"].value_counts()"
   ]
  },
  {
   "cell_type": "markdown",
   "metadata": {
    "colab_type": "text",
    "id": "Hxoo18fIHP07"
   },
   "source": [
    "###  🛠️  Funciones aplicadas a las columnas\n",
    "\n",
    "Vamos a usar el método **apply()**, el cual toma como input una función. La idea es que se va a ejecutar a cada elemento. "
   ]
  },
  {
   "cell_type": "code",
   "execution_count": 294,
   "metadata": {
    "colab": {},
    "colab_type": "code",
    "id": "hmXURGzOHP07"
   },
   "outputs": [],
   "source": [
    "def times2(x):\n",
    "    return x*2"
   ]
  },
  {
   "cell_type": "code",
   "execution_count": 295,
   "metadata": {
    "colab": {},
    "colab_type": "code",
    "id": "CR3AZrT5HP09"
   },
   "outputs": [
    {
     "data": {
      "text/html": [
       "<div>\n",
       "<style scoped>\n",
       "    .dataframe tbody tr th:only-of-type {\n",
       "        vertical-align: middle;\n",
       "    }\n",
       "\n",
       "    .dataframe tbody tr th {\n",
       "        vertical-align: top;\n",
       "    }\n",
       "\n",
       "    .dataframe thead th {\n",
       "        text-align: right;\n",
       "    }\n",
       "</style>\n",
       "<table border=\"1\" class=\"dataframe\">\n",
       "  <thead>\n",
       "    <tr style=\"text-align: right;\">\n",
       "      <th></th>\n",
       "      <th>fecha</th>\n",
       "      <th>franja_horaria</th>\n",
       "      <th>tipo_delito</th>\n",
       "      <th>subtipo_delito</th>\n",
       "      <th>cantidad_registrada</th>\n",
       "      <th>comuna</th>\n",
       "      <th>barrio</th>\n",
       "      <th>lat</th>\n",
       "      <th>long</th>\n",
       "      <th>comuna2</th>\n",
       "    </tr>\n",
       "    <tr>\n",
       "      <th>id</th>\n",
       "      <th></th>\n",
       "      <th></th>\n",
       "      <th></th>\n",
       "      <th></th>\n",
       "      <th></th>\n",
       "      <th></th>\n",
       "      <th></th>\n",
       "      <th></th>\n",
       "      <th></th>\n",
       "      <th></th>\n",
       "    </tr>\n",
       "  </thead>\n",
       "  <tbody>\n",
       "    <tr>\n",
       "      <th>374556</th>\n",
       "      <td>2019-01-01</td>\n",
       "      <td>12</td>\n",
       "      <td>Lesiones</td>\n",
       "      <td>Siniestro Vial</td>\n",
       "      <td>1.0</td>\n",
       "      <td>4.0</td>\n",
       "      <td>Nueva Pompeya</td>\n",
       "      <td>-34.648387</td>\n",
       "      <td>-58.404748</td>\n",
       "      <td>8.0</td>\n",
       "    </tr>\n",
       "    <tr>\n",
       "      <th>426152</th>\n",
       "      <td>2019-01-01</td>\n",
       "      <td>6</td>\n",
       "      <td>Robo (con violencia)</td>\n",
       "      <td>NaN</td>\n",
       "      <td>1.0</td>\n",
       "      <td>9.0</td>\n",
       "      <td>Liniers</td>\n",
       "      <td>-34.649827</td>\n",
       "      <td>-58.513859</td>\n",
       "      <td>18.0</td>\n",
       "    </tr>\n",
       "    <tr>\n",
       "      <th>371604</th>\n",
       "      <td>2019-01-01</td>\n",
       "      <td>8</td>\n",
       "      <td>Lesiones</td>\n",
       "      <td>Siniestro Vial</td>\n",
       "      <td>1.0</td>\n",
       "      <td>15.0</td>\n",
       "      <td>Chacarita</td>\n",
       "      <td>-34.588108</td>\n",
       "      <td>-58.439392</td>\n",
       "      <td>30.0</td>\n",
       "    </tr>\n",
       "    <tr>\n",
       "      <th>425359</th>\n",
       "      <td>2019-01-01</td>\n",
       "      <td>16</td>\n",
       "      <td>Hurto (sin violencia)</td>\n",
       "      <td>Hurto Automotor</td>\n",
       "      <td>1.0</td>\n",
       "      <td>10.0</td>\n",
       "      <td>Floresta</td>\n",
       "      <td>-34.631877</td>\n",
       "      <td>-58.483975</td>\n",
       "      <td>20.0</td>\n",
       "    </tr>\n",
       "    <tr>\n",
       "      <th>437571</th>\n",
       "      <td>2019-01-01</td>\n",
       "      <td>2</td>\n",
       "      <td>Robo (con violencia)</td>\n",
       "      <td>Robo Automotor</td>\n",
       "      <td>1.0</td>\n",
       "      <td>4.0</td>\n",
       "      <td>Parque Patricios</td>\n",
       "      <td>-34.633161</td>\n",
       "      <td>-58.397123</td>\n",
       "      <td>8.0</td>\n",
       "    </tr>\n",
       "  </tbody>\n",
       "</table>\n",
       "</div>"
      ],
      "text/plain": [
       "             fecha  franja_horaria            tipo_delito   subtipo_delito  \\\n",
       "id                                                                           \n",
       "374556  2019-01-01              12               Lesiones   Siniestro Vial   \n",
       "426152  2019-01-01               6   Robo (con violencia)              NaN   \n",
       "371604  2019-01-01               8               Lesiones   Siniestro Vial   \n",
       "425359  2019-01-01              16  Hurto (sin violencia)  Hurto Automotor   \n",
       "437571  2019-01-01               2   Robo (con violencia)   Robo Automotor   \n",
       "\n",
       "        cantidad_registrada  comuna            barrio        lat       long  \\\n",
       "id                                                                            \n",
       "374556                  1.0     4.0     Nueva Pompeya -34.648387 -58.404748   \n",
       "426152                  1.0     9.0           Liniers -34.649827 -58.513859   \n",
       "371604                  1.0    15.0         Chacarita -34.588108 -58.439392   \n",
       "425359                  1.0    10.0          Floresta -34.631877 -58.483975   \n",
       "437571                  1.0     4.0  Parque Patricios -34.633161 -58.397123   \n",
       "\n",
       "        comuna2  \n",
       "id               \n",
       "374556      8.0  \n",
       "426152     18.0  \n",
       "371604     30.0  \n",
       "425359     20.0  \n",
       "437571      8.0  "
      ]
     },
     "execution_count": 295,
     "metadata": {},
     "output_type": "execute_result"
    }
   ],
   "source": [
    "df[\"comuna2\"] = df['comuna'].apply(times2)\n",
    "df.head()"
   ]
  },
  {
   "cell_type": "code",
   "execution_count": 300,
   "metadata": {
    "colab": {},
    "colab_type": "code",
    "id": "KyPpE6Z4HP0_"
   },
   "outputs": [
    {
     "data": {
      "text/plain": [
       "id\n",
       "374556     8\n",
       "426152    20\n",
       "371604     8\n",
       "425359    21\n",
       "437571    20\n",
       "          ..\n",
       "486770    20\n",
       "486678    20\n",
       "486668    20\n",
       "486750    20\n",
       "486683    20\n",
       "Name: tipo_delito, Length: 117653, dtype: int64"
      ]
     },
     "execution_count": 300,
     "metadata": {},
     "output_type": "execute_result"
    }
   ],
   "source": [
    "df[\"tipo_delito\"].apply(len)"
   ]
  },
  {
   "cell_type": "code",
   "execution_count": 301,
   "metadata": {
    "colab": {
     "base_uri": "https://localhost:8080/",
     "height": 235
    },
    "colab_type": "code",
    "executionInfo": {
     "elapsed": 647,
     "status": "ok",
     "timestamp": 1593558299965,
     "user": {
      "displayName": "Matias Sanchez Gavier",
      "photoUrl": "https://lh3.googleusercontent.com/a-/AOh14GjD7hZiO5eInT5MTbCuYg7k5GwpkxEcRQM1Y9NQ2g=s64",
      "userId": "12001148323871082461"
     },
     "user_tz": 180
    },
    "id": "8t_CTZTRec8R",
    "outputId": "4f8df0fb-2e3a-4860-f051-179b0c567445"
   },
   "outputs": [
    {
     "data": {
      "text/plain": [
       "id\n",
       "374556                 Lesiones\n",
       "426152     Robo (con violencia)\n",
       "371604                 Lesiones\n",
       "425359    Hurto (sin violencia)\n",
       "437571     Robo (con violencia)\n",
       "                  ...          \n",
       "486770     Robo (con violencia)\n",
       "486678     Robo (con violencia)\n",
       "486668     Robo (con violencia)\n",
       "486750     Robo (con violencia)\n",
       "486683     Robo (con violencia)\n",
       "Name: tipo_delito, Length: 117653, dtype: object"
      ]
     },
     "execution_count": 301,
     "metadata": {},
     "output_type": "execute_result"
    }
   ],
   "source": [
    "df[\"tipo_delito\"].apply(str)"
   ]
  },
  {
   "cell_type": "markdown",
   "metadata": {
    "colab_type": "text",
    "id": "6CoigPAMHP1B"
   },
   "source": [
    "## 🛡️  Group By\n",
    "----\n",
    "¿Que es un Group By?"
   ]
  },
  {
   "cell_type": "markdown",
   "metadata": {},
   "source": [
    "\n",
    "\n",
    "![Image of Yaktocat](https://data36.com/wp-content/uploads/2017/06/SQL-GROUP-BY-clause-1024x720.png)"
   ]
  },
  {
   "cell_type": "code",
   "execution_count": 303,
   "metadata": {
    "colab": {},
    "colab_type": "code",
    "id": "HZizlL8gJYX3"
   },
   "outputs": [
    {
     "data": {
      "text/plain": [
       "array(['Nueva Pompeya', 'Liniers', 'Chacarita', 'Floresta',\n",
       "       'Parque Patricios', 'Boca', 'Villa Pueyrredón', 'Barracas',\n",
       "       'Almagro', 'Palermo', 'Parque Avellaneda', 'Parque Chacabuco',\n",
       "       'Villa Devoto', 'San Cristóbal', 'Villa Lugano', 'Retiro',\n",
       "       'Mataderos', 'Villa Crespo', 'Balvanera', 'Recoleta',\n",
       "       'Villa Soldati', 'Constitución', 'Villa Urquiza', 'Flores',\n",
       "       'San Telmo', 'Caballito', 'Nuñez', 'Villa Luro', 'Belgrano',\n",
       "       'Saavedra', 'Puerto Madero', 'Villa Ortuzar', 'San Nicolás',\n",
       "       'Boedo', 'Monserrat', 'Colegiales', 'Villa del Parque', 'Coghlan',\n",
       "       'Villa Santa Rita', nan, 'Monte Castro', 'Villa Riachuelo',\n",
       "       'Villa Gral. Mitre', 'Paternal', 'Agronomía', 'Vélez Sársfield',\n",
       "       'Parque Chas', 'Villa Real', 'Versalles'], dtype=object)"
      ]
     },
     "execution_count": 303,
     "metadata": {},
     "output_type": "execute_result"
    }
   ],
   "source": [
    "df[\"barrio\"].unique()"
   ]
  },
  {
   "cell_type": "code",
   "execution_count": 304,
   "metadata": {
    "colab": {},
    "colab_type": "code",
    "id": "YdHPtNM-HP1B"
   },
   "outputs": [
    {
     "data": {
      "text/plain": [
       "<pandas.core.groupby.generic.DataFrameGroupBy object at 0x12825db38>"
      ]
     },
     "execution_count": 304,
     "metadata": {},
     "output_type": "execute_result"
    }
   ],
   "source": [
    "#Group By por si solo no hace nada\n",
    "df_group = df.groupby(\"barrio\")\n",
    "df_group"
   ]
  },
  {
   "cell_type": "code",
   "execution_count": 311,
   "metadata": {
    "colab": {},
    "colab_type": "code",
    "id": "ssSTT8cHJYYG"
   },
   "outputs": [
    {
     "data": {
      "text/html": [
       "<div>\n",
       "<style scoped>\n",
       "    .dataframe tbody tr th:only-of-type {\n",
       "        vertical-align: middle;\n",
       "    }\n",
       "\n",
       "    .dataframe tbody tr th {\n",
       "        vertical-align: top;\n",
       "    }\n",
       "\n",
       "    .dataframe thead th {\n",
       "        text-align: right;\n",
       "    }\n",
       "</style>\n",
       "<table border=\"1\" class=\"dataframe\">\n",
       "  <thead>\n",
       "    <tr style=\"text-align: right;\">\n",
       "      <th></th>\n",
       "      <th>cantidad_registrada</th>\n",
       "      <th>comuna</th>\n",
       "      <th>comuna2</th>\n",
       "      <th>franja_horaria</th>\n",
       "      <th>lat</th>\n",
       "      <th>long</th>\n",
       "    </tr>\n",
       "    <tr>\n",
       "      <th>barrio</th>\n",
       "      <th></th>\n",
       "      <th></th>\n",
       "      <th></th>\n",
       "      <th></th>\n",
       "      <th></th>\n",
       "      <th></th>\n",
       "    </tr>\n",
       "  </thead>\n",
       "  <tbody>\n",
       "    <tr>\n",
       "      <th>Agronomía</th>\n",
       "      <td>1.000000</td>\n",
       "      <td>15.0</td>\n",
       "      <td>30.0</td>\n",
       "      <td>13.484581</td>\n",
       "      <td>-34.592736</td>\n",
       "      <td>-58.491886</td>\n",
       "    </tr>\n",
       "    <tr>\n",
       "      <th>Almagro</th>\n",
       "      <td>1.000000</td>\n",
       "      <td>5.0</td>\n",
       "      <td>10.0</td>\n",
       "      <td>13.527676</td>\n",
       "      <td>-34.607667</td>\n",
       "      <td>-58.420826</td>\n",
       "    </tr>\n",
       "    <tr>\n",
       "      <th>Balvanera</th>\n",
       "      <td>1.000000</td>\n",
       "      <td>3.0</td>\n",
       "      <td>6.0</td>\n",
       "      <td>13.925742</td>\n",
       "      <td>-34.607600</td>\n",
       "      <td>-58.403423</td>\n",
       "    </tr>\n",
       "    <tr>\n",
       "      <th>Barracas</th>\n",
       "      <td>1.000270</td>\n",
       "      <td>4.0</td>\n",
       "      <td>8.0</td>\n",
       "      <td>13.123450</td>\n",
       "      <td>-34.645137</td>\n",
       "      <td>-58.383798</td>\n",
       "    </tr>\n",
       "    <tr>\n",
       "      <th>Belgrano</th>\n",
       "      <td>1.000000</td>\n",
       "      <td>13.0</td>\n",
       "      <td>26.0</td>\n",
       "      <td>14.280789</td>\n",
       "      <td>-34.559443</td>\n",
       "      <td>-58.455102</td>\n",
       "    </tr>\n",
       "    <tr>\n",
       "      <th>Boca</th>\n",
       "      <td>1.000000</td>\n",
       "      <td>4.0</td>\n",
       "      <td>8.0</td>\n",
       "      <td>13.565657</td>\n",
       "      <td>-34.634076</td>\n",
       "      <td>-58.362294</td>\n",
       "    </tr>\n",
       "    <tr>\n",
       "      <th>Boedo</th>\n",
       "      <td>1.000000</td>\n",
       "      <td>5.0</td>\n",
       "      <td>10.0</td>\n",
       "      <td>13.923588</td>\n",
       "      <td>-34.629162</td>\n",
       "      <td>-58.418788</td>\n",
       "    </tr>\n",
       "    <tr>\n",
       "      <th>Caballito</th>\n",
       "      <td>1.000000</td>\n",
       "      <td>6.0</td>\n",
       "      <td>12.0</td>\n",
       "      <td>13.890367</td>\n",
       "      <td>-34.617539</td>\n",
       "      <td>-58.441193</td>\n",
       "    </tr>\n",
       "    <tr>\n",
       "      <th>Chacarita</th>\n",
       "      <td>1.000689</td>\n",
       "      <td>15.0</td>\n",
       "      <td>30.0</td>\n",
       "      <td>13.568573</td>\n",
       "      <td>-34.586753</td>\n",
       "      <td>-58.450905</td>\n",
       "    </tr>\n",
       "    <tr>\n",
       "      <th>Coghlan</th>\n",
       "      <td>1.000000</td>\n",
       "      <td>12.0</td>\n",
       "      <td>24.0</td>\n",
       "      <td>13.777311</td>\n",
       "      <td>-34.560808</td>\n",
       "      <td>-58.474190</td>\n",
       "    </tr>\n",
       "    <tr>\n",
       "      <th>Colegiales</th>\n",
       "      <td>1.000000</td>\n",
       "      <td>13.0</td>\n",
       "      <td>26.0</td>\n",
       "      <td>14.145777</td>\n",
       "      <td>-34.573836</td>\n",
       "      <td>-58.449983</td>\n",
       "    </tr>\n",
       "    <tr>\n",
       "      <th>Constitución</th>\n",
       "      <td>1.000000</td>\n",
       "      <td>1.0</td>\n",
       "      <td>2.0</td>\n",
       "      <td>13.095768</td>\n",
       "      <td>-34.625337</td>\n",
       "      <td>-58.383469</td>\n",
       "    </tr>\n",
       "    <tr>\n",
       "      <th>Flores</th>\n",
       "      <td>1.000000</td>\n",
       "      <td>7.0</td>\n",
       "      <td>14.0</td>\n",
       "      <td>13.206778</td>\n",
       "      <td>-34.633709</td>\n",
       "      <td>-58.459889</td>\n",
       "    </tr>\n",
       "    <tr>\n",
       "      <th>Floresta</th>\n",
       "      <td>1.000000</td>\n",
       "      <td>10.0</td>\n",
       "      <td>20.0</td>\n",
       "      <td>13.093891</td>\n",
       "      <td>-34.629321</td>\n",
       "      <td>-58.481520</td>\n",
       "    </tr>\n",
       "    <tr>\n",
       "      <th>Liniers</th>\n",
       "      <td>1.000000</td>\n",
       "      <td>9.0</td>\n",
       "      <td>18.0</td>\n",
       "      <td>13.669658</td>\n",
       "      <td>-34.642700</td>\n",
       "      <td>-58.521961</td>\n",
       "    </tr>\n",
       "    <tr>\n",
       "      <th>Mataderos</th>\n",
       "      <td>1.000000</td>\n",
       "      <td>9.0</td>\n",
       "      <td>18.0</td>\n",
       "      <td>13.306368</td>\n",
       "      <td>-34.658520</td>\n",
       "      <td>-58.502247</td>\n",
       "    </tr>\n",
       "    <tr>\n",
       "      <th>Monserrat</th>\n",
       "      <td>1.000310</td>\n",
       "      <td>1.0</td>\n",
       "      <td>2.0</td>\n",
       "      <td>13.563856</td>\n",
       "      <td>-34.612081</td>\n",
       "      <td>-58.379471</td>\n",
       "    </tr>\n",
       "    <tr>\n",
       "      <th>Monte Castro</th>\n",
       "      <td>1.000000</td>\n",
       "      <td>10.0</td>\n",
       "      <td>20.0</td>\n",
       "      <td>13.895539</td>\n",
       "      <td>-34.619721</td>\n",
       "      <td>-58.506896</td>\n",
       "    </tr>\n",
       "    <tr>\n",
       "      <th>Nueva Pompeya</th>\n",
       "      <td>1.000000</td>\n",
       "      <td>4.0</td>\n",
       "      <td>8.0</td>\n",
       "      <td>13.287330</td>\n",
       "      <td>-34.649736</td>\n",
       "      <td>-58.417436</td>\n",
       "    </tr>\n",
       "    <tr>\n",
       "      <th>Nuñez</th>\n",
       "      <td>1.000000</td>\n",
       "      <td>13.0</td>\n",
       "      <td>26.0</td>\n",
       "      <td>14.072102</td>\n",
       "      <td>-34.547139</td>\n",
       "      <td>-58.464802</td>\n",
       "    </tr>\n",
       "    <tr>\n",
       "      <th>Palermo</th>\n",
       "      <td>1.000105</td>\n",
       "      <td>14.0</td>\n",
       "      <td>28.0</td>\n",
       "      <td>13.267287</td>\n",
       "      <td>-34.582215</td>\n",
       "      <td>-58.423599</td>\n",
       "    </tr>\n",
       "    <tr>\n",
       "      <th>Parque Avellaneda</th>\n",
       "      <td>1.001110</td>\n",
       "      <td>9.0</td>\n",
       "      <td>18.0</td>\n",
       "      <td>13.492231</td>\n",
       "      <td>-34.648297</td>\n",
       "      <td>-58.477405</td>\n",
       "    </tr>\n",
       "    <tr>\n",
       "      <th>Parque Chacabuco</th>\n",
       "      <td>1.000000</td>\n",
       "      <td>7.0</td>\n",
       "      <td>14.0</td>\n",
       "      <td>13.764340</td>\n",
       "      <td>-34.636248</td>\n",
       "      <td>-58.438236</td>\n",
       "    </tr>\n",
       "    <tr>\n",
       "      <th>Parque Chas</th>\n",
       "      <td>1.000000</td>\n",
       "      <td>15.0</td>\n",
       "      <td>30.0</td>\n",
       "      <td>13.340249</td>\n",
       "      <td>-34.584959</td>\n",
       "      <td>-58.478681</td>\n",
       "    </tr>\n",
       "    <tr>\n",
       "      <th>Parque Patricios</th>\n",
       "      <td>1.000000</td>\n",
       "      <td>4.0</td>\n",
       "      <td>8.0</td>\n",
       "      <td>13.308800</td>\n",
       "      <td>-34.636492</td>\n",
       "      <td>-58.401225</td>\n",
       "    </tr>\n",
       "    <tr>\n",
       "      <th>Paternal</th>\n",
       "      <td>1.000000</td>\n",
       "      <td>15.0</td>\n",
       "      <td>30.0</td>\n",
       "      <td>13.207576</td>\n",
       "      <td>-34.599187</td>\n",
       "      <td>-58.466879</td>\n",
       "    </tr>\n",
       "    <tr>\n",
       "      <th>Puerto Madero</th>\n",
       "      <td>1.000000</td>\n",
       "      <td>1.0</td>\n",
       "      <td>2.0</td>\n",
       "      <td>14.590106</td>\n",
       "      <td>-34.613002</td>\n",
       "      <td>-58.361537</td>\n",
       "    </tr>\n",
       "    <tr>\n",
       "      <th>Recoleta</th>\n",
       "      <td>1.000000</td>\n",
       "      <td>2.0</td>\n",
       "      <td>4.0</td>\n",
       "      <td>14.061013</td>\n",
       "      <td>-34.592552</td>\n",
       "      <td>-58.399743</td>\n",
       "    </tr>\n",
       "    <tr>\n",
       "      <th>Retiro</th>\n",
       "      <td>1.000254</td>\n",
       "      <td>1.0</td>\n",
       "      <td>2.0</td>\n",
       "      <td>13.433876</td>\n",
       "      <td>-34.591379</td>\n",
       "      <td>-58.377797</td>\n",
       "    </tr>\n",
       "    <tr>\n",
       "      <th>Saavedra</th>\n",
       "      <td>1.000000</td>\n",
       "      <td>12.0</td>\n",
       "      <td>24.0</td>\n",
       "      <td>14.044262</td>\n",
       "      <td>-34.549345</td>\n",
       "      <td>-58.483294</td>\n",
       "    </tr>\n",
       "    <tr>\n",
       "      <th>San Cristóbal</th>\n",
       "      <td>1.000000</td>\n",
       "      <td>3.0</td>\n",
       "      <td>6.0</td>\n",
       "      <td>13.504219</td>\n",
       "      <td>-34.623657</td>\n",
       "      <td>-58.400907</td>\n",
       "    </tr>\n",
       "    <tr>\n",
       "      <th>San Nicolás</th>\n",
       "      <td>1.000000</td>\n",
       "      <td>1.0</td>\n",
       "      <td>2.0</td>\n",
       "      <td>14.172110</td>\n",
       "      <td>-34.603679</td>\n",
       "      <td>-58.379998</td>\n",
       "    </tr>\n",
       "    <tr>\n",
       "      <th>San Telmo</th>\n",
       "      <td>1.000000</td>\n",
       "      <td>1.0</td>\n",
       "      <td>2.0</td>\n",
       "      <td>13.295925</td>\n",
       "      <td>-34.620770</td>\n",
       "      <td>-58.371835</td>\n",
       "    </tr>\n",
       "    <tr>\n",
       "      <th>Versalles</th>\n",
       "      <td>1.000000</td>\n",
       "      <td>10.0</td>\n",
       "      <td>20.0</td>\n",
       "      <td>13.607143</td>\n",
       "      <td>-34.630554</td>\n",
       "      <td>-58.522443</td>\n",
       "    </tr>\n",
       "    <tr>\n",
       "      <th>Villa Crespo</th>\n",
       "      <td>1.000000</td>\n",
       "      <td>15.0</td>\n",
       "      <td>30.0</td>\n",
       "      <td>13.377226</td>\n",
       "      <td>-34.598713</td>\n",
       "      <td>-58.440694</td>\n",
       "    </tr>\n",
       "    <tr>\n",
       "      <th>Villa Devoto</th>\n",
       "      <td>1.000000</td>\n",
       "      <td>11.0</td>\n",
       "      <td>22.0</td>\n",
       "      <td>13.770879</td>\n",
       "      <td>-34.602826</td>\n",
       "      <td>-58.513806</td>\n",
       "    </tr>\n",
       "    <tr>\n",
       "      <th>Villa Gral. Mitre</th>\n",
       "      <td>1.000000</td>\n",
       "      <td>11.0</td>\n",
       "      <td>22.0</td>\n",
       "      <td>13.444759</td>\n",
       "      <td>-34.610226</td>\n",
       "      <td>-58.468541</td>\n",
       "    </tr>\n",
       "    <tr>\n",
       "      <th>Villa Lugano</th>\n",
       "      <td>1.000000</td>\n",
       "      <td>8.0</td>\n",
       "      <td>16.0</td>\n",
       "      <td>13.185204</td>\n",
       "      <td>-34.675365</td>\n",
       "      <td>-58.475708</td>\n",
       "    </tr>\n",
       "    <tr>\n",
       "      <th>Villa Luro</th>\n",
       "      <td>1.000000</td>\n",
       "      <td>10.0</td>\n",
       "      <td>20.0</td>\n",
       "      <td>13.651113</td>\n",
       "      <td>-34.637418</td>\n",
       "      <td>-58.502281</td>\n",
       "    </tr>\n",
       "    <tr>\n",
       "      <th>Villa Ortuzar</th>\n",
       "      <td>1.000000</td>\n",
       "      <td>15.0</td>\n",
       "      <td>30.0</td>\n",
       "      <td>13.699225</td>\n",
       "      <td>-34.580772</td>\n",
       "      <td>-58.468366</td>\n",
       "    </tr>\n",
       "    <tr>\n",
       "      <th>Villa Pueyrredón</th>\n",
       "      <td>1.000000</td>\n",
       "      <td>12.0</td>\n",
       "      <td>24.0</td>\n",
       "      <td>13.736746</td>\n",
       "      <td>-34.582389</td>\n",
       "      <td>-58.502779</td>\n",
       "    </tr>\n",
       "    <tr>\n",
       "      <th>Villa Real</th>\n",
       "      <td>1.000000</td>\n",
       "      <td>10.0</td>\n",
       "      <td>20.0</td>\n",
       "      <td>14.061224</td>\n",
       "      <td>-34.619441</td>\n",
       "      <td>-58.525945</td>\n",
       "    </tr>\n",
       "    <tr>\n",
       "      <th>Villa Riachuelo</th>\n",
       "      <td>1.000000</td>\n",
       "      <td>8.0</td>\n",
       "      <td>16.0</td>\n",
       "      <td>13.350000</td>\n",
       "      <td>-34.690546</td>\n",
       "      <td>-58.470875</td>\n",
       "    </tr>\n",
       "    <tr>\n",
       "      <th>Villa Santa Rita</th>\n",
       "      <td>1.000000</td>\n",
       "      <td>11.0</td>\n",
       "      <td>22.0</td>\n",
       "      <td>13.813373</td>\n",
       "      <td>-34.616417</td>\n",
       "      <td>-58.481878</td>\n",
       "    </tr>\n",
       "    <tr>\n",
       "      <th>Villa Soldati</th>\n",
       "      <td>1.000000</td>\n",
       "      <td>8.0</td>\n",
       "      <td>16.0</td>\n",
       "      <td>13.114869</td>\n",
       "      <td>-34.662645</td>\n",
       "      <td>-58.446556</td>\n",
       "    </tr>\n",
       "    <tr>\n",
       "      <th>Villa Urquiza</th>\n",
       "      <td>1.000000</td>\n",
       "      <td>12.0</td>\n",
       "      <td>24.0</td>\n",
       "      <td>13.795075</td>\n",
       "      <td>-34.572422</td>\n",
       "      <td>-58.487059</td>\n",
       "    </tr>\n",
       "    <tr>\n",
       "      <th>Villa del Parque</th>\n",
       "      <td>1.000000</td>\n",
       "      <td>11.0</td>\n",
       "      <td>22.0</td>\n",
       "      <td>14.039634</td>\n",
       "      <td>-34.603972</td>\n",
       "      <td>-58.490543</td>\n",
       "    </tr>\n",
       "    <tr>\n",
       "      <th>Vélez Sársfield</th>\n",
       "      <td>1.000000</td>\n",
       "      <td>10.0</td>\n",
       "      <td>20.0</td>\n",
       "      <td>13.435693</td>\n",
       "      <td>-34.632121</td>\n",
       "      <td>-58.492192</td>\n",
       "    </tr>\n",
       "  </tbody>\n",
       "</table>\n",
       "</div>"
      ],
      "text/plain": [
       "                   cantidad_registrada  comuna  comuna2  franja_horaria  \\\n",
       "barrio                                                                    \n",
       "Agronomía                     1.000000    15.0     30.0       13.484581   \n",
       "Almagro                       1.000000     5.0     10.0       13.527676   \n",
       "Balvanera                     1.000000     3.0      6.0       13.925742   \n",
       "Barracas                      1.000270     4.0      8.0       13.123450   \n",
       "Belgrano                      1.000000    13.0     26.0       14.280789   \n",
       "Boca                          1.000000     4.0      8.0       13.565657   \n",
       "Boedo                         1.000000     5.0     10.0       13.923588   \n",
       "Caballito                     1.000000     6.0     12.0       13.890367   \n",
       "Chacarita                     1.000689    15.0     30.0       13.568573   \n",
       "Coghlan                       1.000000    12.0     24.0       13.777311   \n",
       "Colegiales                    1.000000    13.0     26.0       14.145777   \n",
       "Constitución                  1.000000     1.0      2.0       13.095768   \n",
       "Flores                        1.000000     7.0     14.0       13.206778   \n",
       "Floresta                      1.000000    10.0     20.0       13.093891   \n",
       "Liniers                       1.000000     9.0     18.0       13.669658   \n",
       "Mataderos                     1.000000     9.0     18.0       13.306368   \n",
       "Monserrat                     1.000310     1.0      2.0       13.563856   \n",
       "Monte Castro                  1.000000    10.0     20.0       13.895539   \n",
       "Nueva Pompeya                 1.000000     4.0      8.0       13.287330   \n",
       "Nuñez                         1.000000    13.0     26.0       14.072102   \n",
       "Palermo                       1.000105    14.0     28.0       13.267287   \n",
       "Parque Avellaneda             1.001110     9.0     18.0       13.492231   \n",
       "Parque Chacabuco              1.000000     7.0     14.0       13.764340   \n",
       "Parque Chas                   1.000000    15.0     30.0       13.340249   \n",
       "Parque Patricios              1.000000     4.0      8.0       13.308800   \n",
       "Paternal                      1.000000    15.0     30.0       13.207576   \n",
       "Puerto Madero                 1.000000     1.0      2.0       14.590106   \n",
       "Recoleta                      1.000000     2.0      4.0       14.061013   \n",
       "Retiro                        1.000254     1.0      2.0       13.433876   \n",
       "Saavedra                      1.000000    12.0     24.0       14.044262   \n",
       "San Cristóbal                 1.000000     3.0      6.0       13.504219   \n",
       "San Nicolás                   1.000000     1.0      2.0       14.172110   \n",
       "San Telmo                     1.000000     1.0      2.0       13.295925   \n",
       "Versalles                     1.000000    10.0     20.0       13.607143   \n",
       "Villa Crespo                  1.000000    15.0     30.0       13.377226   \n",
       "Villa Devoto                  1.000000    11.0     22.0       13.770879   \n",
       "Villa Gral. Mitre             1.000000    11.0     22.0       13.444759   \n",
       "Villa Lugano                  1.000000     8.0     16.0       13.185204   \n",
       "Villa Luro                    1.000000    10.0     20.0       13.651113   \n",
       "Villa Ortuzar                 1.000000    15.0     30.0       13.699225   \n",
       "Villa Pueyrredón              1.000000    12.0     24.0       13.736746   \n",
       "Villa Real                    1.000000    10.0     20.0       14.061224   \n",
       "Villa Riachuelo               1.000000     8.0     16.0       13.350000   \n",
       "Villa Santa Rita              1.000000    11.0     22.0       13.813373   \n",
       "Villa Soldati                 1.000000     8.0     16.0       13.114869   \n",
       "Villa Urquiza                 1.000000    12.0     24.0       13.795075   \n",
       "Villa del Parque              1.000000    11.0     22.0       14.039634   \n",
       "Vélez Sársfield               1.000000    10.0     20.0       13.435693   \n",
       "\n",
       "                         lat       long  \n",
       "barrio                                   \n",
       "Agronomía         -34.592736 -58.491886  \n",
       "Almagro           -34.607667 -58.420826  \n",
       "Balvanera         -34.607600 -58.403423  \n",
       "Barracas          -34.645137 -58.383798  \n",
       "Belgrano          -34.559443 -58.455102  \n",
       "Boca              -34.634076 -58.362294  \n",
       "Boedo             -34.629162 -58.418788  \n",
       "Caballito         -34.617539 -58.441193  \n",
       "Chacarita         -34.586753 -58.450905  \n",
       "Coghlan           -34.560808 -58.474190  \n",
       "Colegiales        -34.573836 -58.449983  \n",
       "Constitución      -34.625337 -58.383469  \n",
       "Flores            -34.633709 -58.459889  \n",
       "Floresta          -34.629321 -58.481520  \n",
       "Liniers           -34.642700 -58.521961  \n",
       "Mataderos         -34.658520 -58.502247  \n",
       "Monserrat         -34.612081 -58.379471  \n",
       "Monte Castro      -34.619721 -58.506896  \n",
       "Nueva Pompeya     -34.649736 -58.417436  \n",
       "Nuñez             -34.547139 -58.464802  \n",
       "Palermo           -34.582215 -58.423599  \n",
       "Parque Avellaneda -34.648297 -58.477405  \n",
       "Parque Chacabuco  -34.636248 -58.438236  \n",
       "Parque Chas       -34.584959 -58.478681  \n",
       "Parque Patricios  -34.636492 -58.401225  \n",
       "Paternal          -34.599187 -58.466879  \n",
       "Puerto Madero     -34.613002 -58.361537  \n",
       "Recoleta          -34.592552 -58.399743  \n",
       "Retiro            -34.591379 -58.377797  \n",
       "Saavedra          -34.549345 -58.483294  \n",
       "San Cristóbal     -34.623657 -58.400907  \n",
       "San Nicolás       -34.603679 -58.379998  \n",
       "San Telmo         -34.620770 -58.371835  \n",
       "Versalles         -34.630554 -58.522443  \n",
       "Villa Crespo      -34.598713 -58.440694  \n",
       "Villa Devoto      -34.602826 -58.513806  \n",
       "Villa Gral. Mitre -34.610226 -58.468541  \n",
       "Villa Lugano      -34.675365 -58.475708  \n",
       "Villa Luro        -34.637418 -58.502281  \n",
       "Villa Ortuzar     -34.580772 -58.468366  \n",
       "Villa Pueyrredón  -34.582389 -58.502779  \n",
       "Villa Real        -34.619441 -58.525945  \n",
       "Villa Riachuelo   -34.690546 -58.470875  \n",
       "Villa Santa Rita  -34.616417 -58.481878  \n",
       "Villa Soldati     -34.662645 -58.446556  \n",
       "Villa Urquiza     -34.572422 -58.487059  \n",
       "Villa del Parque  -34.603972 -58.490543  \n",
       "Vélez Sársfield   -34.632121 -58.492192  "
      ]
     },
     "execution_count": 311,
     "metadata": {},
     "output_type": "execute_result"
    }
   ],
   "source": [
    "# Devuelve la media para cada variable \n",
    "df_group.mean()"
   ]
  },
  {
   "cell_type": "code",
   "execution_count": 320,
   "metadata": {
    "colab": {},
    "colab_type": "code",
    "id": "K2PJq6AHJYYI"
   },
   "outputs": [
    {
     "data": {
      "text/plain": [
       "barrio\n",
       "Puerto Madero    14.590106\n",
       "Belgrano         14.280789\n",
       "San Nicolás      14.172110\n",
       "Colegiales       14.145777\n",
       "Nuñez            14.072102\n",
       "Name: franja_horaria, dtype: float64"
      ]
     },
     "execution_count": 320,
     "metadata": {},
     "output_type": "execute_result"
    }
   ],
   "source": [
    "df_group.mean()[\"franja_horaria\"].sort_values(ascending=False).head()"
   ]
  },
  {
   "cell_type": "code",
   "execution_count": 319,
   "metadata": {
    "colab": {},
    "colab_type": "code",
    "id": "xPsSXOuqHP1C"
   },
   "outputs": [
    {
     "data": {
      "text/plain": [
       "barrio\n",
       "Agronomía    0.0\n",
       "Almagro      0.0\n",
       "Balvanera    0.0\n",
       "Barracas     0.0\n",
       "Belgrano     0.0\n",
       "Name: comuna, dtype: float64"
      ]
     },
     "execution_count": 319,
     "metadata": {},
     "output_type": "execute_result"
    }
   ],
   "source": [
    "df_group.std()[\"comuna\"].head()"
   ]
  },
  {
   "cell_type": "code",
   "execution_count": 318,
   "metadata": {
    "colab": {},
    "colab_type": "code",
    "id": "aji8vSOIHP1F"
   },
   "outputs": [
    {
     "data": {
      "text/html": [
       "<div>\n",
       "<style scoped>\n",
       "    .dataframe tbody tr th:only-of-type {\n",
       "        vertical-align: middle;\n",
       "    }\n",
       "\n",
       "    .dataframe tbody tr th {\n",
       "        vertical-align: top;\n",
       "    }\n",
       "\n",
       "    .dataframe thead th {\n",
       "        text-align: right;\n",
       "    }\n",
       "</style>\n",
       "<table border=\"1\" class=\"dataframe\">\n",
       "  <thead>\n",
       "    <tr style=\"text-align: right;\">\n",
       "      <th></th>\n",
       "      <th>count</th>\n",
       "      <th>mean</th>\n",
       "      <th>std</th>\n",
       "      <th>min</th>\n",
       "      <th>25%</th>\n",
       "      <th>50%</th>\n",
       "      <th>75%</th>\n",
       "      <th>max</th>\n",
       "    </tr>\n",
       "    <tr>\n",
       "      <th>barrio</th>\n",
       "      <th></th>\n",
       "      <th></th>\n",
       "      <th></th>\n",
       "      <th></th>\n",
       "      <th></th>\n",
       "      <th></th>\n",
       "      <th></th>\n",
       "      <th></th>\n",
       "    </tr>\n",
       "  </thead>\n",
       "  <tbody>\n",
       "    <tr>\n",
       "      <th>Palermo</th>\n",
       "      <td>9559.0</td>\n",
       "      <td>1.000105</td>\n",
       "      <td>0.010228</td>\n",
       "      <td>1.0</td>\n",
       "      <td>1.0</td>\n",
       "      <td>1.0</td>\n",
       "      <td>1.0</td>\n",
       "      <td>2.0</td>\n",
       "    </tr>\n",
       "    <tr>\n",
       "      <th>Balvanera</th>\n",
       "      <td>9238.0</td>\n",
       "      <td>1.000000</td>\n",
       "      <td>0.000000</td>\n",
       "      <td>1.0</td>\n",
       "      <td>1.0</td>\n",
       "      <td>1.0</td>\n",
       "      <td>1.0</td>\n",
       "      <td>1.0</td>\n",
       "    </tr>\n",
       "    <tr>\n",
       "      <th>San Nicolás</th>\n",
       "      <td>6246.0</td>\n",
       "      <td>1.000000</td>\n",
       "      <td>0.000000</td>\n",
       "      <td>1.0</td>\n",
       "      <td>1.0</td>\n",
       "      <td>1.0</td>\n",
       "      <td>1.0</td>\n",
       "      <td>1.0</td>\n",
       "    </tr>\n",
       "    <tr>\n",
       "      <th>Recoleta</th>\n",
       "      <td>5589.0</td>\n",
       "      <td>1.000000</td>\n",
       "      <td>0.000000</td>\n",
       "      <td>1.0</td>\n",
       "      <td>1.0</td>\n",
       "      <td>1.0</td>\n",
       "      <td>1.0</td>\n",
       "      <td>1.0</td>\n",
       "    </tr>\n",
       "    <tr>\n",
       "      <th>Flores</th>\n",
       "      <td>5518.0</td>\n",
       "      <td>1.000000</td>\n",
       "      <td>0.000000</td>\n",
       "      <td>1.0</td>\n",
       "      <td>1.0</td>\n",
       "      <td>1.0</td>\n",
       "      <td>1.0</td>\n",
       "      <td>1.0</td>\n",
       "    </tr>\n",
       "  </tbody>\n",
       "</table>\n",
       "</div>"
      ],
      "text/plain": [
       "              count      mean       std  min  25%  50%  75%  max\n",
       "barrio                                                          \n",
       "Palermo      9559.0  1.000105  0.010228  1.0  1.0  1.0  1.0  2.0\n",
       "Balvanera    9238.0  1.000000  0.000000  1.0  1.0  1.0  1.0  1.0\n",
       "San Nicolás  6246.0  1.000000  0.000000  1.0  1.0  1.0  1.0  1.0\n",
       "Recoleta     5589.0  1.000000  0.000000  1.0  1.0  1.0  1.0  1.0\n",
       "Flores       5518.0  1.000000  0.000000  1.0  1.0  1.0  1.0  1.0"
      ]
     },
     "execution_count": 318,
     "metadata": {},
     "output_type": "execute_result"
    }
   ],
   "source": [
    "df_group.describe()[\"cantidad_registrada\"].sort_values(by='count',ascending=False).head()"
   ]
  },
  {
   "cell_type": "markdown",
   "metadata": {
    "colab_type": "text",
    "id": "pUD8MWD8HP1J"
   },
   "source": [
    "Otras operaciones summary son:\n",
    "- .min()\n",
    "- .max()\n",
    "- .count()\n",
    "- .idxmax()\n",
    "- .idxmin()\n",
    "- .quantile()\n",
    "- .skew()\n",
    "- .kurtosis()"
   ]
  },
  {
   "cell_type": "markdown",
   "metadata": {
    "colab_type": "text",
    "id": "MrHrR_wYJYYN"
   },
   "source": [
    "### 🤺 Operaciones Summary\n",
    "---\n",
    "Estas son algunas de las funciones que se aplican cuando usamos la **función describe()**\n"
   ]
  },
  {
   "cell_type": "code",
   "execution_count": 322,
   "metadata": {
    "colab": {
     "base_uri": "https://localhost:8080/",
     "height": 217
    },
    "colab_type": "code",
    "executionInfo": {
     "elapsed": 772,
     "status": "ok",
     "timestamp": 1593552969147,
     "user": {
      "displayName": "Matias Sanchez Gavier",
      "photoUrl": "https://lh3.googleusercontent.com/a-/AOh14GjD7hZiO5eInT5MTbCuYg7k5GwpkxEcRQM1Y9NQ2g=s64",
      "userId": "12001148323871082461"
     },
     "user_tz": 180
    },
    "id": "PO_lGam_JYYO",
    "outputId": "753da781-5f80-4bc0-b54f-78eafa44e801"
   },
   "outputs": [
    {
     "name": "stdout",
     "output_type": "stream",
     "text": [
      "1.0\n",
      "15.0\n",
      "117057\n",
      "371604\n",
      "372543\n",
      "0.25     3.0\n",
      "0.50     7.0\n",
      "0.75    12.0\n",
      "Name: comuna, dtype: float64\n",
      "0.2276473574238919\n",
      "-1.3288936999123235\n"
     ]
    }
   ],
   "source": [
    "print(df[\"comuna\"].min()) # Minimo\n",
    "print(df[\"comuna\"].max()) # Maximo\n",
    "print(df[\"comuna\"].count()) # Cantidad\n",
    "print(df[\"comuna\"].idxmax()) # El índice del valor máximo\n",
    "print(df[\"comuna\"].idxmin()) # El índice del valor mínimo\n",
    "print(df[\"comuna\"].quantile([.25,.5,.75])) # Los quantiles\n",
    "print(df[\"comuna\"].skew()) # Asimetria\n",
    "print(df[\"comuna\"].kurtosis()) # Kurtosis"
   ]
  },
  {
   "cell_type": "markdown",
   "metadata": {
    "colab_type": "text",
    "id": "mUzj3v21HP1K"
   },
   "source": [
    "## 🧷 Concatenar Dataframes\n",
    "---"
   ]
  },
  {
   "cell_type": "markdown",
   "metadata": {
    "colab_type": "text",
    "id": "97WFB7hxHP1K"
   },
   "source": [
    "Se puede Armar Dataframes a partir de Diccionarios "
   ]
  },
  {
   "cell_type": "code",
   "execution_count": null,
   "metadata": {
    "colab": {},
    "colab_type": "code",
    "id": "hjJ2jUVtHP1L"
   },
   "outputs": [],
   "source": [
    "df1 = pd.DataFrame({'A': ['A0', 'A1', 'A2', 'A3'],\n",
    "                        'B': ['B0', 'B1', 'B2', 'B3'],\n",
    "                        'C': ['C0', 'C1', 'C2', 'C3'],\n",
    "                        'D': ['D0', 'D1', 'D2', 'D3']},\n",
    "                        index=[0, 1, 2, 3])"
   ]
  },
  {
   "cell_type": "code",
   "execution_count": null,
   "metadata": {
    "colab": {},
    "colab_type": "code",
    "id": "PeithGTpHP1O"
   },
   "outputs": [],
   "source": [
    "df2 = pd.DataFrame({'A': ['A4', 'A5', 'A6', 'A7'],\n",
    "                        'B': ['B4', 'B5', 'B6', 'B7'],\n",
    "                        'C': ['C4', 'C5', 'C6', 'C7'],\n",
    "                        'D': ['D4', 'D5', 'D6', 'D7']},\n",
    "                         index=[4, 5, 6, 7]) "
   ]
  },
  {
   "cell_type": "code",
   "execution_count": null,
   "metadata": {
    "colab": {},
    "colab_type": "code",
    "id": "WSE5DwbQHP1Q"
   },
   "outputs": [],
   "source": [
    "pd.concat([df1,df2]) # stockean como blockes de lego"
   ]
  },
  {
   "cell_type": "code",
   "execution_count": null,
   "metadata": {
    "colab": {},
    "colab_type": "code",
    "id": "8h6P-F0yHP1T"
   },
   "outputs": [],
   "source": [
    "pd.concat([df1,df2], axis=1) #Por Default axis=0, se acumulan a la derecha"
   ]
  },
  {
   "cell_type": "markdown",
   "metadata": {
    "colab_type": "text",
    "id": "nbZWVCfVJYYY"
   },
   "source": [
    "## 👾 Funciones Con Pandas! WOW\n",
    "---\n",
    "Vamos a ver como crear funciones para automtizar nuestro laburo"
   ]
  },
  {
   "cell_type": "code",
   "execution_count": 324,
   "metadata": {
    "colab": {},
    "colab_type": "code",
    "id": "xceHxYqhJYYY",
    "outputId": "1432ae45-55c1-459b-bedc-d129f996f558"
   },
   "outputs": [
    {
     "data": {
      "text/html": [
       "<div>\n",
       "<style scoped>\n",
       "    .dataframe tbody tr th:only-of-type {\n",
       "        vertical-align: middle;\n",
       "    }\n",
       "\n",
       "    .dataframe tbody tr th {\n",
       "        vertical-align: top;\n",
       "    }\n",
       "\n",
       "    .dataframe thead th {\n",
       "        text-align: right;\n",
       "    }\n",
       "</style>\n",
       "<table border=\"1\" class=\"dataframe\">\n",
       "  <thead>\n",
       "    <tr style=\"text-align: right;\">\n",
       "      <th></th>\n",
       "      <th>Z_comuna</th>\n",
       "    </tr>\n",
       "    <tr>\n",
       "      <th>id</th>\n",
       "      <th></th>\n",
       "    </tr>\n",
       "  </thead>\n",
       "  <tbody>\n",
       "    <tr>\n",
       "      <th>374556</th>\n",
       "      <td>-0.665527</td>\n",
       "    </tr>\n",
       "    <tr>\n",
       "      <th>426152</th>\n",
       "      <td>0.397019</td>\n",
       "    </tr>\n",
       "    <tr>\n",
       "      <th>371604</th>\n",
       "      <td>1.672075</td>\n",
       "    </tr>\n",
       "    <tr>\n",
       "      <th>425359</th>\n",
       "      <td>0.609528</td>\n",
       "    </tr>\n",
       "    <tr>\n",
       "      <th>437571</th>\n",
       "      <td>-0.665527</td>\n",
       "    </tr>\n",
       "    <tr>\n",
       "      <th>...</th>\n",
       "      <td>...</td>\n",
       "    </tr>\n",
       "    <tr>\n",
       "      <th>486770</th>\n",
       "      <td>0.184510</td>\n",
       "    </tr>\n",
       "    <tr>\n",
       "      <th>486678</th>\n",
       "      <td>-0.453018</td>\n",
       "    </tr>\n",
       "    <tr>\n",
       "      <th>486668</th>\n",
       "      <td>-1.303055</td>\n",
       "    </tr>\n",
       "    <tr>\n",
       "      <th>486750</th>\n",
       "      <td>1.672075</td>\n",
       "    </tr>\n",
       "    <tr>\n",
       "      <th>486683</th>\n",
       "      <td>0.184510</td>\n",
       "    </tr>\n",
       "  </tbody>\n",
       "</table>\n",
       "<p>117653 rows × 1 columns</p>\n",
       "</div>"
      ],
      "text/plain": [
       "        Z_comuna\n",
       "id              \n",
       "374556 -0.665527\n",
       "426152  0.397019\n",
       "371604  1.672075\n",
       "425359  0.609528\n",
       "437571 -0.665527\n",
       "...          ...\n",
       "486770  0.184510\n",
       "486678 -0.453018\n",
       "486668 -1.303055\n",
       "486750  1.672075\n",
       "486683  0.184510\n",
       "\n",
       "[117653 rows x 1 columns]"
      ]
     },
     "execution_count": 324,
     "metadata": {},
     "output_type": "execute_result"
    }
   ],
   "source": [
    "def obtener_Z(df, columna):\n",
    "    # valor Z !\n",
    "    df2 = pd.DataFrame([])\n",
    "    df2[f\"Z_{columna}\"] =  (df[columna] - df[columna].mean()) / df[columna].std()\n",
    "    return df2\n",
    "\n",
    "obtener_Z(df, \"comuna\")"
   ]
  },
  {
   "cell_type": "code",
   "execution_count": 326,
   "metadata": {
    "colab": {},
    "colab_type": "code",
    "id": "OHcZHhpxJYYZ"
   },
   "outputs": [
    {
     "data": {
      "text/html": [
       "<div>\n",
       "<style scoped>\n",
       "    .dataframe tbody tr th:only-of-type {\n",
       "        vertical-align: middle;\n",
       "    }\n",
       "\n",
       "    .dataframe tbody tr th {\n",
       "        vertical-align: top;\n",
       "    }\n",
       "\n",
       "    .dataframe thead th {\n",
       "        text-align: right;\n",
       "    }\n",
       "</style>\n",
       "<table border=\"1\" class=\"dataframe\">\n",
       "  <thead>\n",
       "    <tr style=\"text-align: right;\">\n",
       "      <th></th>\n",
       "      <th>fecha</th>\n",
       "      <th>franja_horaria</th>\n",
       "      <th>tipo_delito</th>\n",
       "      <th>subtipo_delito</th>\n",
       "      <th>cantidad_registrada</th>\n",
       "      <th>comuna</th>\n",
       "      <th>barrio</th>\n",
       "      <th>lat</th>\n",
       "      <th>long</th>\n",
       "      <th>comuna2</th>\n",
       "      <th>Z_comuna</th>\n",
       "    </tr>\n",
       "    <tr>\n",
       "      <th>id</th>\n",
       "      <th></th>\n",
       "      <th></th>\n",
       "      <th></th>\n",
       "      <th></th>\n",
       "      <th></th>\n",
       "      <th></th>\n",
       "      <th></th>\n",
       "      <th></th>\n",
       "      <th></th>\n",
       "      <th></th>\n",
       "      <th></th>\n",
       "    </tr>\n",
       "  </thead>\n",
       "  <tbody>\n",
       "    <tr>\n",
       "      <th>374556</th>\n",
       "      <td>2019-01-01</td>\n",
       "      <td>12</td>\n",
       "      <td>Lesiones</td>\n",
       "      <td>Siniestro Vial</td>\n",
       "      <td>1.0</td>\n",
       "      <td>4.0</td>\n",
       "      <td>Nueva Pompeya</td>\n",
       "      <td>-34.648387</td>\n",
       "      <td>-58.404748</td>\n",
       "      <td>8.0</td>\n",
       "      <td>-0.665527</td>\n",
       "    </tr>\n",
       "    <tr>\n",
       "      <th>426152</th>\n",
       "      <td>2019-01-01</td>\n",
       "      <td>6</td>\n",
       "      <td>Robo (con violencia)</td>\n",
       "      <td>NaN</td>\n",
       "      <td>1.0</td>\n",
       "      <td>9.0</td>\n",
       "      <td>Liniers</td>\n",
       "      <td>-34.649827</td>\n",
       "      <td>-58.513859</td>\n",
       "      <td>18.0</td>\n",
       "      <td>0.397019</td>\n",
       "    </tr>\n",
       "    <tr>\n",
       "      <th>371604</th>\n",
       "      <td>2019-01-01</td>\n",
       "      <td>8</td>\n",
       "      <td>Lesiones</td>\n",
       "      <td>Siniestro Vial</td>\n",
       "      <td>1.0</td>\n",
       "      <td>15.0</td>\n",
       "      <td>Chacarita</td>\n",
       "      <td>-34.588108</td>\n",
       "      <td>-58.439392</td>\n",
       "      <td>30.0</td>\n",
       "      <td>1.672075</td>\n",
       "    </tr>\n",
       "    <tr>\n",
       "      <th>425359</th>\n",
       "      <td>2019-01-01</td>\n",
       "      <td>16</td>\n",
       "      <td>Hurto (sin violencia)</td>\n",
       "      <td>Hurto Automotor</td>\n",
       "      <td>1.0</td>\n",
       "      <td>10.0</td>\n",
       "      <td>Floresta</td>\n",
       "      <td>-34.631877</td>\n",
       "      <td>-58.483975</td>\n",
       "      <td>20.0</td>\n",
       "      <td>0.609528</td>\n",
       "    </tr>\n",
       "    <tr>\n",
       "      <th>437571</th>\n",
       "      <td>2019-01-01</td>\n",
       "      <td>2</td>\n",
       "      <td>Robo (con violencia)</td>\n",
       "      <td>Robo Automotor</td>\n",
       "      <td>1.0</td>\n",
       "      <td>4.0</td>\n",
       "      <td>Parque Patricios</td>\n",
       "      <td>-34.633161</td>\n",
       "      <td>-58.397123</td>\n",
       "      <td>8.0</td>\n",
       "      <td>-0.665527</td>\n",
       "    </tr>\n",
       "    <tr>\n",
       "      <th>...</th>\n",
       "      <td>...</td>\n",
       "      <td>...</td>\n",
       "      <td>...</td>\n",
       "      <td>...</td>\n",
       "      <td>...</td>\n",
       "      <td>...</td>\n",
       "      <td>...</td>\n",
       "      <td>...</td>\n",
       "      <td>...</td>\n",
       "      <td>...</td>\n",
       "      <td>...</td>\n",
       "    </tr>\n",
       "    <tr>\n",
       "      <th>486770</th>\n",
       "      <td>2019-12-31</td>\n",
       "      <td>18</td>\n",
       "      <td>Robo (con violencia)</td>\n",
       "      <td>Robo Automotor</td>\n",
       "      <td>1.0</td>\n",
       "      <td>8.0</td>\n",
       "      <td>Villa Riachuelo</td>\n",
       "      <td>-34.692347</td>\n",
       "      <td>-58.472299</td>\n",
       "      <td>16.0</td>\n",
       "      <td>0.184510</td>\n",
       "    </tr>\n",
       "    <tr>\n",
       "      <th>486678</th>\n",
       "      <td>2019-12-31</td>\n",
       "      <td>4</td>\n",
       "      <td>Robo (con violencia)</td>\n",
       "      <td>Robo Automotor</td>\n",
       "      <td>1.0</td>\n",
       "      <td>5.0</td>\n",
       "      <td>Boedo</td>\n",
       "      <td>-34.626424</td>\n",
       "      <td>-58.422846</td>\n",
       "      <td>10.0</td>\n",
       "      <td>-0.453018</td>\n",
       "    </tr>\n",
       "    <tr>\n",
       "      <th>486668</th>\n",
       "      <td>2019-12-31</td>\n",
       "      <td>1</td>\n",
       "      <td>Robo (con violencia)</td>\n",
       "      <td>Robo Automotor</td>\n",
       "      <td>1.0</td>\n",
       "      <td>1.0</td>\n",
       "      <td>Monserrat</td>\n",
       "      <td>-34.615892</td>\n",
       "      <td>-58.370573</td>\n",
       "      <td>2.0</td>\n",
       "      <td>-1.303055</td>\n",
       "    </tr>\n",
       "    <tr>\n",
       "      <th>486750</th>\n",
       "      <td>2019-12-31</td>\n",
       "      <td>14</td>\n",
       "      <td>Robo (con violencia)</td>\n",
       "      <td>Robo Automotor</td>\n",
       "      <td>1.0</td>\n",
       "      <td>15.0</td>\n",
       "      <td>Villa Crespo</td>\n",
       "      <td>-34.602577</td>\n",
       "      <td>-58.433145</td>\n",
       "      <td>30.0</td>\n",
       "      <td>1.672075</td>\n",
       "    </tr>\n",
       "    <tr>\n",
       "      <th>486683</th>\n",
       "      <td>2019-12-31</td>\n",
       "      <td>7</td>\n",
       "      <td>Robo (con violencia)</td>\n",
       "      <td>Robo Automotor</td>\n",
       "      <td>1.0</td>\n",
       "      <td>8.0</td>\n",
       "      <td>Villa Lugano</td>\n",
       "      <td>-34.674789</td>\n",
       "      <td>-58.466394</td>\n",
       "      <td>16.0</td>\n",
       "      <td>0.184510</td>\n",
       "    </tr>\n",
       "  </tbody>\n",
       "</table>\n",
       "<p>117653 rows × 11 columns</p>\n",
       "</div>"
      ],
      "text/plain": [
       "             fecha  franja_horaria            tipo_delito   subtipo_delito  \\\n",
       "id                                                                           \n",
       "374556  2019-01-01              12               Lesiones   Siniestro Vial   \n",
       "426152  2019-01-01               6   Robo (con violencia)              NaN   \n",
       "371604  2019-01-01               8               Lesiones   Siniestro Vial   \n",
       "425359  2019-01-01              16  Hurto (sin violencia)  Hurto Automotor   \n",
       "437571  2019-01-01               2   Robo (con violencia)   Robo Automotor   \n",
       "...            ...             ...                    ...              ...   \n",
       "486770  2019-12-31              18   Robo (con violencia)   Robo Automotor   \n",
       "486678  2019-12-31               4   Robo (con violencia)   Robo Automotor   \n",
       "486668  2019-12-31               1   Robo (con violencia)   Robo Automotor   \n",
       "486750  2019-12-31              14   Robo (con violencia)   Robo Automotor   \n",
       "486683  2019-12-31               7   Robo (con violencia)   Robo Automotor   \n",
       "\n",
       "        cantidad_registrada  comuna            barrio        lat       long  \\\n",
       "id                                                                            \n",
       "374556                  1.0     4.0     Nueva Pompeya -34.648387 -58.404748   \n",
       "426152                  1.0     9.0           Liniers -34.649827 -58.513859   \n",
       "371604                  1.0    15.0         Chacarita -34.588108 -58.439392   \n",
       "425359                  1.0    10.0          Floresta -34.631877 -58.483975   \n",
       "437571                  1.0     4.0  Parque Patricios -34.633161 -58.397123   \n",
       "...                     ...     ...               ...        ...        ...   \n",
       "486770                  1.0     8.0   Villa Riachuelo -34.692347 -58.472299   \n",
       "486678                  1.0     5.0             Boedo -34.626424 -58.422846   \n",
       "486668                  1.0     1.0         Monserrat -34.615892 -58.370573   \n",
       "486750                  1.0    15.0      Villa Crespo -34.602577 -58.433145   \n",
       "486683                  1.0     8.0      Villa Lugano -34.674789 -58.466394   \n",
       "\n",
       "        comuna2  Z_comuna  \n",
       "id                         \n",
       "374556      8.0 -0.665527  \n",
       "426152     18.0  0.397019  \n",
       "371604     30.0  1.672075  \n",
       "425359     20.0  0.609528  \n",
       "437571      8.0 -0.665527  \n",
       "...         ...       ...  \n",
       "486770     16.0  0.184510  \n",
       "486678     10.0 -0.453018  \n",
       "486668      2.0 -1.303055  \n",
       "486750     30.0  1.672075  \n",
       "486683     16.0  0.184510  \n",
       "\n",
       "[117653 rows x 11 columns]"
      ]
     },
     "execution_count": 326,
     "metadata": {},
     "output_type": "execute_result"
    }
   ],
   "source": [
    "# Sacamos los valores Z para Attack \n",
    "\n",
    "Z_comuna = obtener_Z(df, \"comuna\")\n",
    "\n",
    "pd.concat([df, Z_comuna ], axis=1)"
   ]
  },
  {
   "cell_type": "markdown",
   "metadata": {
    "colab_type": "text",
    "id": "WlJp3e8gJYYb"
   },
   "source": [
    "##  💐 Intervalos de Clase\n",
    "---\n",
    "\n",
    "La idea es transformar las variables continuas en discretas, poniendolas en contenedores."
   ]
  },
  {
   "cell_type": "code",
   "execution_count": 328,
   "metadata": {
    "colab": {},
    "colab_type": "code",
    "id": "S2pQQxlTQn6N",
    "outputId": "86fa875b-b760-4822-ec7a-0ea3e0a9f75a"
   },
   "outputs": [
    {
     "data": {
      "text/html": [
       "<div>\n",
       "<style scoped>\n",
       "    .dataframe tbody tr th:only-of-type {\n",
       "        vertical-align: middle;\n",
       "    }\n",
       "\n",
       "    .dataframe tbody tr th {\n",
       "        vertical-align: top;\n",
       "    }\n",
       "\n",
       "    .dataframe thead th {\n",
       "        text-align: right;\n",
       "    }\n",
       "</style>\n",
       "<table border=\"1\" class=\"dataframe\">\n",
       "  <thead>\n",
       "    <tr style=\"text-align: right;\">\n",
       "      <th></th>\n",
       "      <th>fecha</th>\n",
       "      <th>franja_horaria</th>\n",
       "      <th>tipo_delito</th>\n",
       "      <th>subtipo_delito</th>\n",
       "      <th>cantidad_registrada</th>\n",
       "      <th>comuna</th>\n",
       "      <th>barrio</th>\n",
       "      <th>lat</th>\n",
       "      <th>long</th>\n",
       "      <th>comuna2</th>\n",
       "    </tr>\n",
       "    <tr>\n",
       "      <th>id</th>\n",
       "      <th></th>\n",
       "      <th></th>\n",
       "      <th></th>\n",
       "      <th></th>\n",
       "      <th></th>\n",
       "      <th></th>\n",
       "      <th></th>\n",
       "      <th></th>\n",
       "      <th></th>\n",
       "      <th></th>\n",
       "    </tr>\n",
       "  </thead>\n",
       "  <tbody>\n",
       "    <tr>\n",
       "      <th>374556</th>\n",
       "      <td>2019-01-01</td>\n",
       "      <td>12</td>\n",
       "      <td>Lesiones</td>\n",
       "      <td>Siniestro Vial</td>\n",
       "      <td>1.0</td>\n",
       "      <td>4.0</td>\n",
       "      <td>Nueva Pompeya</td>\n",
       "      <td>-34.648387</td>\n",
       "      <td>-58.404748</td>\n",
       "      <td>8.0</td>\n",
       "    </tr>\n",
       "    <tr>\n",
       "      <th>426152</th>\n",
       "      <td>2019-01-01</td>\n",
       "      <td>6</td>\n",
       "      <td>Robo (con violencia)</td>\n",
       "      <td>NaN</td>\n",
       "      <td>1.0</td>\n",
       "      <td>9.0</td>\n",
       "      <td>Liniers</td>\n",
       "      <td>-34.649827</td>\n",
       "      <td>-58.513859</td>\n",
       "      <td>18.0</td>\n",
       "    </tr>\n",
       "    <tr>\n",
       "      <th>371604</th>\n",
       "      <td>2019-01-01</td>\n",
       "      <td>8</td>\n",
       "      <td>Lesiones</td>\n",
       "      <td>Siniestro Vial</td>\n",
       "      <td>1.0</td>\n",
       "      <td>15.0</td>\n",
       "      <td>Chacarita</td>\n",
       "      <td>-34.588108</td>\n",
       "      <td>-58.439392</td>\n",
       "      <td>30.0</td>\n",
       "    </tr>\n",
       "    <tr>\n",
       "      <th>425359</th>\n",
       "      <td>2019-01-01</td>\n",
       "      <td>16</td>\n",
       "      <td>Hurto (sin violencia)</td>\n",
       "      <td>Hurto Automotor</td>\n",
       "      <td>1.0</td>\n",
       "      <td>10.0</td>\n",
       "      <td>Floresta</td>\n",
       "      <td>-34.631877</td>\n",
       "      <td>-58.483975</td>\n",
       "      <td>20.0</td>\n",
       "    </tr>\n",
       "    <tr>\n",
       "      <th>437571</th>\n",
       "      <td>2019-01-01</td>\n",
       "      <td>2</td>\n",
       "      <td>Robo (con violencia)</td>\n",
       "      <td>Robo Automotor</td>\n",
       "      <td>1.0</td>\n",
       "      <td>4.0</td>\n",
       "      <td>Parque Patricios</td>\n",
       "      <td>-34.633161</td>\n",
       "      <td>-58.397123</td>\n",
       "      <td>8.0</td>\n",
       "    </tr>\n",
       "  </tbody>\n",
       "</table>\n",
       "</div>"
      ],
      "text/plain": [
       "             fecha  franja_horaria            tipo_delito   subtipo_delito  \\\n",
       "id                                                                           \n",
       "374556  2019-01-01              12               Lesiones   Siniestro Vial   \n",
       "426152  2019-01-01               6   Robo (con violencia)              NaN   \n",
       "371604  2019-01-01               8               Lesiones   Siniestro Vial   \n",
       "425359  2019-01-01              16  Hurto (sin violencia)  Hurto Automotor   \n",
       "437571  2019-01-01               2   Robo (con violencia)   Robo Automotor   \n",
       "\n",
       "        cantidad_registrada  comuna            barrio        lat       long  \\\n",
       "id                                                                            \n",
       "374556                  1.0     4.0     Nueva Pompeya -34.648387 -58.404748   \n",
       "426152                  1.0     9.0           Liniers -34.649827 -58.513859   \n",
       "371604                  1.0    15.0         Chacarita -34.588108 -58.439392   \n",
       "425359                  1.0    10.0          Floresta -34.631877 -58.483975   \n",
       "437571                  1.0     4.0  Parque Patricios -34.633161 -58.397123   \n",
       "\n",
       "        comuna2  \n",
       "id               \n",
       "374556      8.0  \n",
       "426152     18.0  \n",
       "371604     30.0  \n",
       "425359     20.0  \n",
       "437571      8.0  "
      ]
     },
     "execution_count": 328,
     "metadata": {},
     "output_type": "execute_result"
    }
   ],
   "source": [
    "df.head()"
   ]
  },
  {
   "cell_type": "code",
   "execution_count": 329,
   "metadata": {
    "colab": {},
    "colab_type": "code",
    "id": "4kPikDYqJYYb",
    "outputId": "f381400c-18a9-4f65-f83b-411007693e3c"
   },
   "outputs": [
    {
     "data": {
      "text/plain": [
       "id\n",
       "374556    (10.733, 12.267]\n",
       "426152        (4.6, 6.133]\n",
       "371604        (7.667, 9.2]\n",
       "425359    (15.333, 16.867]\n",
       "437571      (1.533, 3.067]\n",
       "                ...       \n",
       "486770      (16.867, 18.4]\n",
       "486678        (3.067, 4.6]\n",
       "486668     (-0.023, 1.533]\n",
       "486750      (13.8, 15.333]\n",
       "486683      (6.133, 7.667]\n",
       "Name: franja_horaria, Length: 117653, dtype: category\n",
       "Categories (15, interval[float64]): [(-0.023, 1.533] < (1.533, 3.067] < (3.067, 4.6] < (4.6, 6.133] ... (16.867, 18.4] < (18.4, 19.933] < (19.933, 21.467] < (21.467, 23.0]]"
      ]
     },
     "execution_count": 329,
     "metadata": {},
     "output_type": "execute_result"
    }
   ],
   "source": [
    "# Con Cut le indicamos cuanto contenedores queremos\n",
    "pd.cut(df[\"franja_horaria\"], bins=15)"
   ]
  },
  {
   "cell_type": "code",
   "execution_count": 330,
   "metadata": {
    "colab": {},
    "colab_type": "code",
    "id": "GU0hjVRMJYYc"
   },
   "outputs": [
    {
     "data": {
      "text/plain": [
       "id\n",
       "374556      (9.0, 14.0]\n",
       "426152    (-0.001, 9.0]\n",
       "371604    (-0.001, 9.0]\n",
       "425359     (14.0, 19.0]\n",
       "437571    (-0.001, 9.0]\n",
       "              ...      \n",
       "486770     (14.0, 19.0]\n",
       "486678    (-0.001, 9.0]\n",
       "486668    (-0.001, 9.0]\n",
       "486750      (9.0, 14.0]\n",
       "486683    (-0.001, 9.0]\n",
       "Name: franja_IC, Length: 117653, dtype: category\n",
       "Categories (4, interval[float64]): [(-0.001, 9.0] < (9.0, 14.0] < (14.0, 19.0] < (19.0, 23.0]]"
      ]
     },
     "execution_count": 330,
     "metadata": {},
     "output_type": "execute_result"
    }
   ],
   "source": [
    "# qcut se Basa en quantiles \n",
    "df[\"franja_IC\"] = pd.qcut(df[\"franja_horaria\"],[0,0.25,0.5,0.75,1])\n",
    "df[\"franja_IC\"]"
   ]
  },
  {
   "cell_type": "markdown",
   "metadata": {
    "colab_type": "text",
    "id": "Yvs7O4qOJYYg"
   },
   "source": [
    "## 🤪  Dummy Variables\n",
    "---\n",
    "Es la forma de Transformar variables en discretas en valores numéricos.\n",
    "\n",
    "\n",
    "La variable toma 1 si se cumple la condición y 0 en caso que no."
   ]
  },
  {
   "cell_type": "code",
   "execution_count": 331,
   "metadata": {
    "colab": {},
    "colab_type": "code",
    "id": "b_zUEyTlQn6S",
    "outputId": "954c3fb1-9ecd-4e70-84fb-87ad21d4f93d"
   },
   "outputs": [
    {
     "data": {
      "text/html": [
       "<div>\n",
       "<style scoped>\n",
       "    .dataframe tbody tr th:only-of-type {\n",
       "        vertical-align: middle;\n",
       "    }\n",
       "\n",
       "    .dataframe tbody tr th {\n",
       "        vertical-align: top;\n",
       "    }\n",
       "\n",
       "    .dataframe thead th {\n",
       "        text-align: right;\n",
       "    }\n",
       "</style>\n",
       "<table border=\"1\" class=\"dataframe\">\n",
       "  <thead>\n",
       "    <tr style=\"text-align: right;\">\n",
       "      <th></th>\n",
       "      <th>fecha</th>\n",
       "      <th>franja_horaria</th>\n",
       "      <th>tipo_delito</th>\n",
       "      <th>subtipo_delito</th>\n",
       "      <th>cantidad_registrada</th>\n",
       "      <th>comuna</th>\n",
       "      <th>barrio</th>\n",
       "      <th>lat</th>\n",
       "      <th>long</th>\n",
       "      <th>comuna2</th>\n",
       "      <th>franja_IC</th>\n",
       "    </tr>\n",
       "    <tr>\n",
       "      <th>id</th>\n",
       "      <th></th>\n",
       "      <th></th>\n",
       "      <th></th>\n",
       "      <th></th>\n",
       "      <th></th>\n",
       "      <th></th>\n",
       "      <th></th>\n",
       "      <th></th>\n",
       "      <th></th>\n",
       "      <th></th>\n",
       "      <th></th>\n",
       "    </tr>\n",
       "  </thead>\n",
       "  <tbody>\n",
       "    <tr>\n",
       "      <th>374556</th>\n",
       "      <td>2019-01-01</td>\n",
       "      <td>12</td>\n",
       "      <td>Lesiones</td>\n",
       "      <td>Siniestro Vial</td>\n",
       "      <td>1.0</td>\n",
       "      <td>4.0</td>\n",
       "      <td>Nueva Pompeya</td>\n",
       "      <td>-34.648387</td>\n",
       "      <td>-58.404748</td>\n",
       "      <td>8.0</td>\n",
       "      <td>(9.0, 14.0]</td>\n",
       "    </tr>\n",
       "    <tr>\n",
       "      <th>426152</th>\n",
       "      <td>2019-01-01</td>\n",
       "      <td>6</td>\n",
       "      <td>Robo (con violencia)</td>\n",
       "      <td>NaN</td>\n",
       "      <td>1.0</td>\n",
       "      <td>9.0</td>\n",
       "      <td>Liniers</td>\n",
       "      <td>-34.649827</td>\n",
       "      <td>-58.513859</td>\n",
       "      <td>18.0</td>\n",
       "      <td>(-0.001, 9.0]</td>\n",
       "    </tr>\n",
       "    <tr>\n",
       "      <th>371604</th>\n",
       "      <td>2019-01-01</td>\n",
       "      <td>8</td>\n",
       "      <td>Lesiones</td>\n",
       "      <td>Siniestro Vial</td>\n",
       "      <td>1.0</td>\n",
       "      <td>15.0</td>\n",
       "      <td>Chacarita</td>\n",
       "      <td>-34.588108</td>\n",
       "      <td>-58.439392</td>\n",
       "      <td>30.0</td>\n",
       "      <td>(-0.001, 9.0]</td>\n",
       "    </tr>\n",
       "    <tr>\n",
       "      <th>425359</th>\n",
       "      <td>2019-01-01</td>\n",
       "      <td>16</td>\n",
       "      <td>Hurto (sin violencia)</td>\n",
       "      <td>Hurto Automotor</td>\n",
       "      <td>1.0</td>\n",
       "      <td>10.0</td>\n",
       "      <td>Floresta</td>\n",
       "      <td>-34.631877</td>\n",
       "      <td>-58.483975</td>\n",
       "      <td>20.0</td>\n",
       "      <td>(14.0, 19.0]</td>\n",
       "    </tr>\n",
       "    <tr>\n",
       "      <th>437571</th>\n",
       "      <td>2019-01-01</td>\n",
       "      <td>2</td>\n",
       "      <td>Robo (con violencia)</td>\n",
       "      <td>Robo Automotor</td>\n",
       "      <td>1.0</td>\n",
       "      <td>4.0</td>\n",
       "      <td>Parque Patricios</td>\n",
       "      <td>-34.633161</td>\n",
       "      <td>-58.397123</td>\n",
       "      <td>8.0</td>\n",
       "      <td>(-0.001, 9.0]</td>\n",
       "    </tr>\n",
       "  </tbody>\n",
       "</table>\n",
       "</div>"
      ],
      "text/plain": [
       "             fecha  franja_horaria            tipo_delito   subtipo_delito  \\\n",
       "id                                                                           \n",
       "374556  2019-01-01              12               Lesiones   Siniestro Vial   \n",
       "426152  2019-01-01               6   Robo (con violencia)              NaN   \n",
       "371604  2019-01-01               8               Lesiones   Siniestro Vial   \n",
       "425359  2019-01-01              16  Hurto (sin violencia)  Hurto Automotor   \n",
       "437571  2019-01-01               2   Robo (con violencia)   Robo Automotor   \n",
       "\n",
       "        cantidad_registrada  comuna            barrio        lat       long  \\\n",
       "id                                                                            \n",
       "374556                  1.0     4.0     Nueva Pompeya -34.648387 -58.404748   \n",
       "426152                  1.0     9.0           Liniers -34.649827 -58.513859   \n",
       "371604                  1.0    15.0         Chacarita -34.588108 -58.439392   \n",
       "425359                  1.0    10.0          Floresta -34.631877 -58.483975   \n",
       "437571                  1.0     4.0  Parque Patricios -34.633161 -58.397123   \n",
       "\n",
       "        comuna2      franja_IC  \n",
       "id                              \n",
       "374556      8.0    (9.0, 14.0]  \n",
       "426152     18.0  (-0.001, 9.0]  \n",
       "371604     30.0  (-0.001, 9.0]  \n",
       "425359     20.0   (14.0, 19.0]  \n",
       "437571      8.0  (-0.001, 9.0]  "
      ]
     },
     "execution_count": 331,
     "metadata": {},
     "output_type": "execute_result"
    }
   ],
   "source": [
    "df.head()"
   ]
  },
  {
   "cell_type": "code",
   "execution_count": 333,
   "metadata": {
    "colab": {},
    "colab_type": "code",
    "id": "dch3s9JuJYYh"
   },
   "outputs": [
    {
     "data": {
      "text/html": [
       "<div>\n",
       "<style scoped>\n",
       "    .dataframe tbody tr th:only-of-type {\n",
       "        vertical-align: middle;\n",
       "    }\n",
       "\n",
       "    .dataframe tbody tr th {\n",
       "        vertical-align: top;\n",
       "    }\n",
       "\n",
       "    .dataframe thead th {\n",
       "        text-align: right;\n",
       "    }\n",
       "</style>\n",
       "<table border=\"1\" class=\"dataframe\">\n",
       "  <thead>\n",
       "    <tr style=\"text-align: right;\">\n",
       "      <th></th>\n",
       "      <th>fecha</th>\n",
       "      <th>franja_horaria</th>\n",
       "      <th>tipo_delito</th>\n",
       "      <th>cantidad_registrada</th>\n",
       "      <th>comuna</th>\n",
       "      <th>barrio</th>\n",
       "      <th>lat</th>\n",
       "      <th>long</th>\n",
       "      <th>comuna2</th>\n",
       "      <th>franja_IC</th>\n",
       "      <th>sub_Dummy_Hurto Automotor</th>\n",
       "      <th>sub_Dummy_Robo Automotor</th>\n",
       "      <th>sub_Dummy_Siniestro Vial</th>\n",
       "    </tr>\n",
       "    <tr>\n",
       "      <th>id</th>\n",
       "      <th></th>\n",
       "      <th></th>\n",
       "      <th></th>\n",
       "      <th></th>\n",
       "      <th></th>\n",
       "      <th></th>\n",
       "      <th></th>\n",
       "      <th></th>\n",
       "      <th></th>\n",
       "      <th></th>\n",
       "      <th></th>\n",
       "      <th></th>\n",
       "      <th></th>\n",
       "    </tr>\n",
       "  </thead>\n",
       "  <tbody>\n",
       "    <tr>\n",
       "      <th>374556</th>\n",
       "      <td>2019-01-01</td>\n",
       "      <td>12</td>\n",
       "      <td>Lesiones</td>\n",
       "      <td>1.0</td>\n",
       "      <td>4.0</td>\n",
       "      <td>Nueva Pompeya</td>\n",
       "      <td>-34.648387</td>\n",
       "      <td>-58.404748</td>\n",
       "      <td>8.0</td>\n",
       "      <td>(9.0, 14.0]</td>\n",
       "      <td>0</td>\n",
       "      <td>0</td>\n",
       "      <td>1</td>\n",
       "    </tr>\n",
       "    <tr>\n",
       "      <th>426152</th>\n",
       "      <td>2019-01-01</td>\n",
       "      <td>6</td>\n",
       "      <td>Robo (con violencia)</td>\n",
       "      <td>1.0</td>\n",
       "      <td>9.0</td>\n",
       "      <td>Liniers</td>\n",
       "      <td>-34.649827</td>\n",
       "      <td>-58.513859</td>\n",
       "      <td>18.0</td>\n",
       "      <td>(-0.001, 9.0]</td>\n",
       "      <td>0</td>\n",
       "      <td>0</td>\n",
       "      <td>0</td>\n",
       "    </tr>\n",
       "    <tr>\n",
       "      <th>371604</th>\n",
       "      <td>2019-01-01</td>\n",
       "      <td>8</td>\n",
       "      <td>Lesiones</td>\n",
       "      <td>1.0</td>\n",
       "      <td>15.0</td>\n",
       "      <td>Chacarita</td>\n",
       "      <td>-34.588108</td>\n",
       "      <td>-58.439392</td>\n",
       "      <td>30.0</td>\n",
       "      <td>(-0.001, 9.0]</td>\n",
       "      <td>0</td>\n",
       "      <td>0</td>\n",
       "      <td>1</td>\n",
       "    </tr>\n",
       "    <tr>\n",
       "      <th>425359</th>\n",
       "      <td>2019-01-01</td>\n",
       "      <td>16</td>\n",
       "      <td>Hurto (sin violencia)</td>\n",
       "      <td>1.0</td>\n",
       "      <td>10.0</td>\n",
       "      <td>Floresta</td>\n",
       "      <td>-34.631877</td>\n",
       "      <td>-58.483975</td>\n",
       "      <td>20.0</td>\n",
       "      <td>(14.0, 19.0]</td>\n",
       "      <td>1</td>\n",
       "      <td>0</td>\n",
       "      <td>0</td>\n",
       "    </tr>\n",
       "    <tr>\n",
       "      <th>437571</th>\n",
       "      <td>2019-01-01</td>\n",
       "      <td>2</td>\n",
       "      <td>Robo (con violencia)</td>\n",
       "      <td>1.0</td>\n",
       "      <td>4.0</td>\n",
       "      <td>Parque Patricios</td>\n",
       "      <td>-34.633161</td>\n",
       "      <td>-58.397123</td>\n",
       "      <td>8.0</td>\n",
       "      <td>(-0.001, 9.0]</td>\n",
       "      <td>0</td>\n",
       "      <td>1</td>\n",
       "      <td>0</td>\n",
       "    </tr>\n",
       "  </tbody>\n",
       "</table>\n",
       "</div>"
      ],
      "text/plain": [
       "             fecha  franja_horaria            tipo_delito  \\\n",
       "id                                                          \n",
       "374556  2019-01-01              12               Lesiones   \n",
       "426152  2019-01-01               6   Robo (con violencia)   \n",
       "371604  2019-01-01               8               Lesiones   \n",
       "425359  2019-01-01              16  Hurto (sin violencia)   \n",
       "437571  2019-01-01               2   Robo (con violencia)   \n",
       "\n",
       "        cantidad_registrada  comuna            barrio        lat       long  \\\n",
       "id                                                                            \n",
       "374556                  1.0     4.0     Nueva Pompeya -34.648387 -58.404748   \n",
       "426152                  1.0     9.0           Liniers -34.649827 -58.513859   \n",
       "371604                  1.0    15.0         Chacarita -34.588108 -58.439392   \n",
       "425359                  1.0    10.0          Floresta -34.631877 -58.483975   \n",
       "437571                  1.0     4.0  Parque Patricios -34.633161 -58.397123   \n",
       "\n",
       "        comuna2      franja_IC  sub_Dummy_Hurto Automotor  \\\n",
       "id                                                          \n",
       "374556      8.0    (9.0, 14.0]                          0   \n",
       "426152     18.0  (-0.001, 9.0]                          0   \n",
       "371604     30.0  (-0.001, 9.0]                          0   \n",
       "425359     20.0   (14.0, 19.0]                          1   \n",
       "437571      8.0  (-0.001, 9.0]                          0   \n",
       "\n",
       "        sub_Dummy_Robo Automotor  sub_Dummy_Siniestro Vial  \n",
       "id                                                          \n",
       "374556                         0                         1  \n",
       "426152                         0                         0  \n",
       "371604                         0                         1  \n",
       "425359                         0                         0  \n",
       "437571                         1                         0  "
      ]
     },
     "execution_count": 333,
     "metadata": {},
     "output_type": "execute_result"
    }
   ],
   "source": [
    "pd.get_dummies(data = df, columns=[\"subtipo_delito\"], prefix=\"sub_Dummy\", drop_first=True ).head()"
   ]
  },
  {
   "cell_type": "markdown",
   "metadata": {
    "colab_type": "text",
    "id": "6w2XXv0JJYYl"
   },
   "source": [
    "## 💌 Funciones relacionadas al Texto\n",
    "---\n",
    "En general vamos a usar **.str** para indicar que vamos a usar una función relacionada a las strings. "
   ]
  },
  {
   "cell_type": "code",
   "execution_count": 334,
   "metadata": {
    "colab": {
     "base_uri": "https://localhost:8080/",
     "height": 235
    },
    "colab_type": "code",
    "executionInfo": {
     "elapsed": 676,
     "status": "ok",
     "timestamp": 1593554869833,
     "user": {
      "displayName": "Matias Sanchez Gavier",
      "photoUrl": "https://lh3.googleusercontent.com/a-/AOh14GjD7hZiO5eInT5MTbCuYg7k5GwpkxEcRQM1Y9NQ2g=s64",
      "userId": "12001148323871082461"
     },
     "user_tz": 180
    },
    "id": "wbQ4tw79JYYn",
    "outputId": "94e6b67e-9c87-4b0f-94f8-9ee4e439840a"
   },
   "outputs": [
    {
     "data": {
      "text/plain": [
       "id\n",
       "374556       nueva pompeya\n",
       "426152             liniers\n",
       "371604           chacarita\n",
       "425359            floresta\n",
       "437571    parque patricios\n",
       "                ...       \n",
       "486770     villa riachuelo\n",
       "486678               boedo\n",
       "486668           monserrat\n",
       "486750        villa crespo\n",
       "486683        villa lugano\n",
       "Name: barrio, Length: 117653, dtype: object"
      ]
     },
     "execution_count": 334,
     "metadata": {},
     "output_type": "execute_result"
    }
   ],
   "source": [
    "df[\"barrio\"].str.lower()"
   ]
  },
  {
   "cell_type": "code",
   "execution_count": 339,
   "metadata": {
    "colab": {
     "base_uri": "https://localhost:8080/",
     "height": 168
    },
    "colab_type": "code",
    "executionInfo": {
     "elapsed": 667,
     "status": "ok",
     "timestamp": 1593555162769,
     "user": {
      "displayName": "Matias Sanchez Gavier",
      "photoUrl": "https://lh3.googleusercontent.com/a-/AOh14GjD7hZiO5eInT5MTbCuYg7k5GwpkxEcRQM1Y9NQ2g=s64",
      "userId": "12001148323871082461"
     },
     "user_tz": 180
    },
    "id": "Ll0W8dADJYYo",
    "outputId": "4aec76e6-efba-408c-d363-c68ee2f67272"
   },
   "outputs": [],
   "source": [
    "#mask = df[\"barrio\"].str.contains('vil')\n",
    "#df.loc[mask, :]"
   ]
  },
  {
   "cell_type": "markdown",
   "metadata": {
    "colab_type": "text",
    "id": "jkcfGgHFJYYq"
   },
   "source": [
    "##  👩‍🏫 Cambiar los nombres de Columna \n",
    "---\n",
    "Vamos a usar la función **rename()**."
   ]
  },
  {
   "cell_type": "code",
   "execution_count": 340,
   "metadata": {
    "colab": {},
    "colab_type": "code",
    "id": "Lm76sixIJYYr"
   },
   "outputs": [
    {
     "data": {
      "text/html": [
       "<div>\n",
       "<style scoped>\n",
       "    .dataframe tbody tr th:only-of-type {\n",
       "        vertical-align: middle;\n",
       "    }\n",
       "\n",
       "    .dataframe tbody tr th {\n",
       "        vertical-align: top;\n",
       "    }\n",
       "\n",
       "    .dataframe thead th {\n",
       "        text-align: right;\n",
       "    }\n",
       "</style>\n",
       "<table border=\"1\" class=\"dataframe\">\n",
       "  <thead>\n",
       "    <tr style=\"text-align: right;\">\n",
       "      <th></th>\n",
       "      <th>fecha</th>\n",
       "      <th>franja_horaria</th>\n",
       "      <th>tipo_delito</th>\n",
       "      <th>subtipo_delito</th>\n",
       "      <th>cantidad_registrada</th>\n",
       "      <th>Poligono</th>\n",
       "      <th>Barrio</th>\n",
       "      <th>lat</th>\n",
       "      <th>long</th>\n",
       "      <th>comuna2</th>\n",
       "      <th>franja_IC</th>\n",
       "    </tr>\n",
       "    <tr>\n",
       "      <th>id</th>\n",
       "      <th></th>\n",
       "      <th></th>\n",
       "      <th></th>\n",
       "      <th></th>\n",
       "      <th></th>\n",
       "      <th></th>\n",
       "      <th></th>\n",
       "      <th></th>\n",
       "      <th></th>\n",
       "      <th></th>\n",
       "      <th></th>\n",
       "    </tr>\n",
       "  </thead>\n",
       "  <tbody>\n",
       "    <tr>\n",
       "      <th>374556</th>\n",
       "      <td>2019-01-01</td>\n",
       "      <td>12</td>\n",
       "      <td>Lesiones</td>\n",
       "      <td>Siniestro Vial</td>\n",
       "      <td>1.0</td>\n",
       "      <td>4.0</td>\n",
       "      <td>Nueva Pompeya</td>\n",
       "      <td>-34.648387</td>\n",
       "      <td>-58.404748</td>\n",
       "      <td>8.0</td>\n",
       "      <td>(9.0, 14.0]</td>\n",
       "    </tr>\n",
       "    <tr>\n",
       "      <th>426152</th>\n",
       "      <td>2019-01-01</td>\n",
       "      <td>6</td>\n",
       "      <td>Robo (con violencia)</td>\n",
       "      <td>NaN</td>\n",
       "      <td>1.0</td>\n",
       "      <td>9.0</td>\n",
       "      <td>Liniers</td>\n",
       "      <td>-34.649827</td>\n",
       "      <td>-58.513859</td>\n",
       "      <td>18.0</td>\n",
       "      <td>(-0.001, 9.0]</td>\n",
       "    </tr>\n",
       "    <tr>\n",
       "      <th>371604</th>\n",
       "      <td>2019-01-01</td>\n",
       "      <td>8</td>\n",
       "      <td>Lesiones</td>\n",
       "      <td>Siniestro Vial</td>\n",
       "      <td>1.0</td>\n",
       "      <td>15.0</td>\n",
       "      <td>Chacarita</td>\n",
       "      <td>-34.588108</td>\n",
       "      <td>-58.439392</td>\n",
       "      <td>30.0</td>\n",
       "      <td>(-0.001, 9.0]</td>\n",
       "    </tr>\n",
       "    <tr>\n",
       "      <th>425359</th>\n",
       "      <td>2019-01-01</td>\n",
       "      <td>16</td>\n",
       "      <td>Hurto (sin violencia)</td>\n",
       "      <td>Hurto Automotor</td>\n",
       "      <td>1.0</td>\n",
       "      <td>10.0</td>\n",
       "      <td>Floresta</td>\n",
       "      <td>-34.631877</td>\n",
       "      <td>-58.483975</td>\n",
       "      <td>20.0</td>\n",
       "      <td>(14.0, 19.0]</td>\n",
       "    </tr>\n",
       "    <tr>\n",
       "      <th>437571</th>\n",
       "      <td>2019-01-01</td>\n",
       "      <td>2</td>\n",
       "      <td>Robo (con violencia)</td>\n",
       "      <td>Robo Automotor</td>\n",
       "      <td>1.0</td>\n",
       "      <td>4.0</td>\n",
       "      <td>Parque Patricios</td>\n",
       "      <td>-34.633161</td>\n",
       "      <td>-58.397123</td>\n",
       "      <td>8.0</td>\n",
       "      <td>(-0.001, 9.0]</td>\n",
       "    </tr>\n",
       "  </tbody>\n",
       "</table>\n",
       "</div>"
      ],
      "text/plain": [
       "             fecha  franja_horaria            tipo_delito   subtipo_delito  \\\n",
       "id                                                                           \n",
       "374556  2019-01-01              12               Lesiones   Siniestro Vial   \n",
       "426152  2019-01-01               6   Robo (con violencia)              NaN   \n",
       "371604  2019-01-01               8               Lesiones   Siniestro Vial   \n",
       "425359  2019-01-01              16  Hurto (sin violencia)  Hurto Automotor   \n",
       "437571  2019-01-01               2   Robo (con violencia)   Robo Automotor   \n",
       "\n",
       "        cantidad_registrada  Poligono            Barrio        lat       long  \\\n",
       "id                                                                              \n",
       "374556                  1.0       4.0     Nueva Pompeya -34.648387 -58.404748   \n",
       "426152                  1.0       9.0           Liniers -34.649827 -58.513859   \n",
       "371604                  1.0      15.0         Chacarita -34.588108 -58.439392   \n",
       "425359                  1.0      10.0          Floresta -34.631877 -58.483975   \n",
       "437571                  1.0       4.0  Parque Patricios -34.633161 -58.397123   \n",
       "\n",
       "        comuna2      franja_IC  \n",
       "id                              \n",
       "374556      8.0    (9.0, 14.0]  \n",
       "426152     18.0  (-0.001, 9.0]  \n",
       "371604     30.0  (-0.001, 9.0]  \n",
       "425359     20.0   (14.0, 19.0]  \n",
       "437571      8.0  (-0.001, 9.0]  "
      ]
     },
     "execution_count": 340,
     "metadata": {},
     "output_type": "execute_result"
    }
   ],
   "source": [
    "df.rename(columns = {'barrio':'Barrio', \"comuna\": \"Poligono\"}, inplace=True)\n",
    "df.head()"
   ]
  },
  {
   "cell_type": "code",
   "execution_count": null,
   "metadata": {
    "colab": {},
    "colab_type": "code",
    "id": "hGqB_WPsJYYs"
   },
   "outputs": [],
   "source": [
    "df.columns"
   ]
  },
  {
   "cell_type": "code",
   "execution_count": 341,
   "metadata": {
    "colab": {
     "base_uri": "https://localhost:8080/",
     "height": 407
    },
    "colab_type": "code",
    "executionInfo": {
     "elapsed": 916,
     "status": "ok",
     "timestamp": 1593553021878,
     "user": {
      "displayName": "Matias Sanchez Gavier",
      "photoUrl": "https://lh3.googleusercontent.com/a-/AOh14GjD7hZiO5eInT5MTbCuYg7k5GwpkxEcRQM1Y9NQ2g=s64",
      "userId": "12001148323871082461"
     },
     "user_tz": 180
    },
    "id": "vGnceoXxJYYt",
    "outputId": "848d45f2-d45c-445e-c551-8f43ce8c059e"
   },
   "outputs": [
    {
     "data": {
      "text/html": [
       "<div>\n",
       "<style scoped>\n",
       "    .dataframe tbody tr th:only-of-type {\n",
       "        vertical-align: middle;\n",
       "    }\n",
       "\n",
       "    .dataframe tbody tr th {\n",
       "        vertical-align: top;\n",
       "    }\n",
       "\n",
       "    .dataframe thead th {\n",
       "        text-align: right;\n",
       "    }\n",
       "</style>\n",
       "<table border=\"1\" class=\"dataframe\">\n",
       "  <thead>\n",
       "    <tr style=\"text-align: right;\">\n",
       "      <th></th>\n",
       "      <th>fecha</th>\n",
       "      <th>franja_horaria</th>\n",
       "      <th>tipo_delito</th>\n",
       "      <th>subtipo_delito</th>\n",
       "      <th>cantidad_registrada</th>\n",
       "      <th>poligono</th>\n",
       "      <th>barrio</th>\n",
       "      <th>lat</th>\n",
       "      <th>long</th>\n",
       "      <th>comuna2</th>\n",
       "      <th>franja_ic</th>\n",
       "    </tr>\n",
       "    <tr>\n",
       "      <th>id</th>\n",
       "      <th></th>\n",
       "      <th></th>\n",
       "      <th></th>\n",
       "      <th></th>\n",
       "      <th></th>\n",
       "      <th></th>\n",
       "      <th></th>\n",
       "      <th></th>\n",
       "      <th></th>\n",
       "      <th></th>\n",
       "      <th></th>\n",
       "    </tr>\n",
       "  </thead>\n",
       "  <tbody>\n",
       "    <tr>\n",
       "      <th>374556</th>\n",
       "      <td>2019-01-01</td>\n",
       "      <td>12</td>\n",
       "      <td>Lesiones</td>\n",
       "      <td>Siniestro Vial</td>\n",
       "      <td>1.0</td>\n",
       "      <td>4.0</td>\n",
       "      <td>Nueva Pompeya</td>\n",
       "      <td>-34.648387</td>\n",
       "      <td>-58.404748</td>\n",
       "      <td>8.0</td>\n",
       "      <td>(9.0, 14.0]</td>\n",
       "    </tr>\n",
       "    <tr>\n",
       "      <th>426152</th>\n",
       "      <td>2019-01-01</td>\n",
       "      <td>6</td>\n",
       "      <td>Robo (con violencia)</td>\n",
       "      <td>NaN</td>\n",
       "      <td>1.0</td>\n",
       "      <td>9.0</td>\n",
       "      <td>Liniers</td>\n",
       "      <td>-34.649827</td>\n",
       "      <td>-58.513859</td>\n",
       "      <td>18.0</td>\n",
       "      <td>(-0.001, 9.0]</td>\n",
       "    </tr>\n",
       "    <tr>\n",
       "      <th>371604</th>\n",
       "      <td>2019-01-01</td>\n",
       "      <td>8</td>\n",
       "      <td>Lesiones</td>\n",
       "      <td>Siniestro Vial</td>\n",
       "      <td>1.0</td>\n",
       "      <td>15.0</td>\n",
       "      <td>Chacarita</td>\n",
       "      <td>-34.588108</td>\n",
       "      <td>-58.439392</td>\n",
       "      <td>30.0</td>\n",
       "      <td>(-0.001, 9.0]</td>\n",
       "    </tr>\n",
       "    <tr>\n",
       "      <th>425359</th>\n",
       "      <td>2019-01-01</td>\n",
       "      <td>16</td>\n",
       "      <td>Hurto (sin violencia)</td>\n",
       "      <td>Hurto Automotor</td>\n",
       "      <td>1.0</td>\n",
       "      <td>10.0</td>\n",
       "      <td>Floresta</td>\n",
       "      <td>-34.631877</td>\n",
       "      <td>-58.483975</td>\n",
       "      <td>20.0</td>\n",
       "      <td>(14.0, 19.0]</td>\n",
       "    </tr>\n",
       "    <tr>\n",
       "      <th>437571</th>\n",
       "      <td>2019-01-01</td>\n",
       "      <td>2</td>\n",
       "      <td>Robo (con violencia)</td>\n",
       "      <td>Robo Automotor</td>\n",
       "      <td>1.0</td>\n",
       "      <td>4.0</td>\n",
       "      <td>Parque Patricios</td>\n",
       "      <td>-34.633161</td>\n",
       "      <td>-58.397123</td>\n",
       "      <td>8.0</td>\n",
       "      <td>(-0.001, 9.0]</td>\n",
       "    </tr>\n",
       "    <tr>\n",
       "      <th>...</th>\n",
       "      <td>...</td>\n",
       "      <td>...</td>\n",
       "      <td>...</td>\n",
       "      <td>...</td>\n",
       "      <td>...</td>\n",
       "      <td>...</td>\n",
       "      <td>...</td>\n",
       "      <td>...</td>\n",
       "      <td>...</td>\n",
       "      <td>...</td>\n",
       "      <td>...</td>\n",
       "    </tr>\n",
       "    <tr>\n",
       "      <th>486770</th>\n",
       "      <td>2019-12-31</td>\n",
       "      <td>18</td>\n",
       "      <td>Robo (con violencia)</td>\n",
       "      <td>Robo Automotor</td>\n",
       "      <td>1.0</td>\n",
       "      <td>8.0</td>\n",
       "      <td>Villa Riachuelo</td>\n",
       "      <td>-34.692347</td>\n",
       "      <td>-58.472299</td>\n",
       "      <td>16.0</td>\n",
       "      <td>(14.0, 19.0]</td>\n",
       "    </tr>\n",
       "    <tr>\n",
       "      <th>486678</th>\n",
       "      <td>2019-12-31</td>\n",
       "      <td>4</td>\n",
       "      <td>Robo (con violencia)</td>\n",
       "      <td>Robo Automotor</td>\n",
       "      <td>1.0</td>\n",
       "      <td>5.0</td>\n",
       "      <td>Boedo</td>\n",
       "      <td>-34.626424</td>\n",
       "      <td>-58.422846</td>\n",
       "      <td>10.0</td>\n",
       "      <td>(-0.001, 9.0]</td>\n",
       "    </tr>\n",
       "    <tr>\n",
       "      <th>486668</th>\n",
       "      <td>2019-12-31</td>\n",
       "      <td>1</td>\n",
       "      <td>Robo (con violencia)</td>\n",
       "      <td>Robo Automotor</td>\n",
       "      <td>1.0</td>\n",
       "      <td>1.0</td>\n",
       "      <td>Monserrat</td>\n",
       "      <td>-34.615892</td>\n",
       "      <td>-58.370573</td>\n",
       "      <td>2.0</td>\n",
       "      <td>(-0.001, 9.0]</td>\n",
       "    </tr>\n",
       "    <tr>\n",
       "      <th>486750</th>\n",
       "      <td>2019-12-31</td>\n",
       "      <td>14</td>\n",
       "      <td>Robo (con violencia)</td>\n",
       "      <td>Robo Automotor</td>\n",
       "      <td>1.0</td>\n",
       "      <td>15.0</td>\n",
       "      <td>Villa Crespo</td>\n",
       "      <td>-34.602577</td>\n",
       "      <td>-58.433145</td>\n",
       "      <td>30.0</td>\n",
       "      <td>(9.0, 14.0]</td>\n",
       "    </tr>\n",
       "    <tr>\n",
       "      <th>486683</th>\n",
       "      <td>2019-12-31</td>\n",
       "      <td>7</td>\n",
       "      <td>Robo (con violencia)</td>\n",
       "      <td>Robo Automotor</td>\n",
       "      <td>1.0</td>\n",
       "      <td>8.0</td>\n",
       "      <td>Villa Lugano</td>\n",
       "      <td>-34.674789</td>\n",
       "      <td>-58.466394</td>\n",
       "      <td>16.0</td>\n",
       "      <td>(-0.001, 9.0]</td>\n",
       "    </tr>\n",
       "  </tbody>\n",
       "</table>\n",
       "<p>117653 rows × 11 columns</p>\n",
       "</div>"
      ],
      "text/plain": [
       "             fecha  franja_horaria            tipo_delito   subtipo_delito  \\\n",
       "id                                                                           \n",
       "374556  2019-01-01              12               Lesiones   Siniestro Vial   \n",
       "426152  2019-01-01               6   Robo (con violencia)              NaN   \n",
       "371604  2019-01-01               8               Lesiones   Siniestro Vial   \n",
       "425359  2019-01-01              16  Hurto (sin violencia)  Hurto Automotor   \n",
       "437571  2019-01-01               2   Robo (con violencia)   Robo Automotor   \n",
       "...            ...             ...                    ...              ...   \n",
       "486770  2019-12-31              18   Robo (con violencia)   Robo Automotor   \n",
       "486678  2019-12-31               4   Robo (con violencia)   Robo Automotor   \n",
       "486668  2019-12-31               1   Robo (con violencia)   Robo Automotor   \n",
       "486750  2019-12-31              14   Robo (con violencia)   Robo Automotor   \n",
       "486683  2019-12-31               7   Robo (con violencia)   Robo Automotor   \n",
       "\n",
       "        cantidad_registrada  poligono            barrio        lat       long  \\\n",
       "id                                                                              \n",
       "374556                  1.0       4.0     Nueva Pompeya -34.648387 -58.404748   \n",
       "426152                  1.0       9.0           Liniers -34.649827 -58.513859   \n",
       "371604                  1.0      15.0         Chacarita -34.588108 -58.439392   \n",
       "425359                  1.0      10.0          Floresta -34.631877 -58.483975   \n",
       "437571                  1.0       4.0  Parque Patricios -34.633161 -58.397123   \n",
       "...                     ...       ...               ...        ...        ...   \n",
       "486770                  1.0       8.0   Villa Riachuelo -34.692347 -58.472299   \n",
       "486678                  1.0       5.0             Boedo -34.626424 -58.422846   \n",
       "486668                  1.0       1.0         Monserrat -34.615892 -58.370573   \n",
       "486750                  1.0      15.0      Villa Crespo -34.602577 -58.433145   \n",
       "486683                  1.0       8.0      Villa Lugano -34.674789 -58.466394   \n",
       "\n",
       "        comuna2      franja_ic  \n",
       "id                              \n",
       "374556      8.0    (9.0, 14.0]  \n",
       "426152     18.0  (-0.001, 9.0]  \n",
       "371604     30.0  (-0.001, 9.0]  \n",
       "425359     20.0   (14.0, 19.0]  \n",
       "437571      8.0  (-0.001, 9.0]  \n",
       "...         ...            ...  \n",
       "486770     16.0   (14.0, 19.0]  \n",
       "486678     10.0  (-0.001, 9.0]  \n",
       "486668      2.0  (-0.001, 9.0]  \n",
       "486750     30.0    (9.0, 14.0]  \n",
       "486683     16.0  (-0.001, 9.0]  \n",
       "\n",
       "[117653 rows x 11 columns]"
      ]
     },
     "execution_count": 341,
     "metadata": {},
     "output_type": "execute_result"
    }
   ],
   "source": [
    "df.columns = [x.lower() for x in df.columns]\n",
    "df"
   ]
  },
  {
   "cell_type": "code",
   "execution_count": 4,
   "metadata": {
    "colab": {
     "base_uri": "https://localhost:8080/",
     "height": 198
    },
    "colab_type": "code",
    "executionInfo": {
     "elapsed": 675,
     "status": "ok",
     "timestamp": 1593553112923,
     "user": {
      "displayName": "Matias Sanchez Gavier",
      "photoUrl": "https://lh3.googleusercontent.com/a-/AOh14GjD7hZiO5eInT5MTbCuYg7k5GwpkxEcRQM1Y9NQ2g=s64",
      "userId": "12001148323871082461"
     },
     "user_tz": 180
    },
    "id": "X7azWdgCKWs8",
    "outputId": "9f3b6d3e-18ad-428c-9f3a-8c74b576f663"
   },
   "outputs": [
    {
     "data": {
      "text/html": [
       "<div>\n",
       "<style scoped>\n",
       "    .dataframe tbody tr th:only-of-type {\n",
       "        vertical-align: middle;\n",
       "    }\n",
       "\n",
       "    .dataframe tbody tr th {\n",
       "        vertical-align: top;\n",
       "    }\n",
       "\n",
       "    .dataframe thead th {\n",
       "        text-align: right;\n",
       "    }\n",
       "</style>\n",
       "<table border=\"1\" class=\"dataframe\">\n",
       "  <thead>\n",
       "    <tr style=\"text-align: right;\">\n",
       "      <th></th>\n",
       "      <th>id</th>\n",
       "      <th>nombre</th>\n",
       "      <th>franja_horaria</th>\n",
       "      <th>tipo_delito</th>\n",
       "      <th>subtipo_delito</th>\n",
       "      <th>cantidad_registrada</th>\n",
       "      <th>comuna</th>\n",
       "      <th>barrio</th>\n",
       "      <th>lat</th>\n",
       "      <th>long</th>\n",
       "    </tr>\n",
       "  </thead>\n",
       "  <tbody>\n",
       "    <tr>\n",
       "      <th>0</th>\n",
       "      <td>374556</td>\n",
       "      <td>2019-01-01</td>\n",
       "      <td>12</td>\n",
       "      <td>Lesiones</td>\n",
       "      <td>Siniestro Vial</td>\n",
       "      <td>1.0</td>\n",
       "      <td>4.0</td>\n",
       "      <td>Nueva Pompeya</td>\n",
       "      <td>-34.648387</td>\n",
       "      <td>-58.404748</td>\n",
       "    </tr>\n",
       "    <tr>\n",
       "      <th>1</th>\n",
       "      <td>426152</td>\n",
       "      <td>2019-01-01</td>\n",
       "      <td>6</td>\n",
       "      <td>Robo (con violencia)</td>\n",
       "      <td>NaN</td>\n",
       "      <td>1.0</td>\n",
       "      <td>9.0</td>\n",
       "      <td>Liniers</td>\n",
       "      <td>-34.649827</td>\n",
       "      <td>-58.513859</td>\n",
       "    </tr>\n",
       "    <tr>\n",
       "      <th>2</th>\n",
       "      <td>371604</td>\n",
       "      <td>2019-01-01</td>\n",
       "      <td>8</td>\n",
       "      <td>Lesiones</td>\n",
       "      <td>Siniestro Vial</td>\n",
       "      <td>1.0</td>\n",
       "      <td>15.0</td>\n",
       "      <td>Chacarita</td>\n",
       "      <td>-34.588108</td>\n",
       "      <td>-58.439392</td>\n",
       "    </tr>\n",
       "    <tr>\n",
       "      <th>3</th>\n",
       "      <td>425359</td>\n",
       "      <td>2019-01-01</td>\n",
       "      <td>16</td>\n",
       "      <td>Hurto (sin violencia)</td>\n",
       "      <td>Hurto Automotor</td>\n",
       "      <td>1.0</td>\n",
       "      <td>10.0</td>\n",
       "      <td>Floresta</td>\n",
       "      <td>-34.631877</td>\n",
       "      <td>-58.483975</td>\n",
       "    </tr>\n",
       "    <tr>\n",
       "      <th>4</th>\n",
       "      <td>437571</td>\n",
       "      <td>2019-01-01</td>\n",
       "      <td>2</td>\n",
       "      <td>Robo (con violencia)</td>\n",
       "      <td>Robo Automotor</td>\n",
       "      <td>1.0</td>\n",
       "      <td>4.0</td>\n",
       "      <td>Parque Patricios</td>\n",
       "      <td>-34.633161</td>\n",
       "      <td>-58.397123</td>\n",
       "    </tr>\n",
       "  </tbody>\n",
       "</table>\n",
       "</div>"
      ],
      "text/plain": [
       "       id      nombre franja_horaria            tipo_delito   subtipo_delito  \\\n",
       "0  374556  2019-01-01             12               Lesiones   Siniestro Vial   \n",
       "1  426152  2019-01-01              6   Robo (con violencia)              NaN   \n",
       "2  371604  2019-01-01              8               Lesiones   Siniestro Vial   \n",
       "3  425359  2019-01-01             16  Hurto (sin violencia)  Hurto Automotor   \n",
       "4  437571  2019-01-01              2   Robo (con violencia)   Robo Automotor   \n",
       "\n",
       "   cantidad_registrada  comuna            barrio        lat       long  \n",
       "0                  1.0     4.0     Nueva Pompeya -34.648387 -58.404748  \n",
       "1                  1.0     9.0           Liniers -34.649827 -58.513859  \n",
       "2                  1.0    15.0         Chacarita -34.588108 -58.439392  \n",
       "3                  1.0    10.0          Floresta -34.631877 -58.483975  \n",
       "4                  1.0     4.0  Parque Patricios -34.633161 -58.397123  "
      ]
     },
     "execution_count": 4,
     "metadata": {},
     "output_type": "execute_result"
    }
   ],
   "source": [
    "df.columns.values[1] =\"nombre\"\n",
    "df.head()"
   ]
  },
  {
   "cell_type": "markdown",
   "metadata": {
    "colab_type": "text",
    "id": "9Kukj9BPJYYv"
   },
   "source": [
    "## 👀 Exportando Archivos\n",
    "---"
   ]
  },
  {
   "cell_type": "code",
   "execution_count": null,
   "metadata": {
    "colab": {},
    "colab_type": "code",
    "id": "kXbNO0R8HP1b"
   },
   "outputs": [],
   "source": [
    "#Exportando a CSV\n",
    "df1.to_csv('Ejemplo.csv',index=False)\n",
    "#Exportando a Excel\n",
    "df1.to_excel(\"excel_df.xlsx\", index=False)"
   ]
  },
  {
   "cell_type": "code",
   "execution_count": null,
   "metadata": {
    "colab": {},
    "colab_type": "code",
    "id": "kqE1o2e3HP1e"
   },
   "outputs": [],
   "source": [
    "pd.read_csv(\"Ejemplo.csv\")"
   ]
  },
  {
   "cell_type": "markdown",
   "metadata": {
    "colab_type": "text",
    "id": "OyeV4eQeHP1f"
   },
   "source": [
    "# Felicitaciones por completar esta parte!  "
   ]
  }
 ],
 "metadata": {
  "colab": {
   "collapsed_sections": [],
   "name": "(2) Introducción a Pandas.ipynb",
   "provenance": [],
   "toc_visible": true
  },
  "kernelspec": {
   "display_name": "Python 3",
   "language": "python",
   "name": "python3"
  },
  "language_info": {
   "codemirror_mode": {
    "name": "ipython",
    "version": 3
   },
   "file_extension": ".py",
   "mimetype": "text/x-python",
   "name": "python",
   "nbconvert_exporter": "python",
   "pygments_lexer": "ipython3",
   "version": "3.7.4"
  }
 },
 "nbformat": 4,
 "nbformat_minor": 1
}
